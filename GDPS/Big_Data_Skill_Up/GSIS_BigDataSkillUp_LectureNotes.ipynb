{
 "cells": [
  {
   "cell_type": "markdown",
   "id": "fdf8c4fc",
   "metadata": {},
   "source": [
    "# Big Data Skill Up Training Notebook"
   ]
  },
  {
   "cell_type": "markdown",
   "id": "d4dd9072",
   "metadata": {},
   "source": [
    "<u>Based on [Samy Baladram's Lesson](https://sites.google.com/tohoku.ac.jp/gpds-course/courses/skill-up-training), International Liasion Office-GSIS-Tohoku University.</u>"
   ]
  },
  {
   "cell_type": "markdown",
   "id": "d1fd0f5a",
   "metadata": {},
   "source": [
    "Last updated by [Shinil](mailto:baisy1999@outlook.com):21-10-20"
   ]
  },
  {
   "cell_type": "markdown",
   "id": "d7ea0c3a",
   "metadata": {},
   "source": [
    "## 1.1 Variables "
   ]
  },
  {
   "cell_type": "markdown",
   "id": "815c8bce",
   "metadata": {},
   "source": [
    "print() function"
   ]
  },
  {
   "cell_type": "code",
   "execution_count": 1,
   "id": "a305389b",
   "metadata": {},
   "outputs": [
    {
     "name": "stdout",
     "output_type": "stream",
     "text": [
      "Research Student life in Tohoku University!\n"
     ]
    }
   ],
   "source": [
    "print ( \"Research Student life in Tohoku University!\")"
   ]
  },
  {
   "cell_type": "code",
   "execution_count": 3,
   "id": "38585f72",
   "metadata": {},
   "outputs": [
    {
     "name": "stdout",
     "output_type": "stream",
     "text": [
      "To gain enough knowledge.\n"
     ]
    }
   ],
   "source": [
    "my_goal = \"To gain enough knowledge.\"\n",
    "print( my_goal)"
   ]
  },
  {
   "cell_type": "code",
   "execution_count": 4,
   "id": "b18e0aa9",
   "metadata": {},
   "outputs": [
    {
     "name": "stdout",
     "output_type": "stream",
     "text": [
      "Bachelor of Science\n"
     ]
    }
   ],
   "source": [
    "my_degree = \"Bachelor of Science\"\n",
    "print( my_degree )"
   ]
  },
  {
   "cell_type": "code",
   "execution_count": 5,
   "id": "81c25509",
   "metadata": {},
   "outputs": [
    {
     "name": "stdout",
     "output_type": "stream",
     "text": [
      "To gain enough knowledge.\n",
      "Bachelor of Science\n"
     ]
    }
   ],
   "source": [
    "#Write your annotation after #\n",
    "print( my_goal )\n",
    "print( my_degree )"
   ]
  },
  {
   "cell_type": "markdown",
   "id": "536705c1",
   "metadata": {},
   "source": [
    "## 1.2 Strings"
   ]
  },
  {
   "cell_type": "code",
   "execution_count": 6,
   "id": "c2cf7d71",
   "metadata": {},
   "outputs": [
    {
     "name": "stdout",
     "output_type": "stream",
     "text": [
      "My research student life begins in: \n",
      " Tohoku University\n"
     ]
    }
   ],
   "source": [
    "print( 'My research student life begins in:', '\\n', 'Tohoku University')"
   ]
  },
  {
   "cell_type": "code",
   "execution_count": 7,
   "id": "291dd3f5",
   "metadata": {},
   "outputs": [
    {
     "name": "stdout",
     "output_type": "stream",
     "text": [
      "Tohoku Uni. is located at: Miyagi\n"
     ]
    }
   ],
   "source": [
    "city_tohoku = 'Miyagi'\n",
    "print( 'Tohoku Uni. is located at:', city_tohoku)"
   ]
  },
  {
   "cell_type": "code",
   "execution_count": 8,
   "id": "5a9108a3",
   "metadata": {},
   "outputs": [
    {
     "name": "stdout",
     "output_type": "stream",
     "text": [
      "MIYAGI Miyagi miyagi\n"
     ]
    }
   ],
   "source": [
    "print(str.upper(city_tohoku), str.capitalize(city_tohoku), str.lower(city_tohoku) )"
   ]
  },
  {
   "cell_type": "code",
   "execution_count": 9,
   "id": "487ca82e",
   "metadata": {},
   "outputs": [
    {
     "name": "stdout",
     "output_type": "stream",
     "text": [
      "City: Miyagi \tKen:Aoba\n",
      " Tohoku University\n"
     ]
    }
   ],
   "source": [
    "#You may use \\, \\t, \\n inside \"\"\n",
    "print('City: Miyagi \\tKen:Aoba\\n Tohoku University')"
   ]
  },
  {
   "cell_type": "markdown",
   "id": "93b7e1c4",
   "metadata": {},
   "source": [
    "## 1.3 Numbers"
   ]
  },
  {
   "cell_type": "code",
   "execution_count": 11,
   "id": "745fd710",
   "metadata": {},
   "outputs": [
    {
     "name": "stdout",
     "output_type": "stream",
     "text": [
      "the number is 15000.00\n",
      "the number is 15,000\n"
     ]
    }
   ],
   "source": [
    "#use + - * / ** as the math operators\n",
    "#using string format like commas as thousands\n",
    "a = 15000\n",
    "print(f'the number is {a:.2f}')\n",
    "print(f'the number is {a:,d}')"
   ]
  },
  {
   "cell_type": "code",
   "execution_count": 13,
   "id": "2e49dbee",
   "metadata": {},
   "outputs": [
    {
     "name": "stdout",
     "output_type": "stream",
     "text": [
      "score sum: 270 and average score: 90\n"
     ]
    }
   ],
   "source": [
    "#use func type(), int(), float(), str() to change the data types\n",
    "#keep the balance of using spaces between operators\n",
    "score_1 = 95\n",
    "score_2 = 90\n",
    "score_3 = 85\n",
    "score_sum = score_1 + score_2 + score_3 \n",
    "score_ave = score_sum/3  \n",
    "\n",
    "print(f'score sum: {score_sum} and average score: {score_ave:.0f}')"
   ]
  },
  {
   "cell_type": "markdown",
   "id": "b48948c4",
   "metadata": {},
   "source": [
    "## 1.4 Lists"
   ]
  },
  {
   "cell_type": "markdown",
   "id": "44d0e8c2",
   "metadata": {},
   "source": [
    "A list is a collection of items with its own order. Use [] to indicate a list, and each element in the list is separated by commas."
   ]
  },
  {
   "cell_type": "code",
   "execution_count": 15,
   "id": "3e9b1977",
   "metadata": {},
   "outputs": [
    {
     "name": "stdout",
     "output_type": "stream",
     "text": [
      "['Tokyo', 'Beijing', 'Seoul']\n",
      "['UoT', 'PKU', 'SNU']\n"
     ]
    }
   ],
   "source": [
    "city = ['Tokyo', 'Beijing', 'Seoul']\n",
    "university = ['UoT', 'PKU', 'SNU']\n",
    "\n",
    "print(city)\n",
    "print(university)"
   ]
  },
  {
   "cell_type": "markdown",
   "id": "3f622b45",
   "metadata": {},
   "source": [
    "Use the index of the element to access the element in the list, start from item.[0]"
   ]
  },
  {
   "cell_type": "code",
   "execution_count": 16,
   "id": "cdfeaded",
   "metadata": {},
   "outputs": [
    {
     "name": "stdout",
     "output_type": "stream",
     "text": [
      "Beijing\n"
     ]
    }
   ],
   "source": [
    "print(city[1])"
   ]
  },
  {
   "cell_type": "markdown",
   "id": "1d09d09b",
   "metadata": {},
   "source": [
    "To get the last element in the list, use the negative index like -1"
   ]
  },
  {
   "cell_type": "code",
   "execution_count": 17,
   "id": "0b9d9903",
   "metadata": {},
   "outputs": [
    {
     "name": "stdout",
     "output_type": "stream",
     "text": [
      "SNU\n"
     ]
    }
   ],
   "source": [
    "print(university[-1])"
   ]
  },
  {
   "cell_type": "markdown",
   "id": "71ffd30f",
   "metadata": {},
   "source": [
    "Use the '=' to change the elements in the list"
   ]
  },
  {
   "cell_type": "code",
   "execution_count": 18,
   "id": "036b30e1",
   "metadata": {},
   "outputs": [
    {
     "name": "stdout",
     "output_type": "stream",
     "text": [
      "TSU\n"
     ]
    }
   ],
   "source": [
    "university[1] = 'TSU'\n",
    "print(university[1])"
   ]
  },
  {
   "cell_type": "markdown",
   "id": "62fa5b9f",
   "metadata": {},
   "source": [
    "## 1.5 List Method"
   ]
  },
  {
   "cell_type": "markdown",
   "id": "497081a3",
   "metadata": {},
   "source": [
    "To add elements in the list, use append(item) to add items to the end of the list, use insert(pos, item) to add items to the index pos in the list."
   ]
  },
  {
   "cell_type": "code",
   "execution_count": 21,
   "id": "22823712",
   "metadata": {},
   "outputs": [
    {
     "name": "stdout",
     "output_type": "stream",
     "text": [
      "New citylist: ['Tokyo', 'Beijing', 'Seoul', 'Los Angles']\n",
      "Second version of the list ['Tokyo', 'Tianjin', 'Beijing', 'Seoul', 'Los Angles']\n"
     ]
    }
   ],
   "source": [
    "city = ['Tokyo', 'Beijing', 'Seoul']\n",
    "city.append('Los Angles')\n",
    "print(f'New citylist: {city}')\n",
    "city.insert(1,'Tianjin')\n",
    "print(f'Second version of the list {city}')"
   ]
  },
  {
   "cell_type": "markdown",
   "id": "78d556d1",
   "metadata": {},
   "source": [
    "To delete elements of a list, use pop(pos) to delete with index pos (default is -1), or use remove(itemname) to delete the element with its name."
   ]
  },
  {
   "cell_type": "code",
   "execution_count": 25,
   "id": "cd0b3796",
   "metadata": {},
   "outputs": [
    {
     "name": "stdout",
     "output_type": "stream",
     "text": [
      "['Tokyo', 'Seoul', 'Koyto']\n",
      "['Tokyo', 'Seoul']\n",
      "['Tokyo']\n"
     ]
    }
   ],
   "source": [
    "city = ['Tokyo', 'Beijing', 'Seoul','Koyto']\n",
    "\n",
    "city.pop(1)\n",
    "print(city)\n",
    "\n",
    "city.pop(-1)\n",
    "print(city)\n",
    "\n",
    "city.remove('Seoul')\n",
    "print(city)"
   ]
  },
  {
   "cell_type": "markdown",
   "id": "8439f33e",
   "metadata": {},
   "source": [
    "Use sort() to sort the list or use reverse() to reverse the order of the list."
   ]
  },
  {
   "cell_type": "code",
   "execution_count": 26,
   "id": "91ab1894",
   "metadata": {},
   "outputs": [
    {
     "name": "stdout",
     "output_type": "stream",
     "text": [
      "['Beijing', 'Koyto', 'Seoul', 'Tokyo']\n"
     ]
    }
   ],
   "source": [
    "city = ['Tokyo', 'Beijing', 'Seoul','Koyto']\n",
    "\n",
    "#here use the sort() to sort the list alphabetically\n",
    "city.sort()\n",
    "print(city)"
   ]
  },
  {
   "cell_type": "markdown",
   "id": "797cbd46",
   "metadata": {},
   "source": [
    "To combine two lists by list1.extend(list2) and to make a seperate list use operator + insted."
   ]
  },
  {
   "cell_type": "code",
   "execution_count": 28,
   "id": "7885806d",
   "metadata": {},
   "outputs": [
    {
     "name": "stdout",
     "output_type": "stream",
     "text": [
      "['Tokyo', 'Beijing', 'Seoul', 'Koyto', 'UoT', 'PKU', 'SNU']\n",
      "['Tokyo', 'Beijing', 'Seoul', 'Koyto', 'UoT', 'PKU', 'SNU']\n"
     ]
    }
   ],
   "source": [
    "city = ['Tokyo', 'Beijing', 'Seoul','Koyto']\n",
    "university = ['UoT', 'PKU', 'SNU']\n",
    "\n",
    "city_and_uni = city + university\n",
    "print(city_and_uni)\n",
    "\n",
    "city.extend(university)\n",
    "print(city)"
   ]
  },
  {
   "cell_type": "markdown",
   "id": "3f77de6e",
   "metadata": {},
   "source": [
    "Use index(itemname) to get the index of the first element with the name itemname. Use count(itemname) to get the number of elements with the name itemname."
   ]
  },
  {
   "cell_type": "code",
   "execution_count": 29,
   "id": "36d832ce",
   "metadata": {},
   "outputs": [
    {
     "name": "stdout",
     "output_type": "stream",
     "text": [
      "1\n",
      "2\n"
     ]
    }
   ],
   "source": [
    "city = ['Tokyo', 'Beijing','Beijing', 'Seoul','Koyto']\n",
    "\n",
    "print(city.index('Beijing'))\n",
    "print(city.count('Beijing'))"
   ]
  },
  {
   "cell_type": "markdown",
   "id": "b53ae03e",
   "metadata": {},
   "source": [
    "## 1.6 Slice Operator"
   ]
  },
  {
   "cell_type": "markdown",
   "id": "a4f9499f",
   "metadata": {},
   "source": [
    "Use \\[start : end \\] to get the slice of the list and be careful the end index is exclusice while the start index is inclusive. Omitting index slice operartor is allowed. "
   ]
  },
  {
   "cell_type": "code",
   "execution_count": 30,
   "id": "95a2fb05",
   "metadata": {},
   "outputs": [
    {
     "name": "stdout",
     "output_type": "stream",
     "text": [
      "['Beijing', 'Seoul', 'Koyto']\n",
      "['Tokyo', 'Beijing', 'Seoul']\n",
      "['Seoul', 'Koyto']\n"
     ]
    }
   ],
   "source": [
    "city = ['Tokyo', 'Beijing', 'Seoul','Koyto']\n",
    "\n",
    "print(city[1:4])\n",
    "print(city[:3])\n",
    "print(city[-2:])"
   ]
  },
  {
   "cell_type": "markdown",
   "id": "43e779b0",
   "metadata": {},
   "source": [
    "Use \\[start : stop : steps \\] to slice a list with steps."
   ]
  },
  {
   "cell_type": "code",
   "execution_count": 31,
   "id": "a16a2a81",
   "metadata": {},
   "outputs": [
    {
     "name": "stdout",
     "output_type": "stream",
     "text": [
      "['Beijing', 'Koyto']\n"
     ]
    }
   ],
   "source": [
    "city = ['Tokyo', 'Beijing', 'Seoul','Koyto']\n",
    "print(city[1::2])"
   ]
  },
  {
   "cell_type": "markdown",
   "id": "2ac8b426",
   "metadata": {},
   "source": [
    "To copy a list, use a slice of original list with both indexes omitted or use list.copy()"
   ]
  },
  {
   "cell_type": "code",
   "execution_count": 34,
   "id": "8550069b",
   "metadata": {},
   "outputs": [
    {
     "name": "stdout",
     "output_type": "stream",
     "text": [
      "Tianjin\n",
      "Shanghai\n"
     ]
    }
   ],
   "source": [
    "city = ['Tokyo', 'Beijing', 'Seoul','Koyto']\n",
    "\n",
    "city_1 = city[:]\n",
    "city_2 = city.copy()\n",
    "\n",
    "city_1.append('Tianjin')\n",
    "city_2.append('Shanghai')\n",
    "\n",
    "print(city_1[-1])\n",
    "print(city_2[-1])"
   ]
  },
  {
   "cell_type": "markdown",
   "id": "e11b3a8f",
   "metadata": {},
   "source": [
    "## 2.1 Loop"
   ]
  },
  {
   "cell_type": "markdown",
   "id": "ea85a1b2",
   "metadata": {},
   "source": [
    "The for loop takes an element from the list one by one to the process."
   ]
  },
  {
   "cell_type": "code",
   "execution_count": 2,
   "id": "b6722398",
   "metadata": {},
   "outputs": [
    {
     "name": "stdout",
     "output_type": "stream",
     "text": [
      "City: Tokyo \n",
      "\n",
      "City: Beijing \n",
      "\n",
      "City: Seoul \n",
      "\n",
      "City: Koyto \n",
      "\n"
     ]
    }
   ],
   "source": [
    "city = ['Tokyo', 'Beijing', 'Seoul','Koyto']\n",
    "\n",
    "for city in city:\n",
    "    print(f'City: {city} \\n')"
   ]
  },
  {
   "cell_type": "code",
   "execution_count": 3,
   "id": "6e7f5f6c",
   "metadata": {},
   "outputs": [
    {
     "name": "stdout",
     "output_type": "stream",
     "text": [
      "Name : Andy\n",
      "Grade : 65\n",
      "\n",
      "Name : Brad\n",
      "Grade : 70\n",
      "\n",
      "Name : Cody\n",
      "Grade : 85\n",
      "\n",
      "-------------\n"
     ]
    }
   ],
   "source": [
    "names = ['Andy', 'Brad', 'Cody']\n",
    "grades = [65, 70, 85]\n",
    "numbers = [0, 1, 2]\n",
    "\n",
    "for num in numbers:\n",
    "  print(f'Name : {names[num]}')\n",
    "  print(f'Grade : {grades[num]}\\n')\n",
    "print('-------------')"
   ]
  },
  {
   "cell_type": "markdown",
   "id": "dcd7e149",
   "metadata": {},
   "source": [
    "Use the assignment operator to improve.\n",
    "+=, -=, *=, /="
   ]
  },
  {
   "cell_type": "code",
   "execution_count": 5,
   "id": "ddba170a",
   "metadata": {},
   "outputs": [
    {
     "name": "stdout",
     "output_type": "stream",
     "text": [
      "305\n"
     ]
    }
   ],
   "source": [
    "grades_andy = [65, 75, 80, 85]\n",
    "\n",
    "total = 0\n",
    "for grade in grades_andy:\n",
    "  total += grade\n",
    "print(total)"
   ]
  },
  {
   "cell_type": "markdown",
   "id": "298514b1",
   "metadata": {},
   "source": [
    "## 2.2 List Comprehension"
   ]
  },
  {
   "cell_type": "markdown",
   "id": "0e125d5d",
   "metadata": {},
   "source": [
    "Use range() to generate list of numbers\n",
    "range(end) (same as) range(0,end) \n",
    "which gives a sequence of numbers from 0 to end-1.\n",
    "\n",
    "Similarly, range(start, end) gives numbers from start to end-1.\n",
    "\n",
    "Tip: range() does not return to a list, you can use list() to turn it into a list."
   ]
  },
  {
   "cell_type": "code",
   "execution_count": 1,
   "id": "4dec3d5e",
   "metadata": {},
   "outputs": [
    {
     "name": "stdout",
     "output_type": "stream",
     "text": [
      "[65, 70, 85]\n"
     ]
    }
   ],
   "source": [
    "names = ['Andy', 'Brad', 'Cody']\n",
    "test_score = [13, 14, 17]\n",
    "\n",
    "grades = []\n",
    "for num in range(3):\n",
    "  grades.append(test_score[num] * 5)\n",
    "  \n",
    "print(grades)"
   ]
  },
  {
   "cell_type": "markdown",
   "id": "4ca00d29",
   "metadata": {},
   "source": [
    "A list comprehension allows to generate same list in one line of code."
   ]
  },
  {
   "cell_type": "code",
   "execution_count": 2,
   "id": "9a82ce5f",
   "metadata": {},
   "outputs": [
    {
     "name": "stdout",
     "output_type": "stream",
     "text": [
      "[65, 70, 85]\n"
     ]
    }
   ],
   "source": [
    "names = ['Andy', 'Brad', 'Cody']\n",
    "test_score = [13, 14, 17]\n",
    "\n",
    "grades = [score * 5 for score in test_score]\n",
    "  \n",
    "print(grades)"
   ]
  },
  {
   "cell_type": "markdown",
   "id": "d55586a2",
   "metadata": {},
   "source": [
    "## 2.3 Boolean Operators"
   ]
  },
  {
   "cell_type": "markdown",
   "id": "2100c0f7",
   "metadata": {},
   "source": [
    "Boolean value: True, False"
   ]
  },
  {
   "cell_type": "markdown",
   "id": "41a80f18",
   "metadata": {},
   "source": [
    "==, !=, <, >, <=, >= can be used for logic operations and it will result in a boolean value."
   ]
  },
  {
   "cell_type": "code",
   "execution_count": 3,
   "id": "694e5277",
   "metadata": {},
   "outputs": [
    {
     "name": "stdout",
     "output_type": "stream",
     "text": [
      "False <class 'bool'>\n",
      "True\n",
      "False\n",
      "True\n"
     ]
    }
   ],
   "source": [
    "logic_1 = 'Andy' == 'Brad'\n",
    "print(logic_1, type(logic_1))\n",
    "\n",
    "logic_2 = 65 <= 65\n",
    "print(logic_2)\n",
    "\n",
    "logic_3 = (5*13) > (5*14)\n",
    "print(logic_3)\n",
    "\n",
    "logic_4 = 'andy' != 'Andy'\n",
    "print(logic_4)"
   ]
  },
  {
   "cell_type": "markdown",
   "id": "aa943df3",
   "metadata": {},
   "source": [
    "In some specific conditions it is better to use 'and, or, not' to compare different boolean conditons."
   ]
  },
  {
   "cell_type": "code",
   "execution_count": 4,
   "id": "3dc5eb5d",
   "metadata": {},
   "outputs": [
    {
     "name": "stdout",
     "output_type": "stream",
     "text": [
      "False\n",
      "False\n",
      "True\n"
     ]
    }
   ],
   "source": [
    "mark_1, mark_2 = 65, 75\n",
    "\n",
    "logic_1 = (mark_1 > 65) and (mark_2 > 65)\n",
    "logic_1 = (mark_1 > 65)  &  (mark_2 > 65)\n",
    "print(logic_1)\n",
    "\n",
    "logic_2 = (mark_1 > 80) or (mark_2 > 80)\n",
    "logic_2 = (mark_1 > 80)  | (mark_2 > 80)\n",
    "print(logic_2)\n",
    "\n",
    "logic_3 = not (mark_1 <= mark_2)\n",
    "logic_3 = bool(~(mark_1 <= mark_2))\n",
    "print(logic_3)"
   ]
  },
  {
   "cell_type": "markdown",
   "id": "e926e07e",
   "metadata": {},
   "source": [
    "To check whether a value appear or not in a list, you can use 'in' operator and 'not' to check if the item is not in a list."
   ]
  },
  {
   "cell_type": "code",
   "execution_count": 5,
   "id": "a7ee03c3",
   "metadata": {},
   "outputs": [
    {
     "name": "stdout",
     "output_type": "stream",
     "text": [
      "True\n",
      "True\n"
     ]
    }
   ],
   "source": [
    "names = ['Andy', 'Brad', 'Cody']\n",
    "\n",
    "logic_1 = 'Cody' in names\n",
    "print(logic_1)\n",
    "\n",
    "logic_2 = 'Drew' not in names\n",
    "print(logic_2)"
   ]
  },
  {
   "cell_type": "markdown",
   "id": "c59bfb89",
   "metadata": {},
   "source": [
    "## 2.4 if Statement"
   ]
  },
  {
   "cell_type": "markdown",
   "id": "f10f6eb4",
   "metadata": {},
   "source": [
    "if Statement can be used as follows"
   ]
  },
  {
   "cell_type": "code",
   "execution_count": 11,
   "id": "2b584510",
   "metadata": {},
   "outputs": [
    {
     "name": "stdout",
     "output_type": "stream",
     "text": [
      "Passed\n",
      "Failed\n"
     ]
    }
   ],
   "source": [
    "mark = 65\n",
    "\n",
    "if mark > 60:\n",
    "  print(\"Passed\")\n",
    "\n",
    "mark_2 = 59\n",
    "if mark_2 < 60:\n",
    "    print('Failed')"
   ]
  },
  {
   "cell_type": "markdown",
   "id": "45533291",
   "metadata": {},
   "source": [
    "Use if-else to make conditional satements."
   ]
  },
  {
   "cell_type": "code",
   "execution_count": 12,
   "id": "acb9b950",
   "metadata": {},
   "outputs": [
    {
     "name": "stdout",
     "output_type": "stream",
     "text": [
      "Passed\n"
     ]
    }
   ],
   "source": [
    "mark = 65\n",
    "\n",
    "if mark > 60:\n",
    "  print(\"Passed\")\n",
    "else:\n",
    "  print(\"Failed\")"
   ]
  },
  {
   "cell_type": "markdown",
   "id": "4c701da3",
   "metadata": {},
   "source": [
    "Use if-else-else to chain conditions. Use elif when it is needed."
   ]
  },
  {
   "cell_type": "code",
   "execution_count": 13,
   "id": "abee8950",
   "metadata": {},
   "outputs": [
    {
     "name": "stdout",
     "output_type": "stream",
     "text": [
      "Mark : 65\n",
      "Grade: C\n"
     ]
    }
   ],
   "source": [
    "mark = 65\n",
    "\n",
    "is_grade_A = 85 <= mark <= 100\n",
    "is_grade_B = 70 <= mark < 85\n",
    "is_grade_C = 60 <= mark < 70\n",
    "\n",
    "print(f'Mark : {mark}')\n",
    "if is_grade_A:\n",
    "  print(\"Grade: A\")\n",
    "elif is_grade_B:\n",
    "  print(\"Grade: B\")\n",
    "elif is_grade_C:\n",
    "  print(\"Grade: C\")\n",
    "else:\n",
    "  print(\"Grade: F\")"
   ]
  },
  {
   "cell_type": "markdown",
   "id": "717659e2",
   "metadata": {},
   "source": [
    "## 2.5 Looping if Statement"
   ]
  },
  {
   "cell_type": "markdown",
   "id": "d56a21b4",
   "metadata": {},
   "source": [
    "Combining if and for"
   ]
  },
  {
   "cell_type": "code",
   "execution_count": 14,
   "id": "2b5a5938",
   "metadata": {},
   "outputs": [
    {
     "name": "stdout",
     "output_type": "stream",
     "text": [
      "Passing Students:\n",
      "['Andy', 'Brad']\n",
      "\n",
      "Failing Students:\n",
      "['Cody']\n"
     ]
    }
   ],
   "source": [
    "names = ['Andy', 'Brad', 'Cody']\n",
    "marks = [65, 70, 55]\n",
    "\n",
    "names_pass, names_fail = [], []\n",
    "\n",
    "for i in range(3):\n",
    "  if marks[i] > 60:\n",
    "    names_pass.append(names[i])\n",
    "  else:\n",
    "    names_fail.append(names[i])\n",
    "\n",
    "print(f\"Passing Students:\")\n",
    "print(names_pass)\n",
    "\n",
    "print(\"\\nFailing Students:\")\n",
    "print(names_fail)"
   ]
  },
  {
   "cell_type": "markdown",
   "id": "dc3b63e9",
   "metadata": {},
   "source": [
    "Using if with list comprehension."
   ]
  },
  {
   "cell_type": "code",
   "execution_count": 15,
   "id": "be966599",
   "metadata": {},
   "outputs": [
    {
     "name": "stdout",
     "output_type": "stream",
     "text": [
      "Passing Students:\n",
      "['Andy', 'Brad']\n",
      "\n",
      "Failing Students:\n",
      "['Cody']\n"
     ]
    }
   ],
   "source": [
    "names = ['Andy', 'Brad', 'Cody']\n",
    "marks = [65, 70, 55]\n",
    "\n",
    "names_pass = [names[i] for i in range(3) \n",
    "              if marks[i] > 60]\n",
    "names_fail = [names[i] for i in range(3) \n",
    "              if marks[i] <= 60]\n",
    "\n",
    "print(\"Passing Students:\")\n",
    "print(names_pass)\n",
    "\n",
    "print(\"\\nFailing Students:\")\n",
    "print(names_fail)\n",
    "\n",
    "#it is a different way with the method above"
   ]
  },
  {
   "cell_type": "markdown",
   "id": "470a2ef1",
   "metadata": {},
   "source": [
    "Using if-else with list comprehension."
   ]
  },
  {
   "cell_type": "code",
   "execution_count": 16,
   "id": "94e04828",
   "metadata": {},
   "outputs": [
    {
     "name": "stdout",
     "output_type": "stream",
     "text": [
      "['Andy', 'Brad', 'Cody']\n",
      "['Passed', 'Passed', 'Failed']\n"
     ]
    }
   ],
   "source": [
    "names = ['Andy', 'Brad', 'Cody']\n",
    "marks = [65, 70, 55]\n",
    "\n",
    "status = ['Passed' if mark > 60 else\n",
    "          'Failed' for mark in marks]\n",
    "#in this case the for-loop part has to be written after the else part\n",
    "\n",
    "print(names)\n",
    "print(status)"
   ]
  },
  {
   "cell_type": "markdown",
   "id": "a884a6c8",
   "metadata": {},
   "source": [
    "Using multiple if-else in list comprehension."
   ]
  },
  {
   "cell_type": "code",
   "execution_count": 17,
   "id": "ee0b5728",
   "metadata": {},
   "outputs": [
    {
     "name": "stdout",
     "output_type": "stream",
     "text": [
      "['Andy', 'Brad', 'Cody']\n",
      "['Passed', 'Passed', 'Failed']\n",
      "['C', 'B', 'F']\n"
     ]
    }
   ],
   "source": [
    "names = ['Andy', 'Brad', 'Cody']\n",
    "marks = [65, 70, 55]\n",
    "\n",
    "status = ['Passed' if mark > 60 else\n",
    "          'Failed' for mark in marks]\n",
    "\n",
    "grades = ['A' if 85 <= mark <= 100 else\n",
    "          'B' if 70 <= mark < 85 else\n",
    "          'C' if 60 <= mark < 70 else\n",
    "          'F' for mark in marks]\n",
    "          \n",
    "print(names)\n",
    "print(status)\n",
    "print(grades)"
   ]
  },
  {
   "cell_type": "markdown",
   "id": "0dba6fbb",
   "metadata": {},
   "source": [
    "## 3.1 Tuples"
   ]
  },
  {
   "cell_type": "markdown",
   "id": "b53dd002",
   "metadata": {},
   "source": [
    "Tuples are used to store multiple items in a single variable. It can be written with () or separating a sequence with commas."
   ]
  },
  {
   "cell_type": "code",
   "execution_count": 1,
   "id": "32122346",
   "metadata": {},
   "outputs": [
    {
     "name": "stdout",
     "output_type": "stream",
     "text": [
      "('name', 'mark', 'grade')\n",
      "('name', 'mark', 'grade')\n"
     ]
    }
   ],
   "source": [
    "stats = ('name', 'mark', 'grade')\n",
    "print(stats)\n",
    "\n",
    "stats = 'name', 'mark', 'grade'\n",
    "print(stats)"
   ]
  },
  {
   "cell_type": "markdown",
   "id": "0f69fb2f",
   "metadata": {},
   "source": [
    "Like list, use \\[index\\] to access the items in a tuple. Also you can use index() and count(). Attention, the elements inside the tuple can not be modified."
   ]
  },
  {
   "cell_type": "code",
   "execution_count": 4,
   "id": "8ca35b76",
   "metadata": {},
   "outputs": [
    {
     "name": "stdout",
     "output_type": "stream",
     "text": [
      "name\n",
      "('name', 'mark')\n",
      "('name',)\n",
      "1\n",
      "1\n"
     ]
    }
   ],
   "source": [
    "stats = ('name', 'mark', 'grade')\n",
    "\n",
    "print(stats[0])\n",
    "print(stats[:2])\n",
    "print(stats[-3:-2])\n",
    "\n",
    "print(stats.index('mark'))\n",
    "print(stats.count('grade'))"
   ]
  },
  {
   "cell_type": "markdown",
   "id": "446dea36",
   "metadata": {},
   "source": [
    "You can use len(), index(), count() with a tuple."
   ]
  },
  {
   "cell_type": "code",
   "execution_count": 5,
   "id": "a6df20cd",
   "metadata": {},
   "outputs": [
    {
     "name": "stdout",
     "output_type": "stream",
     "text": [
      "3\n"
     ]
    }
   ],
   "source": [
    "stats = ('name', 'mark', 'grade')\n",
    "\n",
    "print(len(stats))"
   ]
  },
  {
   "cell_type": "markdown",
   "id": "ff873bd5",
   "metadata": {},
   "source": [
    "Generator expression is similar to list comprehension. The resulting object is called a generator. You can not print generator directly withou converting it to list/tuple first. To convert this into a tuple, you can use tuple()."
   ]
  },
  {
   "cell_type": "code",
   "execution_count": 6,
   "id": "ff3c3594",
   "metadata": {},
   "outputs": [
    {
     "name": "stdout",
     "output_type": "stream",
     "text": [
      "<generator object <genexpr> at 0x11703a5f0>\n",
      "('Name', 'Mark', 'Grade')\n"
     ]
    }
   ],
   "source": [
    "stats = ('name', 'mark', 'grade')\n",
    "\n",
    "stat_gen = (stat.title() for stat in stats)\n",
    "\n",
    "print(stat_gen)\n",
    "print(tuple(stat_gen))"
   ]
  },
  {
   "cell_type": "markdown",
   "id": "6f8d0d60",
   "metadata": {},
   "source": [
    "Again, the items in a tuple can not be modified, like append(), insert(), remove(), pop(), sort() are not usable."
   ]
  },
  {
   "cell_type": "markdown",
   "id": "61b5b285",
   "metadata": {},
   "source": [
    "## 3.2 Sets"
   ]
  },
  {
   "cell_type": "markdown",
   "id": "9d779090",
   "metadata": {},
   "source": [
    "A set is used to store multiple items in a single variabe. It is written with {}. But a set does not have order and index, and it can not have two items with the same value."
   ]
  },
  {
   "cell_type": "code",
   "execution_count": 7,
   "id": "cc60fd30",
   "metadata": {},
   "outputs": [
    {
     "name": "stdout",
     "output_type": "stream",
     "text": [
      "{'speak', 'read', 'listen', 'write'}\n"
     ]
    }
   ],
   "source": [
    "verbs = {'read', 'write', 'listen', \n",
    "        'speak', 'read', 'read'}\n",
    "\n",
    "print(verbs)"
   ]
  },
  {
   "cell_type": "markdown",
   "id": "4ee266ec",
   "metadata": {},
   "source": [
    "To add items to a set, you can use add(item) and update(iterable)."
   ]
  },
  {
   "cell_type": "code",
   "execution_count": 8,
   "id": "300dbfc7",
   "metadata": {},
   "outputs": [
    {
     "name": "stdout",
     "output_type": "stream",
     "text": [
      "{'buy', 'sell', 'write', 'read', 'listen', 'eat'}\n"
     ]
    }
   ],
   "source": [
    "verbs = {'read', 'write', 'listen'}\n",
    "\n",
    "verbs.add('eat')\n",
    "\n",
    "new_verbs = ['buy', 'sell']\n",
    "\n",
    "verbs.update(new_verbs)\n",
    "\n",
    "print(verbs)"
   ]
  },
  {
   "cell_type": "markdown",
   "id": "a0d956a2",
   "metadata": {},
   "source": [
    "To remove an item in a set, you can use remove(item) and pop(), where pop() removes the last item in a set. Since there is no order in sets, so you will not know which item gets removed."
   ]
  },
  {
   "cell_type": "code",
   "execution_count": 10,
   "id": "82155e87",
   "metadata": {},
   "outputs": [
    {
     "name": "stdout",
     "output_type": "stream",
     "text": [
      "{'sell', 'read', 'listen'}\n",
      "buy\n"
     ]
    }
   ],
   "source": [
    "verbs = {'read', 'write', 'listen',\n",
    "         'eat', 'buy', 'sell'}\n",
    "\n",
    "verbs.remove('write')\n",
    "verbs.pop()\n",
    "\n",
    "popped_item = verbs.pop()\n",
    "\n",
    "print(verbs)\n",
    "print(popped_item)"
   ]
  },
  {
   "cell_type": "markdown",
   "id": "0cf0bb14",
   "metadata": {},
   "source": [
    "There are some methods that can be applied only to sets.\n",
    "\n",
    "difference(set) returns a set containing the difference between two or more sets.\n",
    "\n",
    "symmetric_difference(set) returns a set with the symmetric difference of two sets.\n",
    "\n",
    "intersection(set) returns a set that is the intersection of two other sets.\n",
    "\n",
    "union(set) returns a set containing the union of sets."
   ]
  },
  {
   "cell_type": "code",
   "execution_count": 11,
   "id": "b849c5ae",
   "metadata": {},
   "outputs": [
    {
     "name": "stdout",
     "output_type": "stream",
     "text": [
      "Difference:\t{1, 2}\n",
      "Sym Difference:\t{1, 2, 6, 7}\n",
      "Intersection:\t{3, 4, 5}\n",
      "Union: {1, 2, 3, 4, 5, 6, 7}\n"
     ]
    }
   ],
   "source": [
    "set_1 = {1, 2, 3, 4, 5}\n",
    "set_2 = {3, 4, 5, 6 ,7}\n",
    "\n",
    "diffr_12 = set_1.difference(set_2)\n",
    "print(f'Difference:\\t{diffr_12}')\n",
    "\n",
    "symdf_12 = set_1.symmetric_difference(set_2)\n",
    "print(f'Sym Difference:\\t{symdf_12}')\n",
    "\n",
    "insec_12 = set_1.intersection(set_2)\n",
    "print(f'Intersection:\\t{insec_12}')\n",
    "\n",
    "union_12 = set_1.union(set_2)\n",
    "print(f'Union: {union_12}')"
   ]
  },
  {
   "cell_type": "markdown",
   "id": "0f9de9c7",
   "metadata": {},
   "source": [
    "Since sets cannot have multiple occurrences of the same element, they are useful to remove duplicate values from a list/tuple and to perform operations like unions and intersections.You can easily convert a list or tuple to a set using set() and you can check its length using len(), just like in list and tuple."
   ]
  },
  {
   "cell_type": "code",
   "execution_count": 12,
   "id": "531d87f6",
   "metadata": {},
   "outputs": [
    {
     "name": "stdout",
     "output_type": "stream",
     "text": [
      "{'Andy', 'Brad', 'Cody', 'Eddy'}\n",
      "Number of Student: 4\n"
     ]
    }
   ],
   "source": [
    "student_list = ['Andy', 'Andy', 'Brad',\n",
    "                'Cody', 'Cody', 'Eddy']\n",
    "\n",
    "student_set = set(student_list)\n",
    "print(student_set)\n",
    "print(f\"Number of Student: {len(student_set)}\")"
   ]
  },
  {
   "cell_type": "markdown",
   "id": "67699b33",
   "metadata": {},
   "source": [
    "## 3.3 Dictionary"
   ]
  },
  {
   "cell_type": "markdown",
   "id": "4c283f60",
   "metadata": {},
   "source": [
    "A dictionary is used to store data values in key:value pairs.They are written with curly brackes { } and have keys and values, separated by colon :."
   ]
  },
  {
   "cell_type": "code",
   "execution_count": 13,
   "id": "cddf7902",
   "metadata": {},
   "outputs": [
    {
     "name": "stdout",
     "output_type": "stream",
     "text": [
      "{'name': 'Andy', 'mark': 65, 'grade': 'C'}\n"
     ]
    }
   ],
   "source": [
    "student_1 = {'name':'Andy', 'mark': 65, 'grade':'C'}\n",
    "\n",
    "print(student_1)"
   ]
  },
  {
   "cell_type": "markdown",
   "id": "08cc3b01",
   "metadata": {},
   "source": [
    "To access the items of a dictionary, you can use key name inside the square bracket.\n",
    "\n",
    "Also you can use get(key) to access."
   ]
  },
  {
   "cell_type": "code",
   "execution_count": 14,
   "id": "06e08881",
   "metadata": {},
   "outputs": [
    {
     "name": "stdout",
     "output_type": "stream",
     "text": [
      "Andy\n",
      "C\n"
     ]
    }
   ],
   "source": [
    "student_1 = {'name':'Andy', 'mark': 65, 'grade':'C'}\n",
    "\n",
    "print(student_1['name'])\n",
    "print(student_1.get('grade'))"
   ]
  },
  {
   "cell_type": "markdown",
   "id": "be13a887",
   "metadata": {},
   "source": [
    "In general, keys can not be changed. You can change the values of a specific item be referring to its key name.\n",
    "\n",
    "update(dict) can also upate the dictionary. The arguement must be a dictionary.\n",
    "\n",
    "Those two methods can also be used to add new keys:values pair into a dictionary."
   ]
  },
  {
   "cell_type": "code",
   "execution_count": 15,
   "id": "bf88acb2",
   "metadata": {},
   "outputs": [
    {
     "name": "stdout",
     "output_type": "stream",
     "text": [
      "{'name': 'Andy', 'mark': 75, 'grade': 'B'}\n",
      "{'name': 'Andy', 'mark': 75, 'grade': 'B', 'class': 'math', 'year': 2020}\n"
     ]
    }
   ],
   "source": [
    "student_1 = {'name':'Andy', 'mark': 65, 'grade':'C'}\n",
    "\n",
    "student_1['grade'] = 'B'\n",
    "student_1.update({'mark': 75})\n",
    "print(student_1)\n",
    "\n",
    "student_1['class'] = 'math'\n",
    "student_1.update({'year': 2020})\n",
    "print(student_1)"
   ]
  },
  {
   "cell_type": "markdown",
   "id": "b8bb0e82",
   "metadata": {},
   "source": [
    "pop() removes the element with the specified key. The value of the removed item is the return value of the pop() method."
   ]
  },
  {
   "cell_type": "code",
   "execution_count": 16,
   "id": "f4505c91",
   "metadata": {},
   "outputs": [
    {
     "name": "stdout",
     "output_type": "stream",
     "text": [
      "{'name': 'Andy', 'mark': 75}\n",
      "B\n"
     ]
    }
   ],
   "source": [
    "student_1 = {'name':'Andy', 'mark': 75, 'grade':'B'}\n",
    "\n",
    "popped_grade = student_1.pop('grade')\n",
    "print(student_1)\n",
    "print(popped_grade)"
   ]
  },
  {
   "cell_type": "markdown",
   "id": "e89eb4a6",
   "metadata": {},
   "source": [
    "<u>In summary, be careful on the difference among tuples, sets and dictionaries.</u>"
   ]
  },
  {
   "cell_type": "markdown",
   "id": "86975988",
   "metadata": {},
   "source": [
    "## 3.4 Loop in dictionaries"
   ]
  },
  {
   "cell_type": "markdown",
   "id": "18742fbc",
   "metadata": {},
   "source": [
    "To get all the keys, values, or all items, you can use the following methods:\n",
    "\n",
    "keys() returns a list of all the keys in the dictionary.\n",
    "\n",
    "values() returns a list of all the values in the dictionary.\n",
    "\n",
    "items() returns each item in a dictionary as tuples in a list."
   ]
  },
  {
   "cell_type": "code",
   "execution_count": 1,
   "id": "ffe555f0",
   "metadata": {},
   "outputs": [
    {
     "name": "stdout",
     "output_type": "stream",
     "text": [
      "dict_keys(['name', 'mark', 'grade'])\n",
      "dict_values(['Andy', 75, 'B'])\n",
      "dict_items([('name', 'Andy'), ('mark', 75), ('grade', 'B')])\n",
      "['name', 'mark', 'grade']\n"
     ]
    }
   ],
   "source": [
    "student_1 = {'name':'Andy', 'mark': 75, 'grade':'B'}\n",
    "\n",
    "print(student_1.keys())\n",
    "print(student_1.values())\n",
    "print(student_1.items())\n",
    "\n",
    "print(list(student_1.keys())) # <- convert to a list"
   ]
  },
  {
   "cell_type": "markdown",
   "id": "ae6b0617",
   "metadata": {},
   "source": [
    "Looping through a dictionary with keys(), values(), items()"
   ]
  },
  {
   "cell_type": "code",
   "execution_count": 18,
   "id": "eead3c4a",
   "metadata": {},
   "outputs": [
    {
     "name": "stdout",
     "output_type": "stream",
     "text": [
      "('name', 'mark', 'grade')\n",
      "['Andy', 75, 'B']\n",
      "[('name', 'Andy'), ('mark', 75), ('grade', 'B')]\n"
     ]
    }
   ],
   "source": [
    "stud_1_data = {'name':'Andy', 'mark':75, 'grade':'B'}\n",
    "\n",
    "stats  = (stat for stat in stud_1_data.keys())\n",
    "\n",
    "stud_1 = (info for info in stud_1_data.values())\n",
    "\n",
    "stud_1_bio = [(stat,info) \n",
    "              for stat, info in stud_1_data.items()]\n",
    "\n",
    "print(tuple(stats))\n",
    "print(list(stud_1))\n",
    "print(stud_1_bio)"
   ]
  },
  {
   "cell_type": "markdown",
   "id": "fedf647b",
   "metadata": {},
   "source": [
    "To form a dictionary from two tuples/lists, you can start by making an empty dictionary first then add the items in a for loop using a simple index assignment or update()."
   ]
  },
  {
   "cell_type": "code",
   "execution_count": 19,
   "id": "75566e72",
   "metadata": {},
   "outputs": [
    {
     "name": "stdout",
     "output_type": "stream",
     "text": [
      "{'name': 'Andy', 'mark': 75, 'grade': 'B'}\n"
     ]
    }
   ],
   "source": [
    "stats = ('name', 'mark', 'grade')\n",
    "stud_1 = ['Andy', 75, 'B']\n",
    "\n",
    "stud_1_data = {}\n",
    "for i in range(len(stats)):\n",
    "  stud_1_data.update({stats[i]:stud_1[i]})\n",
    "\n",
    "print(stud_1_data)"
   ]
  },
  {
   "cell_type": "markdown",
   "id": "8fcfe52f",
   "metadata": {},
   "source": [
    "Dictionary comprehension can be applied as follows."
   ]
  },
  {
   "cell_type": "code",
   "execution_count": 20,
   "id": "07c2a3ae",
   "metadata": {},
   "outputs": [
    {
     "name": "stdout",
     "output_type": "stream",
     "text": [
      "{'name': 'Andy', 'mark': 75, 'grade': 'B'}\n"
     ]
    }
   ],
   "source": [
    "stats = ('name', 'mark', 'grade')\n",
    "stud_1 = ['Andy', 75, 'B']\n",
    "\n",
    "stud_1_data = {stats[i]:stud_1[i] \n",
    "               for i in range(len(stats))}\n",
    "\n",
    "print(stud_1_data)"
   ]
  },
  {
   "cell_type": "markdown",
   "id": "fbb64708",
   "metadata": {},
   "source": [
    "## 3.5 Zip and Enumerate"
   ]
  },
  {
   "cell_type": "markdown",
   "id": "b1fe2231",
   "metadata": {},
   "source": [
    "The zip(iter1,iter2,...) function takes multiple iterables (such as list, tuple, dictionary, etc.), joins them in a tuple, and returns it. \n",
    "\n",
    "Since it cannot be printed directly, the for loop can be used here. "
   ]
  },
  {
   "cell_type": "code",
   "execution_count": 21,
   "id": "1f917374",
   "metadata": {},
   "outputs": [
    {
     "name": "stdout",
     "output_type": "stream",
     "text": [
      "Name\t: Andy\n",
      "Mark\t: 75\n",
      "Grade\t: B\n"
     ]
    }
   ],
   "source": [
    "stats = ('name', 'mark', 'grade')\n",
    "stud_1 = ['Andy', 75, 'B']\n",
    "\n",
    "stud_1_zip = zip(stats, stud_1)\n",
    "\n",
    "for stat, info in zip(stats, stud_1):\n",
    "  print(f\"{stat.title()}\\t: {info}\")"
   ]
  },
  {
   "cell_type": "markdown",
   "id": "60ae924d",
   "metadata": {},
   "source": [
    "Since the zip object is essentially a collection of 2-tuples, it can be easily converted to dictionary using dict()."
   ]
  },
  {
   "cell_type": "code",
   "execution_count": 22,
   "id": "d34dbf0d",
   "metadata": {},
   "outputs": [
    {
     "name": "stdout",
     "output_type": "stream",
     "text": [
      "{'name': 'Andy', 'mark': 75, 'grade': 'B'}\n"
     ]
    }
   ],
   "source": [
    "stats = ('name', 'mark', 'grade')\n",
    "stud_1 = ['Andy', 75, 'B']\n",
    "\n",
    "stud_1_zip = zip(stats, stud_1)\n",
    "stud_1_data= dict(stud_1_zip)\n",
    "\n",
    "print(stud_1_data)"
   ]
  },
  {
   "cell_type": "markdown",
   "id": "b6353e62",
   "metadata": {},
   "source": [
    "enumerate(container, start=num) gives an iterable (like zip) that contain the index and the items in the container.\n",
    "\n",
    "It can be combined with the zip() method as well. Just like zip, it cannot be printed."
   ]
  },
  {
   "cell_type": "code",
   "execution_count": 23,
   "id": "cd7a794f",
   "metadata": {},
   "outputs": [
    {
     "name": "stdout",
     "output_type": "stream",
     "text": [
      "{'ID1': {'name': 'Andy', 'mark': 75, 'grade': 'B'}, 'ID2': {'name': 'Brad', 'mark': 85, 'grade': 'A'}}\n"
     ]
    }
   ],
   "source": [
    "stats = ('name', 'mark', 'grade')\n",
    "stud_1 = ['Andy', 75, 'B']\n",
    "stud_2 = ['Brad', 85, 'A']\n",
    "\n",
    "stud_1_data = dict(zip(stats, stud_1))\n",
    "stud_2_data = dict(zip(stats, stud_2))\n",
    "\n",
    "stud_list = [stud_1_data, stud_2_data]\n",
    "\n",
    "stud_index = enumerate(stud_list, start=1)\n",
    "\n",
    "stud_dict = {f'ID{index}': info\n",
    "             for index, info in stud_index}\n",
    "               \n",
    "print(stud_dict)"
   ]
  },
  {
   "cell_type": "markdown",
   "id": "a0f46ef9",
   "metadata": {},
   "source": [
    "To separate the elements of each tuple into independent sequences, you can use zip() along with the unpacking operator *."
   ]
  },
  {
   "cell_type": "code",
   "execution_count": 24,
   "id": "c573bb7b",
   "metadata": {},
   "outputs": [
    {
     "name": "stdout",
     "output_type": "stream",
     "text": [
      "('ID1', 'ID2')\n",
      "({'name': 'Andy', 'mark': 75}, {'name': 'Brad', 'mark': 85})\n"
     ]
    }
   ],
   "source": [
    "stud_dict = (('ID1', {'name': 'Andy', 'mark': 75}),\n",
    "             ('ID2', {'name': 'Brad', 'mark': 85}))\n",
    "       \n",
    "stud_id, stud_info = zip(*stud_dict)\n",
    "print(stud_id)\n",
    "print(stud_info)"
   ]
  },
  {
   "cell_type": "markdown",
   "id": "8f77052c",
   "metadata": {},
   "source": [
    "Notice: Both zip and enumerate are exhaust iterators--meaning after you unpack it once, it will become exhausted and no longer usable.\n",
    "\n",
    "So, you need to explicitly convert the iterator into a list/tuple if you want to unpack it multiple times. Enclosed the zip() with tuple() to resolve the error."
   ]
  },
  {
   "cell_type": "markdown",
   "id": "010e1d37",
   "metadata": {},
   "source": [
    "## 4.1 Functions"
   ]
  },
  {
   "cell_type": "markdown",
   "id": "1d005f52",
   "metadata": {},
   "source": [
    "A function is defined using the def keyword. Similar to for and if, the indented lines after that will be part of that function."
   ]
  },
  {
   "cell_type": "code",
   "execution_count": 4,
   "id": "afbb4301",
   "metadata": {},
   "outputs": [
    {
     "name": "stdout",
     "output_type": "stream",
     "text": [
      "Name: Shinil\n"
     ]
    }
   ],
   "source": [
    "name = \"Shinil\"\n",
    "\n",
    "def print_name():\n",
    "  print(f\"Name: {name}\")\n",
    "\n",
    "print_name()"
   ]
  },
  {
   "cell_type": "markdown",
   "id": "b1ba5d88",
   "metadata": {},
   "source": [
    "Arguments are added after the function name, inside the parentheses. You can add as many arguments as you want, just separate them with a comma."
   ]
  },
  {
   "cell_type": "code",
   "execution_count": 5,
   "id": "caa81510",
   "metadata": {},
   "outputs": [
    {
     "name": "stdout",
     "output_type": "stream",
     "text": [
      "Name: Shinil\n",
      "Name: Shinitsu\n"
     ]
    }
   ],
   "source": [
    "def print_name(name):\n",
    "  print(f\"Name: {name}\")\n",
    "\n",
    "print_name(\"Shinil\")\n",
    "print_name(\"Shinitsu\")"
   ]
  },
  {
   "cell_type": "code",
   "execution_count": 6,
   "id": "f199787d",
   "metadata": {},
   "outputs": [
    {
     "name": "stdout",
     "output_type": "stream",
     "text": [
      "Name : Shenyi\n",
      "Sex : Male\n",
      "University: Nankai\n",
      "\n",
      "Name : Shinil\n",
      "Sex : Male\n",
      "University: Tohoku\n",
      "\n"
     ]
    }
   ],
   "source": [
    "def print_stats(name, sex, uni):\n",
    "  print(f\"Name : {name}\")\n",
    "  print(f\"Sex : {sex}\")\n",
    "  print(f\"University: {uni}\\n\")\n",
    "\n",
    "print_stats(\"Shenyi\", 'Male', 'Nankai')\n",
    "print_stats(\"Shinil\", 'Male', 'Tohoku')"
   ]
  },
  {
   "cell_type": "markdown",
   "id": "7d2b21e7",
   "metadata": {},
   "source": [
    "Some data or parameters might be incomplete. Adding a default value to a function can help with this. If we call the function without argument, it will use the default value."
   ]
  },
  {
   "cell_type": "code",
   "execution_count": 8,
   "id": "86948ef9",
   "metadata": {
    "scrolled": true
   },
   "outputs": [
    {
     "name": "stdout",
     "output_type": "stream",
     "text": [
      "Name : Shenyi\n",
      "Mark : 75\n",
      "Grade: B+\n",
      "\n",
      "Name : Shinil\n",
      "Mark : ?\n",
      "Grade: ?\n",
      "\n",
      "Name : Please enter your info\n",
      "Mark : ?\n",
      "Grade: ?\n",
      "\n"
     ]
    }
   ],
   "source": [
    "def print_stats(name='Please enter your info', mark='?', grade='?'):\n",
    "  print(f\"Name : {name}\")\n",
    "  print(f\"Mark : {mark}\")\n",
    "  print(f\"Grade: {grade}\\n\")\n",
    "\n",
    "print_stats(\"Shenyi\", 75, 'B+')\n",
    "print_stats(\"Shinil\")\n",
    "print_stats()"
   ]
  },
  {
   "cell_type": "markdown",
   "id": "de711430",
   "metadata": {},
   "source": [
    "You can send any data types of argument to a function (string, number, list, dictionary, etc.), and it will be treated as the same data type inside the function."
   ]
  },
  {
   "cell_type": "code",
   "execution_count": 9,
   "id": "1d83acad",
   "metadata": {},
   "outputs": [
    {
     "name": "stdout",
     "output_type": "stream",
     "text": [
      "Name : Shenyi\n",
      "Mark : 75\n",
      "Grade: B+\n",
      "\n",
      "Name : Shinitsu\n",
      "Mark : 85\n",
      "Grade: A-\n",
      "\n"
     ]
    }
   ],
   "source": [
    "stu_1 = [\"Shenyi\", 75, 'B+']\n",
    "stu_2 = [\"Shinitsu\", 85, 'A-']\n",
    "\n",
    "def print_stats(stu_stat):\n",
    "  print(f\"Name : {stu_stat[0]}\")\n",
    "  print(f\"Mark : {stu_stat[1]}\")\n",
    "  print(f\"Grade: {stu_stat[2]}\\n\")\n",
    "\n",
    "print_stats(stu_1)\n",
    "print_stats(stu_2)"
   ]
  },
  {
   "cell_type": "markdown",
   "id": "c8930432",
   "metadata": {},
   "source": [
    "## 4.2 Lambda Functions"
   ]
  },
  {
   "cell_type": "markdown",
   "id": "d31b69ee",
   "metadata": {},
   "source": [
    "To make a function return a value, use the return statement. Having a return value means you can save the result of the function into a  variable."
   ]
  },
  {
   "cell_type": "code",
   "execution_count": 13,
   "id": "e14190ce",
   "metadata": {},
   "outputs": [
    {
     "name": "stdout",
     "output_type": "stream",
     "text": [
      "Mark  : 60\n",
      "Result: Pass\n"
     ]
    }
   ],
   "source": [
    "def is_pass(mark):\n",
    "  if mark >= 60:\n",
    "    result = \"Pass\"\n",
    "  else:\n",
    "    result = \"Fail\"\n",
    "  return result\n",
    "\n",
    "mark_1  = 60\n",
    "result_1 = is_pass(mark_1)\n",
    "print(f\"Mark  : {mark_1}\")\n",
    "print(f\"Result: {result_1}\")"
   ]
  },
  {
   "cell_type": "markdown",
   "id": "21c8d68b",
   "metadata": {},
   "source": [
    "A <u>lambda function</u> is a small anonymous function.\n",
    "\n",
    "It can only have one expression and will also return that one expression. In this example, we will use a generator expression."
   ]
  },
  {
   "cell_type": "code",
   "execution_count": 14,
   "id": "50760c78",
   "metadata": {},
   "outputs": [
    {
     "name": "stdout",
     "output_type": "stream",
     "text": [
      "Mark  : 60\n",
      "Result: Pass\n"
     ]
    }
   ],
   "source": [
    "is_pass = lambda mark : (\"Pass\" if mark >= 60 else \"Fail\")\n",
    "\n",
    "mark_1  = 60\n",
    "result_1 = is_pass(mark_1)\n",
    "print(f\"Mark  : {mark_1}\")\n",
    "print(f\"Result: {result_1}\")"
   ]
  },
  {
   "cell_type": "markdown",
   "id": "2644dc1d",
   "metadata": {},
   "source": [
    "While you can add a generator expression, lambda functions are commonly used for simple calculation.\n",
    "\n",
    "It can accept multiple arguments as well."
   ]
  },
  {
   "cell_type": "code",
   "execution_count": 17,
   "id": "5174a000",
   "metadata": {},
   "outputs": [
    {
     "name": "stdout",
     "output_type": "stream",
     "text": [
      "Mark 1  : 60\n",
      "Mark 2  : 65\n",
      "Average mark: 62.5\n",
      "Result  : Pass\n"
     ]
    }
   ],
   "source": [
    "ave_mark = lambda m_1, m_2 : ((m_1 + m_2) / 2)\n",
    "is_pass = lambda mark : (\"Pass\" if mark >= 60 else \"Fail\")\n",
    "\n",
    "mark_1 = 60\n",
    "mark_2 = 65\n",
    "ave = ave_mark(mark_1, mark_2)\n",
    "result_1 = is_pass(ave)\n",
    "\n",
    "print(f\"Mark 1  : {mark_1}\")\n",
    "print(f\"Mark 2  : {mark_2}\")\n",
    "print(f\"Average mark: {ave}\")\n",
    "print(f\"Result  : {result_1}\")"
   ]
  },
  {
   "cell_type": "markdown",
   "id": "e80876a4",
   "metadata": {},
   "source": [
    "Lambda functions are best for use for smaller functions (only one line of code). If a function is more than one line, it is recommended to use def instead."
   ]
  },
  {
   "cell_type": "code",
   "execution_count": 18,
   "id": "b083d3b7",
   "metadata": {},
   "outputs": [
    {
     "name": "stdout",
     "output_type": "stream",
     "text": [
      "Name      : Shenyi\n",
      "  Mark 1  : 60\n",
      "  Mark 2  : 65\n",
      "  Result  : Pass\n",
      "\n",
      "Name      : Raymond\n",
      "  Mark 1  : 85\n",
      "  Mark 2  : 65\n",
      "  Result  : Pass\n",
      "\n",
      "Name      : Haku\n",
      "  Mark 1  : 70\n",
      "  Mark 2  : 60\n",
      "  Result  : Pass\n",
      "\n"
     ]
    }
   ],
   "source": [
    "ave_mark = lambda m_1, m_2 : ((m_1 + m_2) / 2)\n",
    "is_pass = lambda mark : (\"Pass\" if mark >= 60 else \"Fail\")\n",
    "\n",
    "names = [\"Shenyi\", \"Raymond\", \"Haku\"]\n",
    "\n",
    "marks_1 = [60, 85, 70]\n",
    "marks_2 = [65, 65, 60]\n",
    "marks_ave = [ave_mark(m_1, m_2) \n",
    "            for m_1, m_2 in zip(marks_1, marks_2)]\n",
    "results = [is_pass(ave) for ave in marks_ave]\n",
    "\n",
    "def stats(name='Please input your information.', mark_1=\"?\", mark_2=\"?\", result=\"?\"):\n",
    "  message = f\"Name      : {name}\\n\\\n",
    "  Mark 1  : {mark_1}\\n\\\n",
    "  Mark 2  : {mark_2}\\n\\\n",
    "  Result  : {result}\\n\"\n",
    "  return message\n",
    "  \n",
    "stud_data = zip(names, marks_1, marks_2, results)\n",
    "\n",
    "for name, mark_1, mark_2, result in stud_data:\n",
    "  print(stats(name, mark_1, mark_2, result))"
   ]
  },
  {
   "cell_type": "markdown",
   "id": "4f460305",
   "metadata": {},
   "source": [
    "## 4.3 Exceptions"
   ]
  },
  {
   "cell_type": "markdown",
   "id": "41ce00be",
   "metadata": {},
   "source": [
    "When an error occurs, it can be handled by using try and except statement."
   ]
  },
  {
   "cell_type": "code",
   "execution_count": 20,
   "id": "4da3a45e",
   "metadata": {},
   "outputs": [
    {
     "name": "stdout",
     "output_type": "stream",
     "text": [
      "[65, 75, 65, 'miss']\n"
     ]
    }
   ],
   "source": [
    "grades = ['65', '75', '65', 'miss']\n",
    "\n",
    "def attempt_int(x):\n",
    "  try:\n",
    "    return int(x)\n",
    "  except:\n",
    "    return x\n",
    "\n",
    "grades_int = [attempt_int(grade) \n",
    "              for grade in grades]\n",
    "\n",
    "print(grades_int)"
   ]
  },
  {
   "cell_type": "markdown",
   "id": "17dfd154",
   "metadata": {},
   "source": [
    "When a data that we have is not clean, try and except can be really useful, especially when multiple lists exist. We can assign the value if an error occurred."
   ]
  },
  {
   "cell_type": "code",
   "execution_count": 26,
   "id": "8a297542",
   "metadata": {},
   "outputs": [
    {
     "name": "stdout",
     "output_type": "stream",
     "text": [
      "Name: ['Andy', 'Brad', 'Cody']\n",
      "Marks 1: ['65', '75', '65s']\n",
      "Marks 2: ['65', '8 5', '60']\n",
      "Average: [65.0, '?', '?']\n"
     ]
    }
   ],
   "source": [
    "names = ['Andy', \"Brad\", \"Cody\"]\n",
    "marks_1 = ['65', '75',  '65s']\n",
    "marks_2 = ['65', '8 5',  '60']\n",
    "\n",
    "def attempt_ave(x1, x2):\n",
    "  try:\n",
    "    return (int(x1) + int(x2)) / 2\n",
    "  except:\n",
    "    return \"?\"\n",
    "    \n",
    "marks_int = [attempt_ave(m1, m2) \n",
    "             for m1, m2 in zip(marks_1, marks_2)]\n",
    "\n",
    "print(f\"Name: {names}\")\n",
    "print(f\"Marks 1: {marks_1}\")\n",
    "print(f\"Marks 2: {marks_2}\")\n",
    "print(f\"Average: {marks_int}\")"
   ]
  },
  {
   "cell_type": "markdown",
   "id": "2cfd71aa",
   "metadata": {},
   "source": [
    "## 4.4 Intro to RegEx"
   ]
  },
  {
   "cell_type": "markdown",
   "id": "fde6c2be",
   "metadata": {},
   "source": [
    "A regular expression (RegEx) is a special sequence of characters that helps you match or find other strings or sets of strings, using a specialized syntax held in a pattern.\n",
    "\n",
    "re.findall(pattern, string) returns a <u>list</u> containing all matches of pattern in string.\n",
    "\n",
    "re.split(pattern, string) returns a <u>list</u> where the string has been split at each pattern."
   ]
  },
  {
   "cell_type": "code",
   "execution_count": 28,
   "id": "98d99f90",
   "metadata": {},
   "outputs": [
    {
     "name": "stdout",
     "output_type": "stream",
     "text": [
      "['15', '15']\n",
      "['Andy-15-A', 'Brad-15-B', 'Cody-16-B']\n"
     ]
    }
   ],
   "source": [
    "import  re\n",
    "\n",
    "data = 'Andy-15-A Brad-15-B Cody-16-B'\n",
    "age_15 = re.findall('15', data)\n",
    "\n",
    "print(age_15)\n",
    "\n",
    "stud_info = re.split('\\s', data)\n",
    "\n",
    "print(stud_info)"
   ]
  },
  {
   "cell_type": "markdown",
   "id": "f144f85e",
   "metadata": {},
   "source": [
    "Square bracket \\[ \\] allows to find the match of multiple pattern.\n",
    "\n",
    "Backslash \\ can be inserted before some special characters like ), ], -, or ^ if you want to include them in your pattern."
   ]
  },
  {
   "cell_type": "code",
   "execution_count": 29,
   "id": "027a9cd5",
   "metadata": {},
   "outputs": [
    {
     "name": "stdout",
     "output_type": "stream",
     "text": [
      "['Andy', '15', 'A', 'Brad', '15', 'B', 'Cody', '16', 'B']\n"
     ]
    }
   ],
   "source": [
    "import re\n",
    "\n",
    "data = 'Andy-15-A Brad-15-B Cody-16-B'\n",
    "data_splitted = re.split('[\\-\\s]', data)\n",
    "\n",
    "print(data_splitted)"
   ]
  },
  {
   "cell_type": "markdown",
   "id": "e5189271",
   "metadata": {},
   "source": [
    "The square bracket \\[ \\] can also contain a range of characters separated by a hyphen -, in which case it matches any single character within the range. \n",
    "\n",
    "\\[A-z\\] matches any alphabetic character. For upper or lower case only, use \\[A-Z\\] or \\[a-z\\].\n",
    "\n",
    "\\[0-9\\] matches any digit character."
   ]
  },
  {
   "cell_type": "code",
   "execution_count": 30,
   "id": "9619cadb",
   "metadata": {},
   "outputs": [
    {
     "name": "stdout",
     "output_type": "stream",
     "text": [
      "['15', '15', '16']\n",
      "['-A', '-B', '-B']\n"
     ]
    }
   ],
   "source": [
    "import re\n",
    "\n",
    "data = 'Andy-15-A Brad-15-B Cody-16-B'\n",
    "\n",
    "find_age = re.findall('[0-9][0-9]', data)\n",
    "find_grade = re.findall('\\-[A-Z]', data)\n",
    "\n",
    "print(find_age)\n",
    "print(find_grade)"
   ]
  },
  {
   "cell_type": "markdown",
   "id": "bf25dd98",
   "metadata": {},
   "source": [
    "To match multiple repetitions of a pattern, you can use the following:\n",
    "\n",
    "Plus + symbol allows to match zero or more repetitions of the preceding regex.\n",
    "\n",
    "{m}\tmatches exactly m repetitions of the preceding regex.\n",
    "\n",
    "{m,n} matches any number of repetitions of the preceding regex from m to n-1."
   ]
  },
  {
   "cell_type": "code",
   "execution_count": 36,
   "id": "b1e3a890",
   "metadata": {},
   "outputs": [
    {
     "name": "stdout",
     "output_type": "stream",
     "text": [
      "['Andy-', 'Brad-', 'Cody-']\n",
      "[]\n",
      "['-15-', '-15-', '-16-']\n",
      "['-A', '-B', '-B']\n"
     ]
    }
   ],
   "source": [
    "import re\n",
    "\n",
    "data = 'Andy-15-A Brad-15-B Cody-16-B'\n",
    "\n",
    "find_name = re.findall('[A-z]+\\-', data)\n",
    "find_age_1 = re.findall('\\-[0-9]{1}\\-', data)\n",
    "find_age_2 = re.findall('\\-[0-9]{2}\\-', data)\n",
    "find_grade = re.findall('\\-[A-Z]', data)\n",
    "\n",
    "print(find_name)\n",
    "print(find_age_1)\n",
    "print(find_age_2)\n",
    "print(find_grade)"
   ]
  },
  {
   "cell_type": "markdown",
   "id": "91bf85d5",
   "metadata": {},
   "source": [
    "Parentheses ( ) can be use to group a pattern. It can also be used to return the only necessary part of the pattern to the list."
   ]
  },
  {
   "cell_type": "code",
   "execution_count": 37,
   "id": "9f28bfc1",
   "metadata": {},
   "outputs": [
    {
     "name": "stdout",
     "output_type": "stream",
     "text": [
      "['Andy', 'Brad', 'Cody']\n",
      "['15', '15', '16']\n",
      "['A', 'B', 'B']\n"
     ]
    }
   ],
   "source": [
    "import re\n",
    "\n",
    "data = 'Andy-15-A Brad-15-B Cody-16-B'\n",
    "\n",
    "find_name = re.findall('([A-z]+)\\-', data)\n",
    "find_age = re.findall('\\-([0-9]{2})\\-', data)\n",
    "find_grade = re.findall('\\-([A-Z])', data)\n",
    "\n",
    "print(find_name)\n",
    "print(find_age)\n",
    "print(find_grade)"
   ]
  },
  {
   "cell_type": "markdown",
   "id": "b9193a93",
   "metadata": {},
   "source": [
    "## 4.5 RegEx for Data Cleaning"
   ]
  },
  {
   "cell_type": "markdown",
   "id": "4b9e1f42",
   "metadata": {},
   "source": [
    "re.sub(pattern, sub, string) replaces all the pattern in string with sub.\n",
    "\n",
    "strip() clean unnecessary whitespaces at the start and end of a string."
   ]
  },
  {
   "cell_type": "code",
   "execution_count": 40,
   "id": "79abe224",
   "metadata": {},
   "outputs": [
    {
     "name": "stdout",
     "output_type": "stream",
     "text": [
      "Before:\n",
      "Andy;Brad;!Cody\n",
      "15s;1 5;16a\n",
      "A;#a;B.\n",
      "\n",
      "After:\n",
      "Andy;Brad;Cody\n",
      "15;15;16\n",
      "A;a;B\n"
     ]
    }
   ],
   "source": [
    "import re\n",
    "\n",
    "names = 'Andy;Brad;!Cody'\n",
    "ages = '15s;1 5;16a'\n",
    "grades = 'A;#a;B.'\n",
    "\n",
    "names_clean = re.sub('!', '', names)\n",
    "ages_clean = re.sub('[A-z\\s]', '', ages)\n",
    "grades_clean = re.sub('[\\#\\.]', '', grades)\n",
    "\n",
    "print(\"Before:\")\n",
    "print(names)\n",
    "print(ages)\n",
    "print(grades)\n",
    "\n",
    "print(\"\\nAfter:\")\n",
    "print(names_clean)\n",
    "print(ages_clean)\n",
    "print(grades_clean)"
   ]
  },
  {
   "cell_type": "code",
   "execution_count": 39,
   "id": "6e75d369",
   "metadata": {},
   "outputs": [
    {
     "name": "stdout",
     "output_type": "stream",
     "text": [
      "Raw Data:\n",
      "andy;BRAD;!Cody\n",
      "15s;1 5;16a\n",
      "A;#a;B.\n",
      "\n",
      "Raw Split into List:\n",
      "['andy;BRAD;!Cody', '15s;1 5;16a', 'A;#a;B.']\n",
      "\n",
      "Cleaned from Symbols:\n",
      "['andy;BRAD;Cody', '15s;15;16a', 'A;a;B']\n",
      "\n",
      "Further Split:\n",
      "[['andy', 'BRAD', 'Cody'], ['15s', '15', '16a'], ['A', 'a', 'B']]\n",
      "\n",
      "Final Cleaned:\n",
      "[['Andy', 'Brad', 'Cody'], ['15', '15', '16'], ['A', 'A', 'B']]\n",
      "\n"
     ]
    }
   ],
   "source": [
    "import re\n",
    "\n",
    "raw_info = 'andy;BRAD;!Cody\\n15s;1 5;16a\\nA;#a;B.'\n",
    "\n",
    "split_raw_info = re.split('\\n',raw_info)\n",
    "\n",
    "trash = '[\\!\\#\\.\\,\\s]'\n",
    "no_trash_info = [re.sub(trash, '', info)\n",
    "                 for info in split_raw_info]\n",
    "\n",
    "clean_split = [re.split('\\;', info) \n",
    "               for info in no_trash_info]\n",
    "\n",
    "clean_info = clean_split.copy()\n",
    "clean_info[0] = [info.title() \n",
    "                 for info in clean_split[0]]\n",
    "clean_info[1] = [re.sub('[A-z]', '', info)\n",
    "                 for info in clean_split[1]]\n",
    "clean_info[2] = [info.upper()\n",
    "                 for info in clean_split[2]]\n",
    "\n",
    "print(f\"Raw Data:\\n{raw_info}\\n\")\n",
    "print(f\"Raw Split into List:\\n{split_raw_info}\\n\")\n",
    "print(f\"Cleaned from Symbols:\\n{no_trash_info}\\n\")\n",
    "print(f\"Further Split:\\n{clean_split}\\n\")\n",
    "print(f\"Final Cleaned:\\n{clean_info}\\n\")"
   ]
  },
  {
   "cell_type": "code",
   "execution_count": 38,
   "id": "82d4163b",
   "metadata": {},
   "outputs": [
    {
     "name": "stdout",
     "output_type": "stream",
     "text": [
      "Name: ['Andy', 'Brad', 'Cody', 'Drew']\n",
      "Marks 1: ['65', '75', '65S', '80']\n",
      "Marks 2: ['65', '85', '66', '60']\n"
     ]
    }
   ],
   "source": [
    "names = ['ANdy', \"brad;\", \"cody\", \"drew \"]\n",
    "marks_1 = ['65', ' 75',  '65s', ' 80']\n",
    "marks_2 = ['65 ', '8 5',  '66?', '!60']\n",
    "\n",
    "import re\n",
    "\n",
    "def clean_strings(strings):\n",
    "  result = []\n",
    "  for value in strings:\n",
    "    value = value.strip()\n",
    "    value = re.sub('[-!#?;\\s]', '', value)\n",
    "    value = value.title()\n",
    "    result.append(value)\n",
    "  return result\n",
    "\n",
    "print(f\"Name: {clean_strings(names)}\")\n",
    "print(f\"Marks 1: {clean_strings(marks_1)}\")\n",
    "print(f\"Marks 2: {clean_strings(marks_2)}\")"
   ]
  },
  {
   "cell_type": "markdown",
   "id": "87c29b00",
   "metadata": {},
   "source": [
    "## 5.1 Numpy Arrays"
   ]
  },
  {
   "cell_type": "markdown",
   "id": "e0731714",
   "metadata": {},
   "source": [
    "np.array() converts a list/tuples into an ndarray.\n",
    "\n",
    "array.ndim returns the dimension of array:\n",
    "- 0-D array: A number/scalar\n",
    "- 1-D array: a list with numbers.\n",
    "- 2-D array: a list containing lists, a matrix.\n",
    "\n",
    "array.shape returns the shape of an array."
   ]
  },
  {
   "cell_type": "code",
   "execution_count": 1,
   "id": "02c4a4df",
   "metadata": {},
   "outputs": [
    {
     "name": "stdout",
     "output_type": "stream",
     "text": [
      "[60 65 70]\n",
      "<class 'numpy.ndarray'>\n",
      "60\n",
      "[60 85 70]\n",
      "[[60 85 70]\n",
      " [65 65 60]]\n"
     ]
    }
   ],
   "source": [
    "import numpy as np\n",
    "\n",
    "marks  = [60, 65, 70]\n",
    "mark_arr = np.array(marks)\n",
    "\n",
    "print(mark_arr)\n",
    "print(type(mark_arr))\n",
    "\n",
    "mark = np.array(60) \n",
    "mark_list = np.array([60, 85, 70])\n",
    "mark_lists  = np.array([[60, 85, 70],\n",
    "                        [65, 65, 60]])\n",
    "\n",
    "arrays = [mark, mark_list, mark_lists]\n",
    "for arr in arrays:\n",
    "  print(arr)"
   ]
  },
  {
   "cell_type": "markdown",
   "id": "9a10d04e",
   "metadata": {},
   "source": [
    "Similar to range, NumPy has some functions that make it easy to generate numbers:\n",
    "\n",
    "- np.arange(num) returns integers from 0 to num-1. \n",
    "\n",
    "- np.arange(minnum, maxnum) returns integers from minnum to maxnum-1. \n",
    "\n",
    "- np.full(shape, fill_value) returns a new array of the given shape (e.g., (2,3) or 2) filled with fill_value.\n",
    "\n",
    "- np.empty(shape) returns a new array of the given shape with no value in it.\n",
    "\n",
    "You can use round(num) to round a number to num places decimal."
   ]
  },
  {
   "cell_type": "code",
   "execution_count": 3,
   "id": "abdf4bab",
   "metadata": {},
   "outputs": [
    {
     "name": "stdout",
     "output_type": "stream",
     "text": [
      "[1 2 3 4 5 6]\n",
      "[[65 65 65 65 65 65]\n",
      " [65 65 65 65 65 65]]\n",
      "[[0. 0. 0. 0. 0. 0.]\n",
      " [0. 0. 0. 0. 0. 0.]]\n"
     ]
    }
   ],
   "source": [
    "import numpy as np\n",
    "\n",
    "stud_id = np.arange(1, 7)\n",
    "grade_pass = np.full((2,6), 65)\n",
    "stud_grade = np.empty((2,6))\n",
    "\n",
    "print(stud_id)\n",
    "print(grade_pass)\n",
    "print(stud_grade.round(1))"
   ]
  },
  {
   "cell_type": "markdown",
   "id": "8acaeac7",
   "metadata": {},
   "source": [
    "NumPy offers the random module to work with random numbers.  \n",
    "\n",
    "- np.random.rand() returns random float from 0 to 1.\n",
    "\n",
    "- np.random.randint(num) returns random integers from 0 to num-1.\n",
    "\n",
    "- np.random.randint(minnum, maxnum) returns random integers from minnum to maxnum-1. \n",
    "\n",
    "Adding an extra argument size=shape will return a random array of the given shape."
   ]
  },
  {
   "cell_type": "code",
   "execution_count": 1,
   "id": "fdebd468",
   "metadata": {},
   "outputs": [
    {
     "name": "stdout",
     "output_type": "stream",
     "text": [
      "[[0.73 0.35 0.9  0.03 1.  ]\n",
      " [0.28 0.31 0.67 0.89 0.56]]\n",
      "[[69 95 56 72 54]\n",
      " [77 75 84 69 52]]\n"
     ]
    }
   ],
   "source": [
    "import numpy as np\n",
    "\n",
    "random_num = np.random.rand(2,5).round(2)\n",
    "random_mark = np.random.randint(50, 101, size=(2,5))\n",
    "\n",
    "print(random_num)\n",
    "print(random_mark)"
   ]
  },
  {
   "cell_type": "markdown",
   "id": "b40e76fd",
   "metadata": {},
   "source": [
    "## 5.2 Index and Reshape"
   ]
  },
  {
   "cell_type": "markdown",
   "id": "e572aed1",
   "metadata": {},
   "source": [
    "You can access an array element by referring to its index number just like in list with similar methods with 2 or 3 Ds arrays."
   ]
  },
  {
   "cell_type": "code",
   "execution_count": 4,
   "id": "f517d58d",
   "metadata": {},
   "outputs": [
    {
     "name": "stdout",
     "output_type": "stream",
     "text": [
      "60\n",
      "70\n"
     ]
    }
   ],
   "source": [
    "import numpy as np\n",
    "\n",
    "marks_arr = np.array([60, 75, 80, 85, 70, 60])\n",
    "marks_arr_2D = np.array([[60, 75, 80], [85, 70, 60]])\n",
    "\n",
    "print(marks_arr[0])\n",
    "print(marks_arr_2D[1,1])"
   ]
  },
  {
   "cell_type": "markdown",
   "id": "e1315f69",
   "metadata": {},
   "source": [
    "We pass slice like this \\[start:end\\] or \\[start:end:step\\]"
   ]
  },
  {
   "cell_type": "code",
   "execution_count": 5,
   "id": "362c4680",
   "metadata": {},
   "outputs": [
    {
     "name": "stdout",
     "output_type": "stream",
     "text": [
      "[80 85 70]\n",
      "[[70 60]]\n"
     ]
    }
   ],
   "source": [
    "import numpy as np\n",
    "\n",
    "marks_arr = np.array([60, 75, 80, 85, 70, 60])\n",
    "marks_arr_2D = np.array([[60, 75, 80], [85, 70, 60]])\n",
    "\n",
    "print(marks_arr[2:5])\n",
    "print(marks_arr_2D[1:,1:])"
   ]
  },
  {
   "cell_type": "markdown",
   "id": "4176e45a",
   "metadata": {},
   "source": [
    "array.reshape(shape) returns an array of new shape from array."
   ]
  },
  {
   "cell_type": "code",
   "execution_count": 6,
   "id": "e0757877",
   "metadata": {},
   "outputs": [
    {
     "name": "stdout",
     "output_type": "stream",
     "text": [
      "[60 75 80 85 70 60]\n",
      "[[60 75 80]\n",
      " [85 70 60]]\n"
     ]
    }
   ],
   "source": [
    "import numpy as np\n",
    "\n",
    "marks_arr = np.array([60, 75, 80, 85, 70, 60])\n",
    "marks_arr_2D = marks_arr.reshape(2,3)\n",
    "\n",
    "print(marks_arr)\n",
    "print(marks_arr_2D)"
   ]
  },
  {
   "cell_type": "markdown",
   "id": "7245a6df",
   "metadata": {},
   "source": [
    "Pass -1 as the value, and NumPy will calculate this number for you. But you have to be aware of whether the whole items can be devided into the shape you want.\n",
    "\n",
    "Reshaping using (-1,1) value is particularly useful to convert a row array into a column array and vice versa."
   ]
  },
  {
   "cell_type": "code",
   "execution_count": 7,
   "id": "b27f76d6",
   "metadata": {},
   "outputs": [
    {
     "name": "stdout",
     "output_type": "stream",
     "text": [
      "[60 75 80 85 70 60]\n",
      "[[60 75]\n",
      " [80 85]\n",
      " [70 60]]\n",
      "[[60]\n",
      " [75]\n",
      " [80]\n",
      " [85]\n",
      " [70]\n",
      " [60]]\n"
     ]
    }
   ],
   "source": [
    "import numpy as np\n",
    "\n",
    "marks_arr = np.array([60, 75, 80, 85, 70, 60])\n",
    "marks_arr_2D = marks_arr.reshape(3,-1)\n",
    "marks_arr_col = marks_arr.reshape(-1,1)\n",
    "\n",
    "print(marks_arr)\n",
    "print(marks_arr_2D)\n",
    "print(marks_arr_col)"
   ]
  },
  {
   "cell_type": "markdown",
   "id": "0e4baaf3",
   "metadata": {},
   "source": [
    "## 5.3 Unviersal Function"
   ]
  },
  {
   "cell_type": "markdown",
   "id": "d038f55b",
   "metadata": {},
   "source": [
    "Universal functions (or ufunc) are NumPy functions that operate on the ndarray object. Many ufunc are related to mathematical operations between arrays.\n",
    "- add()\n",
    "- subtract()\n",
    "- multiply()\n",
    "- divide()\n",
    "- power() "
   ]
  },
  {
   "cell_type": "code",
   "execution_count": 9,
   "id": "a76e56dc",
   "metadata": {},
   "outputs": [
    {
     "name": "stdout",
     "output_type": "stream",
     "text": [
      "[125 145 160 160 160 125]\n",
      "[12.5 14.5 16.  16.  16.  12.5]\n",
      "[ -5   5   0  10 -20  -5]\n"
     ]
    }
   ],
   "source": [
    "import numpy as np\n",
    "\n",
    "marks_1_arr = np.array([60, 75, 80, 85, 70, 60])\n",
    "marks_2_arr = np.array([65, 70, 80, 75, 90, 65])\n",
    "\n",
    "marks_sum = np.add(marks_1_arr, marks_2_arr)\n",
    "marks_ave = np.divide(marks_sum, 10)\n",
    "marks_sub = np.subtract(marks_1_arr, marks_2_arr)\n",
    "print(marks_sum)\n",
    "print(marks_ave)\n",
    "print(marks_sub)"
   ]
  },
  {
   "cell_type": "markdown",
   "id": "4498f8af",
   "metadata": {},
   "source": [
    "Also you can use functions as follows to computing basic statistical indexes with numpy. \n",
    "- amin(ar),  amax(ar) return the minimum, maximum of an array, respectively.\n",
    "- sum(ar) computes the sum of all elements.\n",
    "- mean(ar) computes the arithmetic mean.\n",
    "- median(ar) computes the median.\n",
    "- std(ar) computes the standard deviation.\n",
    "- quantile(ar,q) computes the q-th quantile of the data.\n",
    "\n",
    "And for 2-D array, you can add an extra argument:\n",
    "- axis=0 to compute the rows statistics\n",
    "- axis=1 to compute the columns statistics"
   ]
  },
  {
   "cell_type": "code",
   "execution_count": 10,
   "id": "b8294359",
   "metadata": {},
   "outputs": [
    {
     "name": "stdout",
     "output_type": "stream",
     "text": [
      "Sum: [125 145 160 160 160]\n",
      "Ave: [62.5 72.5 80.  80.  80. ]\n",
      "Std: [ 2.5  2.5  0.   5.  10. ]\n",
      "Row 1 Min: 60\n",
      "Row 1 Max: 85\n",
      "Row 2 Min: 65\n",
      "Row 2 Max: 90\n"
     ]
    }
   ],
   "source": [
    "import numpy as np\n",
    "\n",
    "marks_arr = np.array([(60, 75, 80, 85, 70),\n",
    "                      (65, 70, 80, 75, 90)])\n",
    "\n",
    "marks_sum = np.sum(marks_arr, axis=0)\n",
    "marks_ave = np.mean(marks_arr, axis=0)\n",
    "marks_std = np.std(marks_arr, axis=0)\n",
    "marks_min = np.amin(marks_arr, axis=1)\n",
    "marks_max = np.amax(marks_arr, axis=1)\n",
    "\n",
    "\n",
    "print(f'Sum: {marks_sum}')\n",
    "print(f'Ave: {marks_ave}')\n",
    "print(f'Std: {marks_std}')\n",
    "print(f'Row 1 Min: {marks_min[0]}')\n",
    "print(f'Row 1 Max: {marks_max[0]}')\n",
    "print(f'Row 2 Min: {marks_min[1]}')\n",
    "print(f'Row 2 Max: {marks_max[1]}')"
   ]
  },
  {
   "cell_type": "markdown",
   "id": "f896ea70",
   "metadata": {},
   "source": [
    "Also we can apply trigonometric and logarithmic operators.\n",
    "- e, pi return the value of Euler's constant and pi, respectively.\n",
    "- sin(), cos() and tan() take values in radians and produce the corresponding sin, cos and tan values.\n",
    "- sinh(), cosh() and tanh() take values in radians and produce the corresponding sinh, cosh and tanh values.\n",
    "- log(), log10() function to perform corresponding log at the base e and 10."
   ]
  },
  {
   "cell_type": "code",
   "execution_count": 11,
   "id": "cd9932ea",
   "metadata": {},
   "outputs": [
    {
     "name": "stdout",
     "output_type": "stream",
     "text": [
      " sin(0.5pi) = 1.0\n",
      "sinh(ln(2)) = 0.750\n",
      "    cos(pi) = -1\n",
      "log10(0.01) = -2\n",
      "    ln(e^5) = 5.0\n"
     ]
    }
   ],
   "source": [
    "import numpy as np\n",
    "\n",
    "q1 = np.sin(0.5*np.pi)\n",
    "q2 = np.sinh(np.log(2))\n",
    "q3 = np.cos(np.pi)\n",
    "q4 = np.log10(0.01)\n",
    "q5 = np.log(np.e**5)\n",
    "\n",
    "print(f' sin(0.5pi) = {q1:.1f}')\n",
    "print(f'sinh(ln(2)) = {q2:.3f}')\n",
    "print(f'    cos(pi) = {q3:.0f}')\n",
    "print(f'log10(0.01) = {q4:.0f}')\n",
    "print(f'    ln(e^5) = {q5:.1f}')\n",
    "#remind here ':.xf'"
   ]
  },
  {
   "cell_type": "markdown",
   "id": "297ecd9a",
   "metadata": {},
   "source": [
    "To apply set operators.\n",
    "\n",
    "- unique() returns the unique elements from any array, e.g., create a set array. (should only be 1-D)\n",
    "- union1d(ar1, ar2) finds the union of ar1 and ar2.\n",
    "- intersect1d(ar1, ar2) finds the intersection of ar1 and ar2.\n",
    "- setdiff1d(ar1, ar2) find the set difference of ar1 and ar2.\n",
    "- isin(ar1, ar2) test whether each element of ar1 is also present in ar2.\n",
    "\n",
    "(Note that Python set cannot be converted to ndarray)"
   ]
  },
  {
   "cell_type": "code",
   "execution_count": 16,
   "id": "6e3b0a4b",
   "metadata": {},
   "outputs": [
    {
     "name": "stdout",
     "output_type": "stream",
     "text": [
      "Unique Class in Summer:\n",
      "['english' 'history' 'math']\n",
      "\n",
      "Classes Taken:\n",
      "['economy' 'english' 'history' 'math' 'science']\n",
      "\n",
      "Classes Repeated:\n",
      "['math']\n",
      "\n",
      "Class_S Not Repeated:\n",
      "['english' 'history']\n",
      "\n",
      "Is Class Repeated in Fall?:\n",
      "[ True False False]\n"
     ]
    }
   ],
   "source": [
    "import numpy as np\n",
    "\n",
    "class_S = np.array(['math', 'english', 'history'])\n",
    "class_F = np.array(['math', 'science', 'economy'])\n",
    "\n",
    "class_unique = np.unique(class_S)\n",
    "class_taken = np.union1d(class_S, class_F)\n",
    "class_repeated = np.intersect1d(class_S, class_F)\n",
    "class_no_repeat = np.setdiff1d(class_S, class_F)\n",
    "class_check = np.isin(class_S, class_F)\n",
    "\n",
    "print(f'Unique Class in Summer:\\n{class_unique}\\n')\n",
    "print(f'Classes Taken:\\n{class_taken}\\n')\n",
    "print(f'Classes Repeated:\\n{class_repeated}\\n')\n",
    "print(f'Class_S Not Repeated:\\n{class_no_repeat}\\n')\n",
    "print(f'Is Class Repeated in Fall?:\\n{class_check}')"
   ]
  },
  {
   "cell_type": "markdown",
   "id": "c5aa9f61",
   "metadata": {},
   "source": [
    "## 5.4 Join, Split and Transpose"
   ]
  },
  {
   "cell_type": "markdown",
   "id": "91e3da76",
   "metadata": {},
   "source": [
    "np.concatenate((arr1, arr2, ...)) joins arr1, arr2, ..., along with the axis. If axis is not explicitly passed, it is taken as 0."
   ]
  },
  {
   "cell_type": "code",
   "execution_count": 20,
   "id": "c58d7554",
   "metadata": {},
   "outputs": [
    {
     "name": "stdout",
     "output_type": "stream",
     "text": [
      "[60 75 80 85 70 60 65 70 80 75 90 65]\n"
     ]
    }
   ],
   "source": [
    "import numpy as np\n",
    "\n",
    "marks_1 = np.array([60, 75, 80, 85, 70, 60])\n",
    "marks_2 = np.array([65, 70, 80, 75, 90, 65])\n",
    "\n",
    "marks_all = np.concatenate((marks_1, marks_2))\n",
    "\n",
    "print(marks_all)"
   ]
  },
  {
   "cell_type": "markdown",
   "id": "8a9b4f43",
   "metadata": {},
   "source": [
    "np.array_split(arr, num) splits arr into num sub-arrays. It will return a list object (not ndarray)."
   ]
  },
  {
   "cell_type": "code",
   "execution_count": 23,
   "id": "c0d3521c",
   "metadata": {},
   "outputs": [
    {
     "name": "stdout",
     "output_type": "stream",
     "text": [
      "Split into 4 parts:\n",
      "[array([60, 75, 80]), array([85, 70, 60]), array([65, 70, 80]), array([75, 90, 65])]\n",
      "<class 'list'>\n"
     ]
    }
   ],
   "source": [
    "import numpy as np\n",
    "\n",
    "marks_1 = np.array([60, 75, 80, 85, 70, 60])\n",
    "marks_2 = np.array([65, 70, 80, 75, 90, 65])\n",
    "\n",
    "marks_all = np.concatenate((marks_1, marks_2))\n",
    "\n",
    "marks_split_4 = np.array_split(marks_all, 4)\n",
    "\n",
    "print(f'Split into 4 parts:')\n",
    "print(marks_split_4)\n",
    "print(type(marks_split_4))"
   ]
  },
  {
   "cell_type": "markdown",
   "id": "c13bc8c9",
   "metadata": {},
   "source": [
    "We can concatenate two 1-D arrays along the second axis which would result in putting them one over the other, ie. stacking.\n",
    "\n",
    "- np.vstack(\\[arr1, arr2, ...\\]) stack arr1, arr2, ..., in sequence vertically (row wise).\n",
    "\n",
    "- np.hstack(\\[arr1, arr2, ...\\]) stack arr1, arr2, ..., in sequence horizontally (column wise)."
   ]
  },
  {
   "cell_type": "code",
   "execution_count": 26,
   "id": "8f185df2",
   "metadata": {},
   "outputs": [
    {
     "name": "stdout",
     "output_type": "stream",
     "text": [
      "[[60 75 80 85 70 60]\n",
      " [65 70 80 75 90 65]] \n",
      "\n",
      "[[60 75 80 85 70 60]\n",
      " [65 70 80 75 90 65]\n",
      " [70 85 75 85 90 80]] \n",
      "\n",
      "[[60 75 80 85 70 60 70]\n",
      " [65 70 80 75 90 65 75]\n",
      " [70 85 75 85 90 80 85]] \n",
      "\n",
      "[[70 60 75 80 85 70 60]\n",
      " [75 65 70 80 75 90 65]\n",
      " [85 70 85 75 85 90 80]]\n"
     ]
    }
   ],
   "source": [
    "import numpy as np\n",
    "\n",
    "marks_12 = np.array([[60, 75, 80, 85, 70, 60],\n",
    "                     [65, 70, 80, 75, 90, 65]])\n",
    "marks_3  = np.array( [70, 85, 75, 85, 90, 80] )\n",
    "\n",
    "marks_123 = np.vstack([marks_12, marks_3])\n",
    "\n",
    "marks_final = np.array([[70],\n",
    "                        [75],\n",
    "                        [85]])\n",
    "                        \n",
    "marks = np.hstack([marks_123, marks_final])\n",
    "#be careful on the order of two arrs\n",
    "mark_rev = np.hstack([marks_final, marks_123])\n",
    "\n",
    "print(marks_12,'\\n')\n",
    "print(marks_123,'\\n')\n",
    "print(marks,'\\n')\n",
    "print(mark_rev)"
   ]
  },
  {
   "cell_type": "markdown",
   "id": "f617d3dc",
   "metadata": {},
   "source": [
    "np.transpose(arr) reverses the axes of arr and returns the modified array."
   ]
  },
  {
   "cell_type": "code",
   "execution_count": 27,
   "id": "6ef644b5",
   "metadata": {},
   "outputs": [
    {
     "name": "stdout",
     "output_type": "stream",
     "text": [
      "[['Andy' 'Brad' 'Cody' 'Drew']\n",
      " ['60' '75' '80' '85']\n",
      " ['65' '70' '80' '75']] \n",
      "\n",
      "[['Andy' '60' '65']\n",
      " ['Brad' '75' '70']\n",
      " ['Cody' '80' '80']\n",
      " ['Drew' '85' '75']]\n"
     ]
    }
   ],
   "source": [
    "import numpy as np\n",
    "\n",
    "names = np.array(['Andy','Brad','Cody','Drew'])\n",
    "marks_1 = np.array([60, 75, 80, 85])\n",
    "marks_2 = np.array([65, 70, 80, 75])\n",
    "\n",
    "marks_stack = np.vstack([names, marks_1, marks_2])\n",
    "marks_swaps = np.transpose(marks_stack)\n",
    "\n",
    "print(marks_stack, '\\n')\n",
    "print(marks_swaps)"
   ]
  },
  {
   "cell_type": "markdown",
   "id": "d5f27f79",
   "metadata": {},
   "source": [
    "## 5.5 Search and Filter"
   ]
  },
  {
   "cell_type": "markdown",
   "id": "2c2cf2ba",
   "metadata": {},
   "source": [
    "In NumPy, you filter an array using a boolean index list  An element is contained in the filtered array only if the value at an index is True. Use bitwise operator &, |, ~ for and, or, and not, respectively."
   ]
  },
  {
   "cell_type": "code",
   "execution_count": 28,
   "id": "6ecd6d35",
   "metadata": {},
   "outputs": [
    {
     "name": "stdout",
     "output_type": "stream",
     "text": [
      "[67 70]\n",
      "[65 60 50]\n"
     ]
    }
   ],
   "source": [
    "import numpy as np\n",
    "\n",
    "marks = np.array([65, 67, 70, 60, 50])\n",
    "\n",
    "filter_bool = (marks > 65) & (marks <= 100)\n",
    "#here we create a boolean index and it will be used in next filter\n",
    "pass_array = marks[filter_bool]\n",
    "print(pass_array)\n",
    "\n",
    "fail_array = marks[~filter_bool]\n",
    "#here use the boolean operator ~ to do the logicall calculation\n",
    "print(fail_array)"
   ]
  },
  {
   "cell_type": "markdown",
   "id": "696b0eff",
   "metadata": {},
   "source": [
    "Using a list comprehension with if statement can be useful for filtering.   \n",
    "<b>While there is no ndarray comprehension</b>, a similar task can be done using this method:\n",
    "\n",
    "where(condition, x, y) returns elements chosen from x or y depending on condition."
   ]
  },
  {
   "cell_type": "code",
   "execution_count": 30,
   "id": "90b00cb6",
   "metadata": {},
   "outputs": [
    {
     "name": "stdout",
     "output_type": "stream",
     "text": [
      "[('Andy', 'Fail'), ('Brad', 'Pass'), ('Cody', 'Fail')]\n"
     ]
    }
   ],
   "source": [
    "import numpy as np\n",
    "\n",
    "names = [\"Andy\", \"Brad\", \"Cody\"]\n",
    "marks_1 = [60, 85, 70]\n",
    "marks_2 = [65, 65, 60]\n",
    "\n",
    "marks_arr = np.array([marks_1, marks_2])\n",
    "\n",
    "marks_ave = np.mean(marks_arr, axis=0)\n",
    "results = np.where(marks_ave > 65, 'Pass', 'Fail') \n",
    "#here it returns a list from where\n",
    "\n",
    "names_results = list(zip(names, results))\n",
    "print(names_results)"
   ]
  },
  {
   "cell_type": "markdown",
   "id": "0a9bf27a",
   "metadata": {},
   "source": [
    "Unlike list, NumPy can only work with 1 data type. We can force NumPy to work with multiple data types by assigning a dtype. The resulting array is called a structured array. "
   ]
  },
  {
   "cell_type": "code",
   "execution_count": 31,
   "id": "4540326d",
   "metadata": {},
   "outputs": [
    {
     "name": "stdout",
     "output_type": "stream",
     "text": [
      "[('Andy', 60) ('Brad', 85) ('Cody', 70) ('Drew', 75)]\n"
     ]
    }
   ],
   "source": [
    "import numpy as np\n",
    "\n",
    "stud_info = [('Andy', 60),\n",
    "             ('Brad', 85),\n",
    "             ('Cody', 70),\n",
    "             ('Drew', 75)]\n",
    "\n",
    "dtypes = [('name',object), ('mark',int)]\n",
    "#define the types while using numpy\n",
    "stud_marks = np.array(stud_info, dtype=dtypes)\n",
    "\n",
    "print(stud_marks)"
   ]
  },
  {
   "cell_type": "markdown",
   "id": "88d2e09f",
   "metadata": {},
   "source": [
    "Use the function as follows to sort ndarray.\n",
    "\n",
    "np.sort(arr)returns a sorted copy of an array."
   ]
  },
  {
   "cell_type": "code",
   "execution_count": 32,
   "id": "264ce968",
   "metadata": {},
   "outputs": [
    {
     "name": "stdout",
     "output_type": "stream",
     "text": [
      "[('Andy', 60) ('Brad', 85) ('Cody', 70) ('Drew', 75)]\n",
      "[('Andy', 60) ('Cody', 70) ('Drew', 75) ('Brad', 85)]\n"
     ]
    }
   ],
   "source": [
    "import numpy as np\n",
    "\n",
    "stud_info = [('Andy', 60),\n",
    "             ('Brad', 85),\n",
    "             ('Cody', 70),\n",
    "             ('Drew', 75)]\n",
    "\n",
    "dtypes = [('name',object), ('mark',int)]\n",
    "\n",
    "stud_marks = np.array(stud_info, dtype=dtypes)\n",
    "\n",
    "sorted_marks = np.sort(stud_marks, order='mark') \n",
    "\n",
    "print(stud_marks)\n",
    "print(sorted_marks)"
   ]
  }
 ],
 "metadata": {
  "kernelspec": {
   "display_name": "Python 3 (ipykernel)",
   "language": "python",
   "name": "python3"
  },
  "language_info": {
   "codemirror_mode": {
    "name": "ipython",
    "version": 3
   },
   "file_extension": ".py",
   "mimetype": "text/x-python",
   "name": "python",
   "nbconvert_exporter": "python",
   "pygments_lexer": "ipython3",
   "version": "3.9.1"
  }
 },
 "nbformat": 4,
 "nbformat_minor": 5
}
