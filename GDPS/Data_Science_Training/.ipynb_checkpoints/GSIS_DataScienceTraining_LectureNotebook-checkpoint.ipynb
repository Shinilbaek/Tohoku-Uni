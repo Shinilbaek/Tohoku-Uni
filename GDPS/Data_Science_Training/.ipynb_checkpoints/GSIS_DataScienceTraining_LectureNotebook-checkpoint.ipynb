{
 "cells": [
  {
   "cell_type": "markdown",
   "id": "b47fb121",
   "metadata": {},
   "source": [
    "<font size='5'>**Data Science Training Camp I Lecture Notebook**</font>"
   ]
  },
  {
   "cell_type": "markdown",
   "id": "f3f45c9c",
   "metadata": {},
   "source": [
    "<u>Based on [Samy Baladram's Lesson](https://sites.google.com/tohoku.ac.jp/gpds-course/courses/skill-up-training), International Liasion Office-GSIS-Tohoku University.</u>"
   ]
  },
  {
   "cell_type": "markdown",
   "id": "d1fd0f5a",
   "metadata": {},
   "source": [
    "Last updated by [Shinil](mailto:baisy1999@outlook.com):21-11-17"
   ]
  },
  {
   "cell_type": "markdown",
   "id": "9e306f60",
   "metadata": {},
   "source": [
    "## Lesson 1 Basic Data Handling"
   ]
  },
  {
   "cell_type": "markdown",
   "id": "63d3703f",
   "metadata": {},
   "source": [
    "### 1.1 Dataframe"
   ]
  },
  {
   "cell_type": "markdown",
   "id": "4ef25490",
   "metadata": {},
   "source": [
    "Start by importing <u>pandas</u> library.\n",
    "\n",
    "<b>Reading File</b>\n",
    "\n",
    "First, we use the read_csv function to read .csv file-type dataset, and display the first five rows with the head method.\n",
    "\n",
    "- index label:individual member of index\n",
    "- column name:individual member of column\n",
    "- index:all the index labels as a whole\n",
    "- column:all the column names as a whole.\n",
    "- values:data other than columns or index.\n",
    "- NaN (not a number):representation of missing value\n",
    "- ...:At least one column is not displayed due to the number of columns exceeding the display limit."
   ]
  },
  {
   "cell_type": "code",
   "execution_count": 1,
   "id": "4b28ffee",
   "metadata": {},
   "outputs": [
    {
     "name": "stdout",
     "output_type": "stream",
     "text": [
      "   color      director_name  num_critic_for_reviews  duration  \\\n",
      "0  Color      James Cameron                   723.0     178.0   \n",
      "1  Color     Gore Verbinski                   302.0     169.0   \n",
      "2  Color         Sam Mendes                   602.0     148.0   \n",
      "3  Color  Christopher Nolan                   813.0     164.0   \n",
      "4    NaN        Doug Walker                     NaN       NaN   \n",
      "\n",
      "   director_fb_likes  actor_3_fb_likes      actor_2_name  actor_1_fb_likes  \\\n",
      "0                0.0             855.0  Joel David Moore            1000.0   \n",
      "1              563.0            1000.0     Orlando Bloom           40000.0   \n",
      "2                0.0             161.0      Rory Kinnear           11000.0   \n",
      "3            22000.0           23000.0    Christian Bale           27000.0   \n",
      "4              131.0               NaN        Rob Walker             131.0   \n",
      "\n",
      "         gross                           genres  ... num_user_for_reviews  \\\n",
      "0  760505847.0  Action|Adventure|Fantasy|Sci-Fi  ...               3054.0   \n",
      "1  309404152.0         Action|Adventure|Fantasy  ...               1238.0   \n",
      "2  200074175.0        Action|Adventure|Thriller  ...                994.0   \n",
      "3  448130642.0                  Action|Thriller  ...               2701.0   \n",
      "4          NaN                      Documentary  ...                  NaN   \n",
      "\n",
      "  language  country  content_rating       budget  title_year actor_2_fb_likes  \\\n",
      "0  English      USA           PG-13  237000000.0      2009.0            936.0   \n",
      "1  English      USA           PG-13  300000000.0      2007.0           5000.0   \n",
      "2  English       UK           PG-13  245000000.0      2015.0            393.0   \n",
      "3  English      USA           PG-13  250000000.0      2012.0          23000.0   \n",
      "4      NaN      NaN             NaN          NaN         NaN             12.0   \n",
      "\n",
      "  imdb_score  aspect_ratio movie_fb_likes  \n",
      "0        7.9          1.78          33000  \n",
      "1        7.1          2.35              0  \n",
      "2        6.8          2.35          85000  \n",
      "3        8.5          2.35         164000  \n",
      "4        7.1           NaN              0  \n",
      "\n",
      "[5 rows x 28 columns]\n",
      "               color   director_name  num_critic_for_reviews  duration  \\\n",
      "990  Black and White  Richard Donner                    61.0     132.0   \n",
      "991            Color    Peter Webber                   209.0     131.0   \n",
      "992            Color      Rob Reiner                    99.0      95.0   \n",
      "993            Color   Andrew Niccol                   298.0     125.0   \n",
      "994            Color  John McTiernan                   131.0      98.0   \n",
      "995            Color  Clint Eastwood                   146.0     110.0   \n",
      "996            Color      Tom Tykwer                   245.0     118.0   \n",
      "997            Color  John Carpenter                   104.0     101.0   \n",
      "998            Color             NaN                     4.0      60.0   \n",
      "999            Color       Brad Bird                   162.0      90.0   \n",
      "\n",
      "     director_fb_likes  actor_3_fb_likes         actor_2_name  \\\n",
      "990              503.0             282.0   Sylvester Stallone   \n",
      "991               73.0             163.0      Stephen Walters   \n",
      "992                0.0             323.0         Tim Matheson   \n",
      "993              487.0             201.0  Chandler Canterbury   \n",
      "994              323.0             511.0    Harry Connick Jr.   \n",
      "995            16000.0             581.0      Anjelica Huston   \n",
      "996              670.0             294.0     Brían F. O'Byrne   \n",
      "997                0.0             764.0       Valeria Golino   \n",
      "998                NaN             398.0      Brittany Curran   \n",
      "999              663.0             521.0    Harry Connick Jr.   \n",
      "\n",
      "     actor_1_fb_likes       gross  \\\n",
      "990           45000.0  30306268.0   \n",
      "991             879.0  27667947.0   \n",
      "992           13000.0  27067160.0   \n",
      "993             430.0  26616999.0   \n",
      "994             933.0  26536120.0   \n",
      "995           16000.0  26199517.0   \n",
      "996            6000.0  25450527.0   \n",
      "997           12000.0  25407250.0   \n",
      "998             629.0         NaN   \n",
      "999           14000.0  23159305.0   \n",
      "\n",
      "                                                genres  ...  \\\n",
      "990                              Action|Crime|Thriller  ...   \n",
      "991                               Crime|Drama|Thriller  ...   \n",
      "992                               Comedy|Drama|Romance  ...   \n",
      "993           Action|Adventure|Romance|Sci-Fi|Thriller  ...   \n",
      "994                Action|Crime|Drama|Mystery|Thriller  ...   \n",
      "995                Action|Crime|Drama|Mystery|Thriller  ...   \n",
      "996                Action|Crime|Drama|Mystery|Thriller  ...   \n",
      "997                   Action|Adventure|Sci-Fi|Thriller  ...   \n",
      "998                             Drama|Mystery|Thriller  ...   \n",
      "999  Action|Adventure|Animation|Comedy|Drama|Family...  ...   \n",
      "\n",
      "    num_user_for_reviews language  country  content_rating      budget  \\\n",
      "990                 84.0  English   France               R  50000000.0   \n",
      "991                392.0  English       UK               R  50000000.0   \n",
      "992                150.0  English      USA               R  50000000.0   \n",
      "993                347.0  English      USA           PG-13  40000000.0   \n",
      "994                286.0  English  Germany               R  50000000.0   \n",
      "995                260.0  English      USA               R  50000000.0   \n",
      "996                190.0  English      USA               R  50000000.0   \n",
      "997                227.0  English      USA               R  50000000.0   \n",
      "998                 22.0  English      USA             NaN         NaN   \n",
      "999                514.0  English      USA              PG  70000000.0   \n",
      "\n",
      "     title_year actor_2_fb_likes imdb_score  aspect_ratio movie_fb_likes  \n",
      "990      1995.0          13000.0        6.3          1.85              0  \n",
      "991      2007.0            184.0        6.2          2.35           3000  \n",
      "992      1999.0            559.0        5.9          1.85              0  \n",
      "993      2013.0            329.0        5.9          2.35          43000  \n",
      "994      2003.0            631.0        6.5          2.35              0  \n",
      "995      2002.0           1000.0        6.4          2.35            705  \n",
      "996      2009.0            450.0        6.5          2.35              0  \n",
      "997      1996.0            898.0        5.7          2.35              0  \n",
      "998         NaN            512.0        7.5         16.00            915  \n",
      "999      1999.0            631.0        8.0          2.35              0  \n",
      "\n",
      "[10 rows x 28 columns]\n"
     ]
    }
   ],
   "source": [
    "import pandas as pd\n",
    "\n",
    "movie = pd.read_csv(\"movie.csv\")\n",
    "\n",
    "# Printing the first 5 rows\n",
    "print(movie.head())\n",
    "\n",
    "# Printing the last 10 rows\n",
    "print(movie.tail(10))"
   ]
  },
  {
   "cell_type": "markdown",
   "id": "97276e3a",
   "metadata": {},
   "source": [
    "We can use the DataFrame attributes <b>index</b>, <b>columns</b>, and <b>values</b> to assign the index, columns, and values to their own variables. Here we will try to print all of them in f-string."
   ]
  },
  {
   "cell_type": "code",
   "execution_count": 2,
   "id": "5ce4b0b6",
   "metadata": {},
   "outputs": [
    {
     "name": "stdout",
     "output_type": "stream",
     "text": [
      "This is the index:\n",
      " RangeIndex(start=0, stop=1000, step=1)\n",
      "\n",
      "This is the columns:\n",
      " Index(['color', 'director_name', 'num_critic_for_reviews', 'duration',\n",
      "       'director_fb_likes', 'actor_3_fb_likes', 'actor_2_name',\n",
      "       'actor_1_fb_likes', 'gross', 'genres', 'actor_1_name', 'movie_title',\n",
      "       'num_voted_users', 'cast_total_fb_likes', 'actor_3_name',\n",
      "       'facenumber_in_poster', 'plot_keywords', 'movie_imdb_link',\n",
      "       'num_user_for_reviews', 'language', 'country', 'content_rating',\n",
      "       'budget', 'title_year', 'actor_2_fb_likes', 'imdb_score',\n",
      "       'aspect_ratio', 'movie_fb_likes'],\n",
      "      dtype='object')\n",
      "\n",
      "This is the data:\n",
      " [['Color' 'James Cameron' 723.0 ... 7.9 1.78 33000]\n",
      " ['Color' 'Gore Verbinski' 302.0 ... 7.1 2.35 0]\n",
      " ['Color' 'Sam Mendes' 602.0 ... 6.8 2.35 85000]\n",
      " ...\n",
      " ['Color' 'John Carpenter' 104.0 ... 5.7 2.35 0]\n",
      " ['Color' nan 4.0 ... 7.5 16.0 915]\n",
      " ['Color' 'Brad Bird' 162.0 ... 8.0 2.35 0]]\n"
     ]
    }
   ],
   "source": [
    "import pandas as pd\n",
    "\n",
    "movie = pd.read_csv(\"movie.csv\")\n",
    "\n",
    "mov_index = movie.index\n",
    "mov_cols  = movie.columns\n",
    "mov_data  = movie.values\n",
    "\n",
    "print(f\"This is the index:\\n {mov_index}\\n\")\n",
    "print(f\"This is the columns:\\n {mov_cols}\\n\")\n",
    "print(f\"This is the data:\\n {mov_data}\")"
   ]
  },
  {
   "cell_type": "markdown",
   "id": "0ed6410b",
   "metadata": {},
   "source": [
    "We can also check the type of each DataFrame component, using the method <b>type</b>. The name of the type is the word following the last dot of the output. \n",
    "\n",
    "Note that the values method returns a NumPy n-dimensional array: ndarray."
   ]
  },
  {
   "cell_type": "code",
   "execution_count": 3,
   "id": "bbf6ad56",
   "metadata": {},
   "outputs": [
    {
     "name": "stdout",
     "output_type": "stream",
     "text": [
      "mov_index type:\n",
      " <class 'pandas.core.indexes.range.RangeIndex'>\n",
      "\n",
      "mov_cols type:\n",
      " <class 'pandas.core.indexes.base.Index'>\n",
      "\n",
      "mov_data type:\n",
      " <class 'numpy.ndarray'>\n"
     ]
    }
   ],
   "source": [
    "import pandas as pd\n",
    "\n",
    "movie = pd.read_csv(\"movie.csv\")\n",
    "\n",
    "mov_index = movie.index\n",
    "mov_cols  = movie.columns\n",
    "mov_data  = movie.values\n",
    "\n",
    "print(f\"mov_index type:\\n {type(mov_index)}\\n\")\n",
    "print(f\"mov_cols type:\\n {type(mov_cols)}\\n\")\n",
    "print(f\"mov_data type:\\n {type(mov_data)}\")"
   ]
  },
  {
   "cell_type": "markdown",
   "id": "2c8904d8",
   "metadata": {},
   "source": [
    "Most of pandas relies heavily on the ndarray. This is a basic array used in the numpy library. They could be considered the base object for pandas that many other objects are built upon.\n",
    "\n",
    "The <b>values</b> method can convert the DataFrame into Numpy Array. "
   ]
  },
  {
   "cell_type": "code",
   "execution_count": 4,
   "id": "60d4902a",
   "metadata": {},
   "outputs": [
    {
     "name": "stdout",
     "output_type": "stream",
     "text": [
      "This is the index:\n",
      " [  0   1   2   3   4   5   6   7   8   9  10  11  12  13  14  15  16  17\n",
      "  18  19  20  21  22  23  24  25  26  27  28  29  30  31  32  33  34  35\n",
      "  36  37  38  39  40  41  42  43  44  45  46  47  48  49  50  51  52  53\n",
      "  54  55  56  57  58  59  60  61  62  63  64  65  66  67  68  69  70  71\n",
      "  72  73  74  75  76  77  78  79  80  81  82  83  84  85  86  87  88  89\n",
      "  90  91  92  93  94  95  96  97  98  99 100 101 102 103 104 105 106 107\n",
      " 108 109 110 111 112 113 114 115 116 117 118 119 120 121 122 123 124 125\n",
      " 126 127 128 129 130 131 132 133 134 135 136 137 138 139 140 141 142 143\n",
      " 144 145 146 147 148 149 150 151 152 153 154 155 156 157 158 159 160 161\n",
      " 162 163 164 165 166 167 168 169 170 171 172 173 174 175 176 177 178 179\n",
      " 180 181 182 183 184 185 186 187 188 189 190 191 192 193 194 195 196 197\n",
      " 198 199 200 201 202 203 204 205 206 207 208 209 210 211 212 213 214 215\n",
      " 216 217 218 219 220 221 222 223 224 225 226 227 228 229 230 231 232 233\n",
      " 234 235 236 237 238 239 240 241 242 243 244 245 246 247 248 249 250 251\n",
      " 252 253 254 255 256 257 258 259 260 261 262 263 264 265 266 267 268 269\n",
      " 270 271 272 273 274 275 276 277 278 279 280 281 282 283 284 285 286 287\n",
      " 288 289 290 291 292 293 294 295 296 297 298 299 300 301 302 303 304 305\n",
      " 306 307 308 309 310 311 312 313 314 315 316 317 318 319 320 321 322 323\n",
      " 324 325 326 327 328 329 330 331 332 333 334 335 336 337 338 339 340 341\n",
      " 342 343 344 345 346 347 348 349 350 351 352 353 354 355 356 357 358 359\n",
      " 360 361 362 363 364 365 366 367 368 369 370 371 372 373 374 375 376 377\n",
      " 378 379 380 381 382 383 384 385 386 387 388 389 390 391 392 393 394 395\n",
      " 396 397 398 399 400 401 402 403 404 405 406 407 408 409 410 411 412 413\n",
      " 414 415 416 417 418 419 420 421 422 423 424 425 426 427 428 429 430 431\n",
      " 432 433 434 435 436 437 438 439 440 441 442 443 444 445 446 447 448 449\n",
      " 450 451 452 453 454 455 456 457 458 459 460 461 462 463 464 465 466 467\n",
      " 468 469 470 471 472 473 474 475 476 477 478 479 480 481 482 483 484 485\n",
      " 486 487 488 489 490 491 492 493 494 495 496 497 498 499 500 501 502 503\n",
      " 504 505 506 507 508 509 510 511 512 513 514 515 516 517 518 519 520 521\n",
      " 522 523 524 525 526 527 528 529 530 531 532 533 534 535 536 537 538 539\n",
      " 540 541 542 543 544 545 546 547 548 549 550 551 552 553 554 555 556 557\n",
      " 558 559 560 561 562 563 564 565 566 567 568 569 570 571 572 573 574 575\n",
      " 576 577 578 579 580 581 582 583 584 585 586 587 588 589 590 591 592 593\n",
      " 594 595 596 597 598 599 600 601 602 603 604 605 606 607 608 609 610 611\n",
      " 612 613 614 615 616 617 618 619 620 621 622 623 624 625 626 627 628 629\n",
      " 630 631 632 633 634 635 636 637 638 639 640 641 642 643 644 645 646 647\n",
      " 648 649 650 651 652 653 654 655 656 657 658 659 660 661 662 663 664 665\n",
      " 666 667 668 669 670 671 672 673 674 675 676 677 678 679 680 681 682 683\n",
      " 684 685 686 687 688 689 690 691 692 693 694 695 696 697 698 699 700 701\n",
      " 702 703 704 705 706 707 708 709 710 711 712 713 714 715 716 717 718 719\n",
      " 720 721 722 723 724 725 726 727 728 729 730 731 732 733 734 735 736 737\n",
      " 738 739 740 741 742 743 744 745 746 747 748 749 750 751 752 753 754 755\n",
      " 756 757 758 759 760 761 762 763 764 765 766 767 768 769 770 771 772 773\n",
      " 774 775 776 777 778 779 780 781 782 783 784 785 786 787 788 789 790 791\n",
      " 792 793 794 795 796 797 798 799 800 801 802 803 804 805 806 807 808 809\n",
      " 810 811 812 813 814 815 816 817 818 819 820 821 822 823 824 825 826 827\n",
      " 828 829 830 831 832 833 834 835 836 837 838 839 840 841 842 843 844 845\n",
      " 846 847 848 849 850 851 852 853 854 855 856 857 858 859 860 861 862 863\n",
      " 864 865 866 867 868 869 870 871 872 873 874 875 876 877 878 879 880 881\n",
      " 882 883 884 885 886 887 888 889 890 891 892 893 894 895 896 897 898 899\n",
      " 900 901 902 903 904 905 906 907 908 909 910 911 912 913 914 915 916 917\n",
      " 918 919 920 921 922 923 924 925 926 927 928 929 930 931 932 933 934 935\n",
      " 936 937 938 939 940 941 942 943 944 945 946 947 948 949 950 951 952 953\n",
      " 954 955 956 957 958 959 960 961 962 963 964 965 966 967 968 969 970 971\n",
      " 972 973 974 975 976 977 978 979 980 981 982 983 984 985 986 987 988 989\n",
      " 990 991 992 993 994 995 996 997 998 999]\n",
      "\n",
      "This is the columns:\n",
      " ['color' 'director_name' 'num_critic_for_reviews' 'duration'\n",
      " 'director_fb_likes' 'actor_3_fb_likes' 'actor_2_name' 'actor_1_fb_likes'\n",
      " 'gross' 'genres' 'actor_1_name' 'movie_title' 'num_voted_users'\n",
      " 'cast_total_fb_likes' 'actor_3_name' 'facenumber_in_poster'\n",
      " 'plot_keywords' 'movie_imdb_link' 'num_user_for_reviews' 'language'\n",
      " 'country' 'content_rating' 'budget' 'title_year' 'actor_2_fb_likes'\n",
      " 'imdb_score' 'aspect_ratio' 'movie_fb_likes']\n",
      "\n",
      "This is the data:\n",
      " [['Color' 'James Cameron' 723.0 ... 7.9 1.78 33000]\n",
      " ['Color' 'Gore Verbinski' 302.0 ... 7.1 2.35 0]\n",
      " ['Color' 'Sam Mendes' 602.0 ... 6.8 2.35 85000]\n",
      " ...\n",
      " ['Color' 'John Carpenter' 104.0 ... 5.7 2.35 0]\n",
      " ['Color' nan 4.0 ... 7.5 16.0 915]\n",
      " ['Color' 'Brad Bird' 162.0 ... 8.0 2.35 0]]\n",
      "\n",
      "mov_index type:\n",
      " <class 'numpy.ndarray'>\n",
      "\n",
      "mov_cols type:\n",
      " <class 'numpy.ndarray'>\n",
      "\n",
      "mov_data type:\n",
      " <class 'numpy.ndarray'>\n"
     ]
    }
   ],
   "source": [
    "import pandas as pd\n",
    "\n",
    "movie = pd.read_csv(\"movie.csv\")\n",
    "\n",
    "mov_index = movie.index.values\n",
    "mov_cols  = movie.columns.values\n",
    "mov_data  = movie.values\n",
    "\n",
    "print(f\"This is the index:\\n {mov_index}\\n\")\n",
    "print(f\"This is the columns:\\n {mov_cols}\\n\")\n",
    "print(f\"This is the data:\\n {mov_data}\\n\")\n",
    "\n",
    "print(f\"mov_index type:\\n {type(mov_index)}\\n\")\n",
    "print(f\"mov_cols type:\\n {type(mov_cols)}\\n\")\n",
    "print(f\"mov_data type:\\n {type(mov_data)}\")"
   ]
  },
  {
   "cell_type": "markdown",
   "id": "9affbf44",
   "metadata": {},
   "source": [
    "The next first thing to do when we see a new data is to see how big it is. \n",
    "\n",
    "- shape:will return the number of row and column.\n",
    "- size:will give the number of entries (row x column)\n",
    "- ndim:will give the dimension of the data (it is 2 since a 2-dimensional table)\n",
    "- len:will give the number of rows"
   ]
  },
  {
   "cell_type": "code",
   "execution_count": 6,
   "id": "48f9b49b",
   "metadata": {},
   "outputs": [
    {
     "name": "stdout",
     "output_type": "stream",
     "text": [
      "(1000, 28)\n",
      "28000\n",
      "2\n",
      "1000\n"
     ]
    }
   ],
   "source": [
    "import pandas as pd\n",
    "\n",
    "movie = pd.read_csv(\"movie.csv\", engine='c')\n",
    "#'c' supports float_precision, while 'python' does not (or not necessary)\n",
    "print(movie.shape)\n",
    "\n",
    "print(movie.size)\n",
    "\n",
    "print(movie.ndim)\n",
    "\n",
    "print(len(movie))"
   ]
  },
  {
   "cell_type": "markdown",
   "id": "0ef09ca1",
   "metadata": {},
   "source": [
    "Read in the movie dataset, make the index meaningful by setting it as the movie title. The <b>rename</b> DataFrame method accepts dictionaries that map the old value to the new value.\n",
    "\n",
    "Pass the dictionaries to the rename method, and assign the result to a new variable."
   ]
  },
  {
   "cell_type": "code",
   "execution_count": 8,
   "id": "eddbc22f",
   "metadata": {
    "scrolled": true
   },
   "outputs": [
    {
     "name": "stdout",
     "output_type": "stream",
     "text": [
      "                              color      Director Name  \\\n",
      "movie_title                                              \n",
      "Avatar                        Color      James Cameron   \n",
      "Pirates of the Caribbean III  Color     Gore Verbinski   \n",
      "Spectre                       Color         Sam Mendes   \n",
      "The Dark Knight Rises         Color  Christopher Nolan   \n",
      "Star Wars VII                   NaN        Doug Walker   \n",
      "\n",
      "                              num_critic_for_reviews  duration  \\\n",
      "movie_title                                                      \n",
      "Avatar                                         723.0     178.0   \n",
      "Pirates of the Caribbean III                   302.0     169.0   \n",
      "Spectre                                        602.0     148.0   \n",
      "The Dark Knight Rises                          813.0     164.0   \n",
      "Star Wars VII                                    NaN       NaN   \n",
      "\n",
      "                              director_fb_likes  actor_3_fb_likes  \\\n",
      "movie_title                                                         \n",
      "Avatar                                      0.0             855.0   \n",
      "Pirates of the Caribbean III              563.0            1000.0   \n",
      "Spectre                                     0.0             161.0   \n",
      "The Dark Knight Rises                   22000.0           23000.0   \n",
      "Star Wars VII                             131.0               NaN   \n",
      "\n",
      "                                  actor_2_name  actor_1_fb_likes        gross  \\\n",
      "movie_title                                                                     \n",
      "Avatar                        Joel David Moore            1000.0  760505847.0   \n",
      "Pirates of the Caribbean III     Orlando Bloom           40000.0  309404152.0   \n",
      "Spectre                           Rory Kinnear           11000.0  200074175.0   \n",
      "The Dark Knight Rises           Christian Bale           27000.0  448130642.0   \n",
      "Star Wars VII                       Rob Walker             131.0          NaN   \n",
      "\n",
      "                                                       genres  ...  \\\n",
      "movie_title                                                    ...   \n",
      "Avatar                        Action|Adventure|Fantasy|Sci-Fi  ...   \n",
      "Pirates of the Caribbean III         Action|Adventure|Fantasy  ...   \n",
      "Spectre                             Action|Adventure|Thriller  ...   \n",
      "The Dark Knight Rises                         Action|Thriller  ...   \n",
      "Star Wars VII                                     Documentary  ...   \n",
      "\n",
      "                             num_user_for_reviews  language  country  \\\n",
      "movie_title                                                            \n",
      "Avatar                                     3054.0   English      USA   \n",
      "Pirates of the Caribbean III               1238.0   English      USA   \n",
      "Spectre                                     994.0   English       UK   \n",
      "The Dark Knight Rises                      2701.0   English      USA   \n",
      "Star Wars VII                                 NaN       NaN      NaN   \n",
      "\n",
      "                             content_rating       budget title_year  \\\n",
      "movie_title                                                           \n",
      "Avatar                                PG-13  237000000.0     2009.0   \n",
      "Pirates of the Caribbean III          PG-13  300000000.0     2007.0   \n",
      "Spectre                               PG-13  245000000.0     2015.0   \n",
      "The Dark Knight Rises                 PG-13  250000000.0     2012.0   \n",
      "Star Wars VII                           NaN          NaN        NaN   \n",
      "\n",
      "                             actor_2_fb_likes  imdb_score aspect_ratio  \\\n",
      "movie_title                                                              \n",
      "Avatar                                  936.0         7.9         1.78   \n",
      "Pirates of the Caribbean III           5000.0         7.1         2.35   \n",
      "Spectre                                 393.0         6.8         2.35   \n",
      "The Dark Knight Rises                 23000.0         8.5         2.35   \n",
      "Star Wars VII                            12.0         7.1          NaN   \n",
      "\n",
      "                             FB Likes (Movie)  \n",
      "movie_title                                    \n",
      "Avatar                                  33000  \n",
      "Pirates of the Caribbean III                0  \n",
      "Spectre                                 85000  \n",
      "The Dark Knight Rises                  164000  \n",
      "Star Wars VII                               0  \n",
      "\n",
      "[5 rows x 27 columns]\n"
     ]
    }
   ],
   "source": [
    "import pandas as pd\n",
    "\n",
    "movie = pd.read_csv(\"movie.csv\", index_col='movie_title')\n",
    "\n",
    "idx_new = {\"Pirates of the Caribbean: At World's End\": 'Pirates of the Caribbean III', \n",
    "          'Star Wars: Episode VII - The Force Awakens': 'Star Wars VII'}\n",
    "col_new = {'director_name': 'Director Name',\n",
    "           'movie_fb_likes': 'FB Likes (Movie)'}\n",
    "\n",
    "movie_renamed = movie.rename(index=idx_new,\n",
    "                            columns=col_new)\n",
    "\n",
    "print(movie_renamed.head(5))"
   ]
  },
  {
   "cell_type": "markdown",
   "id": "07dae754",
   "metadata": {},
   "source": [
    "The <b>rename</b> method is useful for renaming the labels of index or columns. Other than using dictionary, you can use the string str method like upper, lower, or title."
   ]
  },
  {
   "cell_type": "code",
   "execution_count": 9,
   "id": "c2cb8f5f",
   "metadata": {},
   "outputs": [
    {
     "name": "stdout",
     "output_type": "stream",
     "text": [
      "     COLOR      DIRECTOR_NAME  NUM_CRITIC_FOR_REVIEWS  DURATION  \\\n",
      "0    Color      James Cameron                   723.0     178.0   \n",
      "1    Color     Gore Verbinski                   302.0     169.0   \n",
      "2    Color         Sam Mendes                   602.0     148.0   \n",
      "3    Color  Christopher Nolan                   813.0     164.0   \n",
      "4      NaN        Doug Walker                     NaN       NaN   \n",
      "..     ...                ...                     ...       ...   \n",
      "995  Color     Clint Eastwood                   146.0     110.0   \n",
      "996  Color         Tom Tykwer                   245.0     118.0   \n",
      "997  Color     John Carpenter                   104.0     101.0   \n",
      "998  Color                NaN                     4.0      60.0   \n",
      "999  Color          Brad Bird                   162.0      90.0   \n",
      "\n",
      "     DIRECTOR_FB_LIKES  ACTOR_3_FB_LIKES       ACTOR_2_NAME  ACTOR_1_FB_LIKES  \\\n",
      "0                  0.0             855.0   Joel David Moore            1000.0   \n",
      "1                563.0            1000.0      Orlando Bloom           40000.0   \n",
      "2                  0.0             161.0       Rory Kinnear           11000.0   \n",
      "3              22000.0           23000.0     Christian Bale           27000.0   \n",
      "4                131.0               NaN         Rob Walker             131.0   \n",
      "..                 ...               ...                ...               ...   \n",
      "995            16000.0             581.0    Anjelica Huston           16000.0   \n",
      "996              670.0             294.0   Brían F. O'Byrne            6000.0   \n",
      "997                0.0             764.0     Valeria Golino           12000.0   \n",
      "998                NaN             398.0    Brittany Curran             629.0   \n",
      "999              663.0             521.0  Harry Connick Jr.           14000.0   \n",
      "\n",
      "           GROSS                                             GENRES  ...  \\\n",
      "0    760505847.0                    Action|Adventure|Fantasy|Sci-Fi  ...   \n",
      "1    309404152.0                           Action|Adventure|Fantasy  ...   \n",
      "2    200074175.0                          Action|Adventure|Thriller  ...   \n",
      "3    448130642.0                                    Action|Thriller  ...   \n",
      "4            NaN                                        Documentary  ...   \n",
      "..           ...                                                ...  ...   \n",
      "995   26199517.0                Action|Crime|Drama|Mystery|Thriller  ...   \n",
      "996   25450527.0                Action|Crime|Drama|Mystery|Thriller  ...   \n",
      "997   25407250.0                   Action|Adventure|Sci-Fi|Thriller  ...   \n",
      "998          NaN                             Drama|Mystery|Thriller  ...   \n",
      "999   23159305.0  Action|Adventure|Animation|Comedy|Drama|Family...  ...   \n",
      "\n",
      "    NUM_USER_FOR_REVIEWS LANGUAGE  PRODUCED_IN  CONTENT_RATING       BUDGET  \\\n",
      "0                 3054.0  English          USA           PG-13  237000000.0   \n",
      "1                 1238.0  English          USA           PG-13  300000000.0   \n",
      "2                  994.0  English           UK           PG-13  245000000.0   \n",
      "3                 2701.0  English          USA           PG-13  250000000.0   \n",
      "4                    NaN      NaN          NaN             NaN          NaN   \n",
      "..                   ...      ...          ...             ...          ...   \n",
      "995                260.0  English          USA               R   50000000.0   \n",
      "996                190.0  English          USA               R   50000000.0   \n",
      "997                227.0  English          USA               R   50000000.0   \n",
      "998                 22.0  English          USA             NaN          NaN   \n",
      "999                514.0  English          USA              PG   70000000.0   \n",
      "\n",
      "     TITLE_YEAR ACTOR_2_FB_LIKES IMDB_SCORE  ASPECT_RATIO MOVIE_FB_LIKES  \n",
      "0        2009.0            936.0        7.9          1.78          33000  \n",
      "1        2007.0           5000.0        7.1          2.35              0  \n",
      "2        2015.0            393.0        6.8          2.35          85000  \n",
      "3        2012.0          23000.0        8.5          2.35         164000  \n",
      "4           NaN             12.0        7.1           NaN              0  \n",
      "..          ...              ...        ...           ...            ...  \n",
      "995      2002.0           1000.0        6.4          2.35            705  \n",
      "996      2009.0            450.0        6.5          2.35              0  \n",
      "997      1996.0            898.0        5.7          2.35              0  \n",
      "998         NaN            512.0        7.5         16.00            915  \n",
      "999      1999.0            631.0        8.0          2.35              0  \n",
      "\n",
      "[1000 rows x 28 columns]\n"
     ]
    }
   ],
   "source": [
    "import pandas as pd\n",
    "\n",
    "movie = pd.read_csv(\"movie.csv\")\n",
    "\n",
    "# Renaming column with label \"country\" with \"produced_in\"\n",
    "movie = movie.rename(columns={\"country\":\"produced_in\"})\n",
    "\n",
    "# Renaming all columns label with uppercase\n",
    "movie = movie.rename(columns=str.upper)\n",
    "\n",
    "print(movie)\n"
   ]
  },
  {
   "cell_type": "markdown",
   "id": "9c1e4de0",
   "metadata": {},
   "source": [
    "### 1.2 Data Types Conversion"
   ]
  },
  {
   "cell_type": "markdown",
   "id": "5f6e4416",
   "metadata": {},
   "source": [
    "Pandas does not broadly classify data as either continuous or categorical. The following table contains all pandas data types, with their string equivalents, and some notes on each type:\n",
    "\n",
    "|Common data type name | Numpy/pandas object | Pandas string name|\n",
    "|:-:|:-:|:-:|\n",
    "|Boolean|np.bool|bool|\n",
    "|Integer|np.int|int|\n",
    "|Float|np.float|float|\n",
    "|Complex|np.complex|complex|\n",
    "|Object|np.object|O,object|\n",
    "|Datetime|np.datetime64|datetime64|\n",
    "|Timedelta|np.timedelta64|timedelta64|\n",
    "|Categorical|pd.Categorical|category|"
   ]
  },
  {
   "cell_type": "markdown",
   "id": "31bf924c",
   "metadata": {},
   "source": [
    "To convert numerical to categorical, the <b>astype</b> method can be used. This method can cast a pandas object to a specified dtype."
   ]
  },
  {
   "cell_type": "code",
   "execution_count": 12,
   "id": "80a93bb9",
   "metadata": {},
   "outputs": [
    {
     "name": "stdout",
     "output_type": "stream",
     "text": [
      "color                      object\n",
      "director_name              object\n",
      "num_critic_for_reviews    float64\n",
      "duration                  float64\n",
      "director_fb_likes         float64\n",
      "actor_3_fb_likes          float64\n",
      "actor_2_name               object\n",
      "actor_1_fb_likes          float64\n",
      "gross                     float64\n",
      "genres                     object\n",
      "actor_1_name               object\n",
      "movie_title                object\n",
      "num_voted_users             int64\n",
      "cast_total_fb_likes         int64\n",
      "actor_3_name               object\n",
      "facenumber_in_poster      float64\n",
      "plot_keywords              object\n",
      "movie_imdb_link            object\n",
      "num_user_for_reviews      float64\n",
      "language                   object\n",
      "country                    object\n",
      "content_rating             object\n",
      "budget                    float64\n",
      "title_year                float64\n",
      "actor_2_fb_likes          float64\n",
      "imdb_score                float64\n",
      "aspect_ratio              float64\n",
      "movie_fb_likes              int64\n",
      "dtype: object\n",
      "0      0.0\n",
      "1      0.0\n",
      "2      1.0\n",
      "3      0.0\n",
      "4      0.0\n",
      "      ... \n",
      "995    1.0\n",
      "996    0.0\n",
      "997    0.0\n",
      "998    2.0\n",
      "999    1.0\n",
      "Name: facenumber_in_poster, Length: 1000, dtype: object\n",
      "color                      object\n",
      "director_name              object\n",
      "num_critic_for_reviews    float64\n",
      "duration                  float64\n",
      "director_fb_likes         float64\n",
      "actor_3_fb_likes          float64\n",
      "actor_2_name               object\n",
      "actor_1_fb_likes          float64\n",
      "gross                     float64\n",
      "genres                     object\n",
      "actor_1_name               object\n",
      "movie_title                object\n",
      "num_voted_users             int64\n",
      "cast_total_fb_likes         int64\n",
      "actor_3_name               object\n",
      "facenumber_in_poster      float64\n",
      "plot_keywords              object\n",
      "movie_imdb_link            object\n",
      "num_user_for_reviews      float64\n",
      "language                   object\n",
      "country                    object\n",
      "content_rating             object\n",
      "budget                    float64\n",
      "title_year                float64\n",
      "actor_2_fb_likes          float64\n",
      "imdb_score                float64\n",
      "aspect_ratio              float64\n",
      "movie_fb_likes              int64\n",
      "dtype: object\n"
     ]
    }
   ],
   "source": [
    "#Note that the column facenumber_in_posters only consists of integer \n",
    "#but pandas read it as float64. This is because the column has some \n",
    "#missing values.\n",
    "#Column with missing values cannot be directly converted to integer.\n",
    "import pandas as pd\n",
    "\n",
    "movie = pd.read_csv(\"movie.csv\")\n",
    "\n",
    "print(movie.dtypes)\n",
    "\n",
    "facenumber = movie['facenumber_in_poster']\n",
    "print(facenumber.astype('object'))\n",
    "\n",
    "print(movie.dtypes)"
   ]
  },
  {
   "cell_type": "markdown",
   "id": "74909c81",
   "metadata": {},
   "source": [
    "To convert categorical to numerical, the <b>get_dummies</b> method can be used. It will convert the categorical column into a 0-1 columns called dummy variables. "
   ]
  },
  {
   "cell_type": "code",
   "execution_count": 13,
   "id": "dc34cc65",
   "metadata": {
    "scrolled": true
   },
   "outputs": [
    {
     "name": "stdout",
     "output_type": "stream",
     "text": [
      "0      USA\n",
      "1      USA\n",
      "2       UK\n",
      "3      USA\n",
      "4      NaN\n",
      "      ... \n",
      "995    USA\n",
      "996    USA\n",
      "997    USA\n",
      "998    USA\n",
      "999    USA\n",
      "Name: country, Length: 1000, dtype: object\n",
      "     Australia  Belgium  Canada  China  France  Germany  Hong Kong  Japan  \\\n",
      "0            0        0       0      0       0        0          0      0   \n",
      "1            0        0       0      0       0        0          0      0   \n",
      "2            0        0       0      0       0        0          0      0   \n",
      "3            0        0       0      0       0        0          0      0   \n",
      "4            0        0       0      0       0        0          0      0   \n",
      "..         ...      ...     ...    ...     ...      ...        ...    ...   \n",
      "995          0        0       0      0       0        0          0      0   \n",
      "996          0        0       0      0       0        0          0      0   \n",
      "997          0        0       0      0       0        0          0      0   \n",
      "998          0        0       0      0       0        0          0      0   \n",
      "999          0        0       0      0       0        0          0      0   \n",
      "\n",
      "     Mexico  New Line  New Zealand  Spain  UK  USA  \n",
      "0         0         0            0      0   0    1  \n",
      "1         0         0            0      0   0    1  \n",
      "2         0         0            0      0   1    0  \n",
      "3         0         0            0      0   0    1  \n",
      "4         0         0            0      0   0    0  \n",
      "..      ...       ...          ...    ...  ..  ...  \n",
      "995       0         0            0      0   0    1  \n",
      "996       0         0            0      0   0    1  \n",
      "997       0         0            0      0   0    1  \n",
      "998       0         0            0      0   0    1  \n",
      "999       0         0            0      0   0    1  \n",
      "\n",
      "[1000 rows x 14 columns]\n"
     ]
    }
   ],
   "source": [
    "import pandas as pd\n",
    "\n",
    "movie = pd.read_csv(\"movie.csv\")\n",
    "\n",
    "print(movie['country'])\n",
    "\n",
    "country_dummies = pd.get_dummies(movie['country'])\n",
    "\n",
    "print(country_dummies)"
   ]
  },
  {
   "cell_type": "markdown",
   "id": "e063427f",
   "metadata": {},
   "source": [
    "### 1.3 Rows Selection"
   ]
  },
  {
   "cell_type": "markdown",
   "id": "6a395b4d",
   "metadata": {},
   "source": [
    "Let's read in the college dataset with the institution name as the index, and select a single column as a Series with the indexing operator.\n",
    "\n",
    "The <b>.iloc</b> indexer makes selections only by integer location. Passing an integer to it returns a scalar value.\n",
    "\n",
    "To select several different integer locations, pass a list to .iloc. This returns a Series.\n",
    "\n",
    "To select an equally spaced partition of data, use slice notation."
   ]
  },
  {
   "cell_type": "code",
   "execution_count": 14,
   "id": "2e0a6d99",
   "metadata": {
    "scrolled": true
   },
   "outputs": [
    {
     "name": "stdout",
     "output_type": "stream",
     "text": [
      "INSTNM\n",
      "Alabama A & M Univ.                   Normal\n",
      "Univ. of Alabama at Birmingham    Birmingham\n",
      "Amridge Univ.                     Montgomery\n",
      "Univ. of Alabama in Huntsville    Huntsville\n",
      "Alabama State Univ.               Montgomery\n",
      "Name: CITY, dtype: object\n",
      "\n",
      "city with index 3:\n",
      "Huntsville\n",
      "\n",
      "City with index 10, 20, and 30:\n",
      "INSTNM\n",
      "Birmingham Southern College                        Birmingham\n",
      "George C Wallace State Comm. College-Hanceville    Hanceville\n",
      "Judson College                                         Marion\n",
      "Name: CITY, dtype: object\n",
      "\n",
      "City with index 4 to 49, spaced every 10 city:\n",
      "INSTNM\n",
      "Alabama State Univ.               Montgomery\n",
      "Enterprise State Comm. College    Enterprise\n",
      "Heritage Christian Univ.            Florence\n",
      "Marion Military Institute             Marion\n",
      "Reid State Technical College       Evergreen\n",
      "Name: CITY, dtype: object\n"
     ]
    }
   ],
   "source": [
    "import pandas as pd\n",
    "\n",
    "college = pd.read_csv(\"college.csv\",\n",
    "                      index_col='INSTNM')\n",
    "city = college['CITY']\n",
    "\n",
    "print(city.head())\n",
    "\n",
    "print(\"\\ncity with index 3:\")\n",
    "print(city.iloc[3])\n",
    "\n",
    "print(\"\\nCity with index 10, 20, and 30:\")\n",
    "print(city.iloc[[10, 20, 30]])\n",
    "\n",
    "print(\"\\nCity with index 4 to 49, spaced every 10 city:\")\n",
    "print(city.iloc[4:50:10])"
   ]
  },
  {
   "cell_type": "markdown",
   "id": "51f92a82",
   "metadata": {},
   "source": [
    "Unlike <b>.iloc</b>, the method <b>.loc</b> selects only with index's name or labels.\n",
    "\n",
    "- Passing a single string returns a scalar value.\n",
    "- To select several disjoint labels, use a list.\n",
    "- To select an equally spaced partition, use slice notation. Make sure that the start and stop values are strings. You can use an integer to specify the step size of the slice."
   ]
  },
  {
   "cell_type": "code",
   "execution_count": 15,
   "id": "33d21b2b",
   "metadata": {},
   "outputs": [
    {
     "name": "stdout",
     "output_type": "stream",
     "text": [
      "INSTNM\n",
      "Alabama A & M Univ.                   Normal\n",
      "Univ. of Alabama at Birmingham    Birmingham\n",
      "Amridge Univ.                     Montgomery\n",
      "Univ. of Alabama in Huntsville    Huntsville\n",
      "Alabama State Univ.               Montgomery\n",
      "Name: CITY, dtype: object\n",
      "\n",
      "City with index 'Miami Dade College':\n",
      "Miami\n",
      "\n",
      "City with index in college_list:\n",
      "INSTNM\n",
      "Traviss Career Center      Lakeland\n",
      "Academy of Palm Beach    Lake Worth\n",
      "Stone Academy-Hamden     West Haven\n",
      "Name: CITY, dtype: object\n",
      "\n",
      "City from index 'Huntingdon College' to 'Reedly College', spaced every 20 items:\n",
      "INSTNM\n",
      "Huntingdon College                                        Montgomery\n",
      "Prince Institute-Southeast                                  Elmhurst\n",
      "Univ. of Alaska Southeast                                     Juneau\n",
      "Arizona Western College                                         Yuma\n",
      "ITT Technical Institute-Tempe                                  Tempe\n",
      "Tucson College                                                Tucson\n",
      "Arthur's Beauty College Inc-Jacksonville                Jacksonville\n",
      "Career Academy of Hair Design                             Springdale\n",
      "Paul Mitchell the School-Arkansas                       Fayetteville\n",
      "American Career College-Los Angeles                      Los Angeles\n",
      "California Baptist Univ.                                   Riverside\n",
      "Univ. of California-Berkeley                                Berkeley\n",
      "Casa Loma College-Van Nuys                                  Van Nuys\n",
      "Claremont McKenna College                                  Claremont\n",
      "Dell'Arte International School of Physical Theatre         Blue Lake\n",
      "Fielding Graduate Univ.                                Santa Barbara\n",
      "Heald College-Rancho Cordova                          Rancho Cordova\n",
      "American Jewish Univ.                                    Los Angeles\n",
      "Name: CITY, dtype: object\n"
     ]
    }
   ],
   "source": [
    "import pandas as pd\n",
    "\n",
    "college = pd.read_csv(\"college.csv\",\n",
    "                      index_col='INSTNM')\n",
    "city = college['CITY']\n",
    "\n",
    "print(city.head())\n",
    "\n",
    "print(\"\\nCity with index 'Miami Dade College':\")\n",
    "print(city.loc['Miami Dade College'])\n",
    "\n",
    "college_list = ['Traviss Career Center',\n",
    "                'Academy of Palm Beach',\n",
    "                'Stone Academy-Hamden']\n",
    "print(\"\\nCity with index in college_list:\")\n",
    "print(city.loc[college_list])\n",
    "\n",
    "print(\"\\nCity from index 'Huntingdon College' to 'Reedly College', spaced every 20 items:\")\n",
    "print(city.loc['Huntingdon College':'Reedley College':20])"
   ]
  },
  {
   "cell_type": "markdown",
   "id": "c4eaf03e",
   "metadata": {},
   "source": [
    "Here, we will see how to do the same thing with the two indexers, <b>.iloc</b> and <b>.loc</b>. Notice the difference."
   ]
  },
  {
   "cell_type": "code",
   "execution_count": 16,
   "id": "a7079e98",
   "metadata": {},
   "outputs": [
    {
     "name": "stdout",
     "output_type": "stream",
     "text": [
      "                                      CITY STABBR  HBCU  MENONLY  WOMENONLY  \\\n",
      "INSTNM                                                                        \n",
      "Alabama A & M Univ.                 Normal     AL   1.0      0.0        0.0   \n",
      "Univ. of Alabama at Birmingham  Birmingham     AL   0.0      0.0        0.0   \n",
      "Amridge Univ.                   Montgomery     AL   0.0      0.0        0.0   \n",
      "Univ. of Alabama in Huntsville  Huntsville     AL   0.0      0.0        0.0   \n",
      "Alabama State Univ.             Montgomery     AL   1.0      0.0        0.0   \n",
      "\n",
      "                                RELAFFIL  SATVRMID  SATMTMID  DISTANCEONLY  \\\n",
      "INSTNM                                                                       \n",
      "Alabama A & M Univ.                    0     424.0     420.0           0.0   \n",
      "Univ. of Alabama at Birmingham         0     570.0     565.0           0.0   \n",
      "Amridge Univ.                          1       NaN       NaN           1.0   \n",
      "Univ. of Alabama in Huntsville         0     595.0     590.0           0.0   \n",
      "Alabama State Univ.                    0     425.0     430.0           0.0   \n",
      "\n",
      "                                   UGDS  ...  UGDS_2MOR  UGDS_NRA  UGDS_UNKN  \\\n",
      "INSTNM                                   ...                                   \n",
      "Alabama A & M Univ.              4206.0  ...     0.0000    0.0059     0.0138   \n",
      "Univ. of Alabama at Birmingham  11383.0  ...     0.0368    0.0179     0.0100   \n",
      "Amridge Univ.                     291.0  ...     0.0000    0.0000     0.2715   \n",
      "Univ. of Alabama in Huntsville   5451.0  ...     0.0172    0.0332     0.0350   \n",
      "Alabama State Univ.              4811.0  ...     0.0098    0.0243     0.0137   \n",
      "\n",
      "                                PPTUG_EF  CURROPER  PCTPELL  PCTFLOAN  \\\n",
      "INSTNM                                                                  \n",
      "Alabama A & M Univ.               0.0656         1   0.7356    0.8284   \n",
      "Univ. of Alabama at Birmingham    0.2607         1   0.3460    0.5214   \n",
      "Amridge Univ.                     0.4536         1   0.6801    0.7795   \n",
      "Univ. of Alabama in Huntsville    0.2146         1   0.3072    0.4596   \n",
      "Alabama State Univ.               0.0892         1   0.7347    0.7554   \n",
      "\n",
      "                                UG25ABV  MD_EARN_WNE_P10  GRAD_DEBT_MDN_SUPP  \n",
      "INSTNM                                                                        \n",
      "Alabama A & M Univ.              0.1049            30300               33888  \n",
      "Univ. of Alabama at Birmingham   0.2422            39700             21941.5  \n",
      "Amridge Univ.                    0.8540            40100               23370  \n",
      "Univ. of Alabama in Huntsville   0.2640            45500               24097  \n",
      "Alabama State Univ.              0.1270            26600             33118.5  \n",
      "\n",
      "[5 rows x 26 columns]\n",
      "\n",
      "Data on row with index 60:\n",
      "CITY                  Anchorage\n",
      "STABBR                       AK\n",
      "HBCU                        0.0\n",
      "MENONLY                     0.0\n",
      "WOMENONLY                   0.0\n",
      "RELAFFIL                      0\n",
      "SATVRMID                    NaN\n",
      "SATMTMID                    NaN\n",
      "DISTANCEONLY                0.0\n",
      "UGDS                    12865.0\n",
      "UGDS_WHITE               0.5747\n",
      "UGDS_BLACK               0.0358\n",
      "UGDS_HISP                0.0761\n",
      "UGDS_ASIAN               0.0778\n",
      "UGDS_AIAN                0.0653\n",
      "UGDS_NHPI                0.0086\n",
      "UGDS_2MOR                 0.098\n",
      "UGDS_NRA                 0.0181\n",
      "UGDS_UNKN                0.0457\n",
      "PPTUG_EF                 0.4539\n",
      "CURROPER                      1\n",
      "PCTPELL                  0.2385\n",
      "PCTFLOAN                 0.2647\n",
      "UG25ABV                  0.4386\n",
      "MD_EARN_WNE_P10           42500\n",
      "GRAD_DEBT_MDN_SUPP      19449.5\n",
      "Name: Univ. of Alaska Anchorage, dtype: object\n",
      "\n",
      "Data on row with index 'Univ. of Alaska Anchorage':\n",
      "CITY                  Anchorage\n",
      "STABBR                       AK\n",
      "HBCU                        0.0\n",
      "MENONLY                     0.0\n",
      "WOMENONLY                   0.0\n",
      "RELAFFIL                      0\n",
      "SATVRMID                    NaN\n",
      "SATMTMID                    NaN\n",
      "DISTANCEONLY                0.0\n",
      "UGDS                    12865.0\n",
      "UGDS_WHITE               0.5747\n",
      "UGDS_BLACK               0.0358\n",
      "UGDS_HISP                0.0761\n",
      "UGDS_ASIAN               0.0778\n",
      "UGDS_AIAN                0.0653\n",
      "UGDS_NHPI                0.0086\n",
      "UGDS_2MOR                 0.098\n",
      "UGDS_NRA                 0.0181\n",
      "UGDS_UNKN                0.0457\n",
      "PPTUG_EF                 0.4539\n",
      "CURROPER                      1\n",
      "PCTPELL                  0.2385\n",
      "PCTFLOAN                 0.2647\n",
      "UG25ABV                  0.4386\n",
      "MD_EARN_WNE_P10           42500\n",
      "GRAD_DEBT_MDN_SUPP      19449.5\n",
      "Name: Univ. of Alaska Anchorage, dtype: object\n"
     ]
    }
   ],
   "source": [
    "import pandas as pd\n",
    "\n",
    "college = pd.read_csv(\"college.csv\",\n",
    "                      index_col='INSTNM')\n",
    "\n",
    "print(college.head())\n",
    "\n",
    "print(\"\\nData on row with index 60:\")\n",
    "print(college.iloc[60])\n",
    "\n",
    "print(\"\\nData on row with index 'Univ. of Alaska Anchorage':\")\n",
    "print(college.loc['Univ. of Alaska Anchorage'])"
   ]
  },
  {
   "cell_type": "markdown",
   "id": "cf8543cc",
   "metadata": {},
   "source": [
    "To select a disjointed set of rows as a DataFrame, pass a list of integers to the <b>.iloc</b> indexer.\n",
    "\n",
    "The same DataFrame may be reproduced using <b>.loc</b> by passing it a list of the exact institution names."
   ]
  },
  {
   "cell_type": "code",
   "execution_count": 17,
   "id": "7b982130",
   "metadata": {},
   "outputs": [
    {
     "name": "stdout",
     "output_type": "stream",
     "text": [
      "                                      CITY STABBR  HBCU  MENONLY  WOMENONLY  \\\n",
      "INSTNM                                                                        \n",
      "Alabama A & M Univ.                 Normal     AL   1.0      0.0        0.0   \n",
      "Univ. of Alabama at Birmingham  Birmingham     AL   0.0      0.0        0.0   \n",
      "Amridge Univ.                   Montgomery     AL   0.0      0.0        0.0   \n",
      "Univ. of Alabama in Huntsville  Huntsville     AL   0.0      0.0        0.0   \n",
      "Alabama State Univ.             Montgomery     AL   1.0      0.0        0.0   \n",
      "\n",
      "                                RELAFFIL  SATVRMID  SATMTMID  DISTANCEONLY  \\\n",
      "INSTNM                                                                       \n",
      "Alabama A & M Univ.                    0     424.0     420.0           0.0   \n",
      "Univ. of Alabama at Birmingham         0     570.0     565.0           0.0   \n",
      "Amridge Univ.                          1       NaN       NaN           1.0   \n",
      "Univ. of Alabama in Huntsville         0     595.0     590.0           0.0   \n",
      "Alabama State Univ.                    0     425.0     430.0           0.0   \n",
      "\n",
      "                                   UGDS  ...  UGDS_2MOR  UGDS_NRA  UGDS_UNKN  \\\n",
      "INSTNM                                   ...                                   \n",
      "Alabama A & M Univ.              4206.0  ...     0.0000    0.0059     0.0138   \n",
      "Univ. of Alabama at Birmingham  11383.0  ...     0.0368    0.0179     0.0100   \n",
      "Amridge Univ.                     291.0  ...     0.0000    0.0000     0.2715   \n",
      "Univ. of Alabama in Huntsville   5451.0  ...     0.0172    0.0332     0.0350   \n",
      "Alabama State Univ.              4811.0  ...     0.0098    0.0243     0.0137   \n",
      "\n",
      "                                PPTUG_EF  CURROPER  PCTPELL  PCTFLOAN  \\\n",
      "INSTNM                                                                  \n",
      "Alabama A & M Univ.               0.0656         1   0.7356    0.8284   \n",
      "Univ. of Alabama at Birmingham    0.2607         1   0.3460    0.5214   \n",
      "Amridge Univ.                     0.4536         1   0.6801    0.7795   \n",
      "Univ. of Alabama in Huntsville    0.2146         1   0.3072    0.4596   \n",
      "Alabama State Univ.               0.0892         1   0.7347    0.7554   \n",
      "\n",
      "                                UG25ABV  MD_EARN_WNE_P10  GRAD_DEBT_MDN_SUPP  \n",
      "INSTNM                                                                        \n",
      "Alabama A & M Univ.              0.1049            30300               33888  \n",
      "Univ. of Alabama at Birmingham   0.2422            39700             21941.5  \n",
      "Amridge Univ.                    0.8540            40100               23370  \n",
      "Univ. of Alabama in Huntsville   0.2640            45500               24097  \n",
      "Alabama State Univ.              0.1270            26600             33118.5  \n",
      "\n",
      "[5 rows x 26 columns]\n",
      "\n",
      "Data on rows with index 60, 99, 3:\n",
      "                                            CITY STABBR  HBCU  MENONLY  \\\n",
      "INSTNM                                                                   \n",
      "Univ. of Alaska Anchorage              Anchorage     AK   0.0      0.0   \n",
      "International Academy of Hair Design       Tempe     AZ   0.0      0.0   \n",
      "Univ. of Alabama in Huntsville        Huntsville     AL   0.0      0.0   \n",
      "\n",
      "                                      WOMENONLY  RELAFFIL  SATVRMID  SATMTMID  \\\n",
      "INSTNM                                                                          \n",
      "Univ. of Alaska Anchorage                   0.0         0       NaN       NaN   \n",
      "International Academy of Hair Design        0.0         0       NaN       NaN   \n",
      "Univ. of Alabama in Huntsville              0.0         0     595.0     590.0   \n",
      "\n",
      "                                      DISTANCEONLY     UGDS  ...  UGDS_2MOR  \\\n",
      "INSTNM                                                       ...              \n",
      "Univ. of Alaska Anchorage                      0.0  12865.0  ...     0.0980   \n",
      "International Academy of Hair Design           0.0    188.0  ...     0.0160   \n",
      "Univ. of Alabama in Huntsville                 0.0   5451.0  ...     0.0172   \n",
      "\n",
      "                                      UGDS_NRA  UGDS_UNKN  PPTUG_EF  CURROPER  \\\n",
      "INSTNM                                                                          \n",
      "Univ. of Alaska Anchorage               0.0181     0.0457    0.4539         1   \n",
      "International Academy of Hair Design    0.0000     0.0638    0.0000         0   \n",
      "Univ. of Alabama in Huntsville          0.0332     0.0350    0.2146         1   \n",
      "\n",
      "                                      PCTPELL  PCTFLOAN  UG25ABV  \\\n",
      "INSTNM                                                             \n",
      "Univ. of Alaska Anchorage              0.2385    0.2647   0.4386   \n",
      "International Academy of Hair Design   0.7185    0.7346   0.3905   \n",
      "Univ. of Alabama in Huntsville         0.3072    0.4596   0.2640   \n",
      "\n",
      "                                      MD_EARN_WNE_P10  GRAD_DEBT_MDN_SUPP  \n",
      "INSTNM                                                                     \n",
      "Univ. of Alaska Anchorage                       42500             19449.5  \n",
      "International Academy of Hair Design            22200               10556  \n",
      "Univ. of Alabama in Huntsville                  45500               24097  \n",
      "\n",
      "[3 rows x 26 columns]\n",
      "\n",
      "Data on row with in college_list:\n",
      "                                            CITY STABBR  HBCU  MENONLY  \\\n",
      "INSTNM                                                                   \n",
      "Univ. of Alaska Anchorage              Anchorage     AK   0.0      0.0   \n",
      "International Academy of Hair Design       Tempe     AZ   0.0      0.0   \n",
      "Univ. of Alabama in Huntsville        Huntsville     AL   0.0      0.0   \n",
      "\n",
      "                                      WOMENONLY  RELAFFIL  SATVRMID  SATMTMID  \\\n",
      "INSTNM                                                                          \n",
      "Univ. of Alaska Anchorage                   0.0         0       NaN       NaN   \n",
      "International Academy of Hair Design        0.0         0       NaN       NaN   \n",
      "Univ. of Alabama in Huntsville              0.0         0     595.0     590.0   \n",
      "\n",
      "                                      DISTANCEONLY     UGDS  ...  UGDS_2MOR  \\\n",
      "INSTNM                                                       ...              \n",
      "Univ. of Alaska Anchorage                      0.0  12865.0  ...     0.0980   \n",
      "International Academy of Hair Design           0.0    188.0  ...     0.0160   \n",
      "Univ. of Alabama in Huntsville                 0.0   5451.0  ...     0.0172   \n",
      "\n",
      "                                      UGDS_NRA  UGDS_UNKN  PPTUG_EF  CURROPER  \\\n",
      "INSTNM                                                                          \n",
      "Univ. of Alaska Anchorage               0.0181     0.0457    0.4539         1   \n",
      "International Academy of Hair Design    0.0000     0.0638    0.0000         0   \n",
      "Univ. of Alabama in Huntsville          0.0332     0.0350    0.2146         1   \n",
      "\n",
      "                                      PCTPELL  PCTFLOAN  UG25ABV  \\\n",
      "INSTNM                                                             \n",
      "Univ. of Alaska Anchorage              0.2385    0.2647   0.4386   \n",
      "International Academy of Hair Design   0.7185    0.7346   0.3905   \n",
      "Univ. of Alabama in Huntsville         0.3072    0.4596   0.2640   \n",
      "\n",
      "                                      MD_EARN_WNE_P10  GRAD_DEBT_MDN_SUPP  \n",
      "INSTNM                                                                     \n",
      "Univ. of Alaska Anchorage                       42500             19449.5  \n",
      "International Academy of Hair Design            22200               10556  \n",
      "Univ. of Alabama in Huntsville                  45500               24097  \n",
      "\n",
      "[3 rows x 26 columns]\n"
     ]
    }
   ],
   "source": [
    "import pandas as pd\n",
    "\n",
    "college = pd.read_csv(\"college.csv\",\n",
    "                      index_col='INSTNM')\n",
    "\n",
    "print(college.head())\n",
    "\n",
    "print(\"\\nData on rows with index 60, 99, 3:\")\n",
    "print(college.iloc[[60,99,3]])\n",
    "#The list of index labels can be selected directly from the DataFrame\n",
    "#returned without the need for copying and pasting:\n",
    "#college.iloc[[60,99,3]].index.tolist()\n",
    "\n",
    "college_list =  ['Univ. of Alaska Anchorage', \n",
    "                 'International Academy of Hair Design', \n",
    "                 'Univ. of Alabama in Huntsville']\n",
    "print(\"\\nData on row with in college_list:\")\n",
    "print(college.loc[college_list])"
   ]
  },
  {
   "cell_type": "markdown",
   "id": "5606a9be",
   "metadata": {},
   "source": [
    "The slice notation can be used with <b>.iloc</b> to select an entire segment of the data.\n",
    "\n",
    "Slice notation also works with the <b>.loc</b> indexer and is inclusive of the last label."
   ]
  },
  {
   "cell_type": "code",
   "execution_count": 18,
   "id": "9a380345",
   "metadata": {},
   "outputs": [
    {
     "name": "stdout",
     "output_type": "stream",
     "text": [
      "                                      CITY STABBR  HBCU  MENONLY  WOMENONLY  \\\n",
      "INSTNM                                                                        \n",
      "Alabama A & M Univ.                 Normal     AL   1.0      0.0        0.0   \n",
      "Univ. of Alabama at Birmingham  Birmingham     AL   0.0      0.0        0.0   \n",
      "Amridge Univ.                   Montgomery     AL   0.0      0.0        0.0   \n",
      "Univ. of Alabama in Huntsville  Huntsville     AL   0.0      0.0        0.0   \n",
      "Alabama State Univ.             Montgomery     AL   1.0      0.0        0.0   \n",
      "\n",
      "                                RELAFFIL  SATVRMID  SATMTMID  DISTANCEONLY  \\\n",
      "INSTNM                                                                       \n",
      "Alabama A & M Univ.                    0     424.0     420.0           0.0   \n",
      "Univ. of Alabama at Birmingham         0     570.0     565.0           0.0   \n",
      "Amridge Univ.                          1       NaN       NaN           1.0   \n",
      "Univ. of Alabama in Huntsville         0     595.0     590.0           0.0   \n",
      "Alabama State Univ.                    0     425.0     430.0           0.0   \n",
      "\n",
      "                                   UGDS  ...  UGDS_2MOR  UGDS_NRA  UGDS_UNKN  \\\n",
      "INSTNM                                   ...                                   \n",
      "Alabama A & M Univ.              4206.0  ...     0.0000    0.0059     0.0138   \n",
      "Univ. of Alabama at Birmingham  11383.0  ...     0.0368    0.0179     0.0100   \n",
      "Amridge Univ.                     291.0  ...     0.0000    0.0000     0.2715   \n",
      "Univ. of Alabama in Huntsville   5451.0  ...     0.0172    0.0332     0.0350   \n",
      "Alabama State Univ.              4811.0  ...     0.0098    0.0243     0.0137   \n",
      "\n",
      "                                PPTUG_EF  CURROPER  PCTPELL  PCTFLOAN  \\\n",
      "INSTNM                                                                  \n",
      "Alabama A & M Univ.               0.0656         1   0.7356    0.8284   \n",
      "Univ. of Alabama at Birmingham    0.2607         1   0.3460    0.5214   \n",
      "Amridge Univ.                     0.4536         1   0.6801    0.7795   \n",
      "Univ. of Alabama in Huntsville    0.2146         1   0.3072    0.4596   \n",
      "Alabama State Univ.               0.0892         1   0.7347    0.7554   \n",
      "\n",
      "                                UG25ABV  MD_EARN_WNE_P10  GRAD_DEBT_MDN_SUPP  \n",
      "INSTNM                                                                        \n",
      "Alabama A & M Univ.              0.1049            30300               33888  \n",
      "Univ. of Alabama at Birmingham   0.2422            39700             21941.5  \n",
      "Amridge Univ.                    0.8540            40100               23370  \n",
      "Univ. of Alabama in Huntsville   0.2640            45500               24097  \n",
      "Alabama State Univ.              0.1270            26600             33118.5  \n",
      "\n",
      "[5 rows x 26 columns]\n",
      "\n",
      "Data on rows from index 99 to 102:\n",
      "                                         CITY STABBR  HBCU  MENONLY  \\\n",
      "INSTNM                                                                \n",
      "International Academy of Hair Design    Tempe     AZ   0.0      0.0   \n",
      "GateWay Comm. College                 Phoenix     AZ   0.0      0.0   \n",
      "Mesa Comm. College                       Mesa     AZ   0.0      0.0   \n",
      "\n",
      "                                      WOMENONLY  RELAFFIL  SATVRMID  SATMTMID  \\\n",
      "INSTNM                                                                          \n",
      "International Academy of Hair Design        0.0         0       NaN       NaN   \n",
      "GateWay Comm. College                       0.0         0       NaN       NaN   \n",
      "Mesa Comm. College                          0.0         0       NaN       NaN   \n",
      "\n",
      "                                      DISTANCEONLY     UGDS  ...  UGDS_2MOR  \\\n",
      "INSTNM                                                       ...              \n",
      "International Academy of Hair Design           0.0    188.0  ...     0.0160   \n",
      "GateWay Comm. College                          0.0   5211.0  ...     0.0127   \n",
      "Mesa Comm. College                             0.0  19055.0  ...     0.0205   \n",
      "\n",
      "                                      UGDS_NRA  UGDS_UNKN  PPTUG_EF  CURROPER  \\\n",
      "INSTNM                                                                          \n",
      "International Academy of Hair Design    0.0000     0.0638    0.0000         0   \n",
      "GateWay Comm. College                   0.0161     0.0702    0.7465         1   \n",
      "Mesa Comm. College                      0.0257     0.0682    0.6457         1   \n",
      "\n",
      "                                      PCTPELL  PCTFLOAN  UG25ABV  \\\n",
      "INSTNM                                                             \n",
      "International Academy of Hair Design   0.7185    0.7346   0.3905   \n",
      "GateWay Comm. College                  0.3270    0.2189   0.5832   \n",
      "Mesa Comm. College                     0.3423    0.2207   0.4010   \n",
      "\n",
      "                                      MD_EARN_WNE_P10  GRAD_DEBT_MDN_SUPP  \n",
      "INSTNM                                                                     \n",
      "International Academy of Hair Design            22200               10556  \n",
      "GateWay Comm. College                           29800                7283  \n",
      "Mesa Comm. College                              35200                8000  \n",
      "\n",
      "[3 rows x 26 columns]\n",
      "\n",
      "Data on row from 'start' to 'stop':\n",
      "                                         CITY STABBR  HBCU  MENONLY  \\\n",
      "INSTNM                                                                \n",
      "International Academy of Hair Design    Tempe     AZ   0.0      0.0   \n",
      "GateWay Comm. College                 Phoenix     AZ   0.0      0.0   \n",
      "Mesa Comm. College                       Mesa     AZ   0.0      0.0   \n",
      "\n",
      "                                      WOMENONLY  RELAFFIL  SATVRMID  SATMTMID  \\\n",
      "INSTNM                                                                          \n",
      "International Academy of Hair Design        0.0         0       NaN       NaN   \n",
      "GateWay Comm. College                       0.0         0       NaN       NaN   \n",
      "Mesa Comm. College                          0.0         0       NaN       NaN   \n",
      "\n",
      "                                      DISTANCEONLY     UGDS  ...  UGDS_2MOR  \\\n",
      "INSTNM                                                       ...              \n",
      "International Academy of Hair Design           0.0    188.0  ...     0.0160   \n",
      "GateWay Comm. College                          0.0   5211.0  ...     0.0127   \n",
      "Mesa Comm. College                             0.0  19055.0  ...     0.0205   \n",
      "\n",
      "                                      UGDS_NRA  UGDS_UNKN  PPTUG_EF  CURROPER  \\\n",
      "INSTNM                                                                          \n",
      "International Academy of Hair Design    0.0000     0.0638    0.0000         0   \n",
      "GateWay Comm. College                   0.0161     0.0702    0.7465         1   \n",
      "Mesa Comm. College                      0.0257     0.0682    0.6457         1   \n",
      "\n",
      "                                      PCTPELL  PCTFLOAN  UG25ABV  \\\n",
      "INSTNM                                                             \n",
      "International Academy of Hair Design   0.7185    0.7346   0.3905   \n",
      "GateWay Comm. College                  0.3270    0.2189   0.5832   \n",
      "Mesa Comm. College                     0.3423    0.2207   0.4010   \n",
      "\n",
      "                                      MD_EARN_WNE_P10  GRAD_DEBT_MDN_SUPP  \n",
      "INSTNM                                                                     \n",
      "International Academy of Hair Design            22200               10556  \n",
      "GateWay Comm. College                           29800                7283  \n",
      "Mesa Comm. College                              35200                8000  \n",
      "\n",
      "[3 rows x 26 columns]\n"
     ]
    }
   ],
   "source": [
    "import pandas as pd\n",
    "\n",
    "college = pd.read_csv(\"college.csv\",\n",
    "                      index_col='INSTNM')\n",
    "\n",
    "print(college.head())\n",
    "\n",
    "print(\"\\nData on rows from index 99 to 102:\")\n",
    "print(college.iloc[99:102])\n",
    "\n",
    "start = 'International Academy of Hair Design'\n",
    "stop = 'Mesa Comm. College'\n",
    "print(\"\\nData on row from 'start' to 'stop':\")\n",
    "print(college.loc[start:stop])"
   ]
  },
  {
   "cell_type": "markdown",
   "id": "95f18f35",
   "metadata": {},
   "source": [
    "### 1.4 Columns Selection"
   ]
  },
  {
   "cell_type": "markdown",
   "id": "aa198416",
   "metadata": {},
   "source": [
    "To get the column 'director_name' as a Series, pass that column name as a string to the indexing operator to select a Series of data.\n",
    "\n",
    "Alternatively, you may use the dot notation to accomplish the same task: <u>movie.director_name</u>\n",
    "\n",
    "Finally, we can verify the output using type(). Note that, you'll see that it is indeed a Series.\n",
    "\n",
    "Passing a long list inside the indexing operator might cause readibility issues. To help with this, you may save all your column names to a list variable first."
   ]
  },
  {
   "cell_type": "code",
   "execution_count": 22,
   "id": "9cb3c444",
   "metadata": {},
   "outputs": [
    {
     "name": "stdout",
     "output_type": "stream",
     "text": [
      "0          James Cameron\n",
      "1         Gore Verbinski\n",
      "2             Sam Mendes\n",
      "3      Christopher Nolan\n",
      "4            Doug Walker\n",
      "             ...        \n",
      "995       Clint Eastwood\n",
      "996           Tom Tykwer\n",
      "997       John Carpenter\n",
      "998                  NaN\n",
      "999            Brad Bird\n",
      "Name: director_name, Length: 1000, dtype: object\n",
      "\n",
      "\n",
      "<class 'pandas.core.series.Series'>\n"
     ]
    }
   ],
   "source": [
    "import pandas as pd\n",
    "\n",
    "movie = pd.read_csv(\"movie.csv\")\n",
    "\n",
    "#dir_name = movie['director_name']\n",
    "#method 1\n",
    "\n",
    "dir_name = movie.director_name\n",
    "#method 2 \n",
    "print(dir_name)\n",
    "\n",
    "print(\"\\n\")\n",
    "print(type(dir_name))\n",
    "\n",
    "#Tips: To aviod readibility issues.\n",
    "#cols = ['actor_1_name', 'actor_2_name', 'actor_3_name', 'director_name']\n",
    "#movie_actor_director = movie[cols]"
   ]
  },
  {
   "cell_type": "markdown",
   "id": "a13fef33",
   "metadata": {},
   "source": [
    "By using <b>.value_counts()</b> method, we can see the number of columns with each specific data type. You can use the <b>select_dtypes</b> method to select only the integer columns. If you would like to select all the numeric columns, you may simply pass the string number to the include parameter."
   ]
  },
  {
   "cell_type": "code",
   "execution_count": 23,
   "id": "1254273a",
   "metadata": {},
   "outputs": [
    {
     "name": "stdout",
     "output_type": "stream",
     "text": [
      "float64    13\n",
      "object     11\n",
      "int64       3\n",
      "dtype: int64\n",
      "                                            num_voted_users  \\\n",
      "movie_title                                                   \n",
      "Avatar                                               886204   \n",
      "Pirates of the Caribbean: At World's End             471220   \n",
      "Spectre                                              275868   \n",
      "The Dark Knight Rises                               1144337   \n",
      "Star Wars: Episode VII - The Force Awakens                8   \n",
      "\n",
      "                                            cast_total_fb_likes  \\\n",
      "movie_title                                                       \n",
      "Avatar                                                     4834   \n",
      "Pirates of the Caribbean: At World's End                  48350   \n",
      "Spectre                                                   11700   \n",
      "The Dark Knight Rises                                    106759   \n",
      "Star Wars: Episode VII - The Force Awakens                  143   \n",
      "\n",
      "                                            movie_fb_likes  \n",
      "movie_title                                                 \n",
      "Avatar                                               33000  \n",
      "Pirates of the Caribbean: At World's End                 0  \n",
      "Spectre                                              85000  \n",
      "The Dark Knight Rises                               164000  \n",
      "Star Wars: Episode VII - The Force Awakens               0  \n",
      "                                            num_critic_for_reviews  duration  \\\n",
      "movie_title                                                                    \n",
      "Avatar                                                       723.0     178.0   \n",
      "Pirates of the Caribbean: At World's End                     302.0     169.0   \n",
      "Spectre                                                      602.0     148.0   \n",
      "The Dark Knight Rises                                        813.0     164.0   \n",
      "Star Wars: Episode VII - The Force Awakens                     NaN       NaN   \n",
      "\n",
      "                                            director_fb_likes  \\\n",
      "movie_title                                                     \n",
      "Avatar                                                    0.0   \n",
      "Pirates of the Caribbean: At World's End                563.0   \n",
      "Spectre                                                   0.0   \n",
      "The Dark Knight Rises                                 22000.0   \n",
      "Star Wars: Episode VII - The Force Awakens              131.0   \n",
      "\n",
      "                                            actor_3_fb_likes  \\\n",
      "movie_title                                                    \n",
      "Avatar                                                 855.0   \n",
      "Pirates of the Caribbean: At World's End              1000.0   \n",
      "Spectre                                                161.0   \n",
      "The Dark Knight Rises                                23000.0   \n",
      "Star Wars: Episode VII - The Force Awakens               NaN   \n",
      "\n",
      "                                            actor_1_fb_likes        gross  \\\n",
      "movie_title                                                                 \n",
      "Avatar                                                1000.0  760505847.0   \n",
      "Pirates of the Caribbean: At World's End             40000.0  309404152.0   \n",
      "Spectre                                              11000.0  200074175.0   \n",
      "The Dark Knight Rises                                27000.0  448130642.0   \n",
      "Star Wars: Episode VII - The Force Awakens             131.0          NaN   \n",
      "\n",
      "                                            num_voted_users  \\\n",
      "movie_title                                                   \n",
      "Avatar                                               886204   \n",
      "Pirates of the Caribbean: At World's End             471220   \n",
      "Spectre                                              275868   \n",
      "The Dark Knight Rises                               1144337   \n",
      "Star Wars: Episode VII - The Force Awakens                8   \n",
      "\n",
      "                                            cast_total_fb_likes  \\\n",
      "movie_title                                                       \n",
      "Avatar                                                     4834   \n",
      "Pirates of the Caribbean: At World's End                  48350   \n",
      "Spectre                                                   11700   \n",
      "The Dark Knight Rises                                    106759   \n",
      "Star Wars: Episode VII - The Force Awakens                  143   \n",
      "\n",
      "                                            facenumber_in_poster  \\\n",
      "movie_title                                                        \n",
      "Avatar                                                       0.0   \n",
      "Pirates of the Caribbean: At World's End                     0.0   \n",
      "Spectre                                                      1.0   \n",
      "The Dark Knight Rises                                        0.0   \n",
      "Star Wars: Episode VII - The Force Awakens                   0.0   \n",
      "\n",
      "                                            num_user_for_reviews       budget  \\\n",
      "movie_title                                                                     \n",
      "Avatar                                                    3054.0  237000000.0   \n",
      "Pirates of the Caribbean: At World's End                  1238.0  300000000.0   \n",
      "Spectre                                                    994.0  245000000.0   \n",
      "The Dark Knight Rises                                     2701.0  250000000.0   \n",
      "Star Wars: Episode VII - The Force Awakens                   NaN          NaN   \n",
      "\n",
      "                                            title_year  actor_2_fb_likes  \\\n",
      "movie_title                                                                \n",
      "Avatar                                          2009.0             936.0   \n",
      "Pirates of the Caribbean: At World's End        2007.0            5000.0   \n",
      "Spectre                                         2015.0             393.0   \n",
      "The Dark Knight Rises                           2012.0           23000.0   \n",
      "Star Wars: Episode VII - The Force Awakens         NaN              12.0   \n",
      "\n",
      "                                            imdb_score  aspect_ratio  \\\n",
      "movie_title                                                            \n",
      "Avatar                                             7.9          1.78   \n",
      "Pirates of the Caribbean: At World's End           7.1          2.35   \n",
      "Spectre                                            6.8          2.35   \n",
      "The Dark Knight Rises                              8.5          2.35   \n",
      "Star Wars: Episode VII - The Force Awakens         7.1           NaN   \n",
      "\n",
      "                                            movie_fb_likes  \n",
      "movie_title                                                 \n",
      "Avatar                                               33000  \n",
      "Pirates of the Caribbean: At World's End                 0  \n",
      "Spectre                                              85000  \n",
      "The Dark Knight Rises                               164000  \n",
      "Star Wars: Episode VII - The Force Awakens               0  \n"
     ]
    }
   ],
   "source": [
    "import pandas as pd\n",
    "\n",
    "movie = pd.read_csv(\"movie.csv\", index_col='movie_title')\n",
    "\n",
    "print(movie.dtypes.value_counts())\n",
    "\n",
    "print(movie.select_dtypes(include=['int']).head())\n",
    "\n",
    "print(movie.select_dtypes(include=['number']).head())"
   ]
  },
  {
   "cell_type": "markdown",
   "id": "c9a7d212",
   "metadata": {},
   "source": [
    "An alternative method to select columns is with the filter method. This method is flexible and searches column names (or index labels) based on which parameter is used. Here, we use the <b>like</b> parameter to search for all column names that <b>contain</b> the exact string, 'fb'.\n",
    "\n",
    "The <b>filter</b> method allows columns to be searched through regular expression with the regex parameter. Here, we search for all columns that have a digit somewhere in their name."
   ]
  },
  {
   "cell_type": "code",
   "execution_count": 26,
   "id": "af3ee14c",
   "metadata": {
    "scrolled": true
   },
   "outputs": [
    {
     "name": "stdout",
     "output_type": "stream",
     "text": [
      "                                            director_fb_likes  \\\n",
      "movie_title                                                     \n",
      "Avatar                                                    0.0   \n",
      "Pirates of the Caribbean: At World's End                563.0   \n",
      "Spectre                                                   0.0   \n",
      "The Dark Knight Rises                                 22000.0   \n",
      "Star Wars: Episode VII - The Force Awakens              131.0   \n",
      "\n",
      "                                            actor_3_fb_likes  \\\n",
      "movie_title                                                    \n",
      "Avatar                                                 855.0   \n",
      "Pirates of the Caribbean: At World's End              1000.0   \n",
      "Spectre                                                161.0   \n",
      "The Dark Knight Rises                                23000.0   \n",
      "Star Wars: Episode VII - The Force Awakens               NaN   \n",
      "\n",
      "                                            actor_1_fb_likes  \\\n",
      "movie_title                                                    \n",
      "Avatar                                                1000.0   \n",
      "Pirates of the Caribbean: At World's End             40000.0   \n",
      "Spectre                                              11000.0   \n",
      "The Dark Knight Rises                                27000.0   \n",
      "Star Wars: Episode VII - The Force Awakens             131.0   \n",
      "\n",
      "                                            cast_total_fb_likes  \\\n",
      "movie_title                                                       \n",
      "Avatar                                                     4834   \n",
      "Pirates of the Caribbean: At World's End                  48350   \n",
      "Spectre                                                   11700   \n",
      "The Dark Knight Rises                                    106759   \n",
      "Star Wars: Episode VII - The Force Awakens                  143   \n",
      "\n",
      "                                            actor_2_fb_likes  movie_fb_likes  \n",
      "movie_title                                                                   \n",
      "Avatar                                                 936.0           33000  \n",
      "Pirates of the Caribbean: At World's End              5000.0               0  \n",
      "Spectre                                                393.0           85000  \n",
      "The Dark Knight Rises                                23000.0          164000  \n",
      "Star Wars: Episode VII - The Force Awakens              12.0               0  \n",
      "------------------------------------------------\n",
      "                                            actor_3_fb_likes  \\\n",
      "movie_title                                                    \n",
      "Avatar                                                 855.0   \n",
      "Pirates of the Caribbean: At World's End              1000.0   \n",
      "Spectre                                                161.0   \n",
      "The Dark Knight Rises                                23000.0   \n",
      "Star Wars: Episode VII - The Force Awakens               NaN   \n",
      "\n",
      "                                                actor_2_name  \\\n",
      "movie_title                                                    \n",
      "Avatar                                      Joel David Moore   \n",
      "Pirates of the Caribbean: At World's End       Orlando Bloom   \n",
      "Spectre                                         Rory Kinnear   \n",
      "The Dark Knight Rises                         Christian Bale   \n",
      "Star Wars: Episode VII - The Force Awakens        Rob Walker   \n",
      "\n",
      "                                            actor_1_fb_likes     actor_1_name  \\\n",
      "movie_title                                                                     \n",
      "Avatar                                                1000.0      CCH Pounder   \n",
      "Pirates of the Caribbean: At World's End             40000.0      Johnny Depp   \n",
      "Spectre                                              11000.0  Christoph Waltz   \n",
      "The Dark Knight Rises                                27000.0        Tom Hardy   \n",
      "Star Wars: Episode VII - The Force Awakens             131.0      Doug Walker   \n",
      "\n",
      "                                                    actor_3_name  \\\n",
      "movie_title                                                        \n",
      "Avatar                                                 Wes Studi   \n",
      "Pirates of the Caribbean: At World's End          Jack Davenport   \n",
      "Spectre                                         Stephanie Sigman   \n",
      "The Dark Knight Rises                       Joseph Gordon-Levitt   \n",
      "Star Wars: Episode VII - The Force Awakens                   NaN   \n",
      "\n",
      "                                            actor_2_fb_likes  \n",
      "movie_title                                                   \n",
      "Avatar                                                 936.0  \n",
      "Pirates of the Caribbean: At World's End              5000.0  \n",
      "Spectre                                                393.0  \n",
      "The Dark Knight Rises                                23000.0  \n",
      "Star Wars: Episode VII - The Force Awakens              12.0  \n"
     ]
    }
   ],
   "source": [
    "import pandas as pd\n",
    "\n",
    "movie = pd.read_csv(\"movie.csv\", index_col='movie_title')\n",
    "\n",
    "print(movie.filter(like='fb').head())\n",
    "print('------------------------------------------------')\n",
    "print(movie.filter(regex='\\d').head())"
   ]
  },
  {
   "cell_type": "markdown",
   "id": "53d11ce8",
   "metadata": {},
   "source": [
    "The generic form to select rows and columns will look like the following code:\n",
    "\n",
    "- df.iloc\\[rows, columns\\]\n",
    "- df.loc\\[rows, columns\\]\n",
    "\n",
    "Here, we will see how to select the first few rows and the first few columns with slice notation."
   ]
  },
  {
   "cell_type": "code",
   "execution_count": 27,
   "id": "59c7655b",
   "metadata": {
    "scrolled": true
   },
   "outputs": [
    {
     "name": "stdout",
     "output_type": "stream",
     "text": [
      "      actor_1_name      actor_2_name          actor_3_name      director_name\n",
      "0      CCH Pounder  Joel David Moore             Wes Studi      James Cameron\n",
      "1      Johnny Depp     Orlando Bloom        Jack Davenport     Gore Verbinski\n",
      "2  Christoph Waltz      Rory Kinnear      Stephanie Sigman         Sam Mendes\n",
      "3        Tom Hardy    Christian Bale  Joseph Gordon-Levitt  Christopher Nolan\n",
      "4      Doug Walker        Rob Walker                   NaN        Doug Walker\n",
      "       director_name\n",
      "0      James Cameron\n",
      "1     Gore Verbinski\n",
      "2         Sam Mendes\n",
      "3  Christopher Nolan\n",
      "4        Doug Walker\n"
     ]
    }
   ],
   "source": [
    "import pandas as pd\n",
    "\n",
    "college = pd.read_csv(\"college.csv\",\n",
    "                      index_col='INSTNM')\n",
    "\n",
    "print(\"\\nData on the first three rows and the first four columns:\")\n",
    "print(college.iloc[:3, :4])\n",
    "print(college.loc[:'Amridge Univ.', :'MENONLY'])"
   ]
  },
  {
   "cell_type": "markdown",
   "id": "3caa909e",
   "metadata": {},
   "source": [
    "To select all the rows of two different columns, we can use the slice notation as in the examples."
   ]
  },
  {
   "cell_type": "code",
   "execution_count": 28,
   "id": "838816b4",
   "metadata": {},
   "outputs": [
    {
     "name": "stdout",
     "output_type": "stream",
     "text": [
      "\n",
      "Data on columns 4 and 6:\n",
      "                                WOMENONLY  SATVRMID\n",
      "INSTNM                                             \n",
      "Alabama A & M Univ.                   0.0     424.0\n",
      "Univ. of Alabama at Birmingham        0.0     570.0\n",
      "Amridge Univ.                         0.0       NaN\n",
      "Univ. of Alabama in Huntsville        0.0     595.0\n",
      "Alabama State Univ.                   0.0     425.0\n",
      "                                WOMENONLY  SATVRMID\n",
      "INSTNM                                             \n",
      "Alabama A & M Univ.                   0.0     424.0\n",
      "Univ. of Alabama at Birmingham        0.0     570.0\n",
      "Amridge Univ.                         0.0       NaN\n",
      "Univ. of Alabama in Huntsville        0.0     595.0\n",
      "Alabama State Univ.                   0.0     425.0\n"
     ]
    }
   ],
   "source": [
    "import pandas as pd\n",
    "\n",
    "college = pd.read_csv(\"college.csv\",\n",
    "                      index_col='INSTNM')\n",
    "\n",
    "print(\"\\nData on columns 4 and 6:\")\n",
    "print(college.iloc[:, [4,6]].head())\n",
    "print(college.loc[:, ['WOMENONLY','SATVRMID']].head())"
   ]
  },
  {
   "cell_type": "markdown",
   "id": "7a29aeaf",
   "metadata": {},
   "source": [
    "In this example here, we select disjointed rows and columns:"
   ]
  },
  {
   "cell_type": "code",
   "execution_count": 29,
   "id": "a633b697",
   "metadata": {},
   "outputs": [
    {
     "name": "stdout",
     "output_type": "stream",
     "text": [
      "\n",
      "Data on rows 100 & 200 and columns 7 & 15:\n",
      "                                       SATMTMID  UGDS_NHPI\n",
      "INSTNM                                                    \n",
      "GateWay Comm. College                       NaN     0.0029\n",
      "American Baptist Seminary of the West       NaN        NaN\n",
      "                                       SATMTMID  UGDS_NHPI\n",
      "INSTNM                                                    \n",
      "GateWay Comm. College                       NaN     0.0029\n",
      "American Baptist Seminary of the West       NaN        NaN\n"
     ]
    }
   ],
   "source": [
    "import pandas as pd\n",
    "\n",
    "college = pd.read_csv(\"college.csv\",\n",
    "                      index_col='INSTNM')\n",
    "\n",
    "print(\"\\nData on rows 100 & 200 and columns 7 & 15:\")\n",
    "print(college.iloc[[100,200], [7,15]])\n",
    "rows = ['GateWay Comm. College', 'American Baptist Seminary of the West']\n",
    "cols = ['SATMTMID', 'UGDS_NHPI']\n",
    "print(college.loc[rows, cols])"
   ]
  },
  {
   "cell_type": "markdown",
   "id": "df04aac5",
   "metadata": {},
   "source": [
    "## Lesson2 Data Filtering & Grouping"
   ]
  },
  {
   "cell_type": "markdown",
   "id": "267844dc",
   "metadata": {},
   "source": [
    "### 2.1 Filtering with Boolean"
   ]
  },
  {
   "cell_type": "markdown",
   "id": "803a495b",
   "metadata": {},
   "source": [
    "While we selected data by specifying a label name before, we can also use a condition for filtering. First, we create a variable to hold each set of criteria independently as a boolean Series."
   ]
  },
  {
   "cell_type": "code",
   "execution_count": 2,
   "id": "13b1fe5d",
   "metadata": {},
   "outputs": [
    {
     "name": "stdout",
     "output_type": "stream",
     "text": [
      "movie_title\n",
      "Avatar                                        False\n",
      "Pirates of the Caribbean: At World's End      False\n",
      "Spectre                                       False\n",
      "The Dark Knight Rises                          True\n",
      "Star Wars: Episode VII - The Force Awakens    False\n",
      "Name: imdb_score, dtype: bool\n",
      "(1000,)\n",
      "                            color      director_name  num_critic_for_reviews  \\\n",
      "movie_title                                                                    \n",
      "The Dark Knight Rises       Color  Christopher Nolan                   813.0   \n",
      "The Avengers                Color        Joss Whedon                   703.0   \n",
      "Captain America: Civil War  Color      Anthony Russo                   516.0   \n",
      "Toy Story 3                 Color        Lee Unkrich                   453.0   \n",
      "WALL·E                      Color     Andrew Stanton                   421.0   \n",
      "\n",
      "                            duration  director_fb_likes  actor_3_fb_likes  \\\n",
      "movie_title                                                                 \n",
      "The Dark Knight Rises          164.0            22000.0           23000.0   \n",
      "The Avengers                   173.0                0.0           19000.0   \n",
      "Captain America: Civil War     147.0               94.0           11000.0   \n",
      "Toy Story 3                    103.0              125.0             721.0   \n",
      "WALL·E                          98.0              475.0             522.0   \n",
      "\n",
      "                                  actor_2_name  actor_1_fb_likes        gross  \\\n",
      "movie_title                                                                     \n",
      "The Dark Knight Rises           Christian Bale           27000.0  448130642.0   \n",
      "The Avengers                 Robert Downey Jr.           26000.0  623279547.0   \n",
      "Captain America: Civil War  Scarlett Johansson           21000.0  407197282.0   \n",
      "Toy Story 3                  John Ratzenberger           15000.0  414984497.0   \n",
      "WALL·E                            Fred Willard            1000.0  223806889.0   \n",
      "\n",
      "                                                               genres  \\\n",
      "movie_title                                                             \n",
      "The Dark Knight Rises                                 Action|Thriller   \n",
      "The Avengers                                  Action|Adventure|Sci-Fi   \n",
      "Captain America: Civil War                    Action|Adventure|Sci-Fi   \n",
      "Toy Story 3                 Adventure|Animation|Comedy|Family|Fantasy   \n",
      "WALL·E                              Adventure|Animation|Family|Sci-Fi   \n",
      "\n",
      "                                 actor_1_name  num_voted_users  \\\n",
      "movie_title                                                      \n",
      "The Dark Knight Rises               Tom Hardy          1144337   \n",
      "The Avengers                  Chris Hemsworth           995415   \n",
      "Captain America: Civil War  Robert Downey Jr.           272670   \n",
      "Toy Story 3                         Tom Hanks           544884   \n",
      "WALL·E                      John Ratzenberger           718837   \n",
      "\n",
      "                            cast_total_fb_likes          actor_3_name  \\\n",
      "movie_title                                                             \n",
      "The Dark Knight Rises                    106759  Joseph Gordon-Levitt   \n",
      "The Avengers                              87697    Scarlett Johansson   \n",
      "Captain America: Civil War                64798           Chris Evans   \n",
      "Toy Story 3                               19085           Don Rickles   \n",
      "WALL·E                                     2975           Jeff Garlin   \n",
      "\n",
      "                            facenumber_in_poster  \\\n",
      "movie_title                                        \n",
      "The Dark Knight Rises                        0.0   \n",
      "The Avengers                                 3.0   \n",
      "Captain America: Civil War                   0.0   \n",
      "Toy Story 3                                  3.0   \n",
      "WALL·E                                       0.0   \n",
      "\n",
      "                                                                plot_keywords  \\\n",
      "movie_title                                                                     \n",
      "The Dark Knight Rises       deception|imprisonment|lawlessness|police offi...   \n",
      "The Avengers                  alien invasion|assassin|battle|iron man|soldier   \n",
      "Captain America: Civil War  based on comic book|knife|marvel cinematic uni...   \n",
      "Toy Story 3                            college|day care|escape|teddy bear|toy   \n",
      "WALL·E                                         earth|obesity|plant|robot|soil   \n",
      "\n",
      "                                                              movie_imdb_link  \\\n",
      "movie_title                                                                     \n",
      "The Dark Knight Rises       http://www.imdb.com/title/tt1345836/?ref_=fn_t...   \n",
      "The Avengers                http://www.imdb.com/title/tt0848228/?ref_=fn_t...   \n",
      "Captain America: Civil War  http://www.imdb.com/title/tt3498820/?ref_=fn_t...   \n",
      "Toy Story 3                 http://www.imdb.com/title/tt0435761/?ref_=fn_t...   \n",
      "WALL·E                      http://www.imdb.com/title/tt0910970/?ref_=fn_t...   \n",
      "\n",
      "                            num_user_for_reviews language country  \\\n",
      "movie_title                                                         \n",
      "The Dark Knight Rises                     2701.0  English     USA   \n",
      "The Avengers                              1722.0  English     USA   \n",
      "Captain America: Civil War                1022.0  English     USA   \n",
      "Toy Story 3                                733.0  English     USA   \n",
      "WALL·E                                    1043.0  English     USA   \n",
      "\n",
      "                           content_rating       budget  title_year  \\\n",
      "movie_title                                                          \n",
      "The Dark Knight Rises               PG-13  250000000.0      2012.0   \n",
      "The Avengers                        PG-13  220000000.0      2012.0   \n",
      "Captain America: Civil War          PG-13  250000000.0      2016.0   \n",
      "Toy Story 3                             G  200000000.0      2010.0   \n",
      "WALL·E                                  G  180000000.0      2008.0   \n",
      "\n",
      "                            actor_2_fb_likes  imdb_score  aspect_ratio  \\\n",
      "movie_title                                                              \n",
      "The Dark Knight Rises                23000.0         8.5          2.35   \n",
      "The Avengers                         21000.0         8.1          1.85   \n",
      "Captain America: Civil War           19000.0         8.2          2.35   \n",
      "Toy Story 3                           1000.0         8.3          1.85   \n",
      "WALL·E                                 729.0         8.4          2.35   \n",
      "\n",
      "                            movie_fb_likes  \n",
      "movie_title                                 \n",
      "The Dark Knight Rises               164000  \n",
      "The Avengers                        123000  \n",
      "Captain America: Civil War           72000  \n",
      "Toy Story 3                          30000  \n",
      "WALL·E                               16000  \n",
      "(51, 27)\n"
     ]
    }
   ],
   "source": [
    "import pandas as pd\n",
    "\n",
    "pd.set_option('display.max_columns', None)\n",
    "#To show all the columns\n",
    "\n",
    "movie = pd.read_csv(\"movie.csv\",index_col='movie_title')\n",
    "\n",
    "criteria = movie['imdb_score'] > 8\n",
    "\n",
    "# Printing the criteria as Series\n",
    "print(criteria.head(5))\n",
    "print(criteria.shape)\n",
    "\n",
    "# Selecting the rows that meet the criteria as DataFrame\n",
    "print(movie[criteria].head(5))\n",
    "print(movie[criteria].shape)"
   ]
  },
  {
   "cell_type": "markdown",
   "id": "67769d96",
   "metadata": {},
   "source": [
    "In this example, we make two sets of criteria for the movie dataset. Familiarizing yourself with some boolean notation such as |, ==, &, can be really handy. "
   ]
  },
  {
   "cell_type": "code",
   "execution_count": 4,
   "id": "8c44bf72",
   "metadata": {},
   "outputs": [
    {
     "name": "stdout",
     "output_type": "stream",
     "text": [
      "243\n",
      "270\n"
     ]
    }
   ],
   "source": [
    "import pandas as pd\n",
    "pd.set_option('display.max_columns', None)\n",
    "\n",
    "movie = pd.read_csv(\"movie.csv\",index_col='movie_title')\n",
    "\n",
    "crit_a1 = movie.imdb_score > 8 \n",
    "# This is the same as movie['imdb_score'] > 8\n",
    "\n",
    "crit_a2 = movie.content_rating == 'PG-13'\n",
    "crit_a3 = ((movie.title_year < 2000) | (movie.title_year > 2009))\n",
    "final_crit_a = crit_a1 & crit_a2 & crit_a3\n",
    "print(movie[final_crit_a].size)\n",
    "\n",
    "crit_b1 = movie.imdb_score < 5\n",
    "crit_b2 = movie.content_rating == 'R'\n",
    "crit_b3 = ((movie.title_year >= 2000) |\n",
    "          (movie.title_year <= 2010))\n",
    "final_crit_b = crit_b1 & crit_b2 & crit_b3\n",
    "print(movie[final_crit_b].size)"
   ]
  },
  {
   "cell_type": "markdown",
   "id": "eab58f2b",
   "metadata": {},
   "source": [
    "We can't easily perform a manual check to determine whether the filter worked correctly. Let's filter both rows and columns with the .loc indexer."
   ]
  },
  {
   "cell_type": "code",
   "execution_count": 5,
   "id": "8cef654b",
   "metadata": {},
   "outputs": [
    {
     "name": "stdout",
     "output_type": "stream",
     "text": [
      "                            imdb_score content_rating  title_year\n",
      "movie_title                                                      \n",
      "The Dark Knight Rises              8.5          PG-13      2012.0\n",
      "The Avengers                       8.1          PG-13      2012.0\n",
      "Captain America: Civil War         8.2          PG-13      2016.0\n",
      "The Lovers                         4.5              R      2015.0\n",
      "Guardians of the Galaxy            8.1          PG-13      2014.0\n",
      "(19, 3)\n"
     ]
    }
   ],
   "source": [
    "import pandas as pd\n",
    "pd.set_option('display.max_columns', None)\n",
    "\n",
    "movie = pd.read_csv(\"movie.csv\",index_col='movie_title')\n",
    "\n",
    "crit_a1 = movie.imdb_score > 8\n",
    "crit_a2 = movie.content_rating == 'PG-13'\n",
    "crit_a3 = ((movie.title_year < 2000) |(movie.title_year > 2009))\n",
    "final_crit_a = crit_a1 & crit_a2 & crit_a3\n",
    "\n",
    "crit_b1 = movie.imdb_score < 5\n",
    "crit_b2 = movie.content_rating == 'R'\n",
    "crit_b3 = ((movie.title_year >= 2000) |(movie.title_year <= 2010))\n",
    "final_crit_b = crit_b1 & crit_b2 & crit_b3\n",
    "\n",
    "final_crit_all = final_crit_a | final_crit_b\n",
    "\n",
    "cols = ['imdb_score', 'content_rating', 'title_year']\n",
    "movie_filtered = movie.loc[final_crit_all, cols]\n",
    "\n",
    "print(movie_filtered.head(5))\n",
    "print(movie_filtered.shape)"
   ]
  },
  {
   "cell_type": "markdown",
   "id": "b15b324b",
   "metadata": {},
   "source": [
    "|comparison operators|meaning|\n",
    "|----|----|\n",
    "|==|equal to|\n",
    "|!=|not equal to|\n",
    "|<|less than|\n",
    "|>|greater than|\n",
    "|<=|less than or equal to|\n",
    "|>=|greater than or equal to|\n",
    "|x and y (x&y)|true if both are true|\n",
    "|x or y (x\\|y)|true if at least one is true|\n",
    "|not x (~x)|true only if false|"
   ]
  },
  {
   "cell_type": "markdown",
   "id": "d5b9bfac",
   "metadata": {},
   "source": [
    "### 2.2 Grouping Object"
   ]
  },
  {
   "cell_type": "markdown",
   "id": "e7311ada",
   "metadata": {},
   "source": [
    "We will create a pandas DataFrame <u>groupby</u> object using the pandas DataFrame groupby method, passing it a column or list of columns for the grouping. In the movie dataset, we will try to do grouping by 'director_name'."
   ]
  },
  {
   "cell_type": "code",
   "execution_count": 6,
   "id": "44422916",
   "metadata": {},
   "outputs": [
    {
     "name": "stdout",
     "output_type": "stream",
     "text": [
      "<class 'pandas.core.groupby.generic.DataFrameGroupBy'>\n",
      "<pandas.core.groupby.generic.DataFrameGroupBy object at 0x7f9490706550>\n"
     ]
    }
   ],
   "source": [
    "import pandas as pd\n",
    "pd.set_option('max_columns', 5)\n",
    "\n",
    "movie = pd.read_csv('movie.csv')\n",
    "\n",
    "dirname = movie.groupby(['director_name'])\n",
    "\n",
    "print(type(dirname))\n",
    "\n",
    "print(dirname)\n",
    "#The detail groupby info cannot be printed"
   ]
  },
  {
   "cell_type": "markdown",
   "id": "907f8863",
   "metadata": {},
   "source": [
    "We can use get_group to get all the rows for a particular group. Say, we want to get the data about the director 'Steven Spielberg'.  The get_group method will show all the rows containing that director."
   ]
  },
  {
   "cell_type": "code",
   "execution_count": 7,
   "id": "52738b04",
   "metadata": {},
   "outputs": [
    {
     "name": "stdout",
     "output_type": "stream",
     "text": [
      "               color     director_name  ...  aspect_ratio  movie_fb_likes\n",
      "54             Color  Steven Spielberg  ...          2.35            5000\n",
      "177            Color  Steven Spielberg  ...          2.35           27000\n",
      "187            Color  Steven Spielberg  ...          1.85               0\n",
      "192            Color  Steven Spielberg  ...          2.35           44000\n",
      "281            Color  Steven Spielberg  ...          2.35               0\n",
      "369            Color  Steven Spielberg  ...          1.85           11000\n",
      "517            Color  Steven Spielberg  ...          1.85               0\n",
      "530            Color  Steven Spielberg  ...          1.85           16000\n",
      "539            Color  Steven Spielberg  ...          2.35               0\n",
      "583            Color  Steven Spielberg  ...          2.35           13000\n",
      "597  Black and White  Steven Spielberg  ...          2.35           28000\n",
      "641            Color  Steven Spielberg  ...          1.85           22000\n",
      "646            Color  Steven Spielberg  ...          2.35           71000\n",
      "689            Color  Steven Spielberg  ...          1.85           19000\n",
      "902            Color  Steven Spielberg  ...          1.85           15000\n",
      "\n",
      "[15 rows x 28 columns]\n"
     ]
    }
   ],
   "source": [
    "import pandas as pd\n",
    "pd.set_option('max_columns', 4)\n",
    "\n",
    "movie = pd.read_csv('movie.csv')\n",
    "\n",
    "dirname = movie.groupby(['director_name'])\n",
    "\n",
    "print(dirname.get_group('Steven Spielberg'))\n",
    "\n",
    "# Note that this is the same as\n",
    "# movie[movie['director_name'] == 'Steven Spielberg']]"
   ]
  },
  {
   "cell_type": "markdown",
   "id": "91b0d638",
   "metadata": {},
   "source": [
    "To show the number of rows for each director, we can use the method size."
   ]
  },
  {
   "cell_type": "code",
   "execution_count": 8,
   "id": "55e45c94",
   "metadata": {},
   "outputs": [
    {
     "name": "stdout",
     "output_type": "stream",
     "text": [
      "director_name\n",
      "Adam McKay           4\n",
      "Adam Shankman        5\n",
      "Adrian Lyne          1\n",
      "Akiva Goldsman       1\n",
      "Akiva Schaffer       1\n",
      "                    ..\n",
      "Wolfgang Petersen    5\n",
      "Wych Kaosayananda    1\n",
      "Yarrow Cheney        1\n",
      "Yimou Zhang          1\n",
      "Zack Snyder          6\n",
      "Length: 469, dtype: int64\n"
     ]
    }
   ],
   "source": [
    "import pandas as pd\n",
    "pd.set_option('max_columns', 4)\n",
    "\n",
    "movie = pd.read_csv('movie.csv')\n",
    "\n",
    "dirname = movie.groupby(['director_name'])\n",
    "\n",
    "print(dirname.size())"
   ]
  },
  {
   "cell_type": "markdown",
   "id": "57f193fe",
   "metadata": {},
   "source": [
    "We can also use first and last method of the groupby object to create DataFrames with the first and last occurrence of each group."
   ]
  },
  {
   "cell_type": "code",
   "execution_count": 9,
   "id": "2c4018a8",
   "metadata": {},
   "outputs": [
    {
     "name": "stdout",
     "output_type": "stream",
     "text": [
      "                color  num_critic_for_reviews  duration  director_fb_likes\n",
      "director_name                                                             \n",
      "Adam McKay      Color                   265.0     116.0              285.0\n",
      "Adam Shankman   Color                   144.0      99.0              163.0\n",
      "Adrian Lyne     Color                   152.0     124.0              213.0\n",
      "Akiva Goldsman  Color                   189.0     118.0              167.0\n",
      "                color  num_critic_for_reviews  duration  director_fb_likes\n",
      "director_name                                                             \n",
      "Adam McKay      Color                   272.0     143.0              285.0\n",
      "Adam Shankman   Color                   125.0      95.0              163.0\n",
      "Adrian Lyne     Color                   152.0     124.0              213.0\n",
      "Akiva Goldsman  Color                   189.0     118.0              167.0\n"
     ]
    }
   ],
   "source": [
    "import pandas as pd\n",
    "pd.set_option('max_columns', 5)\n",
    "\n",
    "movie = pd.read_csv('movie.csv')\n",
    "\n",
    "dirname = movie.groupby(['director_name'])\n",
    "\n",
    "print(dirname.first().iloc[0:4, 0:4])\n",
    "\n",
    "print(dirname.last().iloc[0:4, 0:4])"
   ]
  },
  {
   "cell_type": "markdown",
   "id": "9b924b27",
   "metadata": {},
   "source": [
    "GroupBy object is not limited to one column name. We can put in a list and select a particular group for each element in that list."
   ]
  },
  {
   "cell_type": "code",
   "execution_count": 12,
   "id": "7485866a",
   "metadata": {
    "scrolled": true
   },
   "outputs": [
    {
     "name": "stdout",
     "output_type": "stream",
     "text": [
      "                          color  num_critic_for_reviews  ...  aspect_ratio  \\\n",
      "director_name title_year                                 ...                 \n",
      "Adam McKay    2006.0      Color                   164.0  ...          2.35   \n",
      "              2008.0      Color                   173.0  ...          2.35   \n",
      "              2010.0      Color                   265.0  ...          2.35   \n",
      "              2013.0      Color                   272.0  ...          2.35   \n",
      "Adam Shankman 2005.0      Color                    77.0  ...          2.35   \n",
      "...                         ...                     ...  ...           ...   \n",
      "Zack Snyder   2009.0      Color                   451.0  ...          2.35   \n",
      "              2010.0      Color                   188.0  ...          2.35   \n",
      "              2011.0      Color                   435.0  ...          2.35   \n",
      "              2013.0      Color                   733.0  ...          2.35   \n",
      "              2016.0      Color                   673.0  ...          2.35   \n",
      "\n",
      "                          movie_fb_likes  \n",
      "director_name title_year                  \n",
      "Adam McKay    2006.0                   0  \n",
      "              2008.0                   0  \n",
      "              2010.0               16000  \n",
      "              2013.0               41000  \n",
      "Adam Shankman 2005.0                 781  \n",
      "...                                  ...  \n",
      "Zack Snyder   2009.0               18000  \n",
      "              2010.0               16000  \n",
      "              2011.0               42000  \n",
      "              2013.0              118000  \n",
      "              2016.0              197000  \n",
      "\n",
      "[970 rows x 26 columns]\n",
      "\n",
      "\n",
      "517    The Lost World: Jurassic Park\n",
      "Name: movie_title, dtype: object\n"
     ]
    }
   ],
   "source": [
    "import pandas as pd\n",
    "pd.set_option('max_columns', 5)\n",
    "\n",
    "movie = pd.read_csv('movie.csv')\n",
    "\n",
    "# Grouping By Director Name and Title Year\n",
    "dirname = movie.groupby(['director_name','title_year'])\n",
    "\n",
    "print(dirname.first())\n",
    "\n",
    "# Getting Title of Movies with \n",
    "# director_name = Steven Spielberg and title_year = 2005\n",
    "print('\\n')\n",
    "print(dirname.get_group(('Steven Spielberg', 1997))['movie_title'])\n"
   ]
  },
  {
   "cell_type": "markdown",
   "id": "7b4a029a",
   "metadata": {},
   "source": [
    "### 2.3 Aggregation"
   ]
  },
  {
   "cell_type": "markdown",
   "id": "794c28c3",
   "metadata": {},
   "source": [
    "We will showcase the flexibility of the groupby DataFrame method by answering the following queries:\n",
    "\n",
    "1. Finding the sum of air time for every airline per weekday\n",
    "2. For each origin and destination, finding the total number of flights, the number and percentage of canceled flights, and the average and variance of the airtime.\n",
    "\n",
    "Read in the flights dataset, and we define:\n",
    "\n",
    "- grouping columns : AIRLINE\n",
    "- aggregating columns : ARR_DELAY\n",
    "- aggregating functions : mean\n",
    "\n",
    "Place the grouping column in the groupby method and then call the agg method with a dictionary pairing the aggregating column with its aggregating function."
   ]
  },
  {
   "cell_type": "code",
   "execution_count": 13,
   "id": "754edf21",
   "metadata": {},
   "outputs": [
    {
     "name": "stdout",
     "output_type": "stream",
     "text": [
      "         ARR_DELAY\n",
      "AIRLINE           \n",
      "AA       14.138158\n",
      "AS       -4.944444\n",
      "B6       19.200000\n",
      "DL       -1.063415\n",
      "EV        4.221311\n",
      "F9       24.071429\n",
      "HA      -34.000000\n",
      "MQ        1.214286\n",
      "NK       11.727273\n",
      "OO        6.546154\n",
      "UA       12.673759\n",
      "US       -2.812500\n",
      "VX       -1.062500\n",
      "WN        8.821053\n"
     ]
    }
   ],
   "source": [
    "import pandas as pd\n",
    "\n",
    "flights = pd.read_csv('flights.csv')\n",
    "\n",
    "print(flights.groupby('AIRLINE').agg({'ARR_DELAY':'mean'}))"
   ]
  },
  {
   "cell_type": "markdown",
   "id": "3ff425d2",
   "metadata": {},
   "source": [
    "Now, read in the flights dataset, and answer the first question by defining\n",
    "\n",
    "- grouping columns: AIRLINE, WEEKDAY\n",
    "- aggregating column: AIR_TIME\n",
    "- aggregating function:sum"
   ]
  },
  {
   "cell_type": "code",
   "execution_count": 17,
   "id": "1788dd5a",
   "metadata": {},
   "outputs": [
    {
     "name": "stdout",
     "output_type": "stream",
     "text": [
      "AIRLINE  WEEKDAY\n",
      "AA       1          3027.0\n",
      "         2          3496.0\n",
      "         3          2881.0\n",
      "         4          2149.0\n",
      "         5          3432.0\n",
      "                     ...  \n",
      "WN       3          2599.0\n",
      "         4          3663.0\n",
      "         5          2519.0\n",
      "         6          2356.0\n",
      "         7          3674.0\n",
      "Name: AIR_TIME, Length: 89, dtype: float64\n"
     ]
    }
   ],
   "source": [
    "import pandas as pd\n",
    "\n",
    "flights = pd.read_csv('flights.csv', engine='c')\n",
    "\n",
    "print(flights.groupby(['AIRLINE', 'WEEKDAY'])['AIR_TIME'].agg('sum'))\n",
    "#or you can do it by\n",
    "#print(flights.groupby(['AIRLINE','WEEKDAY']).agg({'AIR_TIME':'sum'}))"
   ]
  },
  {
   "cell_type": "markdown",
   "id": "8d8c18e0",
   "metadata": {},
   "source": [
    "You can answer the second query by defining:\n",
    "\n",
    "- grouping columns: ORG_AIR, DEST_AIR\n",
    "- aggregating column: CANCELLED, AIR_TIME\n",
    "- aggregating function:\n",
    "    - CANCELLED: sum, mean\n",
    "    - AIR_TIME: mean, var"
   ]
  },
  {
   "cell_type": "code",
   "execution_count": 18,
   "id": "e95aef65",
   "metadata": {},
   "outputs": [
    {
     "name": "stdout",
     "output_type": "stream",
     "text": [
      "                 SCHED_DEP                   AIR_TIME           \n",
      "                       sum      mean size        mean        var\n",
      "ORG_AIR DEST_AIR                                                \n",
      "ATL     AGS           2489  1244.500    2   31.000000  32.000000\n",
      "        ATW           1940  1940.000    1  109.000000        NaN\n",
      "        AUS           5895  1473.750    4  122.000000  46.666667\n",
      "        BDL           1145  1145.000    1  109.000000        NaN\n",
      "        BHM            940   940.000    1   24.000000        NaN\n",
      "...                    ...       ...  ...         ...        ...\n",
      "SFO     SAN           2430   810.000    3   67.666667   6.333333\n",
      "        SEA          12611  1576.375    8  104.142857   4.142857\n",
      "        SLC           2120  2120.000    1   81.000000        NaN\n",
      "        SMF           1619  1619.000    1   20.000000        NaN\n",
      "        SNA            830   830.000    1   63.000000        NaN\n",
      "\n",
      "[564 rows x 5 columns]\n"
     ]
    }
   ],
   "source": [
    "import pandas as pd\n",
    "\n",
    "flights = pd.read_csv('flights.csv', engine='c')\n",
    "\n",
    "group_cols = ['ORG_AIR', 'DEST_AIR']\n",
    "agg_dict = {'SCHED_DEP': ['sum', 'mean', 'size'],\n",
    "            'AIR_TIME': ['mean', 'var']}\n",
    "\n",
    "print(flights.groupby(group_cols).agg(agg_dict))"
   ]
  },
  {
   "cell_type": "markdown",
   "id": "24f307ef",
   "metadata": {},
   "source": [
    "Next questions:\n",
    "\n",
    "1. What is the total of long-haul flight (more than 3 hours) for each airline?\n",
    "2. What is the square root of the total of the delayed flight  for each airline?\n",
    "\n",
    "While pandas don't provide the exact aggregation function for that, we can define the function ourselves those function.\n",
    "\n",
    "For no. 1,\n",
    "\n",
    "- grouping column: AIRLINE\n",
    "- aggregating column: AIR_TIME\n",
    "- aggregating function:CANCELLED:sum but only for values with >180\n",
    "\n",
    "For no. 2,\n",
    "\n",
    "- grouping column: AIRLINE\n",
    "- aggregating column: AIR_TIME\n",
    "- aggregating function:\n",
    "- ARR_DELAY:len but squared"
   ]
  },
  {
   "cell_type": "code",
   "execution_count": 19,
   "id": "65b8dedf",
   "metadata": {},
   "outputs": [
    {
     "name": "stdout",
     "output_type": "stream",
     "text": [
      "         AIR_TIME\n",
      "AIRLINE          \n",
      "AA           43.0\n",
      "AS            4.0\n",
      "B6            5.0\n",
      "DL           33.0\n",
      "EV            0.0\n",
      "F9            6.0\n",
      "HA            1.0\n",
      "MQ            0.0\n",
      "NK            8.0\n",
      "OO            1.0\n",
      "UA           45.0\n",
      "US            7.0\n",
      "VX            6.0\n",
      "WN           24.0\n",
      "         ARR_DELAY\n",
      "AIRLINE           \n",
      "AA       12.449900\n",
      "AS        4.242641\n",
      "B6        3.162278\n",
      "DL       14.387495\n",
      "EV       11.313708\n",
      "F9        5.291503\n",
      "HA        1.000000\n",
      "MQ        8.544004\n",
      "NK        5.744563\n",
      "OO       11.532563\n",
      "UA       11.958261\n",
      "US        5.656854\n",
      "VX        4.123106\n",
      "WN       13.856406\n"
     ]
    }
   ],
   "source": [
    "import pandas as pd\n",
    "\n",
    "flights = pd.read_csv('flights.csv')\n",
    "# Here, inside the dic, brackets are not needed\n",
    "# User-defined function using def\n",
    "def long_haul(series):\n",
    "  return sum(series > 180)\n",
    "\n",
    "print(flights.groupby('AIRLINE').agg({'AIR_TIME' : long_haul}))\n",
    "\n",
    "# User-defined function using lambda\n",
    "sq_root_count = lambda series : len(series)**(1/2)\n",
    "\n",
    "print(flights.groupby('AIRLINE').agg({'ARR_DELAY' : sq_root_count}))"
   ]
  },
  {
   "cell_type": "markdown",
   "id": "32e77006",
   "metadata": {},
   "source": [
    "### 2.4 Concatenate, Join, Merge"
   ]
  },
  {
   "cell_type": "markdown",
   "id": "dbf62aa1",
   "metadata": {},
   "source": [
    "|concat|join|merge|\n",
    "|:-:|:-:|:-:|\n",
    "|Pandas function|DataFrame method|DataFrame method|\n",
    "|Combines two or more pandas objects vertically or horizontally|Combines two or more pandas objects horizontally|Combines exactly two DataFrames horizontally|\n",
    "|Aligns only on the index|Aligns the calling DataFrame's column(s) or index with the other objects' index (and not the columns)|Aligns the calling DataFrame's column(s)/index with the other DataFrame's column(s)/index|\n",
    "|Errors whenever a duplicate appears in the index|Handles duplicate values on the joining columns/index by performing a cartesian product|Handles duplicate values on the joining columns/index by performing a cartesian product|\n",
    "|Defaults to outer join with option for inner|Defaults to left join with options for inner, outer, and right|Defaults to inner join with options for left, outer, and right|"
   ]
  },
  {
   "cell_type": "code",
   "execution_count": 20,
   "id": "5a8b8d7f",
   "metadata": {},
   "outputs": [],
   "source": [
    "# Since I didnot download the original files\n",
    "#I will not run the codes here\n",
    "\n",
    "#import pandas as pd\n",
    "\n",
    "#years = [2016, 2017, 2018]\n",
    "\n",
    "#stock_tables = [pd.read_csv(f'stocks_{year}.csv',index_col='Symbol') for year in years]\n",
    "\n",
    "#stocks_2016, stocks_2017, stocks_2018 = stock_tables\n",
    "\n",
    "#for stock in stock_tables:\n",
    "#  print(stock)\n",
    "\n",
    "#stocks_16_17_18 = pd.concat(stock_tables,keys=[2016, 2017, 2018])\n",
    "# Here, we can use 'axis = 1' to concatenate tables horizontally\n",
    "#print(stocks_16_17_18)\n",
    "\n",
    "#join method\n",
    "#other = [stocks_2017.add_suffix('_2017'),\n",
    "#         stocks_2018.add_suffix('_2018')]\n",
    "        \n",
    "#stocks_16_17_18 = stocks_2016.add_suffix('_2016')\\\n",
    "#                             .join(other, how='outer')\n",
    "\n",
    "#print(stocks_16_17_18)\n",
    "\n",
    "#merge method\n",
    "#stocks_16_17 = stocks_2016.merge(stocks_2017,\\\n",
    "#                                 left_index=True,\\\n",
    "#                                 right_index=True)\n",
    "\n",
    "#print(stocks_16_17)"
   ]
  },
  {
   "cell_type": "markdown",
   "id": "d3eb1754",
   "metadata": {},
   "source": [
    "By default, merge uses an inner join and automatically supplies suffixes for identically named columns. Let's change to an outer join and then perform another outer join of the 2018 data to exactly replicate concat."
   ]
  },
  {
   "cell_type": "code",
   "execution_count": 21,
   "id": "3b22f764",
   "metadata": {},
   "outputs": [],
   "source": [
    "#stocks_16_17 = stocks_2016.merge(stocks_2017,\\\n",
    "#                                 left_index=True, right_index=True,\\\n",
    "#                                 suffixes=('_2016', '_2017'))\n",
    "                                 \n",
    "#stocks_16_17_18 = stocks_16_17.merge(stocks_2018.add_suffix('_2018'),\n",
    "#                                     left_index=True, right_index=True,\n",
    "#                                     how='outer')\n",
    "#print(stocks_16_17_18)"
   ]
  },
  {
   "cell_type": "markdown",
   "id": "66e26452",
   "metadata": {},
   "source": [
    "## Lesson3 Data Transforming & Cleaning"
   ]
  },
  {
   "cell_type": "markdown",
   "id": "78844b08",
   "metadata": {},
   "source": [
    "### 3.1 Arithmetic Operators"
   ]
  },
  {
   "cell_type": "markdown",
   "id": "f0ec50f6",
   "metadata": {},
   "source": [
    "Simple arithmetic symbols such as -, +, *, and / can be directly used for formulating arithmetic operations between rows or columns.\n",
    "\n",
    "Some arithmetic method can also be used in replacement of the arithmetic symbols:\n",
    "\n",
    "- add\tMethods for addition (+)\n",
    "- sub\tMethods for subtraction (-)\n",
    "- div\tMethods for division(/)\n",
    "- mul\tMethods for multiply (*)\n",
    "- pow\tMethods for exponent (**)\n",
    "- floordiv Methods for floor division(//)"
   ]
  },
  {
   "cell_type": "code",
   "execution_count": 22,
   "id": "5dbc4599",
   "metadata": {},
   "outputs": [
    {
     "name": "stdout",
     "output_type": "stream",
     "text": [
      "      age  age_minus_5\n",
      "1    65.2         60.2\n",
      "2    78.9         73.9\n",
      "3    61.1         56.1\n",
      "4    45.8         40.8\n",
      "5    54.2         49.2\n",
      "..    ...          ...\n",
      "502  69.1         64.1\n",
      "503  76.7         71.7\n",
      "504  91.0         86.0\n",
      "505  89.3         84.3\n",
      "506  80.8         75.8\n",
      "\n",
      "[506 rows x 2 columns]\n"
     ]
    }
   ],
   "source": [
    "import pandas as pd\n",
    "\n",
    "df = pd.read_csv(\"boston.csv\", index_col=0)\n",
    "\n",
    "# Reduce the number of \"age\" by 5\n",
    "df[\"age_minus_5\"] = df[\"age\"] - 5\n",
    "\n",
    "# Dividing the \"crim\" by \"black\" then multiply by 100\n",
    "#df[\"crim_per_black\"] = ( df[\"crim\"] / df[\"black\"] ) * 100\n",
    "\n",
    "print(df[[\"age\",\"age_minus_5\"]])\n",
    "#print(df[[\"crim\",\"black\",\"crim_per_black\"]])\n",
    "\n",
    "# Dividing \"tax\" by 100\n",
    "df[\"tax_pct\"] = df[\"tax\"].div(100)\n",
    "\n",
    "# Square root of \"crim\" then multiply by \"medv\"\n",
    "df[\"crim_root\"] = df[\"crim\"].pow(1/2).mul(df[\"medv\"])\n"
   ]
  },
  {
   "cell_type": "markdown",
   "id": "037a4686",
   "metadata": {},
   "source": [
    "### 3.2 Handling Missing Data"
   ]
  },
  {
   "cell_type": "markdown",
   "id": "7c47d1d7",
   "metadata": {},
   "source": [
    "In this example we make a small Series to see how missing data works. Note that missing data is represented by NaN."
   ]
  },
  {
   "cell_type": "code",
   "execution_count": 23,
   "id": "32b46517",
   "metadata": {},
   "outputs": [
    {
     "name": "stdout",
     "output_type": "stream",
     "text": [
      "0    apple\n",
      "1      air\n",
      "2      NaN\n",
      "3      art\n",
      "dtype: object\n",
      "0    False\n",
      "1    False\n",
      "2     True\n",
      "3    False\n",
      "dtype: bool\n"
     ]
    }
   ],
   "source": [
    "import pandas as pd\n",
    "import numpy as np\n",
    "\n",
    "string_data = pd.Series(['apple', 'air', np.nan, 'art'])\n",
    "\n",
    "print(string_data)\n",
    "\n",
    "print(string_data.isnull())"
   ]
  },
  {
   "cell_type": "markdown",
   "id": "e52df915",
   "metadata": {},
   "source": [
    "There are a few ways to filter out missing data. While you always have the option to do it by hand using isnull and boolean indexing, the dropna can be helpful. On a Series, it returns the Series with only the non-null data and index values.\n",
    "\n",
    "Suppose you want to keep only rows containing a certain number of observations. You can indicate this with the thresh argument."
   ]
  },
  {
   "cell_type": "code",
   "execution_count": 25,
   "id": "6ff5d8ef",
   "metadata": {
    "scrolled": true
   },
   "outputs": [
    {
     "name": "stdout",
     "output_type": "stream",
     "text": [
      "    Unnamed: 0     crim  ...  lstat  medv\n",
      "0            1  0.00632  ...   4.98  24.0\n",
      "1            2  0.02731  ...   9.14  21.6\n",
      "2            3  0.02729  ...   4.03  34.7\n",
      "3            4  0.03237  ...   2.94  33.4\n",
      "4            5  0.06905  ...   5.33  36.2\n",
      "5            6  0.02985  ...   5.21  28.7\n",
      "6            7  0.08829  ...  12.43  22.9\n",
      "8            9  0.21124  ...  29.93  16.5\n",
      "10          11  0.22489  ...  20.45  15.0\n",
      "11          12  0.11747  ...  13.27  18.9\n",
      "12          13  0.09378  ...  15.71  21.7\n",
      "13          14  0.62976  ...   8.26  20.4\n",
      "14          15  0.63796  ...  10.26  18.2\n",
      "16          17  1.05393  ...   6.58  23.1\n",
      "18          19  0.80271  ...  11.69  20.2\n",
      "19          20  0.72580  ...  11.28  18.2\n",
      "\n",
      "[16 rows x 15 columns]\n",
      "   Unnamed: 0     crim  ...  lstat  medv\n",
      "0           1  0.00632  ...   4.98  24.0\n",
      "1           2  0.02731  ...   9.14  21.6\n",
      "2           3  0.02729  ...   4.03  34.7\n",
      "3           4  0.03237  ...   2.94  33.4\n",
      "4           5  0.06905  ...   5.33  36.2\n",
      "\n",
      "[5 rows x 15 columns]\n"
     ]
    }
   ],
   "source": [
    "import pandas as pd\n",
    "\n",
    "df = pd.read_csv('data.csv')\n",
    "\n",
    "# Drop lines with missing value(s)\n",
    "cleaned1 = df.dropna()\n",
    "print(cleaned1)\n",
    "\n",
    "# Drop lines with the number of filled values less than 10\n",
    "cleaned2 = df.dropna(thresh=10)\n",
    "print(cleaned2.head(5))"
   ]
  },
  {
   "cell_type": "markdown",
   "id": "daa4cedc",
   "metadata": {},
   "source": [
    "Rather than filtering out missing data, you may want to fill in the \"holes\" in any number of ways. Calling <u>fillna</u> with a constant replaces missing values with that value. You might also pass the mean or median value of a Series."
   ]
  },
  {
   "cell_type": "code",
   "execution_count": 31,
   "id": "84c30d17",
   "metadata": {
    "scrolled": true
   },
   "outputs": [
    {
     "name": "stdout",
     "output_type": "stream",
     "text": [
      "0     396.90\n",
      "1     396.90\n",
      "2     392.83\n",
      "3     394.63\n",
      "4     396.90\n",
      "5     394.12\n",
      "6     395.60\n",
      "7        NaN\n",
      "8     386.63\n",
      "9      17.10\n",
      "10    392.52\n",
      "11    396.90\n",
      "12    390.50\n",
      "13    396.90\n",
      "14    380.02\n",
      "15    395.62\n",
      "16    386.85\n",
      "17     14.67\n",
      "18    288.99\n",
      "19    390.95\n",
      "Name: black, dtype: float64\n",
      "0                                                 396.9\n",
      "1                                                 396.9\n",
      "2                                                392.83\n",
      "3                                                394.63\n",
      "4                                                 396.9\n",
      "5                                                394.12\n",
      "6                                                 395.6\n",
      "7     <bound method NDFrame._add_numeric_operations....\n",
      "8                                                386.63\n",
      "9                                                  17.1\n",
      "10                                               392.52\n",
      "11                                                396.9\n",
      "12                                                390.5\n",
      "13                                                396.9\n",
      "14                                               380.02\n",
      "15                                               395.62\n",
      "16                                               386.85\n",
      "17                                                14.67\n",
      "18                                               288.99\n",
      "19                                               390.95\n",
      "Name: black, dtype: object\n"
     ]
    }
   ],
   "source": [
    "import pandas as pd\n",
    "\n",
    "df = pd.read_csv('data.csv')\n",
    "\n",
    "# Filling the missing values of column \"zn\" with 0\n",
    "df[\"zn\"] = df[\"zn\"].fillna(0)\n",
    "\n",
    "# Filling the missing values of column \"black\" and \"ptratio\" \n",
    "# with their respective mean\n",
    "print(df['black'])\n",
    "df[[\"black\",\"ptratio\"]] = df[[\"black\",\"ptratio\"]].fillna(df[[\"black\",\"ptratio\"]].mean)\n",
    "\n",
    "print(df['black'])"
   ]
  },
  {
   "cell_type": "markdown",
   "id": "27b91b88",
   "metadata": {},
   "source": [
    "### 3.3 Discretization"
   ]
  },
  {
   "cell_type": "markdown",
   "id": "c79255a5",
   "metadata": {},
   "source": [
    "Suppose you have data about a group of people in a study, and you want to group them into discrete age buckets.\n",
    "\n",
    "Let's divide these into bins of 18 to 25, 26 to 35, 36 to 60, and finally 60 and older. To do so, you have to use cut, a function in pandas."
   ]
  },
  {
   "cell_type": "code",
   "execution_count": 32,
   "id": "8ffe477a",
   "metadata": {},
   "outputs": [
    {
     "name": "stdout",
     "output_type": "stream",
     "text": [
      "['Kid', 'Kid', 'Kid', 'Young Adult', 'Kid', ..., 'Adult', 'Senior', 'Adult', 'Adult', 'Young Adult']\n",
      "Length: 11\n",
      "Categories (4, object): ['Kid' < 'Young Adult' < 'Adult' < 'Senior']\n"
     ]
    }
   ],
   "source": [
    "import pandas as pd\n",
    "\n",
    "ages = [20, 22, 25, 27, 21, 23, 37, 61, 45, 41, 32]\n",
    "\n",
    "bins = [18, 25, 35, 60, 100]\n",
    "\n",
    "cats = pd.cut(ages, bins, labels=[\"Kid\", \"Young Adult\", \"Adult\", \"Senior\"])\n",
    "\n",
    "print(cats)"
   ]
  },
  {
   "cell_type": "markdown",
   "id": "50077f76",
   "metadata": {},
   "source": [
    "This Categorical object contains a categories array specifying the distinct category names along with a labeling for the ages data in the codes attributes.\n",
    "\n",
    "We can also replace the label using reset_index and set_index."
   ]
  },
  {
   "cell_type": "code",
   "execution_count": 33,
   "id": "a307fe37",
   "metadata": {},
   "outputs": [
    {
     "name": "stdout",
     "output_type": "stream",
     "text": [
      "                age_cat    0\n",
      "New        (2.8, 22.32]   45\n",
      "Normal   (22.32, 41.74]   71\n",
      "Mid-Age  (41.74, 61.16]   70\n",
      "Old      (61.16, 80.58]   81\n",
      "Ancient  (80.58, 100.0]  239\n"
     ]
    }
   ],
   "source": [
    "import pandas as pd\n",
    "\n",
    "df = pd.read_csv(\"boston.csv\")\n",
    "\n",
    "# Dividing the dataset based on \"age\" into 5 parts\n",
    "# (with 2 decimals).\n",
    "df[\"age_cat\"], bins = pd.cut(df[\"age\"], 5, precision=2, retbins=True)\n",
    "\n",
    "# Getting the size of each group\n",
    "group_size = df.groupby(\"age_cat\").size()\n",
    "\n",
    "# Changing the label of the group\n",
    "group_label = pd.Series([\"New\", \"Normal\", \"Mid-Age\",\"Old\",\"Ancient\"])\n",
    "print(group_size.reset_index().set_index(group_label))"
   ]
  },
  {
   "cell_type": "markdown",
   "id": "ef00c5b7",
   "metadata": {},
   "source": [
    "If you pass an integer number of bins to cut instead of explicit bin edges, it will compute equal-length bins based on the minimum and maximum values in the data. "
   ]
  },
  {
   "cell_type": "code",
   "execution_count": 35,
   "id": "25909f7c",
   "metadata": {},
   "outputs": [
    {
     "name": "stdout",
     "output_type": "stream",
     "text": [
      "(80.58, 100.0]    239\n",
      "(61.16, 80.58]     81\n",
      "(22.32, 41.74]     71\n",
      "(41.74, 61.16]     70\n",
      "(2.8, 22.32]       45\n",
      "Name: age, dtype: int64\n"
     ]
    }
   ],
   "source": [
    "import pandas as pd\n",
    "\n",
    "df = pd.read_csv(\"boston.csv\")\n",
    "\n",
    "# Dividing the dataset based on \"age\" into 5 parts\n",
    "# (with 2 decimals).\n",
    "cats = pd.cut(df[\"age\"], 5, precision=2)\n",
    "\n",
    "print(pd.value_counts(cats))"
   ]
  },
  {
   "cell_type": "markdown",
   "id": "0055776f",
   "metadata": {},
   "source": [
    "A closely related function, qcut, bins the data based on sample quantiles. Since qcut uses sample quantiles instead, by definition you will obtain roughly equal-size bins.\n",
    "\n",
    "Similar to cut, you can pass your own quantiles."
   ]
  },
  {
   "cell_type": "code",
   "execution_count": 34,
   "id": "0d7ccc40",
   "metadata": {},
   "outputs": [
    {
     "name": "stdout",
     "output_type": "stream",
     "text": [
      "(2.89, 37.8]     102\n",
      "(37.8, 65.4]     101\n",
      "(65.4, 85.9]     101\n",
      "(85.9, 95.6]     101\n",
      "(95.6, 100.0]    101\n",
      "Name: age, dtype: int64\n",
      "(77.5, 98.8]      205\n",
      "(26.95, 77.5]     202\n",
      "(2.899, 26.95]     51\n",
      "(98.8, 100.0]      48\n",
      "Name: age, dtype: int64\n"
     ]
    }
   ],
   "source": [
    "import pandas as pd\n",
    "\n",
    "df = pd.read_csv(\"boston.csv\")\n",
    "\n",
    "# Dividing the dataset based on \"age\" into 5 quantile\n",
    "# (with 2 decimals).\n",
    "cats = pd.qcut(df[\"age\"], 5, precision=2)\n",
    "\n",
    "print(pd.value_counts(cats))\n",
    "\n",
    "# Dividing using qcut with specified quantiles\n",
    "cats2 = pd.qcut(df[\"age\"], [0, 0.1, 0.5, 0.9, 1])\n",
    "\n",
    "print(pd.value_counts(cats2))"
   ]
  },
  {
   "cell_type": "markdown",
   "id": "70e34c91",
   "metadata": {},
   "source": [
    "### 3.4 Statistics"
   ]
  },
  {
   "cell_type": "markdown",
   "id": "b9967559",
   "metadata": {},
   "source": [
    "Here, we generate some normally distributed random data and compute some aggregate statistics:"
   ]
  },
  {
   "cell_type": "code",
   "execution_count": 36,
   "id": "4934da87",
   "metadata": {},
   "outputs": [
    {
     "name": "stdout",
     "output_type": "stream",
     "text": [
      "408.2371541501976\n",
      "11401.600000000002\n"
     ]
    }
   ],
   "source": [
    "import pandas as pd\n",
    "\n",
    "df = pd.read_csv(\"boston.csv\")\n",
    "\n",
    "# Finding the average of \"tax\"\n",
    "print(df[\"tax\"].mean())\n",
    "\n",
    "# Finding the sum of \"medv\"\n",
    "print(df[\"medv\"].sum())"
   ]
  },
  {
   "cell_type": "markdown",
   "id": "8fd19910",
   "metadata": {},
   "source": [
    "Functions like mean and sum take an optional axis argument that computes the statistic over the given axis, resulting in an array with one fewer dimension."
   ]
  },
  {
   "cell_type": "code",
   "execution_count": 37,
   "id": "5e4390e4",
   "metadata": {},
   "outputs": [
    {
     "name": "stdout",
     "output_type": "stream",
     "text": [
      "Unnamed: 0    506.0000\n",
      "crim           88.9762\n",
      "zn            100.0000\n",
      "indus          27.7400\n",
      "chas            1.0000\n",
      "nox             0.8710\n",
      "rm              8.7800\n",
      "age           100.0000\n",
      "dis            12.1265\n",
      "rad            24.0000\n",
      "tax           711.0000\n",
      "ptratio        22.0000\n",
      "black         396.9000\n",
      "lstat          37.9700\n",
      "medv           50.0000\n",
      "dtype: float64\n",
      "0      120.724385\n",
      "1      113.947823\n",
      "2      112.764675\n",
      "3      110.898151\n",
      "4      111.271374\n",
      "          ...    \n",
      "501    162.891881\n",
      "502    163.779211\n",
      "503    163.929597\n",
      "504    163.669989\n",
      "505    164.614424\n",
      "Length: 506, dtype: float64\n"
     ]
    }
   ],
   "source": [
    "import pandas as pd\n",
    "\n",
    "df = pd.read_csv(\"boston.csv\")\n",
    "\n",
    "\n",
    "# Finding the maximum of all the columns (axis=0)\n",
    "print(df.max(axis=0))\n",
    "\n",
    "# Finding the standard deviation of all the rows (axis=1)\n",
    "print(df.std(axis=1))"
   ]
  },
  {
   "cell_type": "markdown",
   "id": "9791c8df",
   "metadata": {},
   "source": [
    "Other methods like cumsum and cumprod do not aggregate, instead producing an array of the intermediate results.\n",
    "\n",
    "Descriptive and Summary Statistics\n",
    "- count:\t\tNumber of non-NA values\n",
    "- decsribe:\tCompute set of summary statistics for Series or each DataFrame column\n",
    "- min, max:\tMinimum and maximum\n",
    "- cumsum:\t\tCumulative sum of elements starting from 0\n",
    "- cumprod:\tCumulative product of elements starting from 1"
   ]
  },
  {
   "cell_type": "code",
   "execution_count": 38,
   "id": "95d26c84",
   "metadata": {},
   "outputs": [
    {
     "name": "stdout",
     "output_type": "stream",
     "text": [
      "   tax  tax_sum\n",
      "0  296      296\n",
      "1  242      538\n",
      "2  242      780\n",
      "3  222     1002\n",
      "4  222     1224\n",
      "5  222     1446\n",
      "6  311     1757\n",
      "7  311     2068\n",
      "8  311     2379\n",
      "9  311     2690\n"
     ]
    }
   ],
   "source": [
    "import pandas as pd\n",
    "\n",
    "df = pd.read_csv(\"boston.csv\")\n",
    "\n",
    "# Finding the cumulative sum of the tax\n",
    "df[\"tax_sum\"] = df[\"tax\"].cumsum()\n",
    "\n",
    "print(df[[\"tax\",\"tax_sum\"]].head(10))\n"
   ]
  },
  {
   "cell_type": "markdown",
   "id": "fb813e72",
   "metadata": {},
   "source": [
    "Instead of specifying each statistics, the method describe is useful if you want to get all the essential statistics at once."
   ]
  },
  {
   "cell_type": "code",
   "execution_count": 39,
   "id": "2bddab42",
   "metadata": {},
   "outputs": [
    {
     "name": "stdout",
     "output_type": "stream",
     "text": [
      "count    506.000000\n",
      "mean      68.574901\n",
      "std       28.148861\n",
      "min        2.900000\n",
      "25%       45.025000\n",
      "50%       77.500000\n",
      "75%       94.075000\n",
      "max      100.000000\n",
      "Name: age, dtype: float64\n"
     ]
    }
   ],
   "source": [
    "import pandas as pd\n",
    "\n",
    "df = pd.read_csv(\"boston.csv\")\n",
    "\n",
    "# Calculating All Statistics for \"age\"\n",
    "print(df[\"age\"].describe())"
   ]
  },
  {
   "cell_type": "markdown",
   "id": "5cfd6d72",
   "metadata": {},
   "source": [
    "While you can always calculate manually for mean or standard deviation, we will see which method is faster to compute both of them."
   ]
  },
  {
   "cell_type": "code",
   "execution_count": 40,
   "id": "8daf59f7",
   "metadata": {},
   "outputs": [
    {
     "name": "stdout",
     "output_type": "stream",
     "text": [
      "408.2371541501976\n",
      "28404.759488122803\n",
      "Time elapsed 0.016669958000420593 s\n"
     ]
    }
   ],
   "source": [
    "# CALCULATING STATISTICS (CUSTOM FORMULA)\n",
    "import pandas as pd\n",
    "import timeit\n",
    "\n",
    "df = pd.read_csv(\"boston.csv\")\n",
    "\n",
    "# Setting Start Time\n",
    "start = timeit.default_timer()\n",
    "\n",
    "# Calculating mean of \"tax\" manually\n",
    "col_mean = 0.0\n",
    "for row in range(len(df)):\n",
    "    col_mean += df.loc[row, \"tax\"]\n",
    "col_mean /= len(df)\n",
    "print(col_mean)\n",
    "\n",
    "# Calculating variance of \"tax\" manually\n",
    "col_var = 0.0\n",
    "for row in range(len(df)):\n",
    "    col_var += (df.loc[row, \"tax\"] - col_mean)**2\n",
    "col_var /= len(df) - 1 # unbiased\n",
    "print(col_var)\n",
    "\n",
    "# Setting Stop Time\n",
    "stop = timeit.default_timer()\n",
    "\n",
    "t_custom = stop - start\n",
    "\n",
    "print(f\"Time elapsed {t_custom} s\")\n"
   ]
  },
  {
   "cell_type": "code",
   "execution_count": 41,
   "id": "1a372410",
   "metadata": {},
   "outputs": [
    {
     "name": "stdout",
     "output_type": "stream",
     "text": [
      "408.2371541501976\n",
      "28404.759488122803\n",
      "Time elapsed 0.0010573330000624992 s\n"
     ]
    }
   ],
   "source": [
    "# CALCULATING STATISTICS (WITH PANDAS METHOD)\n",
    "import pandas as pd\n",
    "import timeit\n",
    "\n",
    "df = pd.read_csv(\"boston.csv\")\n",
    "\n",
    "# Setting Start Time\n",
    "start = timeit.default_timer()\n",
    "\n",
    "# Calculating mean of \"tax\" using .mean()\n",
    "col_mean = df[\"tax\"].mean()\n",
    "print(col_mean)\n",
    "\n",
    "# Calculating variance of \"tax\" using .var()\n",
    "col_var = df[\"tax\"].var()\n",
    "print(col_var)\n",
    "\n",
    "# Setting Stop Time\n",
    "stop = timeit.default_timer()\n",
    "\n",
    "t_pd = stop - start\n",
    "\n",
    "print(f\"Time elapsed {t_pd} s\")\n"
   ]
  },
  {
   "cell_type": "markdown",
   "id": "390fa2ae",
   "metadata": {},
   "source": [
    "### 3.5 Filtering"
   ]
  },
  {
   "cell_type": "markdown",
   "id": "348fe59b",
   "metadata": {},
   "source": [
    "As we have learned before, boolean conditions can be used to filter out some conditions, both in DataFrame object and Groupby object.\n",
    "\n",
    "We will combine that using aggregation function. \n",
    "\n",
    "In this example, we will find the 'AIRLINE' where its average 'DEP_DELAY' is higher than the average 'DEP_DELAY' of all flights."
   ]
  },
  {
   "cell_type": "code",
   "execution_count": 42,
   "id": "4d3b7d8d",
   "metadata": {},
   "outputs": [
    {
     "name": "stdout",
     "output_type": "stream",
     "text": [
      "AIRLINE\n",
      "AA    19.908497\n",
      "B6    21.900000\n",
      "F9    20.214286\n",
      "NK    14.000000\n",
      "UA    22.140845\n",
      "WN    14.926316\n",
      "Name: DEP_DELAY, dtype: float64\n"
     ]
    }
   ],
   "source": [
    "import pandas as pd\n",
    "\n",
    "flights = pd.read_csv('flights.csv')\n",
    "\n",
    "mean_DEP_DELAY_all = flights[\"DEP_DELAY\"].mean()\n",
    "\n",
    "mean_DEP_DELAY_AIRLINE = flights.groupby(\"AIRLINE\")[\"DEP_DELAY\"].mean()\n",
    "\n",
    "condition = mean_DEP_DELAY_AIRLINE > mean_DEP_DELAY_all\n",
    "higher_mean_DEP_DELAY_AIRLINE = mean_DEP_DELAY_AIRLINE[condition]\n",
    "\n",
    "print(higher_mean_DEP_DELAY_AIRLINE)"
   ]
  },
  {
   "cell_type": "markdown",
   "id": "be301bde",
   "metadata": {},
   "source": [
    "In Lesson 1.4, we learned that filter can be used on DataFrame object to select the necessary columns. \n",
    "\n",
    "When the filter method is used on the GroupBy object, it will return a copy of a DataFrame excluding filtered elements. "
   ]
  },
  {
   "cell_type": "code",
   "execution_count": 43,
   "id": "0d89e692",
   "metadata": {},
   "outputs": [
    {
     "name": "stdout",
     "output_type": "stream",
     "text": [
      "      MONTH  DAY  ...  SCHED_ARR ARR_DELAY\n",
      "4         1    2  ...       1230      44.0\n",
      "11        1    4  ...       1616     343.0\n",
      "13        1    4  ...        949     -15.0\n",
      "14        1    5  ...       1351      -4.0\n",
      "15        1    5  ...       1240      30.0\n",
      "...     ...  ...  ...        ...       ...\n",
      "1147     12   25  ...       1351     -15.0\n",
      "1153     12   27  ...       1503      36.0\n",
      "1154     12   27  ...       1403     179.0\n",
      "1161     12   29  ...       2159      -4.0\n",
      "1169     12   31  ...        521     -17.0\n",
      "\n",
      "[336 rows x 12 columns]\n"
     ]
    }
   ],
   "source": [
    "import pandas as pd\n",
    "\n",
    "flights = pd.read_csv('flights.csv')\n",
    "\n",
    "mean_DEP_DELAY_AIRLINE = flights.groupby(\"AIRLINE\")[\"DEP_DELAY\"].mean()\n",
    "\n",
    "condition_func = lambda group: group[\"DEP_DELAY\"].mean() > 15\n",
    "higher_mean_DEP_DELAY_flights = flights.groupby(\"AIRLINE\").filter(condition_func)\n",
    "print(higher_mean_DEP_DELAY_flights)"
   ]
  },
  {
   "cell_type": "markdown",
   "id": "39228010",
   "metadata": {},
   "source": [
    "## Lesson4 Data Visualization"
   ]
  },
  {
   "cell_type": "markdown",
   "id": "5e6b34ef",
   "metadata": {},
   "source": [
    "### 4.1 Intro to Matplotlib"
   ]
  },
  {
   "cell_type": "markdown",
   "id": "eb9318c1",
   "metadata": {},
   "source": [
    "With matplotlib, we use the following import convention:\n",
    "\n",
    "**import matplotlib.pyplot as plt**\n",
    "\n",
    "To make  a plot, we can simply add plt.plot() follow by the x and y axis."
   ]
  },
  {
   "cell_type": "code",
   "execution_count": 48,
   "id": "3e296d07",
   "metadata": {},
   "outputs": [
    {
     "data": {
      "image/png": "[encoded data removed]",
      "text/plain": [
       "<Figure size 432x288 with 1 Axes>"
      ]
     },
     "metadata": {
      "needs_background": "light"
     },
     "output_type": "display_data"
    }
   ],
   "source": [
    "import matplotlib.pyplot as plt\n",
    "import numpy as np\n",
    "\n",
    "# The range of x is from 0 to 5 with 0.01 step.\n",
    "x1 = np.arange(0,5,0.001)\n",
    "y1 = x1**2\n",
    "\n",
    "fig = plt.plot(x1, y1)\n",
    "\n",
    "plt.show()"
   ]
  },
  {
   "cell_type": "markdown",
   "id": "eb9f9c51",
   "metadata": {},
   "source": [
    "Making multiple plot\n",
    "The subplots method of matplotlib can be used to make multiple plot.\n",
    "\n",
    "This method returns two variables for the figure and the axis, usually named fig and ax.\n",
    "\n",
    "Common options in subplots:\n",
    "\n",
    "nrows, ncols  \n",
    "Number of rows/columns of the subplot grid.\n",
    "\n",
    "sharex, sharey  \n",
    "Controls sharing of properties among x (sharex) or y (sharey) axes."
   ]
  },
  {
   "cell_type": "code",
   "execution_count": 61,
   "id": "ca283153",
   "metadata": {},
   "outputs": [
    {
     "data": {
      "image/png": "[encoded data removed]",
      "text/plain": [
       "<Figure size 432x288 with 2 Axes>"
      ]
     },
     "metadata": {
      "needs_background": "light"
     },
     "output_type": "display_data"
    }
   ],
   "source": [
    "import matplotlib.pyplot as plt\n",
    "import numpy as np\n",
    "\n",
    "# Stating that the subplots has 1 row and 2 columns with shared y-axis\n",
    "fig, ax = plt.subplots(nrows=1, ncols=2, sharey=True)\n",
    "\n",
    "# Making the first plot (y = x^2)\n",
    "x1 = np.arange(0,5,0.01)\n",
    "y1 = x1**2\n",
    "ax[0].plot(x1,y1)\n",
    "\n",
    "# Making the second plot (y = 10x^(1/2))\n",
    "x2 = np.arange(0,5,0.01)\n",
    "y2 = 10*x2**(1/2)\n",
    "ax[1].plot(x2,y2)\n",
    "\n",
    "plt.show()"
   ]
  },
  {
   "cell_type": "markdown",
   "id": "4338703b",
   "metadata": {},
   "source": [
    "Matplotlib's main plot function accepts arrays of x and y coordinates and optionally a string abbreviation indicating color and line style.  For example, to plot x versus y with green dashes, you would execute:\n",
    "\n",
    "ax.plot(x, y, 'g--')\n",
    "\n",
    "The same plot could also have been expressed more explicitly as:\n",
    "\n",
    "ax.plot(x, y, linestyle='--', color='g')"
   ]
  },
  {
   "cell_type": "code",
   "execution_count": 67,
   "id": "22aae060",
   "metadata": {},
   "outputs": [
    {
     "data": {
      "image/png": "[encoded data removed]",
      "text/plain": [
       "<Figure size 432x288 with 2 Axes>"
      ]
     },
     "metadata": {
      "needs_background": "light"
     },
     "output_type": "display_data"
    }
   ],
   "source": [
    "import matplotlib.pyplot as plt\n",
    "import numpy as np\n",
    "\n",
    "# Stating that the subplots has 1 row and 2 columns with shared y-axis\n",
    "fig, ax = plt.subplots(nrows=1, ncols=2, sharey=True)\n",
    "\n",
    "# Making the first plot (y = x^2)\n",
    "x1 = np.arange(0,5,1)\n",
    "y1 = x1**2\n",
    "ax[0].plot(x1, y1, color=\"black\", linestyle=\"dashed\", marker=\"o\") \n",
    "# long notation\n",
    "\n",
    "# Making the second plot (y = 10x^(1/2))\n",
    "x2 = np.arange(0,5,1)\n",
    "y2 = 10*x2**(1/2)\n",
    "ax[1].plot(x2, y2, \"r:s\") \n",
    "# short notation (\"red\", \"dotted\", square marker)\n",
    "\n",
    "plt.show()"
   ]
  },
  {
   "cell_type": "markdown",
   "id": "798bbebd",
   "metadata": {},
   "source": [
    "|linestyle|color|marker|\n",
    "|:-:|:-:|:-:|\n",
    "|'-' : Solid Line|'b':Blue|'.':Point|\n",
    "|'--' : Dashed Line|'g':Green|',':Pixel|\n",
    "|'-.' : Dash-dot Line|'r':Red|'o':Circle|\n",
    "|':' : Dotted Line|'c':Cyan|'s':Square|\n",
    "||'m':Magenta|'\\*':Star|\n",
    "||'k':Black|'+':Plus|\n",
    "||'w':White|'x':X|"
   ]
  },
  {
   "cell_type": "markdown",
   "id": "8bda9b0a",
   "metadata": {},
   "source": [
    "Sometimes we want to format the number of ticks and the labels.\n",
    "\n",
    "To change the axis ticks, we can use set_xticks, set_yticks. \n",
    "\n",
    "For changing the name of the ticks, we can use set_xticklabels, set_yticklabels. \n",
    "\n",
    "Lastly, using the method suptitle on the fig and set_title on the ax, we can give the title to our figures."
   ]
  },
  {
   "cell_type": "code",
   "execution_count": 68,
   "id": "b8fbfb5f",
   "metadata": {},
   "outputs": [
    {
     "data": {
      "image/png": "[encoded data removed]",
      "text/plain": [
       "<Figure size 432x288 with 2 Axes>"
      ]
     },
     "metadata": {
      "needs_background": "light"
     },
     "output_type": "display_data"
    }
   ],
   "source": [
    "import matplotlib.pyplot as plt\n",
    "import numpy as np\n",
    "\n",
    "fig, ax = plt.subplots(nrows=1, ncols=2, sharey=True)\n",
    "\n",
    "x1 = np.arange(0,5,1)\n",
    "y1 = x1**2\n",
    "ax[0].plot(x1, y1, color=\"black\", linestyle=\"dashed\", marker=\"o\")\n",
    "\n",
    "x2 = np.arange(0,5,1)\n",
    "y2 = 10*x2**(1/2)\n",
    "ax[1].plot(x2, y2, \"r:s\")\n",
    "\n",
    "# Defining the ticks and labels\n",
    "ticks = np.arange(0,21,1)\n",
    "labels= [f'{tick}.0' for tick in ticks]\n",
    "\n",
    "# Setting the yticks\n",
    "ax[0].set_yticks(ticks)\n",
    "ax[0].set_yticklabels(labels)\n",
    "\n",
    "# Adding the Title\n",
    "fig.suptitle(\"Graph of x^2 and 10x^(1/2)\")\n",
    "ax[0].set_title(\"x^2\")\n",
    "ax[1].set_title(\"10x^(1/2)\")\n",
    "\n",
    "plt.show()"
   ]
  },
  {
   "cell_type": "markdown",
   "id": "1bfcf147",
   "metadata": {},
   "source": [
    "### 4.2 Plotting with pandas"
   ]
  },
  {
   "cell_type": "markdown",
   "id": "2c751ced",
   "metadata": {},
   "source": [
    "Every column in a DataFrame can be considered as a Series. It has and DataFrame each have a plot attribute for making some basic plot types.\n",
    "\n",
    "Series.plot method arguments\n",
    "\n",
    "- label:\t\t\tLabel for plot legend\n",
    "- ax\t:\t\t\tmatplotlib subplot object to plot on; if nothing passed, uses active matplotlib subplot\n",
    "- style\t:\t\tStyle string, like 'ko--', to be passed to matplotlib\n",
    "- kind\t:\t\tCan be 'area', 'bar', 'barh', 'density', 'hist', 'kde', 'line', 'pie'\n",
    "- xticks:\t\t\tValues to use for x-axis ticks\n",
    "- yticks:\t\t\tValues to use for y-axis ticks\n",
    "- xlim\t:\t\tx-axis limits (e.g., \\[0,10\\])\n",
    "- ylim\t:\t\ty-axis limits\n",
    "- grid\t:\t\tDisplay axis grid (on by default)"
   ]
  },
  {
   "cell_type": "code",
   "execution_count": 70,
   "id": "feae1e3d",
   "metadata": {},
   "outputs": [
    {
     "data": {
      "image/png": "[encoded data removed]",
      "text/plain": [
       "<Figure size 432x288 with 2 Axes>"
      ]
     },
     "metadata": {
      "needs_background": "light"
     },
     "output_type": "display_data"
    }
   ],
   "source": [
    "import pandas as pd\n",
    "import matplotlib.pyplot as plt\n",
    "\n",
    "df = pd.read_csv(\"boston.csv\", index_col=0)\n",
    "\n",
    "# Making a Figure with one row and two columns\n",
    "fig, axes = plt.subplots(nrows=1, ncols=2)\n",
    "\n",
    "# Plot \"age\" using histogram\n",
    "df[\"age\"].plot(kind=\"hist\", title=\"Age Histogram\", ax=axes[0])\n",
    "\n",
    "# Plot \"crim\" and \"medv\" using boxplot\n",
    "df[[\"crim\",\"medv\"]].plot(kind=\"box\", title=\"Crim and Median Value Boxplot\", ax=axes[1])\n",
    "\n",
    "plt.show()"
   ]
  },
  {
   "cell_type": "markdown",
   "id": "f0b6474d",
   "metadata": {},
   "source": [
    "### 4.3 Styles of Visualization"
   ]
  },
  {
   "cell_type": "markdown",
   "id": "6d3e743f",
   "metadata": {},
   "source": [
    "By setting as_index=False in a GroupBy object, we can make a DataFrame consisting of multiple columns.\n",
    "\n",
    "Here, we will read a groupby object and use line method to draw the plot."
   ]
  },
  {
   "cell_type": "code",
   "execution_count": 76,
   "id": "cf9b0f99",
   "metadata": {
    "scrolled": false
   },
   "outputs": [
    {
     "name": "stdout",
     "output_type": "stream",
     "text": [
      "    MONTH    AIR_TIME\n",
      "0       1  104.132653\n",
      "1       2  116.647059\n",
      "2       3  110.205607\n",
      "3       4  105.198113\n",
      "4       5  105.853211\n",
      "5       6  122.875000\n",
      "6       7  117.460870\n",
      "7       8  116.792793\n",
      "8       9  105.807692\n",
      "9      11  111.000000\n",
      "10     12  117.050000\n"
     ]
    },
    {
     "data": {
      "image/png": "[encoded data removed]",
      "text/plain": [
       "<Figure size 432x288 with 1 Axes>"
      ]
     },
     "metadata": {
      "needs_background": "light"
     },
     "output_type": "display_data"
    }
   ],
   "source": [
    "import pandas as pd\n",
    "import matplotlib.pyplot as plt\n",
    "\n",
    "flights = pd.read_csv('flights.csv')\n",
    "\n",
    "# Finding the average of AIR_TIME per month\n",
    "air_time_average = flights.groupby(\"MONTH\", as_index=False)['AIR_TIME'].agg('mean')\n",
    "print(air_time_average)\n",
    "\n",
    "# Plotting with x-axis MONTH, no legend\n",
    "air_time_average.plot.line(\"MONTH\", legend=False, title=\"AIR TIME vs MONTH\")\n",
    "\n",
    "plt.show()"
   ]
  },
  {
   "cell_type": "markdown",
   "id": "d82a9915",
   "metadata": {},
   "source": [
    "In this example, we want to make a pie plot for weekend and weekday flights.\n",
    "\n",
    "We will use groupby object and make a new DataFrame that contains the essential informations.\n",
    "\n",
    "At the end, we will use pie method to draw the plot. The autpct option (written between %) can be used to convert the formatting. (.2f% means 2 decimals followed by % symbol)."
   ]
  },
  {
   "cell_type": "code",
   "execution_count": 79,
   "id": "8a80742b",
   "metadata": {},
   "outputs": [
    {
     "name": "stdout",
     "output_type": "stream",
     "text": [
      "   WEEKDAY  DEP_DELAY\n",
      "0        1     1679.0\n",
      "1        2     2291.0\n",
      "2        3     1646.0\n",
      "3        4     2006.0\n",
      "4        5     1622.0\n",
      "5        6     1257.0\n",
      "6        7     3131.0\n",
      "       WEEKDAY  DEP_DELAY\n",
      "0      weekend     4810.0\n",
      "1  not weekend     8822.0\n"
     ]
    },
    {
     "data": {
      "image/png": "[encoded data removed]",
      "text/plain": [
       "<Figure size 432x288 with 1 Axes>"
      ]
     },
     "metadata": {},
     "output_type": "display_data"
    }
   ],
   "source": [
    "import pandas as pd\n",
    "import matplotlib.pyplot as plt\n",
    "\n",
    "flights = pd.read_csv('flights.csv')\n",
    "\n",
    "# Finding out the total of DEP_DELAY in each day of the week\n",
    "flights_in_week = flights.groupby(\"WEEKDAY\", as_index=False)[\"DEP_DELAY\"].agg(\"sum\")\n",
    "print(flights_in_week)\n",
    "\n",
    "# Separating Weekday and Weekend\n",
    "weekend_bool = (flights_in_week[\"WEEKDAY\"] == 1) | (flights_in_week[\"WEEKDAY\"] == 7)\n",
    "\n",
    "weekend = flights_in_week.loc[weekend_bool,\"DEP_DELAY\"].sum()\n",
    "not_weekend = flights_in_week.loc[~weekend_bool,\"DEP_DELAY\"].sum()\n",
    "\n",
    "# Making New DataFrame\n",
    "weekend_df = pd.DataFrame({\"WEEKDAY\": [\"weekend\", \"not weekend\"], \"DEP_DELAY\": [weekend, not_weekend]})\n",
    "print(weekend_df)\n",
    "\n",
    "ax = weekend_df.plot.pie(y=\"DEP_DELAY\", labels=weekend_df[\"WEEKDAY\"], autopct='% .2f%%', legend=False)\n",
    "\n",
    "# Deleting y-label\n",
    "ax.set_ylabel(\"\")\n",
    "plt.show()"
   ]
  },
  {
   "cell_type": "markdown",
   "id": "98f073ea",
   "metadata": {},
   "source": [
    "### 4.4 Advanced Filtering"
   ]
  },
  {
   "cell_type": "markdown",
   "id": "39f10e7f",
   "metadata": {},
   "source": [
    "Before we see further on plotting, we will expand our knowledge on filtering by using some useful methods that return boolean value:\n",
    "\n",
    "| | |\n",
    "|:-:|:-:|\n",
    "|series.between(left, right)|Return boolean Series equivalent to left <= series <= right|\n",
    "|series.gt(other)|Return boolean Series equivalent to series > other|\n",
    "|series.lt(other)|\t\t\t\t\t\tReturn boolean Series equivalent to series < other|\n",
    "|series.eq(other) |\t\t\t\t\t\tEquivalent to series == other.|\n",
    "|series.isin(values)\t|\t\t\t\tReturn a boolean Series showing whether each element in the Series matches an element in the passed sequence of values exactly.|"
   ]
  },
  {
   "cell_type": "code",
   "execution_count": 80,
   "id": "4fcb30e8",
   "metadata": {
    "scrolled": true
   },
   "outputs": [
    {
     "name": "stdout",
     "output_type": "stream",
     "text": [
      "   AIRLINE  WEEKDAY  DEP_DELAY\n",
      "0       AA        2  16.880000\n",
      "1       AA        3   9.700000\n",
      "2       AA        4  12.785714\n",
      "3       AA        5  19.739130\n",
      "4       AA        6  23.200000\n",
      "5       DL        2   7.541667\n",
      "6       DL        3   7.800000\n",
      "7       DL        4   5.100000\n",
      "8       DL        5   1.903226\n",
      "9       DL        6   2.950000\n",
      "10      WN        2  16.642857\n",
      "11      WN        3  12.172414\n",
      "12      WN        4  13.742857\n",
      "13      WN        5  19.040000\n",
      "14      WN        6  15.181818\n"
     ]
    }
   ],
   "source": [
    "import pandas as pd\n",
    "import matplotlib.pyplot as plt\n",
    "\n",
    "flights = pd.read_csv('flights.csv')\n",
    "\n",
    "# Filtering only four AIRLINE (AA, DL, UA, and WN) on WEEKDAY (2,3,4,5,6)\n",
    "three_airline_bool = flights[\"AIRLINE\"].isin([\"AA\",\"DL\",\"WN\"])\n",
    "weekday_bool = flights[\"WEEKDAY\"].between(2, 6)\n",
    "\n",
    "filtered_flights = flights.loc[three_airline_bool & weekday_bool]\n",
    "\n",
    "# Grouping by AIRLINE and WEEKDAY and see the average DEP_DELAY\n",
    "flights_group = filtered_flights.groupby([\"AIRLINE\", \"WEEKDAY\"], as_index=False)[\"DEP_DELAY\"].agg('mean')\n",
    "\n",
    "print(flights_group)"
   ]
  },
  {
   "cell_type": "markdown",
   "id": "4fe081ff",
   "metadata": {},
   "source": [
    "Pivoting is the process of converting a categorical column into headers label.\n",
    "\n",
    "Pivoting requires three argument:  \n",
    "- index: Column to use to make new frame’s index. If None, uses existing index.\n",
    "- columns:  Column to use to make new frame’s columns.\n",
    "- values: Column(s) to use for populating new frame’s values. If not specified, all remaining columns will be used. "
   ]
  },
  {
   "cell_type": "code",
   "execution_count": 82,
   "id": "eb6006fb",
   "metadata": {},
   "outputs": [
    {
     "name": "stdout",
     "output_type": "stream",
     "text": [
      "   AIRLINE  WEEKDAY  DEP_DELAY\n",
      "0       AA        2  16.880000\n",
      "1       AA        3   9.700000\n",
      "2       AA        4  12.785714\n",
      "3       AA        5  19.739130\n",
      "4       AA        6  23.200000\n",
      "5       DL        2   7.541667\n",
      "6       DL        3   7.800000\n",
      "7       DL        4   5.100000\n",
      "8       DL        5   1.903226\n",
      "9       DL        6   2.950000\n",
      "10      WN        2  16.642857\n",
      "11      WN        3  12.172414\n",
      "12      WN        4  13.742857\n",
      "13      WN        5  19.040000\n",
      "14      WN        6  15.181818\n",
      "\n",
      "\n",
      "AIRLINE         AA        DL         WN\n",
      "WEEKDAY                                \n",
      "2        16.880000  7.541667  16.642857\n",
      "3         9.700000  7.800000  12.172414\n",
      "4        12.785714  5.100000  13.742857\n",
      "5        19.739130  1.903226  19.040000\n",
      "6        23.200000  2.950000  15.181818\n"
     ]
    }
   ],
   "source": [
    "import pandas as pd\n",
    "import matplotlib.pyplot as plt\n",
    "\n",
    "flights = pd.read_csv('flights.csv')\n",
    "\n",
    "# Filtering only four AIRLINE (AA, DL, UA, and WN) on WEEKDAY (2,3,4,5,6)\n",
    "three_airline_bool = flights[\"AIRLINE\"].isin([\"AA\",\"DL\",\"WN\"])\n",
    "weekday_bool = flights[\"WEEKDAY\"].between(2, 6)\n",
    "\n",
    "filtered_flights = flights.loc[three_airline_bool & weekday_bool]\n",
    "\n",
    "# Grouping by AIRLINE and WEEKDAY and see the average DEP_DELAY\n",
    "flights_group = filtered_flights.groupby([\"AIRLINE\", \"WEEKDAY\"], as_index=False)[\"DEP_DELAY\"].agg('mean')\n",
    "print(flights_group)\n",
    "print('\\n')\n",
    "# Pivoting with index=WEEKDAY and columns=AIRLINE\n",
    "pivot_df = flights_group.pivot(index=\"WEEKDAY\", columns=\"AIRLINE\", values=\"DEP_DELAY\")\n",
    "print(pivot_df)\n"
   ]
  },
  {
   "cell_type": "markdown",
   "id": "5d654230",
   "metadata": {},
   "source": [
    "Using the pivot DataFrame, it becomes easier to construct multiple kinds of plots.\n",
    "\n",
    "In this example, we will see 4 kinds of plots for categoric--bar plot, line plot,  a stacked bar chart, and a stacked ratio chart. We also see how to make a histogram from one of the Series."
   ]
  },
  {
   "cell_type": "code",
   "execution_count": 83,
   "id": "93c51879",
   "metadata": {},
   "outputs": [
    {
     "name": "stdout",
     "output_type": "stream",
     "text": [
      "AIRLINE         AA         DL         WN\n",
      "WEEKDAY                                 \n",
      "2        41.106041  18.365406  40.528553\n",
      "3        32.690296  26.287042  41.022661\n",
      "4        40.424571  16.124661  43.450768\n",
      "5        48.520126   4.678259  46.801616\n",
      "6        56.131090   7.137358  36.731552\n"
     ]
    },
    {
     "data": {
      "image/png": "[encoded data removed]",
      "text/plain": [
       "<Figure size 864x576 with 6 Axes>"
      ]
     },
     "metadata": {
      "needs_background": "light"
     },
     "output_type": "display_data"
    }
   ],
   "source": [
    "import pandas as pd\n",
    "import matplotlib.pyplot as plt\n",
    "\n",
    "flights = pd.read_csv('flights.csv')\n",
    "\n",
    "# Filtering only four AIRLINE (AA, DL, UA, and WN) on WEEKDAY (2,3,4,5,6)\n",
    "three_airline_bool = flights[\"AIRLINE\"].isin([\"AA\",\"DL\",\"WN\"])\n",
    "weekday_bool = flights[\"WEEKDAY\"].between(2, 6)\n",
    "\n",
    "filtered_flights = flights.loc[three_airline_bool & weekday_bool]\n",
    "\n",
    "# Grouping by AIRLINE and WEEKDAY and see the average DEP_DELAY\n",
    "flights_group = filtered_flights.groupby([\"AIRLINE\", \"WEEKDAY\"], as_index=False)[\"DEP_DELAY\"].agg('mean')\n",
    "\n",
    "# Pivoting with index=WEEKDAY and columns=AIRLINE\n",
    "pivot_df = flights_group.pivot(index=\"WEEKDAY\", columns=\"AIRLINE\", values=\"DEP_DELAY\")\n",
    "\n",
    "# Making 4 plots (2 x 3 subplots) with bigger size\n",
    "fig, ax = plt.subplots(3, 2, figsize=(12,8))\n",
    "days = [\"Sun\",\"Mon\",\"Tue\", \"Wed\", \"Thu\", \"Fri\", \"Sat\"]\n",
    "\n",
    "## Plot 1: Line Graph\n",
    "pivot_df.plot.line(ax=ax[0,0])\n",
    "\n",
    "## Plot 2: Bar Graph\n",
    "pivot_df.plot.bar(ax=ax[0,1])\n",
    "\n",
    "## Plot 3: Stacked Bar Graph\n",
    "pivot_df.plot.bar(ax=ax[1,0], stacked=True)\n",
    "\n",
    "## Plot 4: Stacked Ratio Graph\n",
    "ratio_function = lambda row: (row / row.sum()) * 100\n",
    "pivot_df_ratio = pivot_df.apply(ratio_function, axis=1)\n",
    "print(pivot_df_ratio)\n",
    "pivot_df_ratio.plot.bar(ax=ax[1,1], stacked=True)\n",
    "\n",
    "## Plot 5: Histogram on DEP_DELAY (with bins=15)\n",
    "filtered_flights[\"DEP_DELAY\"].plot.hist(ax=ax[2,0], bins=15)\n",
    "\n",
    "## Plot 6: Histogram on DEP_DELAY (with bins=20)\n",
    "filtered_flights[\"DEP_DELAY\"].plot.hist(ax=ax[2,1], bins=20)\n",
    "\n",
    "plt.show()"
   ]
  },
  {
   "cell_type": "markdown",
   "id": "36fad40d",
   "metadata": {},
   "source": [
    "### 4.5 Multiple Plots with Seaborn"
   ]
  },
  {
   "cell_type": "markdown",
   "id": "4be17af0",
   "metadata": {},
   "source": [
    "One way to visualize data with many categorical variables is to use a facet grid. \n",
    "\n",
    "Seaborn has a useful built-in function catplot that simplifies making many kinds of faceted plots."
   ]
  },
  {
   "cell_type": "code",
   "execution_count": 84,
   "id": "fdfbf303",
   "metadata": {},
   "outputs": [
    {
     "data": {
      "image/png": "[encoded data removed]",
      "text/plain": [
       "<Figure size 720x2520 with 14 Axes>"
      ]
     },
     "metadata": {
      "needs_background": "light"
     },
     "output_type": "display_data"
    }
   ],
   "source": [
    "import pandas as pd\n",
    "import matplotlib.pyplot as plt\n",
    "import seaborn as sns\n",
    "\n",
    "flights = pd.read_csv('flights.csv')\n",
    "\n",
    "# Grouping by AIRLINE and MONTH and see the average DEP DELAY\n",
    "flights_group = flights.groupby([\"AIRLINE\", \"MONTH\"], as_index=False)[\"DEP_DELAY\"].agg('mean')\n",
    "fig = sns.catplot(data=flights_group,\n",
    "                  x=\"MONTH\",\n",
    "                  y=\"DEP_DELAY\",\n",
    "                  col=\"AIRLINE\",\n",
    "                  kind=\"bar\",\n",
    "                  col_wrap=2)\n",
    "plt.show()"
   ]
  },
  {
   "cell_type": "markdown",
   "id": "90d26718",
   "metadata": {},
   "source": [
    "catplot supports other plot types that may be useful depending on what you are trying to display. For example, box plots (which show the median, quartiles, and outliers) can be an effective visualization type."
   ]
  },
  {
   "cell_type": "code",
   "execution_count": 85,
   "id": "b271405e",
   "metadata": {},
   "outputs": [
    {
     "data": {
      "image/png": "[encoded data removed]",
      "text/plain": [
       "<Figure size 360x360 with 1 Axes>"
      ]
     },
     "metadata": {
      "needs_background": "light"
     },
     "output_type": "display_data"
    }
   ],
   "source": [
    "import pandas as pd\n",
    "import matplotlib.pyplot as plt\n",
    "import seaborn as sns\n",
    "\n",
    "flights = pd.read_csv('flights.csv')\n",
    "\n",
    "filter_bool = flights[\"AIRLINE\"].isin([\"AA\", \"DL\", \"WN\", \"F9\"])\n",
    "flights_filtered = flights[filter_bool]\n",
    "\n",
    "# Plotting the DEP_DELAY by AIRLINE (AA, DL, WN, and F9)\n",
    "fig = sns.catplot(data=flights_filtered, \n",
    "                  x=\"AIRLINE\", \n",
    "                  y=\"DEP_DELAY\", \n",
    "                  kind=\"box\")\n",
    "\n",
    "plt.show()"
   ]
  },
  {
   "cell_type": "markdown",
   "id": "f69191ef",
   "metadata": {},
   "source": [
    "## Lesson5 Machine Learning"
   ]
  },
  {
   "cell_type": "markdown",
   "id": "91fc1609",
   "metadata": {},
   "source": [
    "### 5.1 Preprocessing with sklearn"
   ]
  },
  {
   "cell_type": "markdown",
   "id": "0f01c01a",
   "metadata": {},
   "source": [
    "The main objective of data standardization is to bring the mean to 0 and the variance to 1. \n",
    "\n",
    "In order to normalize the data, we can use StandardScaler.\n",
    "\n",
    "1. First,  we need to create a transformer (an object) for the scaler.\n",
    "2. The transformer then need to be \"fitted\"  to the data. The fit() function takes only arrays so we need .values to convert it.\n",
    "3. We transform the data using transform"
   ]
  },
  {
   "cell_type": "code",
   "execution_count": 86,
   "id": "da411678",
   "metadata": {},
   "outputs": [
    {
     "name": "stdout",
     "output_type": "stream",
     "text": [
      "mean    13078.10\n",
      "std     11984.62\n",
      "Name: charges, dtype: float64\n",
      "mean    0.0\n",
      "std     1.0\n",
      "Name: charges_scaled, dtype: float64\n"
     ]
    },
    {
     "data": {
      "image/png": "[encoded data removed]",
      "text/plain": [
       "<Figure size 432x288 with 2 Axes>"
      ]
     },
     "metadata": {
      "needs_background": "light"
     },
     "output_type": "display_data"
    }
   ],
   "source": [
    "import numpy as np\n",
    "import pandas as pd\n",
    "\n",
    "df = pd.read_csv('insurance.csv')\n",
    "\n",
    "# Importing the Scaler\n",
    "from sklearn.preprocessing import StandardScaler\n",
    "\n",
    "# 1. Making a Transformer\n",
    "scaler = StandardScaler()\n",
    "\n",
    "# 2. Fitting the Transformer to the data\n",
    "reshaped_data = df[\"charges\"].values.reshape(-1,1)\n",
    "scaler.fit(reshaped_data)\n",
    "\n",
    "# 3. Transforming the data\n",
    "charges_scaled = scaler.transform(reshaped_data)\n",
    "\n",
    "# Converting to Series\n",
    "df[\"charges_scaled\"] = pd.Series(charges_scaled.flatten())\n",
    "\n",
    "# Original vs Standardized Mean & Std\n",
    "print(df[\"charges\"].agg([\"mean\",\"std\"]).round(2))\n",
    "print(df[\"charges_scaled\"].agg([\"mean\",\"std\"]).round(2))\n",
    "\n",
    "# Comparing Boxplot\n",
    "import matplotlib.pyplot as plt\n",
    "import seaborn as sns\n",
    "\n",
    "fig, axes = plt.subplots(2,1)\n",
    "sns.boxplot(data=df, x=\"charges\", ax=axes[0])\n",
    "\n",
    "sns.boxplot(data=df, x=\"charges_scaled\",  ax=axes[1])\n",
    "\n",
    "plt.show()"
   ]
  },
  {
   "cell_type": "markdown",
   "id": "18160353",
   "metadata": {},
   "source": [
    "If we would like to set a condition on the maximum and minimum values within a data set, we can use scaling to a range. \n",
    "\n",
    "Scaling to a range, unlike standardization, will preserve 0 values that exist in the data.\n",
    "\n",
    "The structure of the command is the same as for StandardScaler. MinMaxScaler or MaxAbsScaler are used instead."
   ]
  },
  {
   "cell_type": "code",
   "execution_count": 87,
   "id": "350f837d",
   "metadata": {},
   "outputs": [
    {
     "name": "stdout",
     "output_type": "stream",
     "text": [
      "min     1121.87\n",
      "max    63770.43\n",
      "Name: charges, dtype: float64\n",
      "min     0.0\n",
      "max    10.0\n",
      "Name: charges_scaled, dtype: float64\n"
     ]
    },
    {
     "data": {
      "image/png": "[encoded data removed]",
      "text/plain": [
       "<Figure size 432x288 with 2 Axes>"
      ]
     },
     "metadata": {
      "needs_background": "light"
     },
     "output_type": "display_data"
    }
   ],
   "source": [
    "import numpy as np\n",
    "import pandas as pd\n",
    "\n",
    "df = pd.read_csv('insurance.csv')\n",
    "\n",
    "# Importing the Scaler\n",
    "from sklearn.preprocessing import MinMaxScaler\n",
    "\n",
    "# 1. Making a Transformer and Setting the Range\n",
    "scaler = MinMaxScaler(feature_range=(0, 10))\n",
    "\n",
    "# 2. Fitting the Transformer to the data\n",
    "reshaped_data = df[\"charges\"].values.reshape(-1,1)\n",
    "scaler.fit(reshaped_data)\n",
    "\n",
    "# 3. Transforming the data\n",
    "charges_scaled = scaler.transform(reshaped_data)\n",
    "\n",
    "# 4. Converting to Series\n",
    "df[\"charges_scaled\"] = pd.Series(charges_scaled.flatten())\n",
    "\n",
    "# Original vs Standardized Min & Max\n",
    "print(df[\"charges\"].agg([\"min\",\"max\"]).round(2))\n",
    "print(df[\"charges_scaled\"].agg([\"min\",\"max\"]).round(2))\n",
    "\n",
    "# Comparing Boxplot\n",
    "import matplotlib.pyplot as plt\n",
    "import seaborn as sns\n",
    "\n",
    "fig, axes = plt.subplots(2,1)\n",
    "sns.boxplot(data=df, x=\"charges\", ax=axes[0])\n",
    "sns.boxplot(data=df, x=\"charges_scaled\", ax=axes[1])\n",
    "\n",
    "plt.show()"
   ]
  },
  {
   "cell_type": "markdown",
   "id": "8a91901d",
   "metadata": {},
   "source": [
    "### 5.2 Linear Regression"
   ]
  },
  {
   "cell_type": "markdown",
   "id": "e7550931",
   "metadata": {},
   "source": [
    "**Making the Model**\n",
    "\n",
    "Linear regression can be used to predict numerical attributes. The regression class in Scikit-learn is part of the linear_model module. \n",
    "\n",
    "We will scale the data first using scale and we will see how to fit our data into the model.\n",
    "\n",
    "**Showing the Regression Coefficients & Score**\n",
    "\n",
    "We can use the scoring method to report the R^2 measure (ranges from 0 to 1). The closer the number to 1, the better the model.\n",
    "\n",
    "To see which attributes affect the estimation the most in the multiple regression model, you have to look at the coef_ attribute, which is an array containing the regression coefficients. The highest the absolute value, the more it affects the model. \n",
    "\n",
    "You can also see the intercept using intercept_\n",
    "\n",
    "Finally, the zip function will generate an iterable of both attributes, and you can print it for reporting. \n",
    "\n",
    "**Plotting the Regression Line**\n",
    "\n",
    "While we cannot plot more than two dimension, we can try to plot two variables to see what the regression line looks like by using regplot in seaborn library."
   ]
  },
  {
   "cell_type": "code",
   "execution_count": 98,
   "id": "c2e8f2ac",
   "metadata": {},
   "outputs": [
    {
     "data": {
      "image/png": "[encoded data removed]",
      "text/plain": [
       "<Figure size 432x288 with 1 Axes>"
      ]
     },
     "metadata": {
      "needs_background": "light"
     },
     "output_type": "display_data"
    },
    {
     "name": "stdout",
     "output_type": "stream",
     "text": [
      "[-0.92814606  1.08156863  0.1409      0.68173972 -2.05671827  2.67423017\n",
      "  0.01946607 -3.10404426  2.66221764 -2.07678168 -2.06060666  0.84926842\n",
      " -3.74362713]\n",
      "['crim : -0.9281460643011962', 'zn : 1.0815686278223835', 'indus : 0.14089999690428645', 'chas : 0.681739724777796', 'nox : -2.0567182660052143', 'rm : 2.6742301652393126', 'age : 0.019466071657046558', 'dis : -3.104044258086443', 'rad : 2.662217642473627', 'tax : -2.076781683843378', 'ptratio : -2.0606066589067584', 'black : 0.8492684177053305', 'lstat : -3.743627126467112']\n",
      "0.7406426641094095\n"
     ]
    }
   ],
   "source": [
    "import numpy as np\n",
    "import pandas as pd\n",
    "\n",
    "#-- PREPROCESSING --#\n",
    "df = pd.read_csv('boston.csv',index_col=0)\n",
    "\n",
    "from sklearn.preprocessing import scale\n",
    "\n",
    "X = scale(df.drop('medv',axis=1).values)\n",
    "y = df[\"medv\"].values\n",
    "\n",
    "#-- MODELLING --#\n",
    "from sklearn.linear_model import LinearRegression\n",
    "\n",
    "reg_model = LinearRegression(normalize=True)\n",
    "reg_model.fit(X, y)\n",
    "\n",
    "#-- EVALUATION --#\n",
    "import matplotlib.pyplot as plt\n",
    "import seaborn as sns\n",
    "\n",
    "sns.regplot(x=\"lstat\", y=\"medv\", data=df);\n",
    "plt.show()\n",
    "\n",
    "reg_coef = reg_model.coef_\n",
    "labels = df.columns.values\n",
    "report = [f'{a} : {b}' for a, b in zip(labels, reg_coef)]\n",
    "print(reg_coef)\n",
    "print(report)\n",
    "\n",
    "print(reg_model.score(X,y))"
   ]
  },
  {
   "cell_type": "markdown",
   "id": "eceeb168",
   "metadata": {},
   "source": [
    "### 5.3 Logistic Regression"
   ]
  },
  {
   "cell_type": "markdown",
   "id": "22962bb1",
   "metadata": {},
   "source": [
    "**Splitting the Data**\n",
    "\n",
    "First, we preprocessed the data by converting categorical columns into numerical using get_dummies. Then, we separate the data into train and test data. The reset_index is used to assure that all the index start from 0.\n",
    "\n",
    "**Making the model**\n",
    "\n",
    "Logistic regression is similar to linear regression, with the only difference being the y data, which should contain integer values indicating the class relative to the observation.\n",
    "\n",
    "**Predicting the Target Variable**\n",
    "\n",
    "In contrast to linear regression, logistic regression doesn't just output the resulting class but also estimates the probability of the observation's being part of all three classes. "
   ]
  },
  {
   "cell_type": "code",
   "execution_count": 99,
   "id": "182af13a",
   "metadata": {},
   "outputs": [
    {
     "name": "stdout",
     "output_type": "stream",
     "text": [
      "    smoker_yes  smoker_pred  pred_no  pred_yes\n",
      "0            0            0     0.98      0.02\n",
      "1            1            1     0.00      1.00\n",
      "2            0            0     1.00      0.00\n",
      "3            0            0     1.00      0.00\n",
      "4            0            0     1.00      0.00\n",
      "..         ...          ...      ...       ...\n",
      "95           0            0     0.99      0.01\n",
      "96           0            0     1.00      0.00\n",
      "97           0            0     1.00      0.00\n",
      "98           0            0     1.00      0.00\n",
      "99           0            0     0.99      0.01\n",
      "\n",
      "[100 rows x 4 columns]\n",
      "0.9\n"
     ]
    }
   ],
   "source": [
    "import pandas as pd\n",
    "import numpy as np\n",
    "\n",
    "df = pd.read_csv('insurance.csv')\n",
    "\n",
    "##-- PREPROCESSING --##\n",
    "dummy_cols_1 = pd.get_dummies(df[[\"sex\",\"smoker\"]], drop_first=True)\n",
    "dummy_cols_2 = pd.get_dummies(df[\"region\"], prefix='region')\n",
    "\n",
    "num_cols = df.select_dtypes(include=['number'])\n",
    "df = num_cols.join(dummy_cols_1).join(dummy_cols_2)\n",
    "\n",
    "df_train = df.loc[:900].reset_index(drop=True)\n",
    "df_test = df.loc[900:].reset_index(drop=True)\n",
    "\n",
    "##-- MODELLING --##\n",
    "from sklearn.linear_model import LogisticRegression\n",
    "\n",
    "reg_model = LogisticRegression()\n",
    "\n",
    "X = df_train.drop('smoker_yes',axis=1).values\n",
    "y = df_train[\"smoker_yes\"].values\n",
    "reg_model.fit(X, y)\n",
    "\n",
    "##-- EVALUATION --##\n",
    "X_test = df_test.drop('smoker_yes',axis=1).values\n",
    "smoker_pred = reg_model.predict(X_test)\n",
    "smoker_pred_proba = reg_model.predict_proba(X_test).round(2)\n",
    "\n",
    "df_test[\"smoker_pred\"] = pd.Series(smoker_pred)\n",
    "df_test[[\"pred_no\",\"pred_yes\"]] = pd.DataFrame(smoker_pred_proba)\n",
    "print(df_test[[\"smoker_yes\",\"smoker_pred\",\"pred_no\",\"pred_yes\"]])\n",
    "\n",
    "from sklearn.metrics import accuracy_score\n",
    "accuracy = accuracy_score(df_test[\"smoker_yes\"].values, \n",
    "                          df_test[\"smoker_pred\"].values)\n",
    "print(accuracy)"
   ]
  },
  {
   "cell_type": "markdown",
   "id": "93d38c61",
   "metadata": {},
   "source": [
    "### 5.4 Classification Methods"
   ]
  },
  {
   "cell_type": "markdown",
   "id": "2be767c6",
   "metadata": {},
   "source": [
    "**Applying Other Types of Classification Models**\n",
    "\n",
    "In the previous part, we see that logistic regression can perform machine learning for categorical variable.\n",
    "\n",
    "We will see that there are numerous classification variables such as *KNeighborClassifier*, *DecisionTreeClassifier*, and *AdaBoostClassifier*.\n",
    "\n",
    "The main thing to notice when using different kind of classifier is the variable inside it--you can adjust it so that it will give the highest accuracy."
   ]
  },
  {
   "cell_type": "code",
   "execution_count": 100,
   "id": "50d386ea",
   "metadata": {},
   "outputs": [
    {
     "name": "stdout",
     "output_type": "stream",
     "text": [
      "    smoker_yes  smoker_pred  pred_no  pred_yes\n",
      "0            0            0      1.0       0.0\n",
      "1            1            1      0.0       1.0\n",
      "2            0            0      1.0       0.0\n",
      "3            0            0      1.0       0.0\n",
      "4            0            0      1.0       0.0\n",
      "..         ...          ...      ...       ...\n",
      "95           0            0      1.0       0.0\n",
      "96           0            0      1.0       0.0\n",
      "97           0            0      1.0       0.0\n",
      "98           0            0      1.0       0.0\n",
      "99           0            0      1.0       0.0\n",
      "\n",
      "[100 rows x 4 columns]\n",
      "0.91\n"
     ]
    }
   ],
   "source": [
    "import pandas as pd\n",
    "import numpy as np\n",
    "\n",
    "df = pd.read_csv('insurance.csv')\n",
    "\n",
    "##-- PREPROCESSING --##\n",
    "dummy_cols_1 = pd.get_dummies(df[[\"sex\",\"smoker\"]], drop_first=True)\n",
    "dummy_cols_2 = pd.get_dummies(df[\"region\"], prefix='region')\n",
    "\n",
    "num_cols = df.select_dtypes(include=['number'])\n",
    "df = num_cols.join(dummy_cols_1).join(dummy_cols_2)\n",
    "\n",
    "df_train = df.loc[:900].reset_index(drop=True)\n",
    "df_test = df.loc[900:].reset_index(drop=True)\n",
    "\n",
    "##-- MODELLING --##\n",
    "from sklearn.neighbors import KNeighborsClassifier\n",
    "reg_model = KNeighborsClassifier(n_neighbors=2)\n",
    "\n",
    "#from sklearn.tree import DecisionTreeClassifier\n",
    "#reg_model = DecisionTreeClassifier()\n",
    "\n",
    "#from sklearn.ensemble import AdaBoostClassifier\n",
    "#reg_model = AdaBoostClassifier(n_estimators=10)\n",
    "\n",
    "X = df_train.drop('smoker_yes',axis=1).values\n",
    "y = df_train[\"smoker_yes\"].values\n",
    "reg_model.fit(X, y)\n",
    "\n",
    "##-- EVALUATION --##\n",
    "X_test = df_test.drop('smoker_yes',axis=1).values\n",
    "smoker_pred = reg_model.predict(X_test)\n",
    "smoker_pred_proba = reg_model.predict_proba(X_test).round(2)\n",
    "\n",
    "df_test[\"smoker_pred\"] = pd.Series(smoker_pred)\n",
    "df_test[[\"pred_no\",\"pred_yes\"]] = pd.DataFrame(smoker_pred_proba)\n",
    "print(df_test[[\"smoker_yes\",\"smoker_pred\",\"pred_no\",\"pred_yes\"]])\n",
    "\n",
    "from sklearn.metrics import accuracy_score\n",
    "accuracy = accuracy_score(df_test[\"smoker_yes\"].values, \n",
    "                          df_test[\"smoker_pred\"].values)\n",
    "print(accuracy)"
   ]
  },
  {
   "cell_type": "markdown",
   "id": "bc7e0960",
   "metadata": {},
   "source": [
    "### 5.5 Clustering Mehtods"
   ]
  },
  {
   "cell_type": "markdown",
   "id": "1a3ea120",
   "metadata": {},
   "source": [
    "**Performing PCA to reduce dimension**\n",
    "\n",
    "Sometimes, some classifiers cannot work well with too many dimensions (such as KNeighborClassifier). We will try to reduce the dimension of our data and try to plot it."
   ]
  },
  {
   "cell_type": "code",
   "execution_count": 101,
   "id": "e9c819c1",
   "metadata": {
    "scrolled": true
   },
   "outputs": [
    {
     "name": "stdout",
     "output_type": "stream",
     "text": [
      "[0.193 0.151 0.133 0.131 0.11  0.101 0.094 0.075 0.013 0.   ]\n",
      "            0         1  ...         8             9\n",
      "0    0.580975 -0.542748  ... -0.606960  1.805026e-16\n",
      "1   -0.650972  1.979502  ...  0.033037 -4.140807e-15\n",
      "2   -0.276608  1.756351  ... -0.018769  5.106493e-16\n",
      "3   -0.555761 -1.303642  ...  1.162168  8.606728e-16\n",
      "4   -1.333536 -0.562300  ... -0.033259  3.131885e-16\n",
      "..        ...       ...  ...       ...           ...\n",
      "995 -0.896059 -1.352936  ...  0.085302 -5.891274e-17\n",
      "996 -0.707265  0.454500  ... -0.121998  1.486624e-16\n",
      "997  0.807969  2.035125  ... -0.125083 -2.313197e-16\n",
      "998 -0.557635 -0.366682  ... -0.196060 -3.134775e-17\n",
      "999 -1.014968 -0.084963  ...  0.047519  2.972243e-17\n",
      "\n",
      "[1000 rows x 10 columns]\n"
     ]
    },
    {
     "data": {
      "image/png": "[encoded data removed]",
      "text/plain": [
       "<Figure size 432x288 with 1 Axes>"
      ]
     },
     "metadata": {
      "needs_background": "light"
     },
     "output_type": "display_data"
    }
   ],
   "source": [
    "import pandas as pd\n",
    "import numpy as np\n",
    "\n",
    "df = pd.read_csv('insurance_dummy.csv') # <- already preprocessed\n",
    "\n",
    "##-- PREPROCESSING --##\n",
    "from sklearn.decomposition import PCA\n",
    "pca = PCA()\n",
    "\n",
    "from sklearn.preprocessing import scale\n",
    "scaled_data = scale(df.values) \n",
    "pca_data = pca.fit_transform(scaled_data)\n",
    "\n",
    "print(pca.explained_variance_ratio_.round(3))\n",
    "pca_df = pd.DataFrame(pca_data)\n",
    "print(pca_df)\n",
    "\n",
    "import matplotlib.pyplot as plt\n",
    "pca_df.plot(x=0, y=2, kind=\"scatter\")\n",
    "plt.show()"
   ]
  },
  {
   "cell_type": "markdown",
   "id": "85057ce7",
   "metadata": {},
   "source": [
    "**Performing Clustering to the Data**\n",
    "\n",
    "The clustering method can classify the cluster in the data. While it gives us clusters, it is our task to find out what those clusters are.\n",
    "\n",
    "We will see that our clusters are basically smokers vs non-smokers."
   ]
  },
  {
   "cell_type": "code",
   "execution_count": 102,
   "id": "28155bbe",
   "metadata": {},
   "outputs": [
    {
     "data": {
      "image/png": "[encoded data removed]",
      "text/plain": [
       "<Figure size 432x288 with 1 Axes>"
      ]
     },
     "metadata": {
      "needs_background": "light"
     },
     "output_type": "display_data"
    }
   ],
   "source": [
    "import pandas as pd\n",
    "import numpy as np\n",
    "\n",
    "df = pd.read_csv('insurance_dummy.csv') # <- already preprocessed\n",
    "\n",
    "##-- PREPROCESSING --##\n",
    "from sklearn.preprocessing import scale\n",
    "from sklearn.decomposition import PCA\n",
    "\n",
    "pca = PCA()\n",
    "\n",
    "scaled_data = scale(df.values)\n",
    "pca_data = pca.fit_transform(scaled_data)\n",
    "\n",
    "\n",
    "##-- MODELLING --##\n",
    "from sklearn.cluster import KMeans, DBSCAN\n",
    "model = KMeans(n_clusters=2)\n",
    "#model = DBSCAN(eps=0.5, min_samples=5)\n",
    "\n",
    "label = model.fit_predict(pca_data)\n",
    "\n",
    "\n",
    "##-- EVALUATION --##\n",
    "import matplotlib.pyplot as plt\n",
    "for i in np.unique(label):\n",
    "    plt.scatter(pca_data[label == i , 0] , pca_data[label == i , 1] , label=i)\n",
    "plt.show()\n"
   ]
  }
 ],
 "metadata": {
  "kernelspec": {
   "display_name": "Python 3",
   "language": "python",
   "name": "python3"
  },
  "language_info": {
   "codemirror_mode": {
    "name": "ipython",
    "version": 3
   },
   "file_extension": ".py",
   "mimetype": "text/x-python",
   "name": "python",
   "nbconvert_exporter": "python",
   "pygments_lexer": "ipython3",
   "version": "3.8.8"
  }
 },
 "nbformat": 4,
 "nbformat_minor": 5
}
