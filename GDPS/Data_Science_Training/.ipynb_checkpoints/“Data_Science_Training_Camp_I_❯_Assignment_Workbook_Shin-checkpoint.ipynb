{
 "cells": [
  {
   "cell_type": "markdown",
   "metadata": {
    "id": "bur9Fg9lBfbT"
   },
   "source": [
    "<font size='5'>**Data Science Training Camp I Assignment Workbook**</font>\n",
    "\n"
   ]
  },
  {
   "cell_type": "markdown",
   "metadata": {},
   "source": [
    "<u>Based on [Samy Baladram's Lesson](https://sites.google.com/tohoku.ac.jp/gpds-course/courses/training-camp-i), International Liasion Office-GSIS-Tohoku University.</u>\n",
    "\n",
    "Last Updated by [Shinil](mailto:baisy1999@outlook.com):21-11-03"
   ]
  },
  {
   "cell_type": "markdown",
   "metadata": {},
   "source": [
    "<font size='3' color=\"#bb2222\">**!**</font><font size='2'>**To retrieve the necessary data, please run the following code first.**</font></font><br>"
   ]
  },
  {
   "cell_type": "code",
   "execution_count": null,
   "metadata": {
    "colab": {
     "base_uri": "https://localhost:8080/"
    },
    "id": "0ZbPu_1TwB0W",
    "outputId": "2e351cb6-8541-48fb-92b3-f01bb62a6658",
    "scrolled": false
   },
   "outputs": [],
   "source": [
    "import pandas as pd\n",
    "import numpy as np\n",
    "import matplotlib.pyplot as plt\n",
    "import timeit\n",
    "import seaborn as sns\n",
    "\n",
    "!curl https://dl.dropboxusercontent.com/s/hk2hc86ml3tvkyh/imports-85.data -so cars.csv\n",
    "!curl https://dl.dropboxusercontent.com/s/ijh78s1bxm7kctv/gp_data.csv -so gp_data.csv\n",
    "!curl https://dl.dropboxusercontent.com/s/1770hoabg1utoat/gp_grades.csv -so gp_grades.csv\n",
    "!curl https://dl.dropboxusercontent.com/s/ymjz6vqjw3jg4e7/ms_data.csv -so ms_data.csv\n",
    "!curl https://dl.dropboxusercontent.com/s/k1howfpyp5rmgnb/ms_grades.csv -so ms_grades.csv\n",
    "!curl https://dl.dropboxusercontent.com/s/7d4wkkzicw0xtaz/test-data.csv -so car_test_data.csv\n",
    "!curl https://dl.dropboxusercontent.com/s/v9gmgxupkypn5dw/train-data.csv -so car_train_data.csv\n",
    "\n",
    "print(\"Success!\")"
   ]
  },
  {
   "cell_type": "markdown",
   "metadata": {
    "id": "33-v93qdTIlT"
   },
   "source": [
    "<p>"
   ]
  },
  {
   "cell_type": "markdown",
   "metadata": {
    "id": "bEbWH4xC37ge"
   },
   "source": [
    "# <font size='5' color=\"#666644\">**ASSIGNMENT**</font><font size='6' color=\"#E0B21B\">&nbsp;**1**<br>\n",
    "\n",
    "In this Assignment, we will try to further familiarize ourselves with the cars and students dataset. We will try to read the datasets, view some part of them, and get some basic information about them."
   ]
  },
  {
   "cell_type": "markdown",
   "metadata": {
    "id": "UjFNzA6IcraQ"
   },
   "source": [
    "## <font size='4'><font color=\"#E0B21B\">●&nbsp;&nbsp;</font><font color=\"666644\" size='2'>**No.**</font><font color=\"#333311\">**1**</font><br>\n",
    "\n",
    "For this assignment, we will be working with the <tt>train-data.csv</tt>. Do the following:\n",
    "\n",
    "<font color=\"#E0B21B\" size='3'>&nbsp;&nbsp;&nbsp;&nbsp;**a**&nbsp;&nbsp;</font> Load the file <tt>train-data.csv</tt> into a DataFrame called <tt>all_cars</tt>.\n",
    "\n",
    "<font color=\"#E0B21B\" size='3'>&nbsp;&nbsp;&nbsp;&nbsp;**b**&nbsp;&nbsp;</font> Use commas for field separators and use the column <tt>Name</tt> as index.\n"
   ]
  },
  {
   "cell_type": "code",
   "execution_count": 8,
   "metadata": {
    "id": "HNLor8-87RLH"
   },
   "outputs": [],
   "source": [
    "# No. 1\n",
    "# a\n",
    "# b\n",
    "import pandas as pd\n",
    "import numpy as np\n",
    "all_cars = pd.read_csv('train-data.csv',sep=',',index_col='Name')"
   ]
  },
  {
   "cell_type": "markdown",
   "metadata": {
    "id": "eV-dcmGbet7G"
   },
   "source": [
    "## <font size='4'><font color=\"#E0B21B\">●&nbsp;&nbsp;</font><font color=\"666644\" size='2'>**No.**</font><font color=\"#333311\">**2**</font><br>\n",
    "\n",
    "To make sure the the DataFrame looks right, do the following:\n",
    "\n",
    "<font color=\"#E0B21B\" size='3'>&nbsp;&nbsp;&nbsp;&nbsp;**a**&nbsp;&nbsp;</font> Print the first and last 10 rows of the DataFrame.\n",
    "\n",
    "<font color=\"#E0B21B\" size='3'>&nbsp;&nbsp;&nbsp;&nbsp;**b**&nbsp;&nbsp;</font> Print the first 10 rows of the data.\n",
    "\n",
    "<font color=\"#E0B21B\" size='3'>&nbsp;&nbsp;&nbsp;&nbsp;**c**&nbsp;&nbsp;</font> Print the index of the DataFrame.\n",
    "\n",
    "<font color=\"#E0B21B\" size='3'>&nbsp;&nbsp;&nbsp;&nbsp;**d**&nbsp;&nbsp;</font> Print the column of the DataFrame.\n",
    "\n",
    "<font color=\"#E0B21B\" size='3'>&nbsp;&nbsp;&nbsp;&nbsp;**e**&nbsp;&nbsp;</font> Print the shape of the DataFrame."
   ]
  },
  {
   "cell_type": "code",
   "execution_count": 5,
   "metadata": {
    "colab": {
     "base_uri": "https://localhost:8080/"
    },
    "id": "MvFYM8pI7S0j",
    "outputId": "22b776dd-d7ea-454a-8ac0-3fb0d2b636ae"
   },
   "outputs": [
    {
     "name": "stdout",
     "output_type": "stream",
     "text": [
      "a\n",
      "                                     Unnamed: 0    Location  Year  \\\n",
      "Name                                                                \n",
      "Maruti Wagon R LXI CNG                        0      Mumbai  2010   \n",
      "Hyundai Creta 1.6 CRDi SX Option              1        Pune  2015   \n",
      "Honda Jazz V                                  2     Chennai  2011   \n",
      "Maruti Ertiga VDI                             3     Chennai  2012   \n",
      "Audi A4 New 2.0 TDI Multitronic               4  Coimbatore  2013   \n",
      "Hyundai EON LPG Era Plus Option               5   Hyderabad  2012   \n",
      "Nissan Micra Diesel XV                        6      Jaipur  2013   \n",
      "Toyota Innova Crysta 2.8 GX AT 8S             7      Mumbai  2016   \n",
      "Volkswagen Vento Diesel Comfortline           8        Pune  2013   \n",
      "Tata Indica Vista Quadrajet LS                9     Chennai  2012   \n",
      "\n",
      "                                     Kilometers_Driven Fuel_Type Transmission  \\\n",
      "Name                                                                            \n",
      "Maruti Wagon R LXI CNG                           72000       CNG       Manual   \n",
      "Hyundai Creta 1.6 CRDi SX Option                 41000    Diesel       Manual   \n",
      "Honda Jazz V                                     46000    Petrol       Manual   \n",
      "Maruti Ertiga VDI                                87000    Diesel       Manual   \n",
      "Audi A4 New 2.0 TDI Multitronic                  40670    Diesel    Automatic   \n",
      "Hyundai EON LPG Era Plus Option                  75000       LPG       Manual   \n",
      "Nissan Micra Diesel XV                           86999    Diesel       Manual   \n",
      "Toyota Innova Crysta 2.8 GX AT 8S                36000    Diesel    Automatic   \n",
      "Volkswagen Vento Diesel Comfortline              64430    Diesel       Manual   \n",
      "Tata Indica Vista Quadrajet LS                   65932    Diesel       Manual   \n",
      "\n",
      "                                    Owner_Type     Mileage   Engine  \\\n",
      "Name                                                                  \n",
      "Maruti Wagon R LXI CNG                   First  26.6 km/kg   998 CC   \n",
      "Hyundai Creta 1.6 CRDi SX Option         First  19.67 kmpl  1582 CC   \n",
      "Honda Jazz V                             First   18.2 kmpl  1199 CC   \n",
      "Maruti Ertiga VDI                        First  20.77 kmpl  1248 CC   \n",
      "Audi A4 New 2.0 TDI Multitronic         Second   15.2 kmpl  1968 CC   \n",
      "Hyundai EON LPG Era Plus Option          First  21.1 km/kg   814 CC   \n",
      "Nissan Micra Diesel XV                   First  23.08 kmpl  1461 CC   \n",
      "Toyota Innova Crysta 2.8 GX AT 8S        First  11.36 kmpl  2755 CC   \n",
      "Volkswagen Vento Diesel Comfortline      First  20.54 kmpl  1598 CC   \n",
      "Tata Indica Vista Quadrajet LS          Second   22.3 kmpl  1248 CC   \n",
      "\n",
      "                                         Power  Seats  New_Price  Price  \n",
      "Name                                                                     \n",
      "Maruti Wagon R LXI CNG               58.16 bhp    5.0        NaN   1.75  \n",
      "Hyundai Creta 1.6 CRDi SX Option     126.2 bhp    5.0        NaN  12.50  \n",
      "Honda Jazz V                          88.7 bhp    5.0  8.61 Lakh   4.50  \n",
      "Maruti Ertiga VDI                    88.76 bhp    7.0        NaN   6.00  \n",
      "Audi A4 New 2.0 TDI Multitronic      140.8 bhp    5.0        NaN  17.74  \n",
      "Hyundai EON LPG Era Plus Option       55.2 bhp    5.0        NaN   2.35  \n",
      "Nissan Micra Diesel XV                63.1 bhp    5.0        NaN   3.50  \n",
      "Toyota Innova Crysta 2.8 GX AT 8S    171.5 bhp    8.0    21 Lakh  17.50  \n",
      "Volkswagen Vento Diesel Comfortline  103.6 bhp    5.0        NaN   5.20  \n",
      "Tata Indica Vista Quadrajet LS          74 bhp    5.0        NaN   1.95  \n",
      "b\n",
      "                                     Unnamed: 0    Location  Year  \\\n",
      "Name                                                                \n",
      "Toyota Camry Hybrid                        6009      Mumbai  2015   \n",
      "Honda Brio 1.2 VX MT                       6010       Delhi  2013   \n",
      "Skoda Superb 3.6 V6 FSI                    6011   Hyderabad  2009   \n",
      "Toyota Innova 2.5 V Diesel 7-seater        6012  Coimbatore  2011   \n",
      "Honda Amaze VX i-DTEC                      6013  Coimbatore  2015   \n",
      "Maruti Swift VDI                           6014       Delhi  2014   \n",
      "Hyundai Xcent 1.1 CRDi S                   6015      Jaipur  2015   \n",
      "Mahindra Xylo D4 BSIV                      6016      Jaipur  2012   \n",
      "Maruti Wagon R VXI                         6017     Kolkata  2013   \n",
      "Chevrolet Beat Diesel                      6018   Hyderabad  2011   \n",
      "\n",
      "                                     Kilometers_Driven Fuel_Type Transmission  \\\n",
      "Name                                                                            \n",
      "Toyota Camry Hybrid                              33500    Petrol    Automatic   \n",
      "Honda Brio 1.2 VX MT                             33746    Petrol       Manual   \n",
      "Skoda Superb 3.6 V6 FSI                          53000    Petrol    Automatic   \n",
      "Toyota Innova 2.5 V Diesel 7-seater              45004    Diesel       Manual   \n",
      "Honda Amaze VX i-DTEC                            70602    Diesel       Manual   \n",
      "Maruti Swift VDI                                 27365    Diesel       Manual   \n",
      "Hyundai Xcent 1.1 CRDi S                        100000    Diesel       Manual   \n",
      "Mahindra Xylo D4 BSIV                            55000    Diesel       Manual   \n",
      "Maruti Wagon R VXI                               46000    Petrol       Manual   \n",
      "Chevrolet Beat Diesel                            47000    Diesel       Manual   \n",
      "\n",
      "                                    Owner_Type     Mileage   Engine  \\\n",
      "Name                                                                  \n",
      "Toyota Camry Hybrid                      First  19.16 kmpl  2494 CC   \n",
      "Honda Brio 1.2 VX MT                     First   18.5 kmpl  1198 CC   \n",
      "Skoda Superb 3.6 V6 FSI                  First    0.0 kmpl  3597 CC   \n",
      "Toyota Innova 2.5 V Diesel 7-seater      First   12.8 kmpl  2494 CC   \n",
      "Honda Amaze VX i-DTEC                    First   25.8 kmpl  1498 CC   \n",
      "Maruti Swift VDI                         First   28.4 kmpl  1248 CC   \n",
      "Hyundai Xcent 1.1 CRDi S                 First   24.4 kmpl  1120 CC   \n",
      "Mahindra Xylo D4 BSIV                   Second   14.0 kmpl  2498 CC   \n",
      "Maruti Wagon R VXI                       First   18.9 kmpl   998 CC   \n",
      "Chevrolet Beat Diesel                    First  25.44 kmpl   936 CC   \n",
      "\n",
      "                                         Power  Seats  New_Price  Price  \n",
      "Name                                                                     \n",
      "Toyota Camry Hybrid                  158.2 bhp    5.0        NaN  19.75  \n",
      "Honda Brio 1.2 VX MT                  86.8 bhp    5.0  6.63 Lakh   3.20  \n",
      "Skoda Superb 3.6 V6 FSI              262.6 bhp    5.0        NaN   4.75  \n",
      "Toyota Innova 2.5 V Diesel 7-seater    102 bhp    7.0        NaN   9.48  \n",
      "Honda Amaze VX i-DTEC                 98.6 bhp    5.0        NaN   4.83  \n",
      "Maruti Swift VDI                        74 bhp    5.0  7.88 Lakh   4.75  \n",
      "Hyundai Xcent 1.1 CRDi S                71 bhp    5.0        NaN   4.00  \n",
      "Mahindra Xylo D4 BSIV                  112 bhp    8.0        NaN   2.90  \n",
      "Maruti Wagon R VXI                    67.1 bhp    5.0        NaN   2.65  \n",
      "Chevrolet Beat Diesel                 57.6 bhp    5.0        NaN   2.50  \n",
      "c\n",
      "Index(['Maruti Wagon R LXI CNG', 'Hyundai Creta 1.6 CRDi SX Option',\n",
      "       'Honda Jazz V', 'Maruti Ertiga VDI', 'Audi A4 New 2.0 TDI Multitronic',\n",
      "       'Hyundai EON LPG Era Plus Option', 'Nissan Micra Diesel XV',\n",
      "       'Toyota Innova Crysta 2.8 GX AT 8S',\n",
      "       'Volkswagen Vento Diesel Comfortline', 'Tata Indica Vista Quadrajet LS',\n",
      "       ...\n",
      "       'Toyota Camry Hybrid', 'Honda Brio 1.2 VX MT',\n",
      "       'Skoda Superb 3.6 V6 FSI', 'Toyota Innova 2.5 V Diesel 7-seater',\n",
      "       'Honda Amaze VX i-DTEC', 'Maruti Swift VDI', 'Hyundai Xcent 1.1 CRDi S',\n",
      "       'Mahindra Xylo D4 BSIV', 'Maruti Wagon R VXI', 'Chevrolet Beat Diesel'],\n",
      "      dtype='object', name='Name', length=6019)\n",
      "d\n",
      "Index(['Unnamed: 0', 'Location', 'Year', 'Kilometers_Driven', 'Fuel_Type',\n",
      "       'Transmission', 'Owner_Type', 'Mileage', 'Engine', 'Power', 'Seats',\n",
      "       'New_Price', 'Price'],\n",
      "      dtype='object')\n",
      "e\n",
      "(6019, 13)\n"
     ]
    }
   ],
   "source": [
    "# No. 2\n",
    "print(\"a\")\n",
    "print(all_cars.head(10))\n",
    "\n",
    "print(\"b\")\n",
    "print(all_cars.tail(10))\n",
    "\n",
    "print(\"c\")\n",
    "print(all_cars.index)\n",
    "\n",
    "print(\"d\")\n",
    "print(all_cars.columns)\n",
    "\n",
    "print(\"e\")\n",
    "print(all_cars.shape)\n"
   ]
  },
  {
   "cell_type": "markdown",
   "metadata": {
    "id": "wOh1n3fPeuEd"
   },
   "source": [
    "## <font size='4'><font color=\"#E0B21B\">●&nbsp;&nbsp;</font><font color=\"666644\" size='2'>**No.**</font><font color=\"#333311\">**3**</font><br>\n",
    "\n",
    "We can see that there is one unwanted <tt>Unnamed: 0</tt> column. We also want to remove the column <tt>New_Price</tt>. In order to do so, do the following:\n",
    "\n",
    "<font color=\"#E0B21B\" size='3'>&nbsp;&nbsp;&nbsp;&nbsp;**a**&nbsp;&nbsp;</font> Use Pandas <tt>drop</tt> function to remove the <tt>Unnamed: 0</tt> and <tt>New_Price</tt> columns.\n",
    "\n",
    "<font color=\"#E0B21B\" size='3'>&nbsp;&nbsp;&nbsp;&nbsp;**b**&nbsp;&nbsp;</font> Specify the <tt>axis</tt> to 1.\n",
    "\n",
    "<font color=\"#E0B21B\" size='3'>&nbsp;&nbsp;&nbsp;&nbsp;**c**&nbsp;&nbsp;</font> Print the first 10 rows of the dataset to check it."
   ]
  },
  {
   "cell_type": "code",
   "execution_count": 7,
   "metadata": {
    "id": "xkssDbAY7VN2",
    "scrolled": true
   },
   "outputs": [
    {
     "name": "stdout",
     "output_type": "stream",
     "text": [
      "                                       Location  Year  Kilometers_Driven  \\\n",
      "Name                                                                       \n",
      "Maruti Wagon R LXI CNG                   Mumbai  2010              72000   \n",
      "Hyundai Creta 1.6 CRDi SX Option           Pune  2015              41000   \n",
      "Honda Jazz V                            Chennai  2011              46000   \n",
      "Maruti Ertiga VDI                       Chennai  2012              87000   \n",
      "Audi A4 New 2.0 TDI Multitronic      Coimbatore  2013              40670   \n",
      "Hyundai EON LPG Era Plus Option       Hyderabad  2012              75000   \n",
      "Nissan Micra Diesel XV                   Jaipur  2013              86999   \n",
      "Toyota Innova Crysta 2.8 GX AT 8S        Mumbai  2016              36000   \n",
      "Volkswagen Vento Diesel Comfortline        Pune  2013              64430   \n",
      "Tata Indica Vista Quadrajet LS          Chennai  2012              65932   \n",
      "\n",
      "                                    Fuel_Type Transmission Owner_Type  \\\n",
      "Name                                                                    \n",
      "Maruti Wagon R LXI CNG                    CNG       Manual      First   \n",
      "Hyundai Creta 1.6 CRDi SX Option       Diesel       Manual      First   \n",
      "Honda Jazz V                           Petrol       Manual      First   \n",
      "Maruti Ertiga VDI                      Diesel       Manual      First   \n",
      "Audi A4 New 2.0 TDI Multitronic        Diesel    Automatic     Second   \n",
      "Hyundai EON LPG Era Plus Option           LPG       Manual      First   \n",
      "Nissan Micra Diesel XV                 Diesel       Manual      First   \n",
      "Toyota Innova Crysta 2.8 GX AT 8S      Diesel    Automatic      First   \n",
      "Volkswagen Vento Diesel Comfortline    Diesel       Manual      First   \n",
      "Tata Indica Vista Quadrajet LS         Diesel       Manual     Second   \n",
      "\n",
      "                                        Mileage   Engine      Power  Seats  \\\n",
      "Name                                                                         \n",
      "Maruti Wagon R LXI CNG               26.6 km/kg   998 CC  58.16 bhp    5.0   \n",
      "Hyundai Creta 1.6 CRDi SX Option     19.67 kmpl  1582 CC  126.2 bhp    5.0   \n",
      "Honda Jazz V                          18.2 kmpl  1199 CC   88.7 bhp    5.0   \n",
      "Maruti Ertiga VDI                    20.77 kmpl  1248 CC  88.76 bhp    7.0   \n",
      "Audi A4 New 2.0 TDI Multitronic       15.2 kmpl  1968 CC  140.8 bhp    5.0   \n",
      "Hyundai EON LPG Era Plus Option      21.1 km/kg   814 CC   55.2 bhp    5.0   \n",
      "Nissan Micra Diesel XV               23.08 kmpl  1461 CC   63.1 bhp    5.0   \n",
      "Toyota Innova Crysta 2.8 GX AT 8S    11.36 kmpl  2755 CC  171.5 bhp    8.0   \n",
      "Volkswagen Vento Diesel Comfortline  20.54 kmpl  1598 CC  103.6 bhp    5.0   \n",
      "Tata Indica Vista Quadrajet LS        22.3 kmpl  1248 CC     74 bhp    5.0   \n",
      "\n",
      "                                     Price  \n",
      "Name                                        \n",
      "Maruti Wagon R LXI CNG                1.75  \n",
      "Hyundai Creta 1.6 CRDi SX Option     12.50  \n",
      "Honda Jazz V                          4.50  \n",
      "Maruti Ertiga VDI                     6.00  \n",
      "Audi A4 New 2.0 TDI Multitronic      17.74  \n",
      "Hyundai EON LPG Era Plus Option       2.35  \n",
      "Nissan Micra Diesel XV                3.50  \n",
      "Toyota Innova Crysta 2.8 GX AT 8S    17.50  \n",
      "Volkswagen Vento Diesel Comfortline   5.20  \n",
      "Tata Indica Vista Quadrajet LS        1.95  \n"
     ]
    }
   ],
   "source": [
    "# No. 3\n",
    "# a\n",
    "# b\n",
    "data = all_cars.drop(['Unnamed: 0','New_Price'],axis=1)\n",
    "\n",
    "# c\n",
    "print(data.head(10))\n"
   ]
  },
  {
   "cell_type": "markdown",
   "metadata": {
    "id": "0GQiJ-UveuMI"
   },
   "source": [
    "## <font size='4'><font color=\"#E0B21B\">●&nbsp;&nbsp;</font><font color=\"666644\" size='2'>**No.**</font><font color=\"#333311\">**4**</font><br>\n",
    "\n",
    "We can also see that the DataFrame <tt>all_cars</tt> in **No.1** is very large. For the purpose of this assignment, let us reduce the size of that DataFrame by doing the following:\n",
    "\n",
    "<font color=\"#E0B21B\" size='3'>&nbsp;&nbsp;&nbsp;&nbsp;**a**&nbsp;&nbsp;</font> Create a new DataFrame call <tt>car_df</tt>.\n",
    "\n",
    "<font color=\"#E0B21B\" size='3'>&nbsp;&nbsp;&nbsp;&nbsp;**b**&nbsp;&nbsp;</font> The new DataFrame will consist of rows 1000 to 1300.\n",
    "\n",
    "<font color=\"#E0B21B\" size='3'>&nbsp;&nbsp;&nbsp;&nbsp;**c**&nbsp;&nbsp;</font> Print the first 10 rows of the dataset to check it."
   ]
  },
  {
   "cell_type": "code",
   "execution_count": 10,
   "metadata": {
    "id": "Ckiw8pvB7W-p",
    "scrolled": true
   },
   "outputs": [
    {
     "name": "stdout",
     "output_type": "stream",
     "text": [
      "                                    Location  Year  Kilometers_Driven  \\\n",
      "Name                                                                    \n",
      "Maruti A-Star Lxi                  Hyderabad  2010              81448   \n",
      "Renault KWID RXT Optional          Hyderabad  2018               1900   \n",
      "Hyundai Verna 1.6 SX VTVT (O) AT  Coimbatore  2012              54957   \n",
      "Maruti Wagon R LXI Minor             Chennai  2008              55000   \n",
      "BMW 3 Series 320d Sport Line         Kolkata  2013              21983   \n",
      "BMW 5 Series 2003-2012 520d            Delhi  2013              76000   \n",
      "Tata Indigo CS eVX                    Jaipur  2016              65000   \n",
      "Hyundai i20 Sportz 1.4 CRDi        Hyderabad  2015              26000   \n",
      "Maruti Omni E MPI STD BS IV            Kochi  2019              11571   \n",
      "Maruti Swift ZDi                   Hyderabad  2014              81000   \n",
      "\n",
      "                                 Fuel_Type Transmission Owner_Type  \\\n",
      "Name                                                                 \n",
      "Maruti A-Star Lxi                   Petrol       Manual      First   \n",
      "Renault KWID RXT Optional           Petrol       Manual      First   \n",
      "Hyundai Verna 1.6 SX VTVT (O) AT    Petrol    Automatic      First   \n",
      "Maruti Wagon R LXI Minor            Petrol       Manual     Second   \n",
      "BMW 3 Series 320d Sport Line        Diesel    Automatic      First   \n",
      "BMW 5 Series 2003-2012 520d         Diesel    Automatic      First   \n",
      "Tata Indigo CS eVX                  Diesel       Manual      First   \n",
      "Hyundai i20 Sportz 1.4 CRDi         Diesel       Manual      First   \n",
      "Maruti Omni E MPI STD BS IV         Petrol       Manual      First   \n",
      "Maruti Swift ZDi                    Diesel       Manual      First   \n",
      "\n",
      "                                     Mileage   Engine      Power  Seats  Price  \n",
      "Name                                                                            \n",
      "Maruti A-Star Lxi                  19.0 kmpl   998 CC   66.1 bhp    5.0   2.60  \n",
      "Renault KWID RXT Optional         25.17 kmpl   799 CC   53.3 bhp    5.0   4.45  \n",
      "Hyundai Verna 1.6 SX VTVT (O) AT   17.1 kmpl  1591 CC  121.4 bhp    5.0   5.37  \n",
      "Maruti Wagon R LXI Minor           18.9 kmpl  1061 CC     67 bhp    5.0   1.75  \n",
      "BMW 3 Series 320d Sport Line      18.88 kmpl  1995 CC    184 bhp    5.0  16.50  \n",
      "BMW 5 Series 2003-2012 520d       18.48 kmpl  1995 CC    177 bhp    5.0  19.00  \n",
      "Tata Indigo CS eVX                 25.0 kmpl  1396 CC  69.01 bhp    5.0   2.80  \n",
      "Hyundai i20 Sportz 1.4 CRDi       22.54 kmpl  1396 CC  88.73 bhp    5.0   6.20  \n",
      "Maruti Omni E MPI STD BS IV        16.8 kmpl   796 CC   34.2 bhp    8.0   3.80  \n",
      "Maruti Swift ZDi                   25.2 kmpl  1248 CC     74 bhp    5.0   6.10  \n"
     ]
    }
   ],
   "source": [
    "# No. 4\n",
    "# a\n",
    "# b\n",
    "car_df = data.iloc[1000:3000]\n",
    "\n",
    "# c\n",
    "print(car_df.head(10))\n"
   ]
  },
  {
   "cell_type": "markdown",
   "metadata": {
    "id": "oKIao49MeuRF"
   },
   "source": [
    "## <font size='4'><font color=\"#E0B21B\">●&nbsp;&nbsp;</font><font color=\"666644\" size='2'>**No.**</font><font color=\"#333311\">**5**</font><br>\n",
    "\n",
    "Repeat **No. 2** with the DataFrame <tt>car_df</tt> to check if everything looks right.\n",
    "\n",
    "Also print out the data type of each column."
   ]
  },
  {
   "cell_type": "code",
   "execution_count": 12,
   "metadata": {
    "id": "BtxtXQqd7Y7K"
   },
   "outputs": [
    {
     "name": "stdout",
     "output_type": "stream",
     "text": [
      "a\n",
      "                                    Location  Year  Kilometers_Driven  \\\n",
      "Name                                                                    \n",
      "Maruti A-Star Lxi                  Hyderabad  2010              81448   \n",
      "Renault KWID RXT Optional          Hyderabad  2018               1900   \n",
      "Hyundai Verna 1.6 SX VTVT (O) AT  Coimbatore  2012              54957   \n",
      "Maruti Wagon R LXI Minor             Chennai  2008              55000   \n",
      "BMW 3 Series 320d Sport Line         Kolkata  2013              21983   \n",
      "BMW 5 Series 2003-2012 520d            Delhi  2013              76000   \n",
      "Tata Indigo CS eVX                    Jaipur  2016              65000   \n",
      "Hyundai i20 Sportz 1.4 CRDi        Hyderabad  2015              26000   \n",
      "Maruti Omni E MPI STD BS IV            Kochi  2019              11571   \n",
      "Maruti Swift ZDi                   Hyderabad  2014              81000   \n",
      "\n",
      "                                 Fuel_Type Transmission Owner_Type  \\\n",
      "Name                                                                 \n",
      "Maruti A-Star Lxi                   Petrol       Manual      First   \n",
      "Renault KWID RXT Optional           Petrol       Manual      First   \n",
      "Hyundai Verna 1.6 SX VTVT (O) AT    Petrol    Automatic      First   \n",
      "Maruti Wagon R LXI Minor            Petrol       Manual     Second   \n",
      "BMW 3 Series 320d Sport Line        Diesel    Automatic      First   \n",
      "BMW 5 Series 2003-2012 520d         Diesel    Automatic      First   \n",
      "Tata Indigo CS eVX                  Diesel       Manual      First   \n",
      "Hyundai i20 Sportz 1.4 CRDi         Diesel       Manual      First   \n",
      "Maruti Omni E MPI STD BS IV         Petrol       Manual      First   \n",
      "Maruti Swift ZDi                    Diesel       Manual      First   \n",
      "\n",
      "                                     Mileage   Engine      Power  Seats  Price  \n",
      "Name                                                                            \n",
      "Maruti A-Star Lxi                  19.0 kmpl   998 CC   66.1 bhp    5.0   2.60  \n",
      "Renault KWID RXT Optional         25.17 kmpl   799 CC   53.3 bhp    5.0   4.45  \n",
      "Hyundai Verna 1.6 SX VTVT (O) AT   17.1 kmpl  1591 CC  121.4 bhp    5.0   5.37  \n",
      "Maruti Wagon R LXI Minor           18.9 kmpl  1061 CC     67 bhp    5.0   1.75  \n",
      "BMW 3 Series 320d Sport Line      18.88 kmpl  1995 CC    184 bhp    5.0  16.50  \n",
      "BMW 5 Series 2003-2012 520d       18.48 kmpl  1995 CC    177 bhp    5.0  19.00  \n",
      "Tata Indigo CS eVX                 25.0 kmpl  1396 CC  69.01 bhp    5.0   2.80  \n",
      "Hyundai i20 Sportz 1.4 CRDi       22.54 kmpl  1396 CC  88.73 bhp    5.0   6.20  \n",
      "Maruti Omni E MPI STD BS IV        16.8 kmpl   796 CC   34.2 bhp    8.0   3.80  \n",
      "Maruti Swift ZDi                   25.2 kmpl  1248 CC     74 bhp    5.0   6.10  \n",
      "b\n",
      "                                                  Location  Year  \\\n",
      "Name                                                               \n",
      "Maruti Ertiga VDI                                   Mumbai  2018   \n",
      "Maruti Alto LXi BSIII                            Hyderabad  2008   \n",
      "Maruti A-Star Vxi                                    Kochi  2010   \n",
      "BMW X5 3.0d                                      Bangalore  2009   \n",
      "Mahindra KUV 100 G80 K6 Plus 5Str                  Kolkata  2017   \n",
      "Hyundai i10 Magna AT                             Bangalore  2008   \n",
      "Honda Civic 2006-2010 1.8 S AT                        Pune  2007   \n",
      "Hyundai i10 Sportz 1.2                           Hyderabad  2010   \n",
      "Mercedes-Benz New C-Class C 220 CDI Elegance AT  Ahmedabad  2014   \n",
      "Toyota Etios G                                        Pune  2011   \n",
      "\n",
      "                                                 Kilometers_Driven Fuel_Type  \\\n",
      "Name                                                                           \n",
      "Maruti Ertiga VDI                                            14000    Diesel   \n",
      "Maruti Alto LXi BSIII                                        66000    Petrol   \n",
      "Maruti A-Star Vxi                                            55324    Petrol   \n",
      "BMW X5 3.0d                                                  90000    Diesel   \n",
      "Mahindra KUV 100 G80 K6 Plus 5Str                            43000    Petrol   \n",
      "Hyundai i10 Magna AT                                         58483    Petrol   \n",
      "Honda Civic 2006-2010 1.8 S AT                               93000    Petrol   \n",
      "Hyundai i10 Sportz 1.2                                       50000    Petrol   \n",
      "Mercedes-Benz New C-Class C 220 CDI Elegance AT              78616    Diesel   \n",
      "Toyota Etios G                                               37000    Petrol   \n",
      "\n",
      "                                                Transmission Owner_Type  \\\n",
      "Name                                                                      \n",
      "Maruti Ertiga VDI                                     Manual      First   \n",
      "Maruti Alto LXi BSIII                                 Manual      First   \n",
      "Maruti A-Star Vxi                                     Manual      First   \n",
      "BMW X5 3.0d                                        Automatic      First   \n",
      "Mahindra KUV 100 G80 K6 Plus 5Str                     Manual      First   \n",
      "Hyundai i10 Magna AT                               Automatic     Second   \n",
      "Honda Civic 2006-2010 1.8 S AT                     Automatic     Second   \n",
      "Hyundai i10 Sportz 1.2                                Manual      First   \n",
      "Mercedes-Benz New C-Class C 220 CDI Elegance AT    Automatic     Second   \n",
      "Toyota Etios G                                        Manual      First   \n",
      "\n",
      "                                                    Mileage   Engine  \\\n",
      "Name                                                                   \n",
      "Maruti Ertiga VDI                                25.47 kmpl  1248 CC   \n",
      "Maruti Alto LXi BSIII                             19.7 kmpl   796 CC   \n",
      "Maruti A-Star Vxi                                 19.0 kmpl   998 CC   \n",
      "BMW X5 3.0d                                       11.0 kmpl  2993 CC   \n",
      "Mahindra KUV 100 G80 K6 Plus 5Str                18.15 kmpl  1198 CC   \n",
      "Hyundai i10 Magna AT                              19.2 kmpl  1197 CC   \n",
      "Honda Civic 2006-2010 1.8 S AT                    12.9 kmpl  1799 CC   \n",
      "Hyundai i10 Sportz 1.2                           20.36 kmpl  1197 CC   \n",
      "Mercedes-Benz New C-Class C 220 CDI Elegance AT  14.84 kmpl  2143 CC   \n",
      "Toyota Etios G                                    17.6 kmpl  1496 CC   \n",
      "\n",
      "                                                     Power  Seats  Price  \n",
      "Name                                                                      \n",
      "Maruti Ertiga VDI                                88.50 bhp    7.0   9.25  \n",
      "Maruti Alto LXi BSIII                             46.3 bhp    5.0   1.70  \n",
      "Maruti A-Star Vxi                                 66.1 bhp    5.0   2.87  \n",
      "BMW X5 3.0d                                        235 bhp    5.0  17.75  \n",
      "Mahindra KUV 100 G80 K6 Plus 5Str                   82 bhp    5.0   4.50  \n",
      "Hyundai i10 Magna AT                                80 bhp    5.0   2.95  \n",
      "Honda Civic 2006-2010 1.8 S AT                     130 bhp    5.0   2.60  \n",
      "Hyundai i10 Sportz 1.2                            78.9 bhp    5.0   3.00  \n",
      "Mercedes-Benz New C-Class C 220 CDI Elegance AT    170 bhp    5.0  15.50  \n",
      "Toyota Etios G                                   88.73 bhp    5.0   2.80  \n",
      "c\n",
      "Index(['Maruti A-Star Lxi', 'Renault KWID RXT Optional',\n",
      "       'Hyundai Verna 1.6 SX VTVT (O) AT', 'Maruti Wagon R LXI Minor',\n",
      "       'BMW 3 Series 320d Sport Line', 'BMW 5 Series 2003-2012 520d',\n",
      "       'Tata Indigo CS eVX', 'Hyundai i20 Sportz 1.4 CRDi',\n",
      "       'Maruti Omni E MPI STD BS IV', 'Maruti Swift ZDi',\n",
      "       ...\n",
      "       'Maruti Ertiga VDI', 'Maruti Alto LXi BSIII', 'Maruti A-Star Vxi',\n",
      "       'BMW X5 3.0d', 'Mahindra KUV 100 G80 K6 Plus 5Str',\n",
      "       'Hyundai i10 Magna AT', 'Honda Civic 2006-2010 1.8 S AT',\n",
      "       'Hyundai i10 Sportz 1.2',\n",
      "       'Mercedes-Benz New C-Class C 220 CDI Elegance AT', 'Toyota Etios G'],\n",
      "      dtype='object', name='Name', length=2000)\n",
      "d\n",
      "Index(['Location', 'Year', 'Kilometers_Driven', 'Fuel_Type', 'Transmission',\n",
      "       'Owner_Type', 'Mileage', 'Engine', 'Power', 'Seats', 'Price'],\n",
      "      dtype='object')\n",
      "e\n",
      "(2000, 11)\n",
      "f\n",
      "Location              object\n",
      "Year                   int64\n",
      "Kilometers_Driven      int64\n",
      "Fuel_Type             object\n",
      "Transmission          object\n",
      "Owner_Type            object\n",
      "Mileage               object\n",
      "Engine                object\n",
      "Power                 object\n",
      "Seats                float64\n",
      "Price                float64\n",
      "dtype: object\n"
     ]
    }
   ],
   "source": [
    "# No. 5\n",
    "print(\"a\")\n",
    "print(car_df.head(10))\n",
    "\n",
    "print(\"b\")\n",
    "print(car_df.tail(10))\n",
    "\n",
    "print(\"c\")\n",
    "print(car_df.index)\n",
    "\n",
    "print(\"d\")\n",
    "print(car_df.columns)\n",
    "\n",
    "print(\"e\")\n",
    "print(car_df.shape)\n",
    "\n",
    "print(\"f\")\n",
    "print(car_df.dtypes)"
   ]
  },
  {
   "cell_type": "markdown",
   "metadata": {
    "id": "muwdlCUQeuYx"
   },
   "source": [
    "## <font size='4'><font color=\"#E0B21B\">●&nbsp;&nbsp;</font><font color=\"666644\" size='2'>**No.**</font><font color=\"#333311\">**6**</font><br>\n",
    "\n",
    "Let us organize the DataFrame <tt>car_df</tt>. Do the following:\n",
    "\n",
    "<font color=\"#E0B21B\" size='3'>&nbsp;&nbsp;&nbsp;&nbsp;**a**&nbsp;&nbsp;</font> Change the name of the columns in the DataFrame so that there is no underscore.\n",
    "\n",
    "<font color=\"#E0B21B\" size='3'>&nbsp;&nbsp;&nbsp;&nbsp;**b**&nbsp;&nbsp;</font> Change the data type of <tt>Year</tt>, <tt>Kilometers Driven</tt> and <tt>Seats</tt> to <tt>int32</tt>."
   ]
  },
  {
   "cell_type": "code",
   "execution_count": 46,
   "metadata": {
    "id": "UJnUf68O7aky",
    "scrolled": true
   },
   "outputs": [
    {
     "name": "stdout",
     "output_type": "stream",
     "text": [
      "['Location' 'Year' 'Kilometers_Driven' 'Fuel_Type' 'Transmission'\n",
      " 'Owner_Type' 'Mileage' 'Engine' 'Power' 'Seats' 'Price']\n",
      "{'Kilometers_Driven': 'Kilometers Driven', 'Fuel_Type': 'Fuel Type', 'Owner_Type': 'Owner Type'}\n",
      "Index(['KilometersDriven', 'FuelType', 'OwnerType', 'FuelType', 'Transmission',\n",
      "       'OwnerType', 'Mileage', 'Engine', 'Power', 'Seats', 'Price'],\n",
      "      dtype='object')\n"
     ]
    }
   ],
   "source": [
    "# No. 6\n",
    "# a\n",
    "import re\n",
    "columns_car = data.columns.values\n",
    "print(columns_car)\n",
    "new_car_col=[]\n",
    "old_car_col=[]\n",
    "for i in range(len(columns_car)):\n",
    "    if '_' in columns_car[i]:\n",
    "        old_car_col.append(columns_car[i])\n",
    "        new_car_col.append(re.sub('_',' ',columns_car[i]))\n",
    "new_name = {old:new for old,new in zip(old_car_col,new_car_col)}\n",
    "print(new_name)\n",
    "car_df.rename(columns=new_name,inplace=True)\n",
    "print(car_df.columns)\n",
    "\n",
    "# b\n",
    "#car_df.astype({'Year':'int32'}).dtypes\n",
    "#car_df.astype({'Kilometers Driven':'int32'}).dtypes\n",
    "#car_df.astype({'Seats':'int32'}).dtypes"
   ]
  },
  {
   "cell_type": "markdown",
   "metadata": {
    "id": "G30I5y18euek"
   },
   "source": [
    "## <font size='4'><font color=\"#E0B21B\">●&nbsp;&nbsp;</font><font color=\"666644\" size='2'>**No.**</font><font color=\"#333311\">**7**</font><br>\n",
    "\n",
    "To check the data type of the columns in <tt>car_df</tt>, once again, do the following:\n",
    "\n",
    "<font color=\"#E0B21B\" size='3'>&nbsp;&nbsp;&nbsp;&nbsp;**a**&nbsp;&nbsp;</font> Print the data type of each column.\n",
    "\n",
    "<font color=\"#E0B21B\" size='3'>&nbsp;&nbsp;&nbsp;&nbsp;**b**&nbsp;&nbsp;</font> Print each unique data type, and the number of columns using that data type.\n"
   ]
  },
  {
   "cell_type": "code",
   "execution_count": null,
   "metadata": {
    "id": "uESoImjy7cQO"
   },
   "outputs": [],
   "source": [
    "# No. 7\n",
    "print(\"a. Data type of each column: \")\n",
    "\n",
    "\n",
    "print(\"b. The number of columns using each data type:\")\n",
    "\n"
   ]
  },
  {
   "cell_type": "markdown",
   "metadata": {
    "id": "hgoiYIUTeun-"
   },
   "source": [
    "## <font size='4'><font color=\"#E0B21B\">●&nbsp;&nbsp;</font><font color=\"666644\" size='2'>**No.**</font><font color=\"#333311\">**8**</font><br>\n",
    "\n",
    "Continuing from **No. 6**, do the following:\n",
    "\n",
    "<font color=\"#E0B21B\" size='3'>&nbsp;&nbsp;&nbsp;&nbsp;**a**&nbsp;&nbsp;</font> Create dummy variables for <tt>Location</tt>.\n",
    "\n",
    "<font color=\"#E0B21B\" size='3'>&nbsp;&nbsp;&nbsp;&nbsp;**b**&nbsp;&nbsp;</font> Print the last 10 rows of the DataFrame.\n"
   ]
  },
  {
   "cell_type": "code",
   "execution_count": null,
   "metadata": {
    "id": "4BcNlili7du8"
   },
   "outputs": [],
   "source": [
    "# No. 8\n",
    "# a\n",
    "\n",
    "\n",
    "# b\n",
    "\n"
   ]
  },
  {
   "cell_type": "markdown",
   "metadata": {
    "id": "85urVrn8e3Ie"
   },
   "source": [
    "## <font size='4'><font color=\"#E0B21B\">●&nbsp;&nbsp;</font><font color=\"666644\" size='2'>**No.**</font><font color=\"#333311\">**9**</font><br>\n",
    "\n",
    "Now, we want to find certain rows and column, do the following:\n",
    "\n",
    "<font color=\"#E0B21B\" size='3'>&nbsp;&nbsp;&nbsp;&nbsp;**a**&nbsp;&nbsp;</font> Use integer indexing to print rows 23, 25 and 39.\n",
    "\n",
    "<font color=\"#E0B21B\" size='3'>&nbsp;&nbsp;&nbsp;&nbsp;**b**&nbsp;&nbsp;</font> Use label indexing to print the row correspoind to the car name <tt>Hyundai i10 Era 1.1</tt>.\n",
    "\n",
    "<font color=\"#E0B21B\" size='3'>&nbsp;&nbsp;&nbsp;&nbsp;**c**&nbsp;&nbsp;</font> Print the column <tt>Mileage</tt> and <tt>Engine</tt>."
   ]
  },
  {
   "cell_type": "code",
   "execution_count": null,
   "metadata": {
    "id": "yzTWEpet7frZ"
   },
   "outputs": [],
   "source": [
    "# No. 9\n",
    "print(\"a. Rows 23, 25, and 39 :\")\n",
    "\n",
    "\n",
    "print(\"b. Rows corresponding to Hyundai i10 Era 1.1:\")\n",
    "\n",
    "\n",
    "print(\"c. Column Mileage and Engine.\")\n",
    "\n"
   ]
  },
  {
   "cell_type": "markdown",
   "metadata": {
    "id": "D7Q0BlW6vBCf"
   },
   "source": [
    "## <font size='4'><font color=\"#E0B21B\">●&nbsp;&nbsp;</font><font color=\"666644\" size='2'>**No.**</font><font color=\"#333311\">**10**</font><br>\n",
    "\n",
    "Now, we want to find certain rows and column with specified values in the DataFrame. Do the following:\n",
    "\n",
    "<font color=\"#E0B21B\" size='3'>&nbsp;&nbsp;&nbsp;&nbsp;**a**&nbsp;&nbsp;</font> Print the columns <tt>Fuel Type</tt> and <tt>Seats</tt> for the cars <tt>Hyundai i10 Sportz 1.2</tt> and <tt>Toyota Innova Crysta 2.4 GX MT</tt>.\n",
    "\n",
    "<font color=\"#E0B21B\" size='3'>&nbsp;&nbsp;&nbsp;&nbsp;**b**&nbsp;&nbsp;</font> Print the columns having dtype of <tt>float64</tt>.\n",
    "\n",
    "<font color=\"#E0B21B\" size='3'>&nbsp;&nbsp;&nbsp;&nbsp;**c**&nbsp;&nbsp;</font> Print all the cars which are <tt>Nissan.</tt>\n"
   ]
  },
  {
   "cell_type": "code",
   "execution_count": null,
   "metadata": {
    "id": "LfNlZnXQvd5t"
   },
   "outputs": [],
   "source": [
    "# No. 10\n",
    "print(\"a. Fuel Type and Seats for the cars Hyundai i10 Sportz 1.2 and Toyota Innova Crysta 2.4 GX MT.\")\n",
    "\n",
    "\n",
    "print(\"b. Columns having dtype of float64.\")\n",
    "\n",
    "\n",
    "print(\"c. Cars which are Nissan.\")\n",
    "\n"
   ]
  },
  {
   "cell_type": "markdown",
   "metadata": {
    "id": "Y-5dhkG59JOt"
   },
   "source": [
    "<p>"
   ]
  },
  {
   "cell_type": "markdown",
   "metadata": {
    "id": "al7nXXSJ6OI5"
   },
   "source": [
    "# <font size='5' color=\"#666644\">**ASSIGNMENT**</font><font size='6' color=\"#E0B21B\">&nbsp;**2**<br>\n",
    "When performing data analysis, we may want to only look at data that matches a certain condition. Additionally, we also could perform the same calculations on groups of data. Lesson 2 introduces methods for filtering and grouping, and ends with a section on combining data. \n",
    "\n",
    "We will use the same data set as in Lesson 1. Make sure to **reload** the DataFrame so that any changes made in the previous lesson do not carry over."
   ]
  },
  {
   "cell_type": "markdown",
   "metadata": {
    "id": "opPVWE186Xy6"
   },
   "source": [
    "## <font size='4'><font color=\"#E0B21B\">●&nbsp;&nbsp;</font><font color=\"666644\" size='2'>**No.**</font><font color=\"#333311\">**1**</font><br>\n",
    "\n",
    "For **No. 1** and **No. 2**, we want to analyze the data of the students in the GP school. Therefore, load <tt>gp_data.csv</tt> into a new DataFrame called <tt>df</tt>.\n",
    "\n",
    "We want to select the students who are hard working. In order to do so, do the following:\n",
    "\n",
    "<font color=\"#E0B21B\" size='3'>&nbsp;&nbsp;&nbsp;&nbsp;**a**&nbsp;&nbsp;</font> Create a boolean array corresponding to students who have no absences.\n",
    "\n",
    "<font color=\"#E0B21B\" size='3'>&nbsp;&nbsp;&nbsp;&nbsp;**b**&nbsp;&nbsp;</font> Create a boolean array corresponding to students who do a lot of studying. (<tt>studytime</tt>=4)\n",
    "\n",
    "<font color=\"#E0B21B\" size='3'>&nbsp;&nbsp;&nbsp;&nbsp;**c**&nbsp;&nbsp;</font> Create a final boolean array which combine the two previous boolean arrays.\n",
    "\n",
    "<font color=\"#E0B21B\" size='3'>&nbsp;&nbsp;&nbsp;&nbsp;**d**&nbsp;&nbsp;</font> Print the first 20 rows that meet the condition of the final array."
   ]
  },
  {
   "cell_type": "code",
   "execution_count": null,
   "metadata": {
    "id": "1idUXORb6iyh"
   },
   "outputs": [],
   "source": [
    "# No. 1\n",
    "# a\n",
    "\n",
    "\n",
    "# b\n",
    "\n",
    "\n",
    "# c\n",
    "\n",
    "\n",
    "# d\n",
    "\n"
   ]
  },
  {
   "cell_type": "markdown",
   "metadata": {
    "id": "JNp0gl3_6YCt"
   },
   "source": [
    "## <font size='4'><font color=\"#E0B21B\">●&nbsp;&nbsp;</font><font color=\"666644\" size='2'>**No.**</font><font color=\"#333311\">**2**</font><br>\n",
    "\n",
    "Next, we want to select the students whose guardians are teachers. In order to do so, do the following:\n",
    "\n",
    "<font color=\"#E0B21B\" size='3'>&nbsp;&nbsp;&nbsp;&nbsp;**a**&nbsp;&nbsp;</font> Create a boolean array for students whose guardian are their mother. Print the first 5 rows that meet the condition.\n",
    "\n",
    "<font color=\"#E0B21B\" size='3'>&nbsp;&nbsp;&nbsp;&nbsp;**b**&nbsp;&nbsp;</font> Create a boolean array for students whose mothers are teacher. Print the first 5 rows that meet the condition.\n",
    "\n",
    "<font color=\"#E0B21B\" size='3'>&nbsp;&nbsp;&nbsp;&nbsp;**c**&nbsp;&nbsp;</font> Create a boolean array for students whose guardian are their father. Print the first 5 rows that meet the condition.\n",
    "\n",
    "<font color=\"#E0B21B\" size='3'>&nbsp;&nbsp;&nbsp;&nbsp;**d**&nbsp;&nbsp;</font> Create a boolean array for students whose fathers are teacher. Print the first 5 rows that meet the condition.\n",
    "\n",
    "<font color=\"#E0B21B\" size='3'>&nbsp;&nbsp;&nbsp;&nbsp;**e**&nbsp;&nbsp;</font> Create a final boolean array which combine all of the previous boolean arrays to create one where their guardians are teachers. Print the first 20 rows that meet the condition of that final array. Also, print the size of it."
   ]
  },
  {
   "cell_type": "code",
   "execution_count": null,
   "metadata": {
    "id": "MrOL7njl6jeV"
   },
   "outputs": [],
   "source": [
    "# No. 2\n",
    "print(\"a\")\n",
    "\n",
    "\n",
    "print(\"b\")\n",
    "\n",
    "\n",
    "print(\"c\")\n",
    "\n",
    "\n",
    "print(\"d\")\n",
    "\n",
    "\n",
    "print(\"e\")\n",
    "\n"
   ]
  },
  {
   "cell_type": "markdown",
   "metadata": {
    "id": "xJnsVnVu6YIf"
   },
   "source": [
    "## <font size='4'><font color=\"#E0B21B\">●&nbsp;&nbsp;</font><font color=\"666644\" size='2'>**No.**</font><font color=\"#333311\">**3**</font><br>\n",
    "\n",
    "For **No. 3**, **No. 4**, **No. 5** and **No. 6**, we will look at the <tt>train-data.csv</tt> DataFrame which contains information about cars. \n",
    "\n",
    "First, we want classify the cars into group based on their <tt>location</tt>. In order to do so, we need to see how many different locations there are, and the number of cars in each location. So, do the following:\n",
    "\n",
    "<font color=\"#E0B21B\" size='3'>&nbsp;&nbsp;&nbsp;&nbsp;**a**&nbsp;&nbsp;</font> Load the dataset into a new DataFrame called <tt>cars_df</tt>. Then, create a <tt>groupby</tt> object for the column <tt>Location</tt>. Print that object.\n",
    "\n",
    "<font color=\"#E0B21B\" size='3'>&nbsp;&nbsp;&nbsp;&nbsp;**b**&nbsp;&nbsp;</font> Print the number of such groups.\n",
    "\n",
    "<font color=\"#E0B21B\" size='3'>&nbsp;&nbsp;&nbsp;&nbsp;**c**&nbsp;&nbsp;</font> Print the size of each group.\n",
    "\n",
    "<font color=\"#E0B21B\" size='3'>&nbsp;&nbsp;&nbsp;&nbsp;**d**&nbsp;&nbsp;</font> Print the first row of each group."
   ]
  },
  {
   "cell_type": "code",
   "execution_count": null,
   "metadata": {
    "id": "HLngUVqK6kEp"
   },
   "outputs": [],
   "source": [
    "# No. 3\n",
    "# a\n",
    "\n",
    "\n",
    "# b\n",
    "\n",
    "\n",
    "# c\n",
    "\n",
    "\n",
    "# d\n"
   ]
  },
  {
   "cell_type": "markdown",
   "metadata": {
    "id": "oAg_SoDi6YMi"
   },
   "source": [
    "## <font size='4'><font color=\"#E0B21B\">●&nbsp;&nbsp;</font><font color=\"666644\" size='2'>**No.**</font><font color=\"#333311\">**4**</font><br>\n",
    "\n",
    "According to the result in **No. 3**, we can see that there are too many instant in each groups and it is still difficult to categorize the cars. Therefore, we will also use <tt>Year</tt> to categorize the cars along with their <tt>Location</tt>. In order to do so, do the following:\n",
    "\n",
    "<font color=\"#E0B21B\" size='3'>&nbsp;&nbsp;&nbsp;&nbsp;**a**&nbsp;&nbsp;</font>  Create a <tt>groupby</tt> object for the column <tt>Location</tt> and <tt>Year</tt>. Print that object.\n",
    "\n",
    "<font color=\"#E0B21B\" size='3'>&nbsp;&nbsp;&nbsp;&nbsp;**b**&nbsp;&nbsp;</font>  Print the number of groups.\n",
    "\n",
    "<font color=\"#E0B21B\" size='3'>&nbsp;&nbsp;&nbsp;&nbsp;**c**&nbsp;&nbsp;</font>  Print the size of each group.\n",
    "\n",
    "<font color=\"#E0B21B\" size='3'>&nbsp;&nbsp;&nbsp;&nbsp;**d**&nbsp;&nbsp;</font>  Print all the cars in <tt>Pune</tt> which are manufactured in <tt>2006</tt>."
   ]
  },
  {
   "cell_type": "code",
   "execution_count": null,
   "metadata": {
    "id": "09ed75iW6keo"
   },
   "outputs": [],
   "source": [
    "# No. 4\n",
    "print(\"a\")\n",
    "\n",
    "print(\"b\")\n",
    "\n",
    "print(\"c\")\n",
    "\n",
    "print(\"d\")\n"
   ]
  },
  {
   "cell_type": "markdown",
   "metadata": {
    "id": "AxJWq_ps6YRL"
   },
   "source": [
    "## <font size='4'><font color=\"#E0B21B\">●&nbsp;&nbsp;</font><font color=\"666644\" size='2'>**No.**</font><font color=\"#333311\">**5**</font><br>\n",
    "\n",
    "Now, we want to see some statistical figure in our car DataFrame. We want to know the mean and variance of the <tt>Kilometer_Driven</tt> based on the <tt>Owner_Type</tt>. Therefore, do the following:\n",
    "\n",
    "<font color=\"#E0B21B\" size='3'>&nbsp;&nbsp;&nbsp;&nbsp;**a**&nbsp;&nbsp;</font> Create a <tt>groupby</tt> object for the column <tt>Owner_Type</tt>.\n",
    "\n",
    "<font color=\"#E0B21B\" size='3'>&nbsp;&nbsp;&nbsp;&nbsp;**b**&nbsp;&nbsp;</font> Print out the mean of the <tt>Kilometers_Driven</tt> of each group.\n",
    "\n",
    "<font color=\"#E0B21B\" size='3'>&nbsp;&nbsp;&nbsp;&nbsp;**c**&nbsp;&nbsp;</font> Print out the variance of the <tt>Kilometers_Driven</tt> of each group."
   ]
  },
  {
   "cell_type": "code",
   "execution_count": null,
   "metadata": {
    "id": "7ovHFJcA6lP_"
   },
   "outputs": [],
   "source": [
    "# No. 5\n",
    "# a\n",
    "\n",
    "\n",
    "# b\n",
    "\n",
    "\n",
    "# c\n",
    "\n"
   ]
  },
  {
   "cell_type": "markdown",
   "metadata": {
    "id": "QFl2Ak1x6YWY"
   },
   "source": [
    "## <font size='4'><font color=\"#E0B21B\">●&nbsp;&nbsp;</font><font color=\"666644\" size='2'>**No.**</font><font color=\"#333311\">**6**</font><br>\n",
    "\n",
    "We want to find out the number of cars in each <tt>Owner_Type</tt> group which have driven more than 55000 kilometers. In order to do so, do the following:\n",
    "\n",
    "<font color=\"#E0B21B\" size='3'>&nbsp;&nbsp;&nbsp;&nbsp;**a**&nbsp;&nbsp;</font> Define a function that will return the number of values that are greater than 55000.\n",
    "\n",
    "<font color=\"#E0B21B\" size='3'>&nbsp;&nbsp;&nbsp;&nbsp;**b**&nbsp;&nbsp;</font> \n",
    "Group by <tt>Owner_Type</tt> and use <tt>agg</tt> to apply the user-define function to the <tt>Kilometers_Driven</tt> column.\n",
    "\n",
    "<font color=\"#E0B21B\" size='3'>&nbsp;&nbsp;&nbsp;&nbsp;**c**&nbsp;&nbsp;</font> Print the result to see which group has more cars with over 55000 kilometers driven."
   ]
  },
  {
   "cell_type": "code",
   "execution_count": null,
   "metadata": {
    "id": "Y7yxzsry6lxD"
   },
   "outputs": [],
   "source": [
    "# No. 6\n",
    "# a\n",
    "\n",
    "\n",
    "# b\n",
    "\n",
    "\n",
    "# c\n",
    "\n"
   ]
  },
  {
   "cell_type": "markdown",
   "metadata": {
    "id": "t0pxAUYZ6Ybs"
   },
   "source": [
    "## <font size='4'><font color=\"#E0B21B\">●&nbsp;&nbsp;</font><font color=\"666644\" size='2'>**No.**</font><font color=\"#333311\">**7**</font><br>\n",
    "\n",
    "For **No. 8**, **No. 9** and **No. 10**, we want to look at the data and grade of student from both schools. In order to do so, we need to combine four DataFrames together. Therefore, do the following:\n",
    "\n",
    "<font color=\"#E0B21B\" size='3'>&nbsp;&nbsp;&nbsp;&nbsp;**a**&nbsp;&nbsp;</font> Load <tt>gp_data.csv</tt> and <tt>ms_data.csv</tt>.\n",
    "\n",
    "<font color=\"#E0B21B\" size='3'>&nbsp;&nbsp;&nbsp;&nbsp;**b**&nbsp;&nbsp;</font> Create a new DataFrame called <tt>student_data</tt> by combining both the <tt>gp_data.csv</tt> and <tt>ms_data.csv</tt> using <tt>concat</tt>.\n",
    "\n",
    "<font color=\"#E0B21B\" size='3'>&nbsp;&nbsp;&nbsp;&nbsp;**c**&nbsp;&nbsp;</font> Load <tt>gp_grades.csv</tt> and <tt>ms_grades.csv</tt>.\n",
    "\n",
    "<font color=\"#E0B21B\" size='3'>&nbsp;&nbsp;&nbsp;&nbsp;**d**&nbsp;&nbsp;</font> Create a new DataFrame called <tt>student_grades</tt> by combining both the <tt>gp_grades.csv</tt> and <tt>ms_grades.csv</tt> using <tt>concat</tt>.\n",
    "\n",
    "<font color=\"#E0B21B\" size='3'>&nbsp;&nbsp;&nbsp;&nbsp;**e**&nbsp;&nbsp;</font> Create a new DataFrame called <tt>student</tt> using inner join to combine the <tt>student_data</tt> and <tt>student_grades</tt>\n",
    "\n",
    "<font color=\"#E0B21B\" size='3'>&nbsp;&nbsp;&nbsp;&nbsp;**f**&nbsp;&nbsp;</font> Print the shape of the final <tt>student</tt> DataFrame."
   ]
  },
  {
   "cell_type": "code",
   "execution_count": null,
   "metadata": {
    "id": "-E2fRalR6mWg"
   },
   "outputs": [],
   "source": [
    "# No. 7\n",
    "# a\n",
    "\n",
    "\n",
    "# b\n",
    "\n",
    "\n",
    "# c\n",
    "\n",
    "\n",
    "# d\n",
    "\n",
    "\n",
    "# e\n",
    "\n",
    "\n",
    "# f\n",
    "\n"
   ]
  },
  {
   "cell_type": "markdown",
   "metadata": {
    "id": "8QlDoiyS6Yg2"
   },
   "source": [
    "## <font size='4'><font color=\"#E0B21B\">●&nbsp;&nbsp;</font><font color=\"666644\" size='2'>**No.**</font><font color=\"#333311\">**8**</font><br>\n",
    "\n",
    "For a student to pass the exam, they have to **score 12 or higher** in **at least one of their <tt>G1</tt>, <tt>G2</tt>, or <tt>G3</tt> test**. With this information, select all the students who failed the exam."
   ]
  },
  {
   "cell_type": "code",
   "execution_count": null,
   "metadata": {
    "id": "wKozG4Wc6myI"
   },
   "outputs": [],
   "source": [
    "# No. 8"
   ]
  },
  {
   "cell_type": "markdown",
   "metadata": {
    "id": "qw8FInFU6Yn1"
   },
   "source": [
    "## <font size='4'><font color=\"#E0B21B\">●&nbsp;&nbsp;</font><font color=\"666644\" size='2'>**No.**</font><font color=\"#333311\">**9**</font><br>\n",
    "\n",
    "Based on the <tt>sex</tt> and <tt>age</tt> of the student, do the following:\n",
    "\n",
    "<font color=\"#E0B21B\" size='3'>&nbsp;&nbsp;&nbsp;&nbsp;**a**&nbsp;&nbsp;</font> Find out which group has the highest mean score for <tt>G3</tt> test.\n",
    "\n",
    "<font color=\"#E0B21B\" size='3'>&nbsp;&nbsp;&nbsp;&nbsp;**b**&nbsp;&nbsp;</font> Find out which group has the highest variance in the number of </tt>absences</tt>."
   ]
  },
  {
   "cell_type": "code",
   "execution_count": null,
   "metadata": {
    "id": "uA7_GwRP6nVE"
   },
   "outputs": [],
   "source": [
    "# No. 9\n",
    "# a\n",
    "\n",
    "\n",
    "# b\n",
    "\n"
   ]
  },
  {
   "cell_type": "markdown",
   "metadata": {
    "id": "MdDGKRQk6YyU"
   },
   "source": [
    "## <font size='4'><font color=\"#E0B21B\">●&nbsp;&nbsp;</font><font color=\"666644\" size='2'>**No.**</font><font color=\"#333311\">**10**</font><br>\n",
    "\n",
    "Based on the <tt>address</tt> and <tt>guardian</tt>, do the following:\n",
    "\n",
    "<font color=\"#E0B21B\" size='3'>&nbsp;&nbsp;&nbsp;&nbsp;**a**&nbsp;&nbsp;</font>\n",
    "Define a function and use <tt>agg</tt> to apply the function to the <tt>traveltime</tt> column.\n",
    "\n",
    "<font color=\"#E0B21B\" size='3'>&nbsp;&nbsp;&nbsp;&nbsp;**b**&nbsp;&nbsp;</font>\n",
    "Find out the sum of the travel time for each group on the <tt>address</tt> and <tt>guardian</tt>.\n",
    "\n",
    "Do not use Pandas provide function for the answer, but you may use it to check."
   ]
  },
  {
   "cell_type": "code",
   "execution_count": null,
   "metadata": {
    "id": "3i1J4aT-6n3L"
   },
   "outputs": [],
   "source": [
    "# No. 10\n",
    "# a\n",
    "\n",
    "\n",
    "# b\n",
    "\n"
   ]
  },
  {
   "cell_type": "markdown",
   "metadata": {
    "id": "xVMTH7y56rUD"
   },
   "source": [
    "<p>"
   ]
  },
  {
   "cell_type": "markdown",
   "metadata": {
    "id": "dR-MTMTGs5dt"
   },
   "source": [
    "# <font size='5' color=\"#666644\">**ASSIGNMENT**</font><font size='6' color=\"#E0B21B\">&nbsp;**3**<br>\n",
    "Data can be collected from many different sources, and the amount, type, and format of data can vary from source to source. Before we can analyze or use this data, we will need to clean the data so that all types, scales, and units match, and handle missing data. In this lesson, we will cover the above topics.\n",
    "\n",
    "We will use a dataset collected in 2019 that contains information on cars, including performance specs and used and new sale prices."
   ]
  },
  {
   "cell_type": "markdown",
   "metadata": {
    "id": "cbrEu_UG5k2I"
   },
   "source": [
    "## <font size='4'><font color=\"#E0B21B\">●&nbsp;&nbsp;</font><font color=\"666644\" size='2'>**No.**</font><font color=\"#333311\">**1**</font><br>\n",
    "\n",
    "For **No. 1**, **No. 2** and **No. 3**, we will be using the student dataset. When combining the <tt>gp</tt> and <tt>ms</tt> DataFrames, make sure the <tt>gp</tt> DataFrame is on top of the student dataset. \n",
    "\n",
    "For the student dataset, we want to calculate the grade and score of the student from their <tt>attendance</tt>, <tt>G1</tt>, <tt>G2</tt> and <tt>G3</tt> score.\n",
    "\n",
    "Let us begin by calculating the <tt>attendence_score</tt> of each students. Do the following:\n",
    "\n",
    "<font color=\"#E0B21B\" size='3'>&nbsp;&nbsp;&nbsp;&nbsp;**a**&nbsp;&nbsp;</font>\n",
    " Create a new column called <tt>attendence_score</tt>.  \n",
    " \n",
    "<font color=\"#E0B21B\" size='3'>&nbsp;&nbsp;&nbsp;&nbsp;**b**&nbsp;&nbsp;</font> Fill in the values of that column using the following criteria:\n",
    " * No Absence = 5\n",
    " * 1-5 Absences = 4\n",
    " * 6-10 Absences = 3\n",
    " * 11-15 Absences = 2\n",
    " * 16-20 Absences = 1\n",
    " * 21 or more Absences = 0"
   ]
  },
  {
   "cell_type": "code",
   "execution_count": null,
   "metadata": {
    "id": "HkdselTO53On"
   },
   "outputs": [],
   "source": [
    "# No. 1\n",
    "\n",
    "# a, b\n"
   ]
  },
  {
   "cell_type": "markdown",
   "metadata": {
    "id": "wBug3kZw5tdh"
   },
   "source": [
    "## <font size='4'><font color=\"#E0B21B\">●&nbsp;&nbsp;</font><font color=\"666644\" size='2'>**No.**</font><font color=\"#333311\">**2**</font><br>\n",
    "\n",
    "The <tt>G1</tt>, <tt>G2</tt> and <tt>G3</tt> score are out of 20, calculate the percentage of each score by doing the following:\n",
    "\n",
    "<font color=\"#E0B21B\" size='3'>&nbsp;&nbsp;&nbsp;&nbsp;**a**&nbsp;&nbsp;</font> Create a new column called <tt>G1_percent</tt>.\n",
    "\n",
    "<font color=\"#E0B21B\" size='3'>&nbsp;&nbsp;&nbsp;&nbsp;**b**&nbsp;&nbsp;</font> Fill in the column using the formula (<tt>G1</tt>/20)*100.\n",
    "\n",
    "<font color=\"#E0B21B\" size='3'>&nbsp;&nbsp;&nbsp;&nbsp;**c**&nbsp;&nbsp;</font> Repeat for the new column called <tt>G2_percentage</tt> and <tt>G3_percentage</tt>."
   ]
  },
  {
   "cell_type": "code",
   "execution_count": null,
   "metadata": {
    "id": "MXnnk8ba53vq"
   },
   "outputs": [],
   "source": [
    "# No. 2\n",
    "\n",
    "# a, b\n",
    "\n",
    "\n",
    "# c\n",
    "\n"
   ]
  },
  {
   "cell_type": "markdown",
   "metadata": {
    "id": "Ab8mFLSy5toT"
   },
   "source": [
    "## <font size='4'><font color=\"#E0B21B\">●&nbsp;&nbsp;</font><font color=\"666644\" size='2'>**No.**</font><font color=\"#333311\">**3**</font><br>\n",
    "\n",
    "The way the final grade is calculated is that the <tt>attendence</tt> contributes to 10% of the score and each exams are 30%. So, do the following:\n",
    "\n",
    "<font color=\"#E0B21B\" size='3'>&nbsp;&nbsp;&nbsp;&nbsp;**a**&nbsp;&nbsp;</font> Create a new column called <tt>total_score</tt>.\n",
    "\n",
    "<font color=\"#E0B21B\" size='3'>&nbsp;&nbsp;&nbsp;&nbsp;**b**&nbsp;&nbsp;</font> Fill in the column using the formula:<br>\n",
    "&nbsp;&nbsp;&nbsp;&nbsp;&nbsp;&nbsp;&nbsp;&nbsp; (2 &#42; <tt>attendence_score</tt>) + 0.3 &#42; (<tt>G1_percentage</tt> + <tt>G2_percentage</tt> + <tt>G3_percentage</tt>)\n",
    "\n",
    "<font color=\"#E0B21B\" size='3'>&nbsp;&nbsp;&nbsp;&nbsp;**c**&nbsp;&nbsp;</font> Create a new column called <tt>grade</tt>\n",
    "\n",
    "<font color=\"#E0B21B\" size='3'>&nbsp;&nbsp;&nbsp;&nbsp;**d**&nbsp;&nbsp;</font> Fill in the column using the following criteria:\n",
    " * If <tt>total_score</tt> is 95-100 = A\n",
    " * If <tt>total_score</tt> is 85-95 = B\n",
    " * If <tt>total_score</tt> is 70-85 = C\n",
    " * If <tt>total_score</tt> is 60-70 = D\n",
    " * If <tt>total_score</tt> is 60 or less = F\n",
    "\n",
    "<font color=\"#E0B21B\" size='3'>&nbsp;&nbsp;&nbsp;&nbsp;**e**&nbsp;&nbsp;</font> Print <tt>student_id</tt>, <tt>attendence_score</tt>, <tt>G1_percentage</tt>, <tt>G2_percentage</tt> and <tt>grade</tt> for row 420 to 430."
   ]
  },
  {
   "cell_type": "code",
   "execution_count": null,
   "metadata": {
    "id": "YOkUfmrG54QL"
   },
   "outputs": [],
   "source": [
    "# No. 3\n",
    "\n",
    "# a, b\n",
    "\n",
    "\n",
    "# c, d\n",
    "\n",
    "\n",
    "# e\n"
   ]
  },
  {
   "cell_type": "markdown",
   "metadata": {
    "id": "2ectjdBV5twu"
   },
   "source": [
    "## <font size='4'><font color=\"#E0B21B\">●&nbsp;&nbsp;</font><font color=\"666644\" size='2'>**No.**</font><font color=\"#333311\">**4**</font><br>\n",
    "\n",
    "For all of the questions from this point on, we will be using the <tt>car_train_data.csv</tt> dataset.\n",
    "\n",
    "The customer would like to know what type of car each of the car is. In order to do so, do the following:\n",
    "\n",
    "<font color=\"#E0B21B\" size='3'>&nbsp;&nbsp;&nbsp;&nbsp;**a**&nbsp;&nbsp;</font> Create a new column called <tt>Car_Type</tt>.\n",
    "\n",
    "<font color=\"#E0B21B\" size='3'>&nbsp;&nbsp;&nbsp;&nbsp;**b**&nbsp;&nbsp;</font> Fill in the column using the following criteria:\n",
    " * If the car have 2 seats, <tt>Convertible</tt>.\n",
    " * If the car have 4 seats, <tt>Sedan</tt>.\n",
    " * If the car have 5-7 seats, <tt>SUV</tt>.\n",
    " * If the car have 8-10 seats, <tt>Van</tt>.\n",
    " * Apart from that, <tt>Other</tt>."
   ]
  },
  {
   "cell_type": "code",
   "execution_count": null,
   "metadata": {
    "id": "iNkMSs9354xm"
   },
   "outputs": [],
   "source": [
    "# No. 4\n",
    "\n",
    "# a, b\n",
    "\n"
   ]
  },
  {
   "cell_type": "markdown",
   "metadata": {
    "id": "fqG0FJ165t1d"
   },
   "source": [
    "## <font size='4'><font color=\"#E0B21B\">●&nbsp;&nbsp;</font><font color=\"666644\" size='2'>**No.**</font><font color=\"#333311\">**5**</font><br>\n",
    "\n",
    "There are some data still missing from the dataset which we need to fill, before we remove all of the rows where there are values missing. Do the following:\n",
    "\n",
    "<font color=\"#E0B21B\" size='3'>&nbsp;&nbsp;&nbsp;&nbsp;**a**&nbsp;&nbsp;</font> Fill all the NA values for <tt>Seats</tt> and <tt>New_Price</tt> with 0.\n",
    "\n",
    "<font color=\"#E0B21B\" size='3'>&nbsp;&nbsp;&nbsp;&nbsp;**b**&nbsp;&nbsp;</font> Remove the unit from <tt>Power</tt> and convert the dtype to <tt>float</tt>.\n",
    "\n",
    "<font color=\"#E0B21B\" size='3'>&nbsp;&nbsp;&nbsp;&nbsp;**c**&nbsp;&nbsp;</font> Calculate the mean of the <tt>Power</tt>, and fill <tt>NA</tt> values for <tt>Power</tt> with the mean.\n",
    "\n",
    "<font color=\"#E0B21B\" size='3'>&nbsp;&nbsp;&nbsp;&nbsp;**d**&nbsp;&nbsp;</font> Remove rows with <tt>NA</tt> values and print the shape of the DataFrame. "
   ]
  },
  {
   "cell_type": "code",
   "execution_count": null,
   "metadata": {
    "id": "Bghz4D2O55eR"
   },
   "outputs": [],
   "source": [
    "# No. 5\n",
    "\n",
    "# a\n",
    "\n",
    "\n",
    "# b\n",
    "\n",
    "\n",
    "# c\n",
    "\n",
    "\n",
    "# d\n",
    "\n"
   ]
  },
  {
   "cell_type": "markdown",
   "metadata": {
    "id": "O2XRBoXB5t8E"
   },
   "source": [
    "## <font size='4'><font color=\"#E0B21B\">●&nbsp;&nbsp;</font><font color=\"666644\" size='2'>**No.**</font><font color=\"#333311\">**6**</font><br>\n",
    "\n",
    "Next, with the remaining dataset, we need to separate the cars in to 3 different <tt>Engine_Size</tt> categories. Do the following:\n",
    "\n",
    "<font color=\"#E0B21B\" size='3'>&nbsp;&nbsp;&nbsp;&nbsp;**a**&nbsp;&nbsp;</font> Remove the unit from <tt>Engine</tt> and convert dtype to float.\n",
    "\n",
    "<font color=\"#E0B21B\" size='3'>&nbsp;&nbsp;&nbsp;&nbsp;**b**&nbsp;&nbsp;</font> Create a new column called <tt>Engine_Size</tt> by discretizing the values into three categories, each with the same number of points per category. The names of the categories are <tt>Small</tt>, <tt>Medium</tt>, and <tt>Large</tt>.\n",
    "\n",
    "<font color=\"#E0B21B\" size='3'>&nbsp;&nbsp;&nbsp;&nbsp;**c**&nbsp;&nbsp;</font> Group by <tt>Engine_Size</tt> and print the group sizes as well as the ranges of each categories. "
   ]
  },
  {
   "cell_type": "code",
   "execution_count": null,
   "metadata": {
    "id": "LLl_AtVc557l"
   },
   "outputs": [],
   "source": [
    "# No. 6\n",
    "\n",
    "# a\n",
    "\n",
    "\n",
    "# b\n",
    "\n",
    "\n",
    "# c\n",
    "\n"
   ]
  },
  {
   "cell_type": "markdown",
   "metadata": {
    "id": "sByyPnWB5uDX"
   },
   "source": [
    "## <font size='4'><font color=\"#E0B21B\">●&nbsp;&nbsp;</font><font color=\"666644\" size='2'>**No.**</font><font color=\"#333311\">**7**</font><br>\n",
    "\n",
    "Now, we want to see some statistical values in the dataset, based on the location of the car. Do the following:\n",
    "1. Print the min and max values of <tt>Kilometers_Driven</tt> in each location (group by location)."
   ]
  },
  {
   "cell_type": "code",
   "execution_count": null,
   "metadata": {
    "id": "qx4z6OfQ56ic"
   },
   "outputs": [],
   "source": []
  },
  {
   "cell_type": "markdown",
   "metadata": {
    "id": "pbYzqka75uRP"
   },
   "source": [
    "## <font size='4'><font color=\"#E0B21B\">●&nbsp;&nbsp;</font><font color=\"666644\" size='2'>**No.**</font><font color=\"#333311\">**8**</font><br>\n",
    "\n",
    "Find the mean and variance of the <tt>Kilometers_Driven</tt> using the DataFrame's <tt>mean</tt> and <tt>var</tt> function. \n"
   ]
  },
  {
   "cell_type": "code",
   "execution_count": null,
   "metadata": {
    "id": "Le9r-Tsr58Zo"
   },
   "outputs": [],
   "source": [
    "# No. 9"
   ]
  },
  {
   "cell_type": "markdown",
   "metadata": {
    "id": "TTMvAE0e5udv"
   },
   "source": [
    "## <font size='4'><font color=\"#E0B21B\">●&nbsp;&nbsp;</font><font color=\"666644\" size='2'>**No.**</font><font color=\"#333311\">**9 & 10**</font><br>\n",
    "\n",
    "Lastly, we are going to change the <tt>New_Price</tt> for all of the car. The price of the car in each location depreciate in a different rate. We are going to define and apply a function to the DataFrame grouped by location. Using a dictionary provided in the code, do the following:\n",
    "\n",
    "<font color=\"#E0B21B\" size='3'>&nbsp;&nbsp;&nbsp;&nbsp;**a**&nbsp;&nbsp;</font> Create a function which depreciate the price of the car by the formula (<tt>factor</tt> &#42;&#42; <tt>year_old</tt>) &#42; <tt>Price</tt>. The <tt>factor</tt> can be obtained from the dictionary provided and <tt>year_old</tt> = 2021-<tt>Year</tt>.\n",
    "\n",
    "<font color=\"#E0B21B\" size='3'>&nbsp;&nbsp;&nbsp;&nbsp;**b**&nbsp;&nbsp;</font> Find out the location where the average <tt>New_Price</tt> of cars at the location is higher and lower than the average <tt>New_Price</tt> of all of the cars."
   ]
  },
  {
   "cell_type": "code",
   "execution_count": null,
   "metadata": {
    "id": "ZdqRcLcc5n96"
   },
   "outputs": [],
   "source": [
    "# No. 10\n",
    "factor_table = {\n",
    "    'Mumbai': 0.98,\n",
    "    'Pune': 0.95,\n",
    "    'Chennai': 0.93,\n",
    "    'Coimbatore': 0.96,\n",
    "    'Hyderabad': 0.91,\n",
    "    'Jaipur': 0.94,\n",
    "    'Kochi': 0.95,\n",
    "    'Kolkata': 0.97,\n",
    "    'Delhi': 0.93,\n",
    "    'Bangalore'0.93: ,\n",
    "    'Ahmedabad': 0.92}\n",
    "\n",
    "# a\n",
    "\n",
    "\n",
    "# b\n",
    "\n"
   ]
  },
  {
   "cell_type": "markdown",
   "metadata": {
    "id": "cT6aOBYT6ua7"
   },
   "source": [
    "<p>"
   ]
  },
  {
   "cell_type": "markdown",
   "metadata": {
    "id": "DOrXTbtgtA39"
   },
   "source": [
    "# <font size='5' color=\"#666644\">**ASSIGNMENT**</font><font size='6' color=\"#E0B21B\">&nbsp;**4**<br>\n",
    "Data visualization is one of the most important topics in Data Science as it allows us to rapidly observe various properties of our data and share findings with others. However, selecting the wrong type of plot can lead to confusion. There are many Python libraries for data visualization, and this lesson will introduce some of the most popular.\n",
    "\n",
    "We will be working with both of the previously used datasets in this section. Load them below before we move on to the exercises. For the student dataset, load the data and grades files, and merge into one single DataFrame. For the car dataset, drop rows with missing values."
   ]
  },
  {
   "cell_type": "markdown",
   "metadata": {
    "id": "oL2AyTVujOu1"
   },
   "source": [
    "## <font size='4'><font color=\"#E0B21B\">●&nbsp;&nbsp;</font><font color=\"666644\" size='2'>**No.**</font><font color=\"#333311\">**1**</font><br>\n",
    "\n",
    "Let us begin by using matplotlib library to do some basic plots.\n",
    "Do the following:\n",
    "\n",
    "<font color=\"#E0B21B\" size='3'>&nbsp;&nbsp;&nbsp;&nbsp;**a**&nbsp;&nbsp;</font> Create two subplots which shares a common x-axis. (Two rows one column)\n",
    "\n",
    "<font color=\"#E0B21B\" size='3'>&nbsp;&nbsp;&nbsp;&nbsp;**b**&nbsp;&nbsp;</font> Using different colors and linestyles, draw the following:\n",
    " * sin(*x*) for the range *x* = [0, pi] on the first (top) subplot.\n",
    " * sin(2*x*) for the range *x* = [pi, 2pi] on the first (top) subplot.\n",
    " * cos(3*x*) for the range *x* = [0, pi] on the second (bottom) subplot.\n",
    " * cos(*x*) for the range *x* = [pi, 2pi] on the second (bottom) subplot.\n",
    "\n",
    "<font color=\"#E0B21B\" size='3'>&nbsp;&nbsp;&nbsp;&nbsp;**c**&nbsp;&nbsp;</font> Change the xticks to range from [0, 4pi] with intervals of 0.5pi, and set the xlabel accordingly. Use the symbol for \"pi\" for the labels.\n",
    "\n",
    "<font color=\"#E0B21B\" size='3'>&nbsp;&nbsp;&nbsp;&nbsp;**d**&nbsp;&nbsp;</font> Set the title of the plot to <tt>Assignment 4</tt>."
   ]
  },
  {
   "cell_type": "code",
   "execution_count": null,
   "metadata": {
    "id": "yvUlvvZWtsqk"
   },
   "outputs": [],
   "source": [
    "# No. 1\n",
    "# a\n",
    "\n",
    "\n",
    "# b\n",
    "\n",
    "\n",
    "# c\n",
    "\n",
    "\n",
    "# d\n",
    "\n"
   ]
  },
  {
   "cell_type": "markdown",
   "metadata": {
    "id": "r5kQqYNUuoPU"
   },
   "source": [
    "## <font size='4'><font color=\"#E0B21B\">●&nbsp;&nbsp;</font><font color=\"666644\" size='2'>**No.**</font><font color=\"#333311\">**2**</font><br>\n",
    "Now, we are going to use the built in functions of the Pandas library to plotting graphs from the DataFrame.<p>\n",
    "For **No. 2**, **No. 3** and **No. 4**, we are going to be using the car dataset.<p>\n",
    "We want to visualize what the probability of a randomly chosen car's power is through a kernel density estimate. Do the following:<p>\n",
    "<font color=\"#E0B21B\">&nbsp;&nbsp;&nbsp;&nbsp;**a**&nbsp;&nbsp;</font> Plot a kernel density estimate of <tt>Power</tt>. <p>\n",
    "<font color=\"#E0B21B\">&nbsp;&nbsp;&nbsp;&nbsp;**b**&nbsp;&nbsp;</font> Set the title to <tt>Car's Power</tt><p>\n",
    "<font color=\"#E0B21B\">&nbsp;&nbsp;&nbsp;&nbsp;**c**&nbsp;&nbsp;</font> Also, there should be no legend.<p>\n",
    "\n",
    "Remember to remove the unit from the values in the column and convert the dtype to float."
   ]
  },
  {
   "cell_type": "code",
   "execution_count": null,
   "metadata": {
    "id": "XnMH2DdOttcX"
   },
   "outputs": [],
   "source": [
    "# No. 2\n",
    "# a\n",
    "\n",
    "\n",
    "# b\n",
    "\n",
    "\n",
    "# c"
   ]
  },
  {
   "cell_type": "markdown",
   "metadata": {
    "id": "1rR37rWJusBF"
   },
   "source": [
    "## <font size='4'><font color=\"#E0B21B\">●&nbsp;&nbsp;</font><font color=\"666644\" size='2'>**No.**</font><font color=\"#333311\">**3**</font><br>\n",
    "We want to visualize the spread of the <tt>Kilometers_Driven</tt> of cars with different <tt>Owner_Type</tt> using boxplots. Do the following:\n",
    "\n",
    "<font color=\"#E0B21B\">&nbsp;&nbsp;&nbsp;&nbsp;**a**&nbsp;&nbsp;</font> First, create a new DataFrame with only <tt>Kilometers_Driven</tt> and <tt>Owner_Type</tt> column.\n",
    "\n",
    "<font color=\"#E0B21B\">&nbsp;&nbsp;&nbsp;&nbsp;**b**&nbsp;&nbsp;</font> Pivot the data so that each column represent the different <tt>Owner_Type</tt>.\n",
    "\n",
    "<font color=\"#E0B21B\">&nbsp;&nbsp;&nbsp;&nbsp;**c**&nbsp;&nbsp;</font> Plot boxplots for <tt>First</tt>, <tt>Second</tt>, <tt>Third</tt>, and <tt>Fourth & Above</tt>. Set the title to <tt>Kilometer Driven based on Owner Type</tt>."
   ]
  },
  {
   "cell_type": "code",
   "execution_count": null,
   "metadata": {
    "id": "nte7MHtNtuF0"
   },
   "outputs": [],
   "source": [
    "# No. 3\n",
    "# a\n",
    "\n",
    "\n",
    "# b\n",
    "\n",
    "\n",
    "# c\n",
    "\n"
   ]
  },
  {
   "cell_type": "markdown",
   "metadata": {
    "id": "TggIjqJyusUp"
   },
   "source": [
    "## <font size='4'><font color=\"#E0B21B\">●&nbsp;&nbsp;</font><font color=\"666644\" size='2'>**No.**</font><font color=\"#333311\">**4**</font><br>\n",
    "We want to see how many seats most car have using a histrogram. Plot a histrogram of <tt>Seats</tt>. Set the title to <tt>Car's Seat</tt>, and there should be no legend."
   ]
  },
  {
   "cell_type": "code",
   "execution_count": null,
   "metadata": {
    "id": "NDj_YvX_tusB"
   },
   "outputs": [],
   "source": [
    "# No. 4\n"
   ]
  },
  {
   "cell_type": "markdown",
   "metadata": {
    "id": "95eQBRBnushe"
   },
   "source": [
    "## <font size='4'><font color=\"#E0B21B\">●&nbsp;&nbsp;</font><font color=\"666644\" size='2'>**No.**</font><font color=\"#333311\">**5**</font><br>\n",
    "For **No. 5**, **No. 6** and **No. 7**, we are going to be using the student dataset.\n",
    "We want to visualize what jobs the parent of the student does. Do the following:\n",
    "\n",
    "<font color=\"#E0B21B\">&nbsp;&nbsp;&nbsp;&nbsp;**a**&nbsp;&nbsp;</font> Calculate the sizes of each of the groups in <tt>Mjob</tt>.\n",
    "\n",
    "<font color=\"#E0B21B\">&nbsp;&nbsp;&nbsp;&nbsp;**b**&nbsp;&nbsp;</font> Convert the size to percentage, and plot a pie chart.\n",
    "\n",
    "<font color=\"#E0B21B\">&nbsp;&nbsp;&nbsp;&nbsp;**c**&nbsp;&nbsp;</font> Repeat the same steps but for <tt>Fjob</tt>."
   ]
  },
  {
   "cell_type": "code",
   "execution_count": null,
   "metadata": {
    "id": "jUs54nr3tvFG"
   },
   "outputs": [],
   "source": [
    "# No. 5\n",
    "# a\n",
    "\n",
    "\n",
    "# b\n",
    "\n",
    "\n",
    "# c\n",
    "\n"
   ]
  },
  {
   "cell_type": "markdown",
   "metadata": {
    "id": "2hS_uvkmlZBP"
   },
   "source": [
    "## <font size='4'><font color=\"#E0B21B\">●&nbsp;&nbsp;</font><font color=\"666644\" size='2'>**No.**</font><font color=\"#333311\">**6**</font><br>\n",
    "We want to compare the amount of students with different scores in the <tt>G1</tt>, <tt>G2</tt>, and <tt>G3</tt> exam. Do the following:\n",
    "\n",
    "<font color=\"#E0B21B\">&nbsp;&nbsp;&nbsp;&nbsp;**a**&nbsp;&nbsp;</font> Calculate the sizes of each scores in <tt>G1</tt>, <tt>G2</tt>, and <tt>G3</tt>.\n",
    "\n",
    "<font color=\"#E0B21B\">&nbsp;&nbsp;&nbsp;&nbsp;**b**&nbsp;&nbsp;</font> Create a DataFrame where the index should be scores, the columns should be exams (<tt>G1</tt>, <tt>G2</tt>, and <tt>G3</tt>), and the values should be sizes.\n",
    "\n",
    "<font color=\"#E0B21B\">&nbsp;&nbsp;&nbsp;&nbsp;**c**&nbsp;&nbsp;</font> Plot a line chart."
   ]
  },
  {
   "cell_type": "code",
   "execution_count": null,
   "metadata": {
    "id": "Gk45XVqftvis"
   },
   "outputs": [],
   "source": [
    "# No. 6\n",
    "# a\n",
    "\n",
    "\n",
    "# b\n",
    "\n",
    "\n",
    "# c\n",
    "\n"
   ]
  },
  {
   "cell_type": "markdown",
   "metadata": {
    "id": "NdbPcq4MlbP7"
   },
   "source": [
    "## <font size='4'><font color=\"#E0B21B\">●&nbsp;&nbsp;</font><font color=\"666644\" size='2'>**No.**</font><font color=\"#333311\">**7**</font><br>\n",
    "We want to compare the plot for <tt>absenses</tt>. Plot three histograms: one with bin value of 5, one with bin value of 8 and one with bin value of 11."
   ]
  },
  {
   "cell_type": "code",
   "execution_count": null,
   "metadata": {
    "id": "2RNLn1qYtwDo"
   },
   "outputs": [],
   "source": [
    "# No. 7\n",
    "# One with bin value of 5\n",
    "\n",
    "\n",
    "# One with bin value of 8\n",
    "\n",
    "\n",
    "# One with bin value of 11\n",
    "\n"
   ]
  },
  {
   "cell_type": "markdown",
   "metadata": {
    "id": "Jf_MB5aclcl9"
   },
   "source": [
    "## <font size='4'><font color=\"#E0B21B\">●&nbsp;&nbsp;</font><font color=\"666644\" size='2'>**No.**</font><font color=\"#333311\">**8**</font><br>\n",
    "From here on, we will be using the Seaborn library for plotting.<p>\n",
    "We want to see the student's <tt>G3</tt> scores in relation to their guardian's education. Using the student dataset, do the following:\n",
    "\n",
    "<font color=\"#E0B21B\">&nbsp;&nbsp;&nbsp;&nbsp;**a**&nbsp;&nbsp;</font>  Copy the student dataset into a new dataset. Work on the new dataset.\n",
    "\n",
    "<font color=\"#E0B21B\">&nbsp;&nbsp;&nbsp;&nbsp;**b**&nbsp;&nbsp;</font>  Create a column called <tt>guardianedu</tt> and fill it with the student's gardian's education. If the <tt>guardian</tt> is <tt>father</tt>, the value of \n",
    "<tt>guardianedu</tt> will be <tt>Fedu</tt>, else <tt>Medu</tt>.\n",
    "\n",
    "<font color=\"#E0B21B\">&nbsp;&nbsp;&nbsp;&nbsp;**c**&nbsp;&nbsp;</font>  Create a boxplot with *x*-axis <tt>guardianedu</tt> and *y*-axis <tt>G3</tt>."
   ]
  },
  {
   "cell_type": "code",
   "execution_count": null,
   "metadata": {
    "id": "slSAPaqNtwge"
   },
   "outputs": [],
   "source": [
    "# No. 8\n",
    "# a\n",
    "\n",
    "\n",
    "# b\n",
    "\n",
    "\n",
    "# c\n",
    "\n"
   ]
  },
  {
   "cell_type": "markdown",
   "metadata": {
    "id": "V_D9_dBwldo4"
   },
   "source": [
    "## <font size='4'><font color=\"#E0B21B\">●&nbsp;&nbsp;</font><font color=\"666644\" size='2'>**No.**</font><font color=\"#333311\">**9, 10**</font><br>\n",
    "We want to see the car's <tt>Mileage</tt> based on the car's <tt>Engine</tt> and <tt>Year</tt>. Using the car dataset, do the following:\n",
    "\n",
    "<font color=\"#E0B21B\">&nbsp;&nbsp;&nbsp;&nbsp;**a**&nbsp;&nbsp;</font> Copy the car dataset into a new dataset. Work on the new dataset.\n",
    "\n",
    "<font color=\"#E0B21B\">&nbsp;&nbsp;&nbsp;&nbsp;**b**&nbsp;&nbsp;</font> Remove all the rows where the <tt>Fuel_type</tt> is not <tt>Diesel</tt> or <tt>Petrol</tt>.\n",
    "\n",
    "<font color=\"#E0B21B\">&nbsp;&nbsp;&nbsp;&nbsp;**c**&nbsp;&nbsp;</font> Remove unit from the <tt>Mileage</tt> and <tt>Engine</tt> and convert their dtype to numeric.\n",
    "\n",
    "<font color=\"#E0B21B\">&nbsp;&nbsp;&nbsp;&nbsp;**d**&nbsp;&nbsp;</font> Create a new column called <tt>Engine_size</tt> and fill it with <tt>0-500 CC</tt>, <tt>500-1000 CC</tt>,...,<tt>5500-6000 CC</tt> depending on the value in the <tt>Engine</tt> column.\n",
    "\n",
    "<font color=\"#E0B21B\">&nbsp;&nbsp;&nbsp;&nbsp;**e**&nbsp;&nbsp;</font> Create bar plots for <tt>Mileage</tt>, grouping by <tt>Year</tt> and <tt>Engine_size</tt>.\n",
    " * Set x=<tt>Year</tt>, y=<tt>Mileage</tt>, facet by <tt>Engine_size</tt> with col_wrap=4. Make sure the labels of the x-axis does not overlap."
   ]
  },
  {
   "cell_type": "code",
   "execution_count": null,
   "metadata": {
    "id": "mOjXLE41tw8P"
   },
   "outputs": [],
   "source": [
    "# No.9, 10\n",
    "# a\n",
    "\n",
    "\n",
    "# b\n",
    "\n",
    "\n",
    "# c\n",
    "\n",
    "\n",
    "# d\n",
    "\n",
    "\n",
    "# e\n",
    "\n"
   ]
  },
  {
   "cell_type": "markdown",
   "metadata": {
    "id": "u8PxIpMT6w-a"
   },
   "source": [
    "<p>"
   ]
  },
  {
   "cell_type": "markdown",
   "metadata": {
    "id": "96JR-tfh3uOs"
   },
   "source": [
    "# <font size='5' color=\"#666644\">**ASSIGNMENT**</font><font size='6' color=\"#E0B21B\">&nbsp;**5**<br>\n",
    "Like data visualization, applying supervised and unsupervised learning methods to data is a common task. In this lesson, we will work with sklearn, one of the most popular machine learning libraries in Python. We will review methods for regression, classification, and clustering.\n",
    "\n",
    "As in Lesson 4, we will be working with both the student and car datasets. Load them below before we move on to the exercises. Additionally, load <tt>car_test_data.csv</tt> into a third DataFrame. For the student dataset, load the data and grades files, and merge into one single dataframe. For the car datasets, drop rows with missing values."
   ]
  },
  {
   "cell_type": "markdown",
   "metadata": {
    "id": "JXhzHw8YfjrI"
   },
   "source": [
    "\n",
    "## <font size='4'><font color=\"#E0B21B\">●&nbsp;&nbsp;</font><font color=\"666644\" size='2'>**No.**</font><font color=\"#333311\">**1**</font><br>\n",
    "Let us try visualizing original data and preprocessed data.<p>\n",
    "Using <tt>car_train_data.csv</tt>, do the following:\n",
    "\n",
    "<font color=\"#E0B21B\">&nbsp;&nbsp;&nbsp;&nbsp;**a**&nbsp;&nbsp;</font> Make a boxplot for the columns <tt>Engine</tt> and <tt>Power</tt>.\n",
    "\n",
    "<font color=\"#E0B21B\">&nbsp;&nbsp;&nbsp;&nbsp;**b**&nbsp;&nbsp;</font> Standardize <tt>Engine</tt> using <tt>MinMaxScaler</tt> and plot the result with a boxplot.\n",
    "\n",
    "<font color=\"#E0B21B\">&nbsp;&nbsp;&nbsp;&nbsp;**c**&nbsp;&nbsp;</font> Standardize <tt>Power</tt> using <tt>StandardScaler</tt> and plot the result with a boxplot.\n",
    "\n",
    "Remember to clean the data (remove units and other non-numerical characters) before using them."
   ]
  },
  {
   "cell_type": "code",
   "execution_count": null,
   "metadata": {
    "id": "TKSgeGBZVLb5"
   },
   "outputs": [],
   "source": [
    "# No. 1\n",
    "# a\n",
    "\n",
    "\n",
    "# b\n",
    "\n",
    "\n",
    "# c\n",
    "\n"
   ]
  },
  {
   "cell_type": "markdown",
   "metadata": {
    "id": "1m9wleZCf_Ja"
   },
   "source": [
    "## <font size='4'><font color=\"#E0B21B\">●&nbsp;&nbsp;</font><font color=\"666644\" size='2'>**No.**</font><font color=\"#333311\">**2**</font><br>\n",
    "We can use linear regression to predict outcomes based on given information. Let us try and predict the student's <tt>G3</tt> score.<p>\n",
    "Using the student dataset, do the following:\n",
    "\n",
    "<font color=\"#E0B21B\">&nbsp;&nbsp;&nbsp;&nbsp;**a**&nbsp;&nbsp;</font> Train a linear model using the columns <tt>G3</tt> and <tt>studytime</tt>.\n",
    "\n",
    "<font color=\"#E0B21B\">&nbsp;&nbsp;&nbsp;&nbsp;**b**&nbsp;&nbsp;</font> Print the <tt>coef_</tt> and <tt>intercept_</tt> attributes.\n",
    "\n",
    "<font color=\"#E0B21B\">&nbsp;&nbsp;&nbsp;&nbsp;**c**&nbsp;&nbsp;</font> On the same figure, plot <tt>G3</tt> vs. <tt>studytime</tt> and the line representing the linear model."
   ]
  },
  {
   "cell_type": "code",
   "execution_count": null,
   "metadata": {
    "id": "2s5RiomjVMjE"
   },
   "outputs": [],
   "source": [
    "# No. 2\n",
    "# a\n",
    "\n",
    "\n",
    "# b\n",
    "\n",
    "\n",
    "# c\n",
    "\n"
   ]
  },
  {
   "cell_type": "markdown",
   "metadata": {
    "id": "MjsNJzkcS_rJ"
   },
   "source": [
    "## <font size='4'><font color=\"#E0B21B\">●&nbsp;&nbsp;</font><font color=\"666644\" size='2'>**No.**</font><font color=\"#333311\">**3**</font><br>\n",
    "Repeat **No. 2** once again. This time, replace <tt>studytime</tt> with some other column in the DataFrame you think might have an effect on the student's <tt>G3</tt> score. Print out the <tt>coef_</tt> and <tt>intercept_</tt> attribute as well as plotting the figure."
   ]
  },
  {
   "cell_type": "code",
   "execution_count": null,
   "metadata": {
    "id": "miO2kxvvVNMV"
   },
   "outputs": [],
   "source": [
    "# No. 3\n",
    "\n"
   ]
  },
  {
   "cell_type": "markdown",
   "metadata": {
    "id": "UVt8YkdCf-_m"
   },
   "source": [
    "## <font size='4'><font color=\"#E0B21B\">●&nbsp;&nbsp;</font><font color=\"666644\" size='2'>**No.**</font><font color=\"#333311\">**4**</font><br>\n",
    "Unlike linear regression which is used to handle regression problems, logistic regression allows us to handle classification problems. Let us try to predict whether the car <tt>Fuel_type</tt> is <tt>Diesel</tt> or <tt>Petrol</tt> based on their <tt>Mileage</tt>.<p>\n",
    "First, let us begin by cleaning up the data. Using the <tt>car_train_data.csv</tt>, do the following:\n",
    "<font color=\"#E0B21B\">&nbsp;&nbsp;&nbsp;&nbsp;**a**&nbsp;&nbsp;</font> Remove all the rows where the <tt>Fuel_type</tt> is not <tt>Diesel</tt> or <tt>Petrol</tt>.\n",
    "\n",
    "<font color=\"#E0B21B\">&nbsp;&nbsp;&nbsp;&nbsp;**b**&nbsp;&nbsp;</font> Remove the unit from <tt>Mileage</tt> and convert the dtype to float.\n",
    "\n",
    "<font color=\"#E0B21B\">&nbsp;&nbsp;&nbsp;&nbsp;**c**&nbsp;&nbsp;</font> Create a new column called <tt>is_Diesel</tt> from <tt>Fuel_type</tt> with the conditions: if <tt>Fuel_type</tt> is <tt>Diesel</tt>, the value is 1, otherwise the value is 0."
   ]
  },
  {
   "cell_type": "code",
   "execution_count": null,
   "metadata": {
    "id": "mKmBPSq1Vgvm"
   },
   "outputs": [],
   "source": [
    "# No. 4\n",
    "# a\n",
    "\n",
    "\n",
    "# b\n",
    "\n",
    "\n",
    "# c\n",
    "\n"
   ]
  },
  {
   "cell_type": "markdown",
   "metadata": {
    "id": "MankXhaeVhCY"
   },
   "source": [
    "## <font size='4'><font color=\"#E0B21B\">●&nbsp;&nbsp;</font><font color=\"666644\" size='2'>**No.**</font><font color=\"#333311\">**5**</font><br>\n",
    "Now, let us train the logistic regression and find out probability values from the model. Using the data obtained in No. 4, do the following:\n",
    "\n",
    "<font color=\"#E0B21B\">&nbsp;&nbsp;&nbsp;&nbsp;**a**&nbsp;&nbsp;</font> Train the logistic regression model that predicts <tt>is_Diesel</tt> from <tt>Mileage</tt>.\n",
    "\n",
    "<font color=\"#E0B21B\">&nbsp;&nbsp;&nbsp;&nbsp;**b**&nbsp;&nbsp;</font> Print the probability that the car <tt>Fuel_type</tt> is <tt>Diesel</tt> when the <tt>Mileage</tt> is 20 kmpl.\n",
    "\n",
    "<font color=\"#E0B21B\">&nbsp;&nbsp;&nbsp;&nbsp;**c**&nbsp;&nbsp;</font> Plot the probabilities that the car <tt>Fuel_type</tt> is <tt>Diesel</tt> for 0...30 kmpl <tt>Mileage</tt>."
   ]
  },
  {
   "cell_type": "code",
   "execution_count": null,
   "metadata": {
    "id": "e3xSyJHrWkfd"
   },
   "outputs": [],
   "source": [
    "# No. 5\n",
    "# a\n",
    "\n",
    "\n",
    "# b\n",
    "\n",
    "\n",
    "# c\n",
    "\n"
   ]
  },
  {
   "cell_type": "markdown",
   "metadata": {
    "id": "hI2U4r1Kf-1L"
   },
   "source": [
    "## <font size='4'><font color=\"#E0B21B\">●&nbsp;&nbsp;</font><font color=\"666644\" size='2'>**No.**</font><font color=\"#333311\">**6**</font><br>\n",
    "We can also use other classification models to tackle the problem, this time we will use k-neareast neighbour classification method. <p>\n",
    "Using the data obtained in **No. 4** and the <tt>car_test_data.csv</tt>, do the following:\n",
    "\n",
    "<font color=\"#E0B21B\">&nbsp;&nbsp;&nbsp;&nbsp;**a**&nbsp;&nbsp;</font> Create a model using <tt>KNeighborsClassifier</tt> and predict <tt>is_Diesel</tt> from <tt>Mileage</tt>. Set <tt>k</tt> to 2.\n",
    "\n",
    "<font color=\"#E0B21B\">&nbsp;&nbsp;&nbsp;&nbsp;**b**&nbsp;&nbsp;</font> Apply the model to the <tt>car_test_data.csv</tt> dataset and print the accuracy score of the <tt>is_Diesel</tt> and predictions.\n",
    "\n",
    "<font color=\"#E0B21B\">&nbsp;&nbsp;&nbsp;&nbsp;**c**&nbsp;&nbsp;</font> Change the value of <tt>k</tt> to find the best accuracy score.\n"
   ]
  },
  {
   "cell_type": "code",
   "execution_count": null,
   "metadata": {
    "id": "er2YA-tlX-jX"
   },
   "outputs": [],
   "source": [
    "# No. 7\n",
    "# a\n",
    "\n",
    "\n",
    "# b\n",
    "\n",
    "\n",
    "# c\n",
    "\n"
   ]
  },
  {
   "cell_type": "markdown",
   "metadata": {
    "id": "-QDPDPx2f-rf"
   },
   "source": [
    "## <font size='4'><font color=\"#E0B21B\">●&nbsp;&nbsp;</font><font color=\"666644\" size='2'>**No.**</font><font color=\"#333311\">**7**</font><br>\n",
    "Another classification model is <tt>DecisionTreeClassifier</tt>. Using the data obtained in No. 4 and the <tt>car_test_data.csv</tt>, do the following:\n",
    "\n",
    "<font color=\"#E0B21B\">&nbsp;&nbsp;&nbsp;&nbsp;**a**&nbsp;&nbsp;</font> Create a model using <tt>DecisionTreeClassifier</tt> and predict <tt>is_Diesel</tt> from <tt>Mileage</tt>.\n",
    "\n",
    "<font color=\"#E0B21B\">&nbsp;&nbsp;&nbsp;&nbsp;**b**&nbsp;&nbsp;</font> Apply the model to the <tt>car_test_data.csv</tt> dataset and print the accuracy score of the <tt>is_Diesel</tt> and predictions."
   ]
  },
  {
   "cell_type": "code",
   "execution_count": null,
   "metadata": {
    "id": "aTZhPehNYo2-"
   },
   "outputs": [],
   "source": [
    "# No. 7\n",
    "# a\n",
    "\n",
    "\n",
    "# b\n",
    "\n"
   ]
  },
  {
   "cell_type": "markdown",
   "metadata": {
    "id": "TCr3HIJ0YpQk"
   },
   "source": [
    "## <font size='4'><font color=\"#E0B21B\">●&nbsp;&nbsp;</font><font color=\"666644\" size='2'>**No.**</font><font color=\"#333311\">**8**</font><br>\n",
    "We can also use more than one variable to help classify the data. This should be able to help improve the accuracy of the model.\n",
    "\n",
    "Repeat **No. 7** again. This time, instead of using just <tt>Mileage</tt> for the model, use <tt>Year</tt>, <tt>Kilometers_Driven</tt>, <tt>Mileage</tt>, <tt>Engine</tt> and <tt>Power</tt> to create a <tt>DecisionTreeClassifier</tt> model. Print out the accuracy score.<p>Remember to clean the data (remove units and other non-numerical characters) before using them."
   ]
  },
  {
   "cell_type": "code",
   "execution_count": null,
   "metadata": {
    "id": "L4TVDCO7bkhs"
   },
   "outputs": [],
   "source": [
    "# No. 8\n",
    "\n"
   ]
  },
  {
   "cell_type": "markdown",
   "metadata": {
    "id": "DUyUUpZWf-Gu"
   },
   "source": [
    "## <font size='4'><font color=\"#E0B21B\">●&nbsp;&nbsp;</font><font color=\"666644\" size='2'>**No.**</font><font color=\"#333311\">**9**</font><br>\n",
    "Now, we will be performing unsupervised learning, specifically unsupervised clustering. Unsupervised learning may allow us to find trends which are not visible to our eyes.<p>\n",
    "First, we will begin by preprocessing the data. Using the <tt>car_train_data.csv</tt>, do the following:\n",
    "\n",
    "<font color=\"#E0B21B\">&nbsp;&nbsp;&nbsp;&nbsp;**a**&nbsp;&nbsp;</font> Create dummy variables for columns <tt>Location</tt>, <tt>Fuel_Type</tt>, and <tt>Transmission</tt>.\n",
    "\n",
    "<font color=\"#E0B21B\">&nbsp;&nbsp;&nbsp;&nbsp;**b**&nbsp;&nbsp;</font> Remove units and other non-numerical characters from columns <tt>Mileage</tt>, \n",
    "<tt>Engine</tt>, and <tt>Power</tt>. Convert their dtypes to numeric.\n",
    "\n",
    "<font color=\"#E0B21B\">&nbsp;&nbsp;&nbsp;&nbsp;**c**&nbsp;&nbsp;</font> Perform PCA on the columns above with the addition of <tt>Year</tt>, <tt>Kilometers_Driven</tt>, and <tt>Seats</tt>.\n",
    "\n",
    "<font color=\"#E0B21B\">&nbsp;&nbsp;&nbsp;&nbsp;**d**&nbsp;&nbsp;</font> Save the first two principle components.\n",
    "\n",
    "<font color=\"#E0B21B\">&nbsp;&nbsp;&nbsp;&nbsp;**e**&nbsp;&nbsp;</font> Print the sum of explained variance ratio of the first two principle components.\n",
    "\n",
    "<font color=\"#E0B21B\">&nbsp;&nbsp;&nbsp;&nbsp;**f**&nbsp;&nbsp;</font> Make a scatterplot from the first two principle components.\n"
   ]
  },
  {
   "cell_type": "code",
   "execution_count": null,
   "metadata": {
    "id": "zfXKIvtfkMUN"
   },
   "outputs": [],
   "source": [
    "# No. 9\n",
    "# a\n",
    "\n",
    "\n",
    "# b\n",
    "\n",
    "\n",
    "# c\n",
    "\n",
    "\n",
    "# d\n",
    "\n",
    "\n",
    "# e\n",
    "\n",
    "\n",
    "# f\n",
    "\n"
   ]
  },
  {
   "cell_type": "markdown",
   "metadata": {
    "id": "X7W1ywdkgK_9"
   },
   "source": [
    "## <font size='4'><font color=\"#E0B21B\">●&nbsp;&nbsp;</font><font color=\"666644\" size='2'>**No.**</font><font color=\"#333311\">**10**</font><br>\n",
    "Now that we have our entire data represented in two dimensions, we will perform unsupervised clustering method. Using the PCA from No. 9, do the following:\n",
    "\n",
    "<font color=\"#E0B21B\">&nbsp;&nbsp;&nbsp;&nbsp;**a**&nbsp;&nbsp;</font> Perform K-Means clustering with k=4 on the data. Plot the data using different colors for each labels.\n",
    "\n",
    "<font color=\"#E0B21B\">&nbsp;&nbsp;&nbsp;&nbsp;**b**&nbsp;&nbsp;</font> Perform DBSCAN as a clustering method on the data. Plot the data using different colors for each labels.\n",
    "\n",
    "<font color=\"#E0B21B\">&nbsp;&nbsp;&nbsp;&nbsp;**c**&nbsp;&nbsp;</font> Try plotting the first two principle components again, but this time, color each output by <tt>Owner_Type</tt>."
   ]
  },
  {
   "cell_type": "code",
   "execution_count": null,
   "metadata": {
    "id": "jQkZg4PTkM_a"
   },
   "outputs": [],
   "source": [
    "# No. 10\n",
    "# a\n",
    "\n",
    "\n",
    "# b\n",
    "\n",
    "\n",
    "# c\n",
    "\n"
   ]
  }
 ],
 "metadata": {
  "colab": {
   "collapsed_sections": [],
   "name": "“Data Science Training Camp I   ❯   Assignment Workbook - Shin",
   "provenance": []
  },
  "kernelspec": {
   "display_name": "Python 3",
   "language": "python",
   "name": "python3"
  },
  "language_info": {
   "codemirror_mode": {
    "name": "ipython",
    "version": 3
   },
   "file_extension": ".py",
   "mimetype": "text/x-python",
   "name": "python",
   "nbconvert_exporter": "python",
   "pygments_lexer": "ipython3",
   "version": "3.8.8"
  }
 },
 "nbformat": 4,
 "nbformat_minor": 1
}
